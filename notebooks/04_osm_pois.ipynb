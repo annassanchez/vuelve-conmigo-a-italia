{
 "cells": [
  {
   "cell_type": "code",
   "execution_count": 1,
   "metadata": {},
   "outputs": [],
   "source": [
    "import geopandas as gpd\n",
    "import requests\n",
    "import zipfile\n",
    "import io\n",
    "import matplotlib.pyplot as plt\n",
    "import os\n",
    "import fiona\n",
    "import pandas as pd\n",
    "import sys\n",
    "#%matplotlib inline  # jupyter \"magic\" to display plots in notebook\n",
    "pd.set_option('mode.chained_assignment', None)\n",
    "import numpy as np\n",
    "from bs4 import BeautifulSoup\n",
    "import re\n",
    "pd.options.display.max_columns = None\n",
    "pd.options.mode.chained_assignment = None  # default='warn'\n",
    "from geojson import Point, Feature, FeatureCollection, dump\n",
    "\n",
    "import sys\n",
    "sys.path.append(\"../\")\n",
    "import src.soporteScrapping as scr"
   ]
  },
  {
   "attachments": {},
   "cell_type": "markdown",
   "metadata": {},
   "source": [
    "parameters"
   ]
  },
  {
   "cell_type": "code",
   "execution_count": 2,
   "metadata": {},
   "outputs": [],
   "source": [
    "url = 'https://download.geofabrik.de/europe/italy/'\n",
    "country = 'IT'\n",
    "country_clean = 'IT'"
   ]
  },
  {
   "attachments": {},
   "cell_type": "markdown",
   "metadata": {},
   "source": [
    "get links"
   ]
  },
  {
   "cell_type": "code",
   "execution_count": 3,
   "metadata": {},
   "outputs": [
    {
     "name": "stdout",
     "output_type": "stream",
     "text": [
      "200\n"
     ]
    },
    {
     "data": {
      "text/plain": [
       "['https://download.geofabrik.de/europe/italy/centro-latest-free.shp.zip',\n",
       " 'https://download.geofabrik.de/europe/italy/isole-latest-free.shp.zip',\n",
       " 'https://download.geofabrik.de/europe/italy/nord-est-latest-free.shp.zip',\n",
       " 'https://download.geofabrik.de/europe/italy/nord-ovest-latest-free.shp.zip',\n",
       " 'https://download.geofabrik.de/europe/italy/sud-latest-free.shp.zip']"
      ]
     },
     "execution_count": 3,
     "metadata": {},
     "output_type": "execute_result"
    }
   ],
   "source": [
    "links,flattened = scr.getLinks(url)\n",
    "links"
   ]
  },
  {
   "cell_type": "code",
   "execution_count": 4,
   "metadata": {},
   "outputs": [
    {
     "data": {
      "text/plain": [
       "['centro-latest-free.shp.zip',\n",
       " 'isole-latest-free.shp.zip',\n",
       " 'nord-est-latest-free.shp.zip',\n",
       " 'nord-ovest-latest-free.shp.zip',\n",
       " 'sud-latest-free.shp.zip']"
      ]
     },
     "execution_count": 4,
     "metadata": {},
     "output_type": "execute_result"
    }
   ],
   "source": [
    "flattened"
   ]
  },
  {
   "attachments": {},
   "cell_type": "markdown",
   "metadata": {},
   "source": [
    "data conversion table input"
   ]
  },
  {
   "cell_type": "code",
   "execution_count": 5,
   "metadata": {},
   "outputs": [],
   "source": [
    "ruta = os.path.dirname(os.getcwd()) + '\\\\data'"
   ]
  },
  {
   "cell_type": "code",
   "execution_count": 6,
   "metadata": {},
   "outputs": [
    {
     "name": "stderr",
     "output_type": "stream",
     "text": [
      "c:\\Users\\annas\\anaconda3\\envs\\iron\\lib\\site-packages\\openpyxl\\worksheet\\header_footer.py:48: UserWarning: Cannot parse header or footer so it will be ignored\n",
      "  warn(\"\"\"Cannot parse header or footer so it will be ignored\"\"\")\n"
     ]
    },
    {
     "data": {
      "text/html": [
       "<div>\n",
       "<style scoped>\n",
       "    .dataframe tbody tr th:only-of-type {\n",
       "        vertical-align: middle;\n",
       "    }\n",
       "\n",
       "    .dataframe tbody tr th {\n",
       "        vertical-align: top;\n",
       "    }\n",
       "\n",
       "    .dataframe thead th {\n",
       "        text-align: right;\n",
       "    }\n",
       "</style>\n",
       "<table border=\"1\" class=\"dataframe\">\n",
       "  <thead>\n",
       "    <tr style=\"text-align: right;\">\n",
       "      <th></th>\n",
       "      <th>Tipo</th>\n",
       "      <th>Subtipo</th>\n",
       "      <th>fclass</th>\n",
       "    </tr>\n",
       "  </thead>\n",
       "  <tbody>\n",
       "    <tr>\n",
       "      <th>0</th>\n",
       "      <td>Accommodation</td>\n",
       "      <td>Hospitality</td>\n",
       "      <td>alpine_hut</td>\n",
       "    </tr>\n",
       "    <tr>\n",
       "      <th>1</th>\n",
       "      <td>Accommodation</td>\n",
       "      <td>Hospitality</td>\n",
       "      <td>camp_site</td>\n",
       "    </tr>\n",
       "    <tr>\n",
       "      <th>2</th>\n",
       "      <td>Accommodation</td>\n",
       "      <td>Hospitality</td>\n",
       "      <td>chalet</td>\n",
       "    </tr>\n",
       "    <tr>\n",
       "      <th>3</th>\n",
       "      <td>Accommodation</td>\n",
       "      <td>Hospitality</td>\n",
       "      <td>guesthouse</td>\n",
       "    </tr>\n",
       "    <tr>\n",
       "      <th>4</th>\n",
       "      <td>Accommodation</td>\n",
       "      <td>Hospitality</td>\n",
       "      <td>hostel</td>\n",
       "    </tr>\n",
       "  </tbody>\n",
       "</table>\n",
       "</div>"
      ],
      "text/plain": [
       "            Tipo      Subtipo      fclass\n",
       "0  Accommodation  Hospitality  alpine_hut\n",
       "1  Accommodation  Hospitality   camp_site\n",
       "2  Accommodation  Hospitality      chalet\n",
       "3  Accommodation  Hospitality  guesthouse\n",
       "4  Accommodation  Hospitality      hostel"
      ]
     },
     "execution_count": 6,
     "metadata": {},
     "output_type": "execute_result"
    }
   ],
   "source": [
    "inPOIS = pd.ExcelFile(f'{ruta}\\\\POIS_Classification' + '.xlsx')\n",
    "sheets_list = inPOIS.sheet_names[0]\n",
    "POIS = pd.read_excel(inPOIS, sheet_name = sheets_list)\n",
    "POIS.rename({'Tipo2':'Subtipo', 'Subtipo':'fclass'}, axis = 1, inplace=True)\n",
    "POIS.head()"
   ]
  },
  {
   "attachments": {},
   "cell_type": "markdown",
   "metadata": {},
   "source": [
    "downloading shapefile"
   ]
  },
  {
   "cell_type": "code",
   "execution_count": 7,
   "metadata": {},
   "outputs": [
    {
     "name": "stdout",
     "output_type": "stream",
     "text": [
      "Downloading shapefile...\n",
      "Done with https://download.geofabrik.de/europe/italy/centro-latest-free.shp.zip\n",
      "Done with https://download.geofabrik.de/europe/italy/isole-latest-free.shp.zip\n",
      "Done with https://download.geofabrik.de/europe/italy/nord-est-latest-free.shp.zip\n",
      "Done with https://download.geofabrik.de/europe/italy/nord-ovest-latest-free.shp.zip\n",
      "Done with https://download.geofabrik.de/europe/italy/sud-latest-free.shp.zip\n",
      "['gis_osm_buildings_a_free_1.cpg', 'gis_osm_buildings_a_free_1.dbf', 'gis_osm_buildings_a_free_1.prj', 'gis_osm_buildings_a_free_1.shp', 'gis_osm_buildings_a_free_1.shx', 'gis_osm_landuse_a_free_1.cpg', 'gis_osm_landuse_a_free_1.dbf', 'gis_osm_landuse_a_free_1.prj', 'gis_osm_landuse_a_free_1.shp', 'gis_osm_landuse_a_free_1.shx']\n"
     ]
    }
   ],
   "source": [
    "print('Downloading shapefile...')\n",
    "patron = r'(.*).shp.zip'\n",
    "for link, flat in zip(links, flattened):\n",
    "    local_path = os.path.dirname(os.getcwd()) + f'\\\\data\\\\tmpOSM_{country}'\n",
    "    r = requests.get(link)\n",
    "    z = zipfile.ZipFile(io.BytesIO(r.content), mode='a')\n",
    "    folder = re.findall(patron, flat)\n",
    "    os.mkdir(os.path.join(local_path, folder[0]))\n",
    "    z.extractall(path=(local_path + '//'+ folder[0])) # extract to folder\n",
    "    print(f\"Done with {link}\")\n",
    "filenames = [y for y in sorted(z.namelist()) for starting in ['gis_osm_landuse_a_free_1', 'gis_osm_buildings_a_free_1'] if y.startswith(starting)] \n",
    "print(filenames)"
   ]
  },
  {
   "attachments": {},
   "cell_type": "markdown",
   "metadata": {},
   "source": [
    "POIs"
   ]
  },
  {
   "cell_type": "code",
   "execution_count": 8,
   "metadata": {},
   "outputs": [
    {
     "name": "stdout",
     "output_type": "stream",
     "text": [
      "gis_osm_pois_free_1.shp e:\\Cursos\\00ironhack_DA\\00LABS\\vuelve-conmigo-a-italia\\data\\tmpOSM_IT\\centro-latest-free\n",
      "gis_osm_pois_free_1.shp e:\\Cursos\\00ironhack_DA\\00LABS\\vuelve-conmigo-a-italia\\data\\tmpOSM_IT\\isole-latest-free\n",
      "gis_osm_pois_free_1.shp e:\\Cursos\\00ironhack_DA\\00LABS\\vuelve-conmigo-a-italia\\data\\tmpOSM_IT\\nord-est-latest-free\n",
      "gis_osm_pois_free_1.shp e:\\Cursos\\00ironhack_DA\\00LABS\\vuelve-conmigo-a-italia\\data\\tmpOSM_IT\\nord-ovest-latest-free\n",
      "gis_osm_pois_free_1.shp e:\\Cursos\\00ironhack_DA\\00LABS\\vuelve-conmigo-a-italia\\data\\tmpOSM_IT\\sud-latest-free\n"
     ]
    }
   ],
   "source": [
    "alldf_pois = []\n",
    "for subdir, dirs, files in os.walk(local_path):\n",
    "    #global alldf_landuse\n",
    "    for file in files:\n",
    "        #print(file)\n",
    "        if file.startswith('gis_osm_pois_free_1.shp'):\n",
    "            print(file, subdir)\n",
    "            df_pois = gpd.read_file(subdir + '\\\\' + 'gis_osm_pois_free_1' + '.shp')\n",
    "            alldf_pois.append(df_pois)"
   ]
  },
  {
   "cell_type": "code",
   "execution_count": 9,
   "metadata": {},
   "outputs": [],
   "source": [
    "df_pois = pd.concat([(alldf_pois[n]) for n in list(range(len(alldf_pois)))])"
   ]
  },
  {
   "cell_type": "code",
   "execution_count": 10,
   "metadata": {},
   "outputs": [
    {
     "name": "stdout",
     "output_type": "stream",
     "text": [
      "(727713, 5)\n"
     ]
    },
    {
     "data": {
      "text/html": [
       "<div>\n",
       "<style scoped>\n",
       "    .dataframe tbody tr th:only-of-type {\n",
       "        vertical-align: middle;\n",
       "    }\n",
       "\n",
       "    .dataframe tbody tr th {\n",
       "        vertical-align: top;\n",
       "    }\n",
       "\n",
       "    .dataframe thead th {\n",
       "        text-align: right;\n",
       "    }\n",
       "</style>\n",
       "<table border=\"1\" class=\"dataframe\">\n",
       "  <thead>\n",
       "    <tr style=\"text-align: right;\">\n",
       "      <th></th>\n",
       "      <th>osm_id</th>\n",
       "      <th>code</th>\n",
       "      <th>fclass</th>\n",
       "      <th>name</th>\n",
       "      <th>geometry</th>\n",
       "    </tr>\n",
       "  </thead>\n",
       "  <tbody>\n",
       "    <tr>\n",
       "      <th>0</th>\n",
       "      <td>21027591</td>\n",
       "      <td>2733</td>\n",
       "      <td>archaeological</td>\n",
       "      <td>Via cava del Cavone</td>\n",
       "      <td>POINT (11.63634 42.66276)</td>\n",
       "    </tr>\n",
       "    <tr>\n",
       "      <th>1</th>\n",
       "      <td>26859360</td>\n",
       "      <td>2422</td>\n",
       "      <td>camp_site</td>\n",
       "      <td>Albinia</td>\n",
       "      <td>POINT (10.52806 43.01722)</td>\n",
       "    </tr>\n",
       "    <tr>\n",
       "      <th>2</th>\n",
       "      <td>26859373</td>\n",
       "      <td>2422</td>\n",
       "      <td>camp_site</td>\n",
       "      <td>Argentario Camping Village</td>\n",
       "      <td>POINT (11.19245 42.49649)</td>\n",
       "    </tr>\n",
       "    <tr>\n",
       "      <th>3</th>\n",
       "      <td>26859377</td>\n",
       "      <td>2422</td>\n",
       "      <td>camp_site</td>\n",
       "      <td>Camping Village Assisi</td>\n",
       "      <td>POINT (12.57420 43.07560)</td>\n",
       "    </tr>\n",
       "    <tr>\n",
       "      <th>4</th>\n",
       "      <td>26859385</td>\n",
       "      <td>2422</td>\n",
       "      <td>camp_site</td>\n",
       "      <td>Badiaccia</td>\n",
       "      <td>POINT (12.01639 43.18028)</td>\n",
       "    </tr>\n",
       "  </tbody>\n",
       "</table>\n",
       "</div>"
      ],
      "text/plain": [
       "     osm_id  code          fclass                        name  \\\n",
       "0  21027591  2733  archaeological         Via cava del Cavone   \n",
       "1  26859360  2422       camp_site                     Albinia   \n",
       "2  26859373  2422       camp_site  Argentario Camping Village   \n",
       "3  26859377  2422       camp_site      Camping Village Assisi   \n",
       "4  26859385  2422       camp_site                   Badiaccia   \n",
       "\n",
       "                    geometry  \n",
       "0  POINT (11.63634 42.66276)  \n",
       "1  POINT (10.52806 43.01722)  \n",
       "2  POINT (11.19245 42.49649)  \n",
       "3  POINT (12.57420 43.07560)  \n",
       "4  POINT (12.01639 43.18028)  "
      ]
     },
     "execution_count": 10,
     "metadata": {},
     "output_type": "execute_result"
    }
   ],
   "source": [
    "print(df_pois.shape)\n",
    "df_pois.head()"
   ]
  },
  {
   "attachments": {},
   "cell_type": "markdown",
   "metadata": {},
   "source": [
    "merge with equivalence table"
   ]
  },
  {
   "cell_type": "code",
   "execution_count": 11,
   "metadata": {},
   "outputs": [
    {
     "data": {
      "text/html": [
       "<div>\n",
       "<style scoped>\n",
       "    .dataframe tbody tr th:only-of-type {\n",
       "        vertical-align: middle;\n",
       "    }\n",
       "\n",
       "    .dataframe tbody tr th {\n",
       "        vertical-align: top;\n",
       "    }\n",
       "\n",
       "    .dataframe thead th {\n",
       "        text-align: right;\n",
       "    }\n",
       "</style>\n",
       "<table border=\"1\" class=\"dataframe\">\n",
       "  <thead>\n",
       "    <tr style=\"text-align: right;\">\n",
       "      <th></th>\n",
       "      <th>Tipo</th>\n",
       "      <th>Subtipo</th>\n",
       "      <th>fclass</th>\n",
       "    </tr>\n",
       "  </thead>\n",
       "  <tbody>\n",
       "    <tr>\n",
       "      <th>0</th>\n",
       "      <td>Accommodation</td>\n",
       "      <td>Hospitality</td>\n",
       "      <td>alpine_hut</td>\n",
       "    </tr>\n",
       "    <tr>\n",
       "      <th>1</th>\n",
       "      <td>Accommodation</td>\n",
       "      <td>Hospitality</td>\n",
       "      <td>camp_site</td>\n",
       "    </tr>\n",
       "    <tr>\n",
       "      <th>2</th>\n",
       "      <td>Accommodation</td>\n",
       "      <td>Hospitality</td>\n",
       "      <td>chalet</td>\n",
       "    </tr>\n",
       "    <tr>\n",
       "      <th>3</th>\n",
       "      <td>Accommodation</td>\n",
       "      <td>Hospitality</td>\n",
       "      <td>guesthouse</td>\n",
       "    </tr>\n",
       "    <tr>\n",
       "      <th>4</th>\n",
       "      <td>Accommodation</td>\n",
       "      <td>Hospitality</td>\n",
       "      <td>hostel</td>\n",
       "    </tr>\n",
       "  </tbody>\n",
       "</table>\n",
       "</div>"
      ],
      "text/plain": [
       "            Tipo      Subtipo      fclass\n",
       "0  Accommodation  Hospitality  alpine_hut\n",
       "1  Accommodation  Hospitality   camp_site\n",
       "2  Accommodation  Hospitality      chalet\n",
       "3  Accommodation  Hospitality  guesthouse\n",
       "4  Accommodation  Hospitality      hostel"
      ]
     },
     "execution_count": 11,
     "metadata": {},
     "output_type": "execute_result"
    }
   ],
   "source": [
    "POIS.head()"
   ]
  },
  {
   "cell_type": "code",
   "execution_count": 12,
   "metadata": {},
   "outputs": [
    {
     "ename": "TypeError",
     "evalue": "'<' not supported between instances of 'Point' and 'Point'",
     "output_type": "error",
     "traceback": [
      "\u001b[1;31m---------------------------------------------------------------------------\u001b[0m",
      "\u001b[1;31mTypeError\u001b[0m                                 Traceback (most recent call last)",
      "File \u001b[1;32mc:\\Users\\annas\\anaconda3\\envs\\iron\\lib\\site-packages\\pandas\\core\\algorithms.py:1866\u001b[0m, in \u001b[0;36msafe_sort\u001b[1;34m(values, codes, na_sentinel, assume_unique, verify)\u001b[0m\n\u001b[0;32m   1865\u001b[0m \u001b[39mtry\u001b[39;00m:\n\u001b[1;32m-> 1866\u001b[0m     sorter \u001b[39m=\u001b[39m values\u001b[39m.\u001b[39;49margsort()\n\u001b[0;32m   1867\u001b[0m     \u001b[39mif\u001b[39;00m is_mi:\n\u001b[0;32m   1868\u001b[0m         \u001b[39m# Operate on original object instead of casted array (MultiIndex)\u001b[39;00m\n",
      "File \u001b[1;32mc:\\Users\\annas\\anaconda3\\envs\\iron\\lib\\site-packages\\pandas\\util\\_decorators.py:331\u001b[0m, in \u001b[0;36mdeprecate_nonkeyword_arguments.<locals>.decorate.<locals>.wrapper\u001b[1;34m(*args, **kwargs)\u001b[0m\n\u001b[0;32m    326\u001b[0m     warnings\u001b[39m.\u001b[39mwarn(\n\u001b[0;32m    327\u001b[0m         msg\u001b[39m.\u001b[39mformat(arguments\u001b[39m=\u001b[39m_format_argument_list(allow_args)),\n\u001b[0;32m    328\u001b[0m         \u001b[39mFutureWarning\u001b[39;00m,\n\u001b[0;32m    329\u001b[0m         stacklevel\u001b[39m=\u001b[39mfind_stack_level(),\n\u001b[0;32m    330\u001b[0m     )\n\u001b[1;32m--> 331\u001b[0m \u001b[39mreturn\u001b[39;00m func(\u001b[39m*\u001b[39margs, \u001b[39m*\u001b[39m\u001b[39m*\u001b[39mkwargs)\n",
      "File \u001b[1;32mc:\\Users\\annas\\anaconda3\\envs\\iron\\lib\\site-packages\\pandas\\core\\arrays\\base.py:710\u001b[0m, in \u001b[0;36mExtensionArray.argsort\u001b[1;34m(self, ascending, kind, na_position, *args, **kwargs)\u001b[0m\n\u001b[0;32m    708\u001b[0m ascending \u001b[39m=\u001b[39m nv\u001b[39m.\u001b[39mvalidate_argsort_with_ascending(ascending, args, kwargs)\n\u001b[1;32m--> 710\u001b[0m values \u001b[39m=\u001b[39m \u001b[39mself\u001b[39;49m\u001b[39m.\u001b[39;49m_values_for_argsort()\n\u001b[0;32m    711\u001b[0m \u001b[39mreturn\u001b[39;00m nargsort(\n\u001b[0;32m    712\u001b[0m     values,\n\u001b[0;32m    713\u001b[0m     kind\u001b[39m=\u001b[39mkind,\n\u001b[1;32m   (...)\u001b[0m\n\u001b[0;32m    716\u001b[0m     mask\u001b[39m=\u001b[39mnp\u001b[39m.\u001b[39masarray(\u001b[39mself\u001b[39m\u001b[39m.\u001b[39misna()),\n\u001b[0;32m    717\u001b[0m )\n",
      "File \u001b[1;32mc:\\Users\\annas\\anaconda3\\envs\\iron\\lib\\site-packages\\geopandas\\array.py:1252\u001b[0m, in \u001b[0;36mGeometryArray._values_for_argsort\u001b[1;34m(self)\u001b[0m\n\u001b[0;32m   1251\u001b[0m \u001b[39m# Note: this is used in `ExtensionArray.argsort`.\u001b[39;00m\n\u001b[1;32m-> 1252\u001b[0m \u001b[39mraise\u001b[39;00m \u001b[39mTypeError\u001b[39;00m(\u001b[39m\"\u001b[39m\u001b[39mgeometries are not orderable\u001b[39m\u001b[39m\"\u001b[39m)\n",
      "\u001b[1;31mTypeError\u001b[0m: geometries are not orderable",
      "\nDuring handling of the above exception, another exception occurred:\n",
      "\u001b[1;31mTypeError\u001b[0m                                 Traceback (most recent call last)",
      "Cell \u001b[1;32mIn [12], line 2\u001b[0m\n\u001b[0;32m      1\u001b[0m df_pois \u001b[39m=\u001b[39m df_pois\u001b[39m.\u001b[39mmerge(POIS[[\u001b[39m'\u001b[39m\u001b[39mTipo\u001b[39m\u001b[39m'\u001b[39m,\u001b[39m'\u001b[39m\u001b[39mSubtipo\u001b[39m\u001b[39m'\u001b[39m, \u001b[39m'\u001b[39m\u001b[39mfclass\u001b[39m\u001b[39m'\u001b[39m]], on \u001b[39m=\u001b[39m \u001b[39m'\u001b[39m\u001b[39mfclass\u001b[39m\u001b[39m'\u001b[39m, how \u001b[39m=\u001b[39m \u001b[39m'\u001b[39m\u001b[39mleft\u001b[39m\u001b[39m'\u001b[39m)\n\u001b[1;32m----> 2\u001b[0m df_pois\u001b[39m.\u001b[39;49mvalue_counts()\n",
      "File \u001b[1;32mc:\\Users\\annas\\anaconda3\\envs\\iron\\lib\\site-packages\\pandas\\core\\frame.py:7207\u001b[0m, in \u001b[0;36mDataFrame.value_counts\u001b[1;34m(self, subset, normalize, sort, ascending, dropna)\u001b[0m\n\u001b[0;32m   7204\u001b[0m \u001b[39mif\u001b[39;00m subset \u001b[39mis\u001b[39;00m \u001b[39mNone\u001b[39;00m:\n\u001b[0;32m   7205\u001b[0m     subset \u001b[39m=\u001b[39m \u001b[39mself\u001b[39m\u001b[39m.\u001b[39mcolumns\u001b[39m.\u001b[39mtolist()\n\u001b[1;32m-> 7207\u001b[0m counts \u001b[39m=\u001b[39m \u001b[39mself\u001b[39;49m\u001b[39m.\u001b[39;49mgroupby(subset, dropna\u001b[39m=\u001b[39;49mdropna)\u001b[39m.\u001b[39;49mgrouper\u001b[39m.\u001b[39;49msize()\n\u001b[0;32m   7209\u001b[0m \u001b[39mif\u001b[39;00m sort:\n\u001b[0;32m   7210\u001b[0m     counts \u001b[39m=\u001b[39m counts\u001b[39m.\u001b[39msort_values(ascending\u001b[39m=\u001b[39mascending)\n",
      "File \u001b[1;32mc:\\Users\\annas\\anaconda3\\envs\\iron\\lib\\site-packages\\pandas\\core\\groupby\\ops.py:912\u001b[0m, in \u001b[0;36mBaseGrouper.size\u001b[1;34m(self)\u001b[0m\n\u001b[0;32m    907\u001b[0m \u001b[39m@final\u001b[39m\n\u001b[0;32m    908\u001b[0m \u001b[39mdef\u001b[39;00m \u001b[39msize\u001b[39m(\u001b[39mself\u001b[39m) \u001b[39m-\u001b[39m\u001b[39m>\u001b[39m Series:\n\u001b[0;32m    909\u001b[0m \u001b[39m    \u001b[39m\u001b[39m\"\"\"\u001b[39;00m\n\u001b[0;32m    910\u001b[0m \u001b[39m    Compute group sizes.\u001b[39;00m\n\u001b[0;32m    911\u001b[0m \u001b[39m    \"\"\"\u001b[39;00m\n\u001b[1;32m--> 912\u001b[0m     ids, _, ngroups \u001b[39m=\u001b[39m \u001b[39mself\u001b[39;49m\u001b[39m.\u001b[39;49mgroup_info\n\u001b[0;32m    913\u001b[0m     out: np\u001b[39m.\u001b[39mndarray \u001b[39m|\u001b[39m \u001b[39mlist\u001b[39m\n\u001b[0;32m    914\u001b[0m     \u001b[39mif\u001b[39;00m ngroups:\n",
      "File \u001b[1;32mc:\\Users\\annas\\anaconda3\\envs\\iron\\lib\\site-packages\\pandas\\_libs\\properties.pyx:36\u001b[0m, in \u001b[0;36mpandas._libs.properties.CachedProperty.__get__\u001b[1;34m()\u001b[0m\n",
      "File \u001b[1;32mc:\\Users\\annas\\anaconda3\\envs\\iron\\lib\\site-packages\\pandas\\core\\groupby\\ops.py:946\u001b[0m, in \u001b[0;36mBaseGrouper.group_info\u001b[1;34m(self)\u001b[0m\n\u001b[0;32m    944\u001b[0m \u001b[39m@cache_readonly\u001b[39m\n\u001b[0;32m    945\u001b[0m \u001b[39mdef\u001b[39;00m \u001b[39mgroup_info\u001b[39m(\u001b[39mself\u001b[39m) \u001b[39m-\u001b[39m\u001b[39m>\u001b[39m \u001b[39mtuple\u001b[39m[npt\u001b[39m.\u001b[39mNDArray[np\u001b[39m.\u001b[39mintp], npt\u001b[39m.\u001b[39mNDArray[np\u001b[39m.\u001b[39mintp], \u001b[39mint\u001b[39m]:\n\u001b[1;32m--> 946\u001b[0m     comp_ids, obs_group_ids \u001b[39m=\u001b[39m \u001b[39mself\u001b[39;49m\u001b[39m.\u001b[39;49m_get_compressed_codes()\n\u001b[0;32m    948\u001b[0m     ngroups \u001b[39m=\u001b[39m \u001b[39mlen\u001b[39m(obs_group_ids)\n\u001b[0;32m    949\u001b[0m     comp_ids \u001b[39m=\u001b[39m ensure_platform_int(comp_ids)\n",
      "File \u001b[1;32mc:\\Users\\annas\\anaconda3\\envs\\iron\\lib\\site-packages\\pandas\\core\\groupby\\ops.py:972\u001b[0m, in \u001b[0;36mBaseGrouper._get_compressed_codes\u001b[1;34m(self)\u001b[0m\n\u001b[0;32m    966\u001b[0m \u001b[39m@final\u001b[39m\n\u001b[0;32m    967\u001b[0m \u001b[39mdef\u001b[39;00m \u001b[39m_get_compressed_codes\u001b[39m(\n\u001b[0;32m    968\u001b[0m     \u001b[39mself\u001b[39m,\n\u001b[0;32m    969\u001b[0m ) \u001b[39m-\u001b[39m\u001b[39m>\u001b[39m \u001b[39mtuple\u001b[39m[npt\u001b[39m.\u001b[39mNDArray[np\u001b[39m.\u001b[39msignedinteger], npt\u001b[39m.\u001b[39mNDArray[np\u001b[39m.\u001b[39mintp]]:\n\u001b[0;32m    970\u001b[0m     \u001b[39m# The first returned ndarray may have any signed integer dtype\u001b[39;00m\n\u001b[0;32m    971\u001b[0m     \u001b[39mif\u001b[39;00m \u001b[39mlen\u001b[39m(\u001b[39mself\u001b[39m\u001b[39m.\u001b[39mgroupings) \u001b[39m>\u001b[39m \u001b[39m1\u001b[39m:\n\u001b[1;32m--> 972\u001b[0m         group_index \u001b[39m=\u001b[39m get_group_index(\u001b[39mself\u001b[39;49m\u001b[39m.\u001b[39;49mcodes, \u001b[39mself\u001b[39m\u001b[39m.\u001b[39mshape, sort\u001b[39m=\u001b[39m\u001b[39mTrue\u001b[39;00m, xnull\u001b[39m=\u001b[39m\u001b[39mTrue\u001b[39;00m)\n\u001b[0;32m    973\u001b[0m         \u001b[39mreturn\u001b[39;00m compress_group_index(group_index, sort\u001b[39m=\u001b[39m\u001b[39mself\u001b[39m\u001b[39m.\u001b[39m_sort)\n\u001b[0;32m    974\u001b[0m         \u001b[39m# FIXME: compress_group_index's second return value is int64, not intp\u001b[39;00m\n",
      "File \u001b[1;32mc:\\Users\\annas\\anaconda3\\envs\\iron\\lib\\site-packages\\pandas\\core\\groupby\\ops.py:897\u001b[0m, in \u001b[0;36mBaseGrouper.codes\u001b[1;34m(self)\u001b[0m\n\u001b[0;32m    894\u001b[0m \u001b[39m@final\u001b[39m\n\u001b[0;32m    895\u001b[0m \u001b[39m@property\u001b[39m\n\u001b[0;32m    896\u001b[0m \u001b[39mdef\u001b[39;00m \u001b[39mcodes\u001b[39m(\u001b[39mself\u001b[39m) \u001b[39m-\u001b[39m\u001b[39m>\u001b[39m \u001b[39mlist\u001b[39m[npt\u001b[39m.\u001b[39mNDArray[np\u001b[39m.\u001b[39msignedinteger]]:\n\u001b[1;32m--> 897\u001b[0m     \u001b[39mreturn\u001b[39;00m [ping\u001b[39m.\u001b[39mcodes \u001b[39mfor\u001b[39;00m ping \u001b[39min\u001b[39;00m \u001b[39mself\u001b[39m\u001b[39m.\u001b[39mgroupings]\n",
      "File \u001b[1;32mc:\\Users\\annas\\anaconda3\\envs\\iron\\lib\\site-packages\\pandas\\core\\groupby\\ops.py:897\u001b[0m, in \u001b[0;36m<listcomp>\u001b[1;34m(.0)\u001b[0m\n\u001b[0;32m    894\u001b[0m \u001b[39m@final\u001b[39m\n\u001b[0;32m    895\u001b[0m \u001b[39m@property\u001b[39m\n\u001b[0;32m    896\u001b[0m \u001b[39mdef\u001b[39;00m \u001b[39mcodes\u001b[39m(\u001b[39mself\u001b[39m) \u001b[39m-\u001b[39m\u001b[39m>\u001b[39m \u001b[39mlist\u001b[39m[npt\u001b[39m.\u001b[39mNDArray[np\u001b[39m.\u001b[39msignedinteger]]:\n\u001b[1;32m--> 897\u001b[0m     \u001b[39mreturn\u001b[39;00m [ping\u001b[39m.\u001b[39;49mcodes \u001b[39mfor\u001b[39;00m ping \u001b[39min\u001b[39;00m \u001b[39mself\u001b[39m\u001b[39m.\u001b[39mgroupings]\n",
      "File \u001b[1;32mc:\\Users\\annas\\anaconda3\\envs\\iron\\lib\\site-packages\\pandas\\core\\groupby\\grouper.py:621\u001b[0m, in \u001b[0;36mGrouping.codes\u001b[1;34m(self)\u001b[0m\n\u001b[0;32m    617\u001b[0m \u001b[39mif\u001b[39;00m \u001b[39mself\u001b[39m\u001b[39m.\u001b[39m_codes \u001b[39mis\u001b[39;00m \u001b[39mnot\u001b[39;00m \u001b[39mNone\u001b[39;00m:\n\u001b[0;32m    618\u001b[0m     \u001b[39m# _codes is set in __init__ for MultiIndex cases\u001b[39;00m\n\u001b[0;32m    619\u001b[0m     \u001b[39mreturn\u001b[39;00m \u001b[39mself\u001b[39m\u001b[39m.\u001b[39m_codes\n\u001b[1;32m--> 621\u001b[0m \u001b[39mreturn\u001b[39;00m \u001b[39mself\u001b[39;49m\u001b[39m.\u001b[39;49m_codes_and_uniques[\u001b[39m0\u001b[39m]\n",
      "File \u001b[1;32mc:\\Users\\annas\\anaconda3\\envs\\iron\\lib\\site-packages\\pandas\\_libs\\properties.pyx:36\u001b[0m, in \u001b[0;36mpandas._libs.properties.CachedProperty.__get__\u001b[1;34m()\u001b[0m\n",
      "File \u001b[1;32mc:\\Users\\annas\\anaconda3\\envs\\iron\\lib\\site-packages\\pandas\\core\\groupby\\grouper.py:692\u001b[0m, in \u001b[0;36mGrouping._codes_and_uniques\u001b[1;34m(self)\u001b[0m\n\u001b[0;32m    685\u001b[0m     uniques \u001b[39m=\u001b[39m (\n\u001b[0;32m    686\u001b[0m         \u001b[39mself\u001b[39m\u001b[39m.\u001b[39mgrouping_vector\u001b[39m.\u001b[39mresult_index\u001b[39m.\u001b[39m_values  \u001b[39m# type: ignore[assignment]\u001b[39;00m\n\u001b[0;32m    687\u001b[0m     )\n\u001b[0;32m    688\u001b[0m \u001b[39melse\u001b[39;00m:\n\u001b[0;32m    689\u001b[0m     \u001b[39m# GH35667, replace dropna=False with use_na_sentinel=False\u001b[39;00m\n\u001b[0;32m    690\u001b[0m     \u001b[39m# error: Incompatible types in assignment (expression has type \"Union[\u001b[39;00m\n\u001b[0;32m    691\u001b[0m     \u001b[39m# ndarray[Any, Any], Index]\", variable has type \"Categorical\")\u001b[39;00m\n\u001b[1;32m--> 692\u001b[0m     codes, uniques \u001b[39m=\u001b[39m algorithms\u001b[39m.\u001b[39;49mfactorize(  \u001b[39m# type: ignore[assignment]\u001b[39;49;00m\n\u001b[0;32m    693\u001b[0m         \u001b[39mself\u001b[39;49m\u001b[39m.\u001b[39;49mgrouping_vector, sort\u001b[39m=\u001b[39;49m\u001b[39mself\u001b[39;49m\u001b[39m.\u001b[39;49m_sort, use_na_sentinel\u001b[39m=\u001b[39;49m\u001b[39mself\u001b[39;49m\u001b[39m.\u001b[39;49m_dropna\n\u001b[0;32m    694\u001b[0m     )\n\u001b[0;32m    695\u001b[0m \u001b[39mreturn\u001b[39;00m codes, uniques\n",
      "File \u001b[1;32mc:\\Users\\annas\\anaconda3\\envs\\iron\\lib\\site-packages\\pandas\\core\\algorithms.py:828\u001b[0m, in \u001b[0;36mfactorize\u001b[1;34m(values, sort, na_sentinel, use_na_sentinel, size_hint)\u001b[0m\n\u001b[0;32m    825\u001b[0m     \u001b[39mif\u001b[39;00m na_sentinel \u001b[39mis\u001b[39;00m \u001b[39mNone\u001b[39;00m:\n\u001b[0;32m    826\u001b[0m         \u001b[39m# TODO: Can remove when na_sentinel=na_sentinel as in TODO above\u001b[39;00m\n\u001b[0;32m    827\u001b[0m         na_sentinel \u001b[39m=\u001b[39m \u001b[39m-\u001b[39m\u001b[39m1\u001b[39m\n\u001b[1;32m--> 828\u001b[0m     uniques, codes \u001b[39m=\u001b[39m safe_sort(\n\u001b[0;32m    829\u001b[0m         uniques, codes, na_sentinel\u001b[39m=\u001b[39;49mna_sentinel, assume_unique\u001b[39m=\u001b[39;49m\u001b[39mTrue\u001b[39;49;00m, verify\u001b[39m=\u001b[39;49m\u001b[39mFalse\u001b[39;49;00m\n\u001b[0;32m    830\u001b[0m     )\n\u001b[0;32m    832\u001b[0m \u001b[39mif\u001b[39;00m \u001b[39mnot\u001b[39;00m dropna \u001b[39mand\u001b[39;00m sort:\n\u001b[0;32m    833\u001b[0m     \u001b[39m# TODO: Can remove entire block when na_sentinel=na_sentinel as in TODO above\u001b[39;00m\n\u001b[0;32m    834\u001b[0m     \u001b[39mif\u001b[39;00m na_sentinel \u001b[39mis\u001b[39;00m \u001b[39mNone\u001b[39;00m:\n",
      "File \u001b[1;32mc:\\Users\\annas\\anaconda3\\envs\\iron\\lib\\site-packages\\pandas\\core\\algorithms.py:1879\u001b[0m, in \u001b[0;36msafe_sort\u001b[1;34m(values, codes, na_sentinel, assume_unique, verify)\u001b[0m\n\u001b[0;32m   1877\u001b[0m             ordered \u001b[39m=\u001b[39m _sort_tuples(values, original_values)\n\u001b[0;32m   1878\u001b[0m         \u001b[39melse\u001b[39;00m:\n\u001b[1;32m-> 1879\u001b[0m             ordered \u001b[39m=\u001b[39m _sort_mixed(values)\n\u001b[0;32m   1881\u001b[0m \u001b[39m# codes:\u001b[39;00m\n\u001b[0;32m   1883\u001b[0m \u001b[39mif\u001b[39;00m codes \u001b[39mis\u001b[39;00m \u001b[39mNone\u001b[39;00m:\n",
      "File \u001b[1;32mc:\\Users\\annas\\anaconda3\\envs\\iron\\lib\\site-packages\\pandas\\core\\algorithms.py:1932\u001b[0m, in \u001b[0;36m_sort_mixed\u001b[1;34m(values)\u001b[0m\n\u001b[0;32m   1930\u001b[0m str_pos \u001b[39m=\u001b[39m np\u001b[39m.\u001b[39marray([\u001b[39misinstance\u001b[39m(x, \u001b[39mstr\u001b[39m) \u001b[39mfor\u001b[39;00m x \u001b[39min\u001b[39;00m values], dtype\u001b[39m=\u001b[39m\u001b[39mbool\u001b[39m)\n\u001b[0;32m   1931\u001b[0m none_pos \u001b[39m=\u001b[39m np\u001b[39m.\u001b[39marray([x \u001b[39mis\u001b[39;00m \u001b[39mNone\u001b[39;00m \u001b[39mfor\u001b[39;00m x \u001b[39min\u001b[39;00m values], dtype\u001b[39m=\u001b[39m\u001b[39mbool\u001b[39m)\n\u001b[1;32m-> 1932\u001b[0m nums \u001b[39m=\u001b[39m np\u001b[39m.\u001b[39;49msort(values[\u001b[39m~\u001b[39;49mstr_pos \u001b[39m&\u001b[39;49m \u001b[39m~\u001b[39;49mnone_pos])\n\u001b[0;32m   1933\u001b[0m strs \u001b[39m=\u001b[39m np\u001b[39m.\u001b[39msort(values[str_pos])\n\u001b[0;32m   1934\u001b[0m \u001b[39mreturn\u001b[39;00m np\u001b[39m.\u001b[39mconcatenate(\n\u001b[0;32m   1935\u001b[0m     [nums, np\u001b[39m.\u001b[39masarray(strs, dtype\u001b[39m=\u001b[39m\u001b[39mobject\u001b[39m), np\u001b[39m.\u001b[39marray(values[none_pos])]\n\u001b[0;32m   1936\u001b[0m )\n",
      "File \u001b[1;32m<__array_function__ internals>:180\u001b[0m, in \u001b[0;36msort\u001b[1;34m(*args, **kwargs)\u001b[0m\n",
      "File \u001b[1;32mc:\\Users\\annas\\anaconda3\\envs\\iron\\lib\\site-packages\\numpy\\core\\fromnumeric.py:1004\u001b[0m, in \u001b[0;36msort\u001b[1;34m(a, axis, kind, order)\u001b[0m\n\u001b[0;32m   1002\u001b[0m \u001b[39melse\u001b[39;00m:\n\u001b[0;32m   1003\u001b[0m     a \u001b[39m=\u001b[39m asanyarray(a)\u001b[39m.\u001b[39mcopy(order\u001b[39m=\u001b[39m\u001b[39m\"\u001b[39m\u001b[39mK\u001b[39m\u001b[39m\"\u001b[39m)\n\u001b[1;32m-> 1004\u001b[0m a\u001b[39m.\u001b[39;49msort(axis\u001b[39m=\u001b[39;49maxis, kind\u001b[39m=\u001b[39;49mkind, order\u001b[39m=\u001b[39;49morder)\n\u001b[0;32m   1005\u001b[0m \u001b[39mreturn\u001b[39;00m a\n",
      "\u001b[1;31mTypeError\u001b[0m: '<' not supported between instances of 'Point' and 'Point'"
     ]
    }
   ],
   "source": [
    "df_pois = df_pois.merge(POIS[['Tipo','Subtipo', 'fclass']], on = 'fclass', how = 'left')\n",
    "df_pois.value_counts()"
   ]
  },
  {
   "cell_type": "code",
   "execution_count": 13,
   "metadata": {},
   "outputs": [
    {
     "name": "stdout",
     "output_type": "stream",
     "text": [
      "<class 'geopandas.geodataframe.GeoDataFrame'>\n",
      "Int64Index: 727713 entries, 0 to 727712\n",
      "Data columns (total 7 columns):\n",
      " #   Column    Non-Null Count   Dtype   \n",
      "---  ------    --------------   -----   \n",
      " 0   osm_id    727713 non-null  object  \n",
      " 1   code      727713 non-null  int64   \n",
      " 2   fclass    727713 non-null  object  \n",
      " 3   name      335335 non-null  object  \n",
      " 4   geometry  727713 non-null  geometry\n",
      " 5   Tipo      619667 non-null  object  \n",
      " 6   Subtipo   727709 non-null  object  \n",
      "dtypes: geometry(1), int64(1), object(5)\n",
      "memory usage: 44.4+ MB\n"
     ]
    }
   ],
   "source": [
    "df_pois.info()"
   ]
  },
  {
   "cell_type": "code",
   "execution_count": 14,
   "metadata": {},
   "outputs": [
    {
     "data": {
      "text/html": [
       "<div>\n",
       "<style scoped>\n",
       "    .dataframe tbody tr th:only-of-type {\n",
       "        vertical-align: middle;\n",
       "    }\n",
       "\n",
       "    .dataframe tbody tr th {\n",
       "        vertical-align: top;\n",
       "    }\n",
       "\n",
       "    .dataframe thead th {\n",
       "        text-align: right;\n",
       "    }\n",
       "</style>\n",
       "<table border=\"1\" class=\"dataframe\">\n",
       "  <thead>\n",
       "    <tr style=\"text-align: right;\">\n",
       "      <th></th>\n",
       "      <th>osm_id</th>\n",
       "      <th>code</th>\n",
       "      <th>fclass</th>\n",
       "      <th>name</th>\n",
       "      <th>geometry</th>\n",
       "      <th>Tipo</th>\n",
       "      <th>Subtipo</th>\n",
       "    </tr>\n",
       "  </thead>\n",
       "  <tbody>\n",
       "    <tr>\n",
       "      <th>0</th>\n",
       "      <td>21027591</td>\n",
       "      <td>2733</td>\n",
       "      <td>archaeological</td>\n",
       "      <td>Via cava del Cavone</td>\n",
       "      <td>POINT (11.63634 42.66276)</td>\n",
       "      <td>Art &amp; Culture</td>\n",
       "      <td>Art &amp; Culture</td>\n",
       "    </tr>\n",
       "    <tr>\n",
       "      <th>1</th>\n",
       "      <td>26859360</td>\n",
       "      <td>2422</td>\n",
       "      <td>camp_site</td>\n",
       "      <td>Albinia</td>\n",
       "      <td>POINT (10.52806 43.01722)</td>\n",
       "      <td>Accommodation</td>\n",
       "      <td>Hospitality</td>\n",
       "    </tr>\n",
       "    <tr>\n",
       "      <th>2</th>\n",
       "      <td>26859373</td>\n",
       "      <td>2422</td>\n",
       "      <td>camp_site</td>\n",
       "      <td>Argentario Camping Village</td>\n",
       "      <td>POINT (11.19245 42.49649)</td>\n",
       "      <td>Accommodation</td>\n",
       "      <td>Hospitality</td>\n",
       "    </tr>\n",
       "    <tr>\n",
       "      <th>3</th>\n",
       "      <td>26859377</td>\n",
       "      <td>2422</td>\n",
       "      <td>camp_site</td>\n",
       "      <td>Camping Village Assisi</td>\n",
       "      <td>POINT (12.57420 43.07560)</td>\n",
       "      <td>Accommodation</td>\n",
       "      <td>Hospitality</td>\n",
       "    </tr>\n",
       "    <tr>\n",
       "      <th>4</th>\n",
       "      <td>26859385</td>\n",
       "      <td>2422</td>\n",
       "      <td>camp_site</td>\n",
       "      <td>Badiaccia</td>\n",
       "      <td>POINT (12.01639 43.18028)</td>\n",
       "      <td>Accommodation</td>\n",
       "      <td>Hospitality</td>\n",
       "    </tr>\n",
       "  </tbody>\n",
       "</table>\n",
       "</div>"
      ],
      "text/plain": [
       "     osm_id  code          fclass                        name  \\\n",
       "0  21027591  2733  archaeological         Via cava del Cavone   \n",
       "1  26859360  2422       camp_site                     Albinia   \n",
       "2  26859373  2422       camp_site  Argentario Camping Village   \n",
       "3  26859377  2422       camp_site      Camping Village Assisi   \n",
       "4  26859385  2422       camp_site                   Badiaccia   \n",
       "\n",
       "                    geometry           Tipo        Subtipo  \n",
       "0  POINT (11.63634 42.66276)  Art & Culture  Art & Culture  \n",
       "1  POINT (10.52806 43.01722)  Accommodation    Hospitality  \n",
       "2  POINT (11.19245 42.49649)  Accommodation    Hospitality  \n",
       "3  POINT (12.57420 43.07560)  Accommodation    Hospitality  \n",
       "4  POINT (12.01639 43.18028)  Accommodation    Hospitality  "
      ]
     },
     "execution_count": 14,
     "metadata": {},
     "output_type": "execute_result"
    }
   ],
   "source": [
    "df_pois.head()"
   ]
  },
  {
   "attachments": {},
   "cell_type": "markdown",
   "metadata": {},
   "source": [
    "reproject"
   ]
  },
  {
   "cell_type": "code",
   "execution_count": 15,
   "metadata": {},
   "outputs": [
    {
     "data": {
      "text/plain": [
       "<Geographic 2D CRS: GEOGCS[\"WGS 84\",DATUM[\"WGS_1984\",SPHEROID[\"WGS 84\" ...>\n",
       "Name: WGS 84\n",
       "Axis Info [ellipsoidal]:\n",
       "- lon[east]: Longitude (Degree)\n",
       "- lat[north]: Latitude (Degree)\n",
       "Area of Use:\n",
       "- undefined\n",
       "Datum: World Geodetic System 1984\n",
       "- Ellipsoid: WGS 84\n",
       "- Prime Meridian: Greenwich"
      ]
     },
     "execution_count": 15,
     "metadata": {},
     "output_type": "execute_result"
    }
   ],
   "source": [
    "df_pois.crs ## tiene que estar en WGS 84"
   ]
  },
  {
   "cell_type": "code",
   "execution_count": 16,
   "metadata": {},
   "outputs": [
    {
     "data": {
      "text/html": [
       "<div>\n",
       "<style scoped>\n",
       "    .dataframe tbody tr th:only-of-type {\n",
       "        vertical-align: middle;\n",
       "    }\n",
       "\n",
       "    .dataframe tbody tr th {\n",
       "        vertical-align: top;\n",
       "    }\n",
       "\n",
       "    .dataframe thead th {\n",
       "        text-align: right;\n",
       "    }\n",
       "</style>\n",
       "<table border=\"1\" class=\"dataframe\">\n",
       "  <thead>\n",
       "    <tr style=\"text-align: right;\">\n",
       "      <th></th>\n",
       "      <th>osm_id</th>\n",
       "      <th>code</th>\n",
       "      <th>fclass</th>\n",
       "      <th>name</th>\n",
       "      <th>geometry</th>\n",
       "      <th>Tipo</th>\n",
       "      <th>Subtipo</th>\n",
       "    </tr>\n",
       "  </thead>\n",
       "  <tbody>\n",
       "    <tr>\n",
       "      <th>0</th>\n",
       "      <td>21027591</td>\n",
       "      <td>2733</td>\n",
       "      <td>archaeological</td>\n",
       "      <td>Via cava del Cavone</td>\n",
       "      <td>POINT (11.63634 42.66276)</td>\n",
       "      <td>Art &amp; Culture</td>\n",
       "      <td>Art &amp; Culture</td>\n",
       "    </tr>\n",
       "    <tr>\n",
       "      <th>1</th>\n",
       "      <td>26859360</td>\n",
       "      <td>2422</td>\n",
       "      <td>camp_site</td>\n",
       "      <td>Albinia</td>\n",
       "      <td>POINT (10.52806 43.01722)</td>\n",
       "      <td>Accommodation</td>\n",
       "      <td>Hospitality</td>\n",
       "    </tr>\n",
       "    <tr>\n",
       "      <th>2</th>\n",
       "      <td>26859373</td>\n",
       "      <td>2422</td>\n",
       "      <td>camp_site</td>\n",
       "      <td>Argentario Camping Village</td>\n",
       "      <td>POINT (11.19245 42.49649)</td>\n",
       "      <td>Accommodation</td>\n",
       "      <td>Hospitality</td>\n",
       "    </tr>\n",
       "    <tr>\n",
       "      <th>3</th>\n",
       "      <td>26859377</td>\n",
       "      <td>2422</td>\n",
       "      <td>camp_site</td>\n",
       "      <td>Camping Village Assisi</td>\n",
       "      <td>POINT (12.57420 43.07560)</td>\n",
       "      <td>Accommodation</td>\n",
       "      <td>Hospitality</td>\n",
       "    </tr>\n",
       "    <tr>\n",
       "      <th>4</th>\n",
       "      <td>26859385</td>\n",
       "      <td>2422</td>\n",
       "      <td>camp_site</td>\n",
       "      <td>Badiaccia</td>\n",
       "      <td>POINT (12.01639 43.18028)</td>\n",
       "      <td>Accommodation</td>\n",
       "      <td>Hospitality</td>\n",
       "    </tr>\n",
       "    <tr>\n",
       "      <th>...</th>\n",
       "      <td>...</td>\n",
       "      <td>...</td>\n",
       "      <td>...</td>\n",
       "      <td>...</td>\n",
       "      <td>...</td>\n",
       "      <td>...</td>\n",
       "      <td>...</td>\n",
       "    </tr>\n",
       "    <tr>\n",
       "      <th>727708</th>\n",
       "      <td>10617230772</td>\n",
       "      <td>2082</td>\n",
       "      <td>school</td>\n",
       "      <td>Terzo circolo didattico - Plesso \"San Rocco\"</td>\n",
       "      <td>POINT (14.20147 40.92983)</td>\n",
       "      <td>Education</td>\n",
       "      <td>Education</td>\n",
       "    </tr>\n",
       "    <tr>\n",
       "      <th>727709</th>\n",
       "      <td>10620295393</td>\n",
       "      <td>2301</td>\n",
       "      <td>restaurant</td>\n",
       "      <td>Les Balais Eventi</td>\n",
       "      <td>POINT (14.44163 40.79405)</td>\n",
       "      <td>Restaurant</td>\n",
       "      <td>Restaurant</td>\n",
       "    </tr>\n",
       "    <tr>\n",
       "      <th>727710</th>\n",
       "      <td>10620382845</td>\n",
       "      <td>2301</td>\n",
       "      <td>restaurant</td>\n",
       "      <td>Villa Gardenia Ricevimenti</td>\n",
       "      <td>POINT (14.44367 40.78559)</td>\n",
       "      <td>Restaurant</td>\n",
       "      <td>Restaurant</td>\n",
       "    </tr>\n",
       "    <tr>\n",
       "      <th>727711</th>\n",
       "      <td>10620391065</td>\n",
       "      <td>2301</td>\n",
       "      <td>restaurant</td>\n",
       "      <td>Palazzo Cifelli Eventi</td>\n",
       "      <td>POINT (14.44484 40.78613)</td>\n",
       "      <td>Restaurant</td>\n",
       "      <td>Restaurant</td>\n",
       "    </tr>\n",
       "    <tr>\n",
       "      <th>727712</th>\n",
       "      <td>10621192160</td>\n",
       "      <td>2543</td>\n",
       "      <td>doityourself</td>\n",
       "      <td>Di Muzio</td>\n",
       "      <td>POINT (14.15130 42.35736)</td>\n",
       "      <td>Shop</td>\n",
       "      <td>Shop</td>\n",
       "    </tr>\n",
       "  </tbody>\n",
       "</table>\n",
       "<p>727713 rows × 7 columns</p>\n",
       "</div>"
      ],
      "text/plain": [
       "             osm_id  code          fclass  \\\n",
       "0          21027591  2733  archaeological   \n",
       "1          26859360  2422       camp_site   \n",
       "2          26859373  2422       camp_site   \n",
       "3          26859377  2422       camp_site   \n",
       "4          26859385  2422       camp_site   \n",
       "...             ...   ...             ...   \n",
       "727708  10617230772  2082          school   \n",
       "727709  10620295393  2301      restaurant   \n",
       "727710  10620382845  2301      restaurant   \n",
       "727711  10620391065  2301      restaurant   \n",
       "727712  10621192160  2543    doityourself   \n",
       "\n",
       "                                                name  \\\n",
       "0                                Via cava del Cavone   \n",
       "1                                            Albinia   \n",
       "2                         Argentario Camping Village   \n",
       "3                             Camping Village Assisi   \n",
       "4                                          Badiaccia   \n",
       "...                                              ...   \n",
       "727708  Terzo circolo didattico - Plesso \"San Rocco\"   \n",
       "727709                             Les Balais Eventi   \n",
       "727710                    Villa Gardenia Ricevimenti   \n",
       "727711                        Palazzo Cifelli Eventi   \n",
       "727712                                      Di Muzio   \n",
       "\n",
       "                         geometry           Tipo        Subtipo  \n",
       "0       POINT (11.63634 42.66276)  Art & Culture  Art & Culture  \n",
       "1       POINT (10.52806 43.01722)  Accommodation    Hospitality  \n",
       "2       POINT (11.19245 42.49649)  Accommodation    Hospitality  \n",
       "3       POINT (12.57420 43.07560)  Accommodation    Hospitality  \n",
       "4       POINT (12.01639 43.18028)  Accommodation    Hospitality  \n",
       "...                           ...            ...            ...  \n",
       "727708  POINT (14.20147 40.92983)      Education      Education  \n",
       "727709  POINT (14.44163 40.79405)     Restaurant     Restaurant  \n",
       "727710  POINT (14.44367 40.78559)     Restaurant     Restaurant  \n",
       "727711  POINT (14.44484 40.78613)     Restaurant     Restaurant  \n",
       "727712  POINT (14.15130 42.35736)           Shop           Shop  \n",
       "\n",
       "[727713 rows x 7 columns]"
      ]
     },
     "execution_count": 16,
     "metadata": {},
     "output_type": "execute_result"
    }
   ],
   "source": [
    "df_pois.to_crs(\"EPSG:4326\")"
   ]
  },
  {
   "cell_type": "code",
   "execution_count": 17,
   "metadata": {},
   "outputs": [
    {
     "data": {
      "text/plain": [
       "<Geographic 2D CRS: GEOGCS[\"WGS 84\",DATUM[\"WGS_1984\",SPHEROID[\"WGS 84\" ...>\n",
       "Name: WGS 84\n",
       "Axis Info [ellipsoidal]:\n",
       "- lon[east]: Longitude (Degree)\n",
       "- lat[north]: Latitude (Degree)\n",
       "Area of Use:\n",
       "- undefined\n",
       "Datum: World Geodetic System 1984\n",
       "- Ellipsoid: WGS 84\n",
       "- Prime Meridian: Greenwich"
      ]
     },
     "execution_count": 17,
     "metadata": {},
     "output_type": "execute_result"
    }
   ],
   "source": [
    "df_pois.crs ## tiene que estar en WGS 84"
   ]
  },
  {
   "attachments": {},
   "cell_type": "markdown",
   "metadata": {},
   "source": [
    "export"
   ]
  },
  {
   "cell_type": "code",
   "execution_count": 20,
   "metadata": {},
   "outputs": [
    {
     "data": {
      "text/plain": [
       "'e:\\\\Cursos\\\\00ironhack_DA\\\\00LABS\\\\vuelve-conmigo-a-italia\\\\data'"
      ]
     },
     "execution_count": 20,
     "metadata": {},
     "output_type": "execute_result"
    }
   ],
   "source": [
    "local_path = os.path.dirname(os.getcwd()) + f'\\\\data'\n",
    "local_path"
   ]
  },
  {
   "cell_type": "code",
   "execution_count": 21,
   "metadata": {},
   "outputs": [],
   "source": [
    "df_pois.to_file(f'{local_path}\\\\df_pois.geojson', driver='GeoJSON')  "
   ]
  },
  {
   "cell_type": "code",
   "execution_count": 22,
   "metadata": {},
   "outputs": [
    {
     "data": {
      "text/html": [
       "<div>\n",
       "<style scoped>\n",
       "    .dataframe tbody tr th:only-of-type {\n",
       "        vertical-align: middle;\n",
       "    }\n",
       "\n",
       "    .dataframe tbody tr th {\n",
       "        vertical-align: top;\n",
       "    }\n",
       "\n",
       "    .dataframe thead th {\n",
       "        text-align: right;\n",
       "    }\n",
       "</style>\n",
       "<table border=\"1\" class=\"dataframe\">\n",
       "  <thead>\n",
       "    <tr style=\"text-align: right;\">\n",
       "      <th></th>\n",
       "      <th>osm_id</th>\n",
       "      <th>code</th>\n",
       "      <th>fclass</th>\n",
       "      <th>name</th>\n",
       "      <th>geometry</th>\n",
       "      <th>Tipo</th>\n",
       "      <th>Subtipo</th>\n",
       "    </tr>\n",
       "  </thead>\n",
       "  <tbody>\n",
       "    <tr>\n",
       "      <th>0</th>\n",
       "      <td>21027591</td>\n",
       "      <td>2733</td>\n",
       "      <td>archaeological</td>\n",
       "      <td>Via cava del Cavone</td>\n",
       "      <td>POINT (11.63634 42.66276)</td>\n",
       "      <td>Art &amp; Culture</td>\n",
       "      <td>Art &amp; Culture</td>\n",
       "    </tr>\n",
       "  </tbody>\n",
       "</table>\n",
       "</div>"
      ],
      "text/plain": [
       "     osm_id  code          fclass                 name  \\\n",
       "0  21027591  2733  archaeological  Via cava del Cavone   \n",
       "\n",
       "                    geometry           Tipo        Subtipo  \n",
       "0  POINT (11.63634 42.66276)  Art & Culture  Art & Culture  "
      ]
     },
     "execution_count": 22,
     "metadata": {},
     "output_type": "execute_result"
    }
   ],
   "source": [
    "df_pois.head(1)"
   ]
  },
  {
   "cell_type": "code",
   "execution_count": 25,
   "metadata": {},
   "outputs": [
    {
     "data": {
      "text/html": [
       "<div>\n",
       "<style scoped>\n",
       "    .dataframe tbody tr th:only-of-type {\n",
       "        vertical-align: middle;\n",
       "    }\n",
       "\n",
       "    .dataframe tbody tr th {\n",
       "        vertical-align: top;\n",
       "    }\n",
       "\n",
       "    .dataframe thead th {\n",
       "        text-align: right;\n",
       "    }\n",
       "</style>\n",
       "<table border=\"1\" class=\"dataframe\">\n",
       "  <thead>\n",
       "    <tr style=\"text-align: right;\">\n",
       "      <th></th>\n",
       "      <th>osm_id</th>\n",
       "      <th>code</th>\n",
       "      <th>fclass</th>\n",
       "      <th>name</th>\n",
       "      <th>geometry</th>\n",
       "      <th>Tipo</th>\n",
       "      <th>Subtipo</th>\n",
       "      <th>lon</th>\n",
       "      <th>lat</th>\n",
       "    </tr>\n",
       "  </thead>\n",
       "  <tbody>\n",
       "    <tr>\n",
       "      <th>0</th>\n",
       "      <td>21027591</td>\n",
       "      <td>2733</td>\n",
       "      <td>archaeological</td>\n",
       "      <td>Via cava del Cavone</td>\n",
       "      <td>POINT (11.63634 42.66276)</td>\n",
       "      <td>Art &amp; Culture</td>\n",
       "      <td>Art &amp; Culture</td>\n",
       "      <td>11.636337</td>\n",
       "      <td>42.662761</td>\n",
       "    </tr>\n",
       "  </tbody>\n",
       "</table>\n",
       "</div>"
      ],
      "text/plain": [
       "     osm_id  code          fclass                 name  \\\n",
       "0  21027591  2733  archaeological  Via cava del Cavone   \n",
       "\n",
       "                    geometry           Tipo        Subtipo        lon  \\\n",
       "0  POINT (11.63634 42.66276)  Art & Culture  Art & Culture  11.636337   \n",
       "\n",
       "         lat  \n",
       "0  42.662761  "
      ]
     },
     "execution_count": 25,
     "metadata": {},
     "output_type": "execute_result"
    }
   ],
   "source": [
    "df_pois['lon'] = df_pois.geometry.apply(lambda p: p.x)\n",
    "df_pois['lat'] = df_pois.geometry.apply(lambda p: p.y)\n",
    "df_pois.head(1)"
   ]
  },
  {
   "cell_type": "code",
   "execution_count": 27,
   "metadata": {},
   "outputs": [],
   "source": [
    "df_pois.to_csv(f'{local_path}//pois.csv', encoding='utf-8', sep='|', decimal='.', index=False)"
   ]
  },
  {
   "cell_type": "code",
   "execution_count": 29,
   "metadata": {},
   "outputs": [
    {
     "data": {
      "text/plain": [
       "'e:\\\\Cursos\\\\00ironhack_DA\\\\00LABS\\\\vuelve-conmigo-a-italia\\\\data\\\\tmpOSM_IT'"
      ]
     },
     "execution_count": 29,
     "metadata": {},
     "output_type": "execute_result"
    }
   ],
   "source": [
    "local_path = os.path.dirname(os.getcwd()) + f'\\\\data\\\\tmpOSM_IT'\n",
    "local_path"
   ]
  },
  {
   "cell_type": "code",
   "execution_count": 31,
   "metadata": {},
   "outputs": [
    {
     "data": {
      "text/html": [
       "<div>\n",
       "<style scoped>\n",
       "    .dataframe tbody tr th:only-of-type {\n",
       "        vertical-align: middle;\n",
       "    }\n",
       "\n",
       "    .dataframe tbody tr th {\n",
       "        vertical-align: top;\n",
       "    }\n",
       "\n",
       "    .dataframe thead th {\n",
       "        text-align: right;\n",
       "    }\n",
       "</style>\n",
       "<table border=\"1\" class=\"dataframe\">\n",
       "  <thead>\n",
       "    <tr style=\"text-align: right;\">\n",
       "      <th></th>\n",
       "      <th>osm_id</th>\n",
       "      <th>code</th>\n",
       "      <th>fclass</th>\n",
       "      <th>name</th>\n",
       "      <th>Tipo</th>\n",
       "      <th>Subtipo</th>\n",
       "      <th>cod_00</th>\n",
       "      <th>nom_00</th>\n",
       "      <th>cod_01</th>\n",
       "      <th>nom_01</th>\n",
       "      <th>cod_02</th>\n",
       "      <th>nom_02</th>\n",
       "      <th>cod_03</th>\n",
       "      <th>nom_03</th>\n",
       "      <th>cod_04</th>\n",
       "      <th>nom_04</th>\n",
       "      <th>cod_05</th>\n",
       "      <th>nom_05</th>\n",
       "      <th>cod_06</th>\n",
       "      <th>nom_06</th>\n",
       "      <th>cod_07</th>\n",
       "      <th>center_x</th>\n",
       "      <th>center_y</th>\n",
       "      <th>id_cod_00</th>\n",
       "      <th>id_cod_01</th>\n",
       "      <th>id_cod_02</th>\n",
       "      <th>id_cod_03</th>\n",
       "      <th>id_cod_04</th>\n",
       "      <th>id_cod_05</th>\n",
       "      <th>id_cod_06</th>\n",
       "      <th>id_cod_07</th>\n",
       "      <th>Area_ha</th>\n",
       "      <th>Costa</th>\n",
       "      <th>Capital_Re</th>\n",
       "      <th>Capital_Pr</th>\n",
       "      <th>Capital</th>\n",
       "      <th>cod_08</th>\n",
       "      <th>id_cod_08</th>\n",
       "      <th>geometry</th>\n",
       "    </tr>\n",
       "  </thead>\n",
       "  <tbody>\n",
       "    <tr>\n",
       "      <th>0</th>\n",
       "      <td>21027591</td>\n",
       "      <td>2733</td>\n",
       "      <td>archaeological</td>\n",
       "      <td>Via cava del Cavone</td>\n",
       "      <td>Art &amp; Culture</td>\n",
       "      <td>Art &amp; Culture</td>\n",
       "      <td>IT</td>\n",
       "      <td>Italia</td>\n",
       "      <td>9</td>\n",
       "      <td>Toscana</td>\n",
       "      <td>53</td>\n",
       "      <td>Grosseto</td>\n",
       "      <td>53026</td>\n",
       "      <td>Sorano</td>\n",
       "      <td>OMI_I841_R1</td>\n",
       "      <td>Sorano - Zona OMI R1</td>\n",
       "      <td>NaN</td>\n",
       "      <td>NaN</td>\n",
       "      <td>NaN</td>\n",
       "      <td>NaN</td>\n",
       "      <td>530260000006</td>\n",
       "      <td>11.649812</td>\n",
       "      <td>42.672369</td>\n",
       "      <td>57363.0</td>\n",
       "      <td>57372.0</td>\n",
       "      <td>57472.0</td>\n",
       "      <td>1238525.0</td>\n",
       "      <td>1293240.0</td>\n",
       "      <td>NaN</td>\n",
       "      <td>NaN</td>\n",
       "      <td>208742.0</td>\n",
       "      <td>1617.534491</td>\n",
       "      <td>Resto</td>\n",
       "      <td>Resto</td>\n",
       "      <td>Resto</td>\n",
       "      <td>Resto</td>\n",
       "      <td>58010</td>\n",
       "      <td>470379.0</td>\n",
       "      <td>POINT (11.63634 42.66276)</td>\n",
       "    </tr>\n",
       "  </tbody>\n",
       "</table>\n",
       "</div>"
      ],
      "text/plain": [
       "     osm_id  code          fclass                 name           Tipo  \\\n",
       "0  21027591  2733  archaeological  Via cava del Cavone  Art & Culture   \n",
       "\n",
       "         Subtipo cod_00  nom_00 cod_01   nom_01 cod_02    nom_02 cod_03  \\\n",
       "0  Art & Culture     IT  Italia      9  Toscana     53  Grosseto  53026   \n",
       "\n",
       "   nom_03       cod_04                nom_04  cod_05  nom_05  cod_06  nom_06  \\\n",
       "0  Sorano  OMI_I841_R1  Sorano - Zona OMI R1     NaN     NaN     NaN     NaN   \n",
       "\n",
       "         cod_07   center_x   center_y  id_cod_00  id_cod_01  id_cod_02  \\\n",
       "0  530260000006  11.649812  42.672369    57363.0    57372.0    57472.0   \n",
       "\n",
       "   id_cod_03  id_cod_04  id_cod_05  id_cod_06  id_cod_07      Area_ha  Costa  \\\n",
       "0  1238525.0  1293240.0        NaN        NaN   208742.0  1617.534491  Resto   \n",
       "\n",
       "  Capital_Re Capital_Pr Capital cod_08  id_cod_08                   geometry  \n",
       "0      Resto      Resto   Resto  58010   470379.0  POINT (11.63634 42.66276)  "
      ]
     },
     "execution_count": 31,
     "metadata": {},
     "output_type": "execute_result"
    }
   ],
   "source": [
    "df_pois_v2 = gpd.read_file(local_path + '\\\\' + 'pois_IT.gpkg')\n",
    "df_pois_v2.head(1)"
   ]
  },
  {
   "cell_type": "code",
   "execution_count": 32,
   "metadata": {},
   "outputs": [
    {
     "data": {
      "text/plain": [
       "array(['Toscana', 'Umbria', 'Lazio', 'Marche', 'Emilia-Romagna', 'Puglia',\n",
       "       'Liguria', 'Abruzzo', 'Molise', 'Campania', 'Sardegna', 'Sicilia',\n",
       "       'Trentino-Alto Adige', 'Veneto', 'Friuli Venezia Giulia',\n",
       "       'Lombardia', 'Piemonte', \"Valle d'Aosta\", 'Calabria', 'Basilicata'],\n",
       "      dtype=object)"
      ]
     },
     "execution_count": 32,
     "metadata": {},
     "output_type": "execute_result"
    }
   ],
   "source": [
    "df_pois_v2['nom_01'].unique()"
   ]
  },
  {
   "cell_type": "code",
   "execution_count": 36,
   "metadata": {},
   "outputs": [],
   "source": [
    "df_pois_v2['lon'] = df_pois_v2.geometry.apply(lambda p: p.x)\n",
    "df_pois_v2['lat'] = df_pois_v2.geometry.apply(lambda p: p.y)"
   ]
  },
  {
   "cell_type": "code",
   "execution_count": 39,
   "metadata": {},
   "outputs": [],
   "source": [
    "df_pois_v2[df_pois_v2['nom_01'] == 'Sicilia'].to_file(f'{local_path}\\\\df_pois.geojson', driver='GeoJSON')  "
   ]
  }
 ],
 "metadata": {
  "kernelspec": {
   "display_name": "iron",
   "language": "python",
   "name": "python3"
  },
  "language_info": {
   "codemirror_mode": {
    "name": "ipython",
    "version": 3
   },
   "file_extension": ".py",
   "mimetype": "text/x-python",
   "name": "python",
   "nbconvert_exporter": "python",
   "pygments_lexer": "ipython3",
   "version": "3.9.13"
  },
  "orig_nbformat": 4,
  "vscode": {
   "interpreter": {
    "hash": "e59d0b279e6461be5b4ea7b62838527cd8f41f3cbc9a1147b1a83b32d75ab689"
   }
  }
 },
 "nbformat": 4,
 "nbformat_minor": 2
}
