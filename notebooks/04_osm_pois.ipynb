{
 "cells": [
  {
   "cell_type": "code",
   "execution_count": null,
   "metadata": {},
   "outputs": [],
   "source": [
    "import geopandas as gpd\n",
    "import requests\n",
    "import zipfile\n",
    "import io\n",
    "import matplotlib.pyplot as plt\n",
    "import os\n",
    "import fiona\n",
    "import pandas as pd\n",
    "import sys\n",
    "#%matplotlib inline  # jupyter \"magic\" to display plots in notebook\n",
    "pd.set_option('mode.chained_assignment', None)\n",
    "import numpy as np\n",
    "from bs4 import BeautifulSoup\n",
    "import re\n",
    "pd.options.display.max_columns = None\n",
    "pd.options.mode.chained_assignment = None  # default='warn'\n",
    "import sys\n",
    "sys.path.append(\"../\")\n",
    "import src.soporteScrapping as scr"
   ]
  },
  {
   "attachments": {},
   "cell_type": "markdown",
   "metadata": {},
   "source": [
    "parameters"
   ]
  },
  {
   "cell_type": "code",
   "execution_count": null,
   "metadata": {},
   "outputs": [],
   "source": [
    "url = 'https://download.geofabrik.de/europe/italy/'\n",
    "country = 'IT'\n",
    "country_clean = 'IT'"
   ]
  },
  {
   "attachments": {},
   "cell_type": "markdown",
   "metadata": {},
   "source": [
    "get links"
   ]
  },
  {
   "cell_type": "code",
   "execution_count": null,
   "metadata": {},
   "outputs": [],
   "source": [
    "links,flattened = scr.getLinks(url)\n",
    "links"
   ]
  },
  {
   "cell_type": "code",
   "execution_count": null,
   "metadata": {},
   "outputs": [],
   "source": [
    "flattened"
   ]
  },
  {
   "attachments": {},
   "cell_type": "markdown",
   "metadata": {},
   "source": [
    "data conversion table input"
   ]
  },
  {
   "cell_type": "code",
   "execution_count": null,
   "metadata": {},
   "outputs": [],
   "source": [
    "ruta = os.path.dirname(os.getcwd()) + '\\\\data'"
   ]
  },
  {
   "cell_type": "code",
   "execution_count": null,
   "metadata": {},
   "outputs": [],
   "source": [
    "inPOIS = pd.ExcelFile(f'{ruta}\\\\POIS_Classification' + '.xlsx')\n",
    "sheets_list = inPOIS.sheet_names[0]\n",
    "POIS = pd.read_excel(inPOIS, sheet_name = sheets_list)\n",
    "POIS.rename({'Tipo2':'Subtipo', 'Subtipo':'fclass'}, axis = 1, inplace=True)\n",
    "POIS.head()"
   ]
  },
  {
   "attachments": {},
   "cell_type": "markdown",
   "metadata": {},
   "source": [
    "downloading shapefile"
   ]
  },
  {
   "cell_type": "code",
   "execution_count": null,
   "metadata": {},
   "outputs": [],
   "source": [
    "print('Downloading shapefile...')\n",
    "patron = r'(.*).shp.zip'\n",
    "for link, flat in zip(links, flattened):\n",
    "    local_path = os.path.dirname(os.getcwd()) + f'\\\\data\\\\tmpOSM_{country}'\n",
    "    r = requests.get(link)\n",
    "    z = zipfile.ZipFile(io.BytesIO(r.content), mode='a')\n",
    "    folder = re.findall(patron, flat)\n",
    "    os.mkdir(os.path.join(local_path, folder[0]))\n",
    "    z.extractall(path=(local_path + '//'+ folder[0])) # extract to folder\n",
    "    print(f\"Done with {link}\")\n",
    "filenames = [y for y in sorted(z.namelist()) for starting in ['gis_osm_landuse_a_free_1', 'gis_osm_buildings_a_free_1'] if y.startswith(starting)] \n",
    "print(filenames)"
   ]
  },
  {
   "attachments": {},
   "cell_type": "markdown",
   "metadata": {},
   "source": [
    "POIs"
   ]
  },
  {
   "cell_type": "code",
   "execution_count": null,
   "metadata": {},
   "outputs": [],
   "source": [
    "alldf_pois = []\n",
    "for subdir, dirs, files in os.walk(local_path):\n",
    "    #global alldf_landuse\n",
    "    for file in files:\n",
    "        #print(file)\n",
    "        if file.startswith('gis_osm_pois_free_1.shp'):\n",
    "            print(file, subdir)\n",
    "            df_pois = gpd.read_file(subdir + '\\\\' + 'gis_osm_pois_free_1' + '.shp')\n",
    "            alldf_pois.append(df_pois)"
   ]
  },
  {
   "cell_type": "code",
   "execution_count": null,
   "metadata": {},
   "outputs": [],
   "source": [
    "df_pois = pd.concat([(alldf_pois[n]) for n in list(range(len(alldf_pois)))])"
   ]
  },
  {
   "cell_type": "code",
   "execution_count": null,
   "metadata": {},
   "outputs": [],
   "source": [
    "print(df_pois.shape)\n",
    "df_pois.head()"
   ]
  },
  {
   "attachments": {},
   "cell_type": "markdown",
   "metadata": {},
   "source": [
    "merge with equivalence table"
   ]
  },
  {
   "cell_type": "code",
   "execution_count": null,
   "metadata": {},
   "outputs": [],
   "source": [
    "POIS.head()"
   ]
  },
  {
   "cell_type": "code",
   "execution_count": null,
   "metadata": {},
   "outputs": [],
   "source": [
    "df_pois = df_pois.merge(POIS[['Tipo','Subtipo', 'fclass']], on = 'fclass', how = 'left')\n",
    "df_pois.value_counts()"
   ]
  },
  {
   "cell_type": "code",
   "execution_count": null,
   "metadata": {},
   "outputs": [],
   "source": [
    "df_pois.info()"
   ]
  },
  {
   "cell_type": "code",
   "execution_count": null,
   "metadata": {},
   "outputs": [],
   "source": [
    "df_pois.head()"
   ]
  },
  {
   "attachments": {},
   "cell_type": "markdown",
   "metadata": {},
   "source": [
    "reproject"
   ]
  },
  {
   "cell_type": "code",
   "execution_count": null,
   "metadata": {},
   "outputs": [],
   "source": [
    "df_pois.crs ## tiene que estar en WGS 84"
   ]
  },
  {
   "cell_type": "code",
   "execution_count": null,
   "metadata": {},
   "outputs": [],
   "source": [
    "df_pois.to_crs(\"EPSG:4326\")"
   ]
  },
  {
   "cell_type": "code",
   "execution_count": null,
   "metadata": {},
   "outputs": [],
   "source": [
    "df_pois.crs ## tiene que estar en WGS 84"
   ]
  },
  {
   "attachments": {},
   "cell_type": "markdown",
   "metadata": {},
   "source": [
    "export"
   ]
  },
  {
   "cell_type": "code",
   "execution_count": null,
   "metadata": {},
   "outputs": [],
   "source": [
    "local_path"
   ]
  },
  {
   "cell_type": "code",
   "execution_count": null,
   "metadata": {},
   "outputs": [],
   "source": [
    "df_pois.to_json()  "
   ]
  }
 ],
 "metadata": {
  "kernelspec": {
   "display_name": "brains",
   "language": "python",
   "name": "python3"
  },
  "language_info": {
   "codemirror_mode": {
    "name": "ipython",
    "version": 3
   },
   "file_extension": ".py",
   "mimetype": "text/x-python",
   "name": "python",
   "nbconvert_exporter": "python",
   "pygments_lexer": "ipython3",
   "version": "3.9.13"
  },
  "orig_nbformat": 4,
  "vscode": {
   "interpreter": {
    "hash": "bd3118e8585715c5e7fc282aed76d7676b79208628d9a4fd66b36a1df38de7df"
   }
  }
 },
 "nbformat": 4,
 "nbformat_minor": 2
}
