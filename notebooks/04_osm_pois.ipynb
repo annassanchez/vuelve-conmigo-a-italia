{
 "cells": [
  {
   "cell_type": "code",
   "execution_count": 1,
   "metadata": {},
   "outputs": [],
   "source": [
    "import geopandas as gpd\n",
    "import requests\n",
    "import zipfile\n",
    "import io\n",
    "import matplotlib.pyplot as plt\n",
    "import os\n",
    "import fiona\n",
    "import pandas as pd\n",
    "import sys\n",
    "#%matplotlib inline  # jupyter \"magic\" to display plots in notebook\n",
    "pd.set_option('mode.chained_assignment', None)\n",
    "import numpy as np\n",
    "from bs4 import BeautifulSoup\n",
    "import re\n",
    "pd.options.display.max_columns = None\n",
    "pd.options.mode.chained_assignment = None  # default='warn'\n",
    "from geojson import Point, Feature, FeatureCollection, dump\n",
    "\n",
    "import sys\n",
    "sys.path.append(\"../\")\n",
    "import src.soporteScrapping as scr"
   ]
  },
  {
   "attachments": {},
   "cell_type": "markdown",
   "metadata": {},
   "source": [
    "parameters"
   ]
  },
  {
   "cell_type": "code",
   "execution_count": 2,
   "metadata": {},
   "outputs": [],
   "source": [
    "url = 'https://download.geofabrik.de/europe/italy/'\n",
    "country = 'IT'\n",
    "country_clean = 'IT'"
   ]
  },
  {
   "attachments": {},
   "cell_type": "markdown",
   "metadata": {},
   "source": [
    "get links"
   ]
  },
  {
   "cell_type": "code",
   "execution_count": 3,
   "metadata": {},
   "outputs": [
    {
     "name": "stdout",
     "output_type": "stream",
     "text": [
      "200\n"
     ]
    },
    {
     "data": {
      "text/plain": [
       "['https://download.geofabrik.de/europe/italy/centro-latest-free.shp.zip',\n",
       " 'https://download.geofabrik.de/europe/italy/isole-latest-free.shp.zip',\n",
       " 'https://download.geofabrik.de/europe/italy/nord-est-latest-free.shp.zip',\n",
       " 'https://download.geofabrik.de/europe/italy/nord-ovest-latest-free.shp.zip',\n",
       " 'https://download.geofabrik.de/europe/italy/sud-latest-free.shp.zip']"
      ]
     },
     "execution_count": 3,
     "metadata": {},
     "output_type": "execute_result"
    }
   ],
   "source": [
    "links,flattened = scr.getLinks(url)\n",
    "links"
   ]
  },
  {
   "cell_type": "code",
   "execution_count": 4,
   "metadata": {},
   "outputs": [
    {
     "data": {
      "text/plain": [
       "['centro-latest-free.shp.zip',\n",
       " 'isole-latest-free.shp.zip',\n",
       " 'nord-est-latest-free.shp.zip',\n",
       " 'nord-ovest-latest-free.shp.zip',\n",
       " 'sud-latest-free.shp.zip']"
      ]
     },
     "execution_count": 4,
     "metadata": {},
     "output_type": "execute_result"
    }
   ],
   "source": [
    "flattened"
   ]
  },
  {
   "attachments": {},
   "cell_type": "markdown",
   "metadata": {},
   "source": [
    "data conversion table input"
   ]
  },
  {
   "cell_type": "code",
   "execution_count": 5,
   "metadata": {},
   "outputs": [],
   "source": [
    "ruta = os.path.dirname(os.getcwd()) + '\\\\data'"
   ]
  },
  {
   "cell_type": "code",
   "execution_count": 6,
   "metadata": {},
   "outputs": [
    {
     "name": "stderr",
     "output_type": "stream",
     "text": [
      "c:\\Users\\annas\\anaconda3\\envs\\iron\\lib\\site-packages\\openpyxl\\worksheet\\header_footer.py:48: UserWarning: Cannot parse header or footer so it will be ignored\n",
      "  warn(\"\"\"Cannot parse header or footer so it will be ignored\"\"\")\n"
     ]
    },
    {
     "data": {
      "text/html": [
       "<div>\n",
       "<style scoped>\n",
       "    .dataframe tbody tr th:only-of-type {\n",
       "        vertical-align: middle;\n",
       "    }\n",
       "\n",
       "    .dataframe tbody tr th {\n",
       "        vertical-align: top;\n",
       "    }\n",
       "\n",
       "    .dataframe thead th {\n",
       "        text-align: right;\n",
       "    }\n",
       "</style>\n",
       "<table border=\"1\" class=\"dataframe\">\n",
       "  <thead>\n",
       "    <tr style=\"text-align: right;\">\n",
       "      <th></th>\n",
       "      <th>Tipo</th>\n",
       "      <th>Subtipo</th>\n",
       "      <th>fclass</th>\n",
       "    </tr>\n",
       "  </thead>\n",
       "  <tbody>\n",
       "    <tr>\n",
       "      <th>0</th>\n",
       "      <td>Accommodation</td>\n",
       "      <td>Hospitality</td>\n",
       "      <td>alpine_hut</td>\n",
       "    </tr>\n",
       "    <tr>\n",
       "      <th>1</th>\n",
       "      <td>Accommodation</td>\n",
       "      <td>Hospitality</td>\n",
       "      <td>camp_site</td>\n",
       "    </tr>\n",
       "    <tr>\n",
       "      <th>2</th>\n",
       "      <td>Accommodation</td>\n",
       "      <td>Hospitality</td>\n",
       "      <td>chalet</td>\n",
       "    </tr>\n",
       "    <tr>\n",
       "      <th>3</th>\n",
       "      <td>Accommodation</td>\n",
       "      <td>Hospitality</td>\n",
       "      <td>guesthouse</td>\n",
       "    </tr>\n",
       "    <tr>\n",
       "      <th>4</th>\n",
       "      <td>Accommodation</td>\n",
       "      <td>Hospitality</td>\n",
       "      <td>hostel</td>\n",
       "    </tr>\n",
       "  </tbody>\n",
       "</table>\n",
       "</div>"
      ],
      "text/plain": [
       "            Tipo      Subtipo      fclass\n",
       "0  Accommodation  Hospitality  alpine_hut\n",
       "1  Accommodation  Hospitality   camp_site\n",
       "2  Accommodation  Hospitality      chalet\n",
       "3  Accommodation  Hospitality  guesthouse\n",
       "4  Accommodation  Hospitality      hostel"
      ]
     },
     "execution_count": 6,
     "metadata": {},
     "output_type": "execute_result"
    }
   ],
   "source": [
    "inPOIS = pd.ExcelFile(f'{ruta}\\\\POIS_Classification' + '.xlsx')\n",
    "sheets_list = inPOIS.sheet_names[0]\n",
    "POIS = pd.read_excel(inPOIS, sheet_name = sheets_list)\n",
    "POIS.rename({'Tipo2':'Subtipo', 'Subtipo':'fclass'}, axis = 1, inplace=True)\n",
    "POIS.head()"
   ]
  },
  {
   "attachments": {},
   "cell_type": "markdown",
   "metadata": {},
   "source": [
    "downloading shapefile"
   ]
  },
  {
   "cell_type": "code",
   "execution_count": 7,
   "metadata": {},
   "outputs": [
    {
     "name": "stdout",
     "output_type": "stream",
     "text": [
      "Downloading shapefile...\n",
      "Done with https://download.geofabrik.de/europe/italy/centro-latest-free.shp.zip\n",
      "Done with https://download.geofabrik.de/europe/italy/isole-latest-free.shp.zip\n",
      "Done with https://download.geofabrik.de/europe/italy/nord-est-latest-free.shp.zip\n",
      "Done with https://download.geofabrik.de/europe/italy/nord-ovest-latest-free.shp.zip\n",
      "Done with https://download.geofabrik.de/europe/italy/sud-latest-free.shp.zip\n",
      "['gis_osm_buildings_a_free_1.cpg', 'gis_osm_buildings_a_free_1.dbf', 'gis_osm_buildings_a_free_1.prj', 'gis_osm_buildings_a_free_1.shp', 'gis_osm_buildings_a_free_1.shx', 'gis_osm_landuse_a_free_1.cpg', 'gis_osm_landuse_a_free_1.dbf', 'gis_osm_landuse_a_free_1.prj', 'gis_osm_landuse_a_free_1.shp', 'gis_osm_landuse_a_free_1.shx']\n"
     ]
    }
   ],
   "source": [
    "print('Downloading shapefile...')\n",
    "patron = r'(.*).shp.zip'\n",
    "for link, flat in zip(links, flattened):\n",
    "    local_path = os.path.dirname(os.getcwd()) + f'\\\\data\\\\tmpOSM_{country}'\n",
    "    r = requests.get(link)\n",
    "    z = zipfile.ZipFile(io.BytesIO(r.content), mode='a')\n",
    "    folder = re.findall(patron, flat)\n",
    "    os.mkdir(os.path.join(local_path, folder[0]))\n",
    "    z.extractall(path=(local_path + '//'+ folder[0])) # extract to folder\n",
    "    print(f\"Done with {link}\")\n",
    "filenames = [y for y in sorted(z.namelist()) for starting in ['gis_osm_landuse_a_free_1', 'gis_osm_buildings_a_free_1'] if y.startswith(starting)] \n",
    "print(filenames)"
   ]
  },
  {
   "attachments": {},
   "cell_type": "markdown",
   "metadata": {},
   "source": [
    "POIs"
   ]
  },
  {
   "cell_type": "code",
   "execution_count": 7,
   "metadata": {},
   "outputs": [],
   "source": [
    "local_path = os.path.dirname(os.getcwd()) + f'\\\\data\\\\tmpOSM_{country}'"
   ]
  },
  {
   "cell_type": "code",
   "execution_count": 8,
   "metadata": {},
   "outputs": [
    {
     "name": "stdout",
     "output_type": "stream",
     "text": [
      "gis_osm_pois_free_1.shp e:\\Cursos\\00ironhack_DA\\00LABS\\vuelve-conmigo-a-italia\\data\\tmpOSM_IT\\centro-latest-free\n",
      "gis_osm_pois_free_1.shp e:\\Cursos\\00ironhack_DA\\00LABS\\vuelve-conmigo-a-italia\\data\\tmpOSM_IT\\isole-latest-free\n",
      "gis_osm_pois_free_1.shp e:\\Cursos\\00ironhack_DA\\00LABS\\vuelve-conmigo-a-italia\\data\\tmpOSM_IT\\nord-est-latest-free\n",
      "gis_osm_pois_free_1.shp e:\\Cursos\\00ironhack_DA\\00LABS\\vuelve-conmigo-a-italia\\data\\tmpOSM_IT\\nord-ovest-latest-free\n",
      "gis_osm_pois_free_1.shp e:\\Cursos\\00ironhack_DA\\00LABS\\vuelve-conmigo-a-italia\\data\\tmpOSM_IT\\sud-latest-free\n"
     ]
    }
   ],
   "source": [
    "alldf_pois = []\n",
    "for subdir, dirs, files in os.walk(local_path):\n",
    "    #global alldf_landuse\n",
    "    for file in files:\n",
    "        #print(file)\n",
    "        if file.startswith('gis_osm_pois_free_1.shp'):\n",
    "            print(file, subdir)\n",
    "            df_pois = gpd.read_file(subdir + '\\\\' + 'gis_osm_pois_free_1' + '.shp')\n",
    "            alldf_pois.append(df_pois)"
   ]
  },
  {
   "cell_type": "code",
   "execution_count": 9,
   "metadata": {},
   "outputs": [],
   "source": [
    "df_pois = pd.concat([(alldf_pois[n]) for n in list(range(len(alldf_pois)))])"
   ]
  },
  {
   "cell_type": "code",
   "execution_count": 10,
   "metadata": {},
   "outputs": [
    {
     "name": "stdout",
     "output_type": "stream",
     "text": [
      "(727951, 5)\n"
     ]
    },
    {
     "data": {
      "text/html": [
       "<div>\n",
       "<style scoped>\n",
       "    .dataframe tbody tr th:only-of-type {\n",
       "        vertical-align: middle;\n",
       "    }\n",
       "\n",
       "    .dataframe tbody tr th {\n",
       "        vertical-align: top;\n",
       "    }\n",
       "\n",
       "    .dataframe thead th {\n",
       "        text-align: right;\n",
       "    }\n",
       "</style>\n",
       "<table border=\"1\" class=\"dataframe\">\n",
       "  <thead>\n",
       "    <tr style=\"text-align: right;\">\n",
       "      <th></th>\n",
       "      <th>osm_id</th>\n",
       "      <th>code</th>\n",
       "      <th>fclass</th>\n",
       "      <th>name</th>\n",
       "      <th>geometry</th>\n",
       "    </tr>\n",
       "  </thead>\n",
       "  <tbody>\n",
       "    <tr>\n",
       "      <th>0</th>\n",
       "      <td>21027591</td>\n",
       "      <td>2733</td>\n",
       "      <td>archaeological</td>\n",
       "      <td>Via cava del Cavone</td>\n",
       "      <td>POINT (11.63634 42.66276)</td>\n",
       "    </tr>\n",
       "    <tr>\n",
       "      <th>1</th>\n",
       "      <td>26859360</td>\n",
       "      <td>2422</td>\n",
       "      <td>camp_site</td>\n",
       "      <td>Albinia</td>\n",
       "      <td>POINT (10.52806 43.01722)</td>\n",
       "    </tr>\n",
       "    <tr>\n",
       "      <th>2</th>\n",
       "      <td>26859373</td>\n",
       "      <td>2422</td>\n",
       "      <td>camp_site</td>\n",
       "      <td>Argentario Camping Village</td>\n",
       "      <td>POINT (11.19245 42.49649)</td>\n",
       "    </tr>\n",
       "    <tr>\n",
       "      <th>3</th>\n",
       "      <td>26859377</td>\n",
       "      <td>2422</td>\n",
       "      <td>camp_site</td>\n",
       "      <td>Camping Village Assisi</td>\n",
       "      <td>POINT (12.57420 43.07560)</td>\n",
       "    </tr>\n",
       "    <tr>\n",
       "      <th>4</th>\n",
       "      <td>26859385</td>\n",
       "      <td>2422</td>\n",
       "      <td>camp_site</td>\n",
       "      <td>Badiaccia</td>\n",
       "      <td>POINT (12.01639 43.18028)</td>\n",
       "    </tr>\n",
       "  </tbody>\n",
       "</table>\n",
       "</div>"
      ],
      "text/plain": [
       "     osm_id  code          fclass                        name  \\\n",
       "0  21027591  2733  archaeological         Via cava del Cavone   \n",
       "1  26859360  2422       camp_site                     Albinia   \n",
       "2  26859373  2422       camp_site  Argentario Camping Village   \n",
       "3  26859377  2422       camp_site      Camping Village Assisi   \n",
       "4  26859385  2422       camp_site                   Badiaccia   \n",
       "\n",
       "                    geometry  \n",
       "0  POINT (11.63634 42.66276)  \n",
       "1  POINT (10.52806 43.01722)  \n",
       "2  POINT (11.19245 42.49649)  \n",
       "3  POINT (12.57420 43.07560)  \n",
       "4  POINT (12.01639 43.18028)  "
      ]
     },
     "execution_count": 10,
     "metadata": {},
     "output_type": "execute_result"
    }
   ],
   "source": [
    "print(df_pois.shape)\n",
    "df_pois.head()"
   ]
  },
  {
   "attachments": {},
   "cell_type": "markdown",
   "metadata": {},
   "source": [
    "reproject"
   ]
  },
  {
   "cell_type": "code",
   "execution_count": 11,
   "metadata": {},
   "outputs": [
    {
     "data": {
      "text/plain": [
       "<Geographic 2D CRS: GEOGCS[\"WGS 84\",DATUM[\"WGS_1984\",SPHEROID[\"WGS 84\" ...>\n",
       "Name: WGS 84\n",
       "Axis Info [ellipsoidal]:\n",
       "- lon[east]: Longitude (Degree)\n",
       "- lat[north]: Latitude (Degree)\n",
       "Area of Use:\n",
       "- undefined\n",
       "Datum: World Geodetic System 1984\n",
       "- Ellipsoid: WGS 84\n",
       "- Prime Meridian: Greenwich"
      ]
     },
     "execution_count": 11,
     "metadata": {},
     "output_type": "execute_result"
    }
   ],
   "source": [
    "df_pois.crs ## tiene que estar en WGS 84"
   ]
  },
  {
   "cell_type": "code",
   "execution_count": 12,
   "metadata": {},
   "outputs": [],
   "source": [
    "df_pois.to_crs(\"EPSG:4326\", inplace=True)"
   ]
  },
  {
   "cell_type": "code",
   "execution_count": 13,
   "metadata": {},
   "outputs": [
    {
     "data": {
      "text/plain": [
       "<Geographic 2D CRS: EPSG:4326>\n",
       "Name: WGS 84\n",
       "Axis Info [ellipsoidal]:\n",
       "- Lat[north]: Geodetic latitude (degree)\n",
       "- Lon[east]: Geodetic longitude (degree)\n",
       "Area of Use:\n",
       "- name: World.\n",
       "- bounds: (-180.0, -90.0, 180.0, 90.0)\n",
       "Datum: World Geodetic System 1984 ensemble\n",
       "- Ellipsoid: WGS 84\n",
       "- Prime Meridian: Greenwich"
      ]
     },
     "execution_count": 13,
     "metadata": {},
     "output_type": "execute_result"
    }
   ],
   "source": [
    "df_pois.crs ## tiene que estar en WGS 84"
   ]
  },
  {
   "attachments": {},
   "cell_type": "markdown",
   "metadata": {},
   "source": [
    "spatial join geoLevels"
   ]
  },
  {
   "cell_type": "code",
   "execution_count": 14,
   "metadata": {},
   "outputs": [],
   "source": [
    "GeoLevels_IT_03 = gpd.read_file(ruta + '\\\\' + 'GeoLevels_IT_03.geojson')\n",
    "GeoLevels_IT_03.to_crs(\"EPSG:4326\", inplace = True)"
   ]
  },
  {
   "cell_type": "code",
   "execution_count": 15,
   "metadata": {},
   "outputs": [
    {
     "name": "stdout",
     "output_type": "stream",
     "text": [
      "(33079, 16)\n"
     ]
    },
    {
     "data": {
      "text/html": [
       "<div>\n",
       "<style scoped>\n",
       "    .dataframe tbody tr th:only-of-type {\n",
       "        vertical-align: middle;\n",
       "    }\n",
       "\n",
       "    .dataframe tbody tr th {\n",
       "        vertical-align: top;\n",
       "    }\n",
       "\n",
       "    .dataframe thead th {\n",
       "        text-align: right;\n",
       "    }\n",
       "</style>\n",
       "<table border=\"1\" class=\"dataframe\">\n",
       "  <thead>\n",
       "    <tr style=\"text-align: right;\">\n",
       "      <th></th>\n",
       "      <th>osm_id</th>\n",
       "      <th>code</th>\n",
       "      <th>fclass</th>\n",
       "      <th>name</th>\n",
       "      <th>geometry</th>\n",
       "      <th>index_right</th>\n",
       "      <th>OBJECTID</th>\n",
       "      <th>nivel</th>\n",
       "      <th>cod_Pais</th>\n",
       "      <th>nom_Pais</th>\n",
       "      <th>cod_Region</th>\n",
       "      <th>nom_Region</th>\n",
       "      <th>cod_Provincia</th>\n",
       "      <th>nom_Provincia</th>\n",
       "      <th>cod_Municipio</th>\n",
       "      <th>nom_Municipio</th>\n",
       "    </tr>\n",
       "  </thead>\n",
       "  <tbody>\n",
       "    <tr>\n",
       "      <th>6</th>\n",
       "      <td>26860774</td>\n",
       "      <td>2422</td>\n",
       "      <td>camp_site</td>\n",
       "      <td>Camping Biscione</td>\n",
       "      <td>POINT (12.47814 37.70137)</td>\n",
       "      <td>321</td>\n",
       "      <td>1241383</td>\n",
       "      <td>3</td>\n",
       "      <td>IT</td>\n",
       "      <td>Italia</td>\n",
       "      <td>19</td>\n",
       "      <td>Sicilia</td>\n",
       "      <td>81</td>\n",
       "      <td>Trapani</td>\n",
       "      <td>81024</td>\n",
       "      <td>Petrosino</td>\n",
       "    </tr>\n",
       "  </tbody>\n",
       "</table>\n",
       "</div>"
      ],
      "text/plain": [
       "     osm_id  code     fclass              name                   geometry  \\\n",
       "6  26860774  2422  camp_site  Camping Biscione  POINT (12.47814 37.70137)   \n",
       "\n",
       "   index_right  OBJECTID  nivel cod_Pais nom_Pais cod_Region nom_Region  \\\n",
       "6          321   1241383      3       IT   Italia         19    Sicilia   \n",
       "\n",
       "  cod_Provincia nom_Provincia cod_Municipio nom_Municipio  \n",
       "6            81       Trapani         81024     Petrosino  "
      ]
     },
     "execution_count": 15,
     "metadata": {},
     "output_type": "execute_result"
    }
   ],
   "source": [
    "df_pois_merge = df_pois.sjoin(GeoLevels_IT_03, how=\"inner\")\n",
    "print(df_pois_merge.shape)\n",
    "df_pois_merge.head(1)"
   ]
  },
  {
   "cell_type": "markdown",
   "metadata": {},
   "source": [
    "merge with equivalence table"
   ]
  },
  {
   "cell_type": "code",
   "execution_count": 16,
   "metadata": {},
   "outputs": [
    {
     "data": {
      "text/html": [
       "<div>\n",
       "<style scoped>\n",
       "    .dataframe tbody tr th:only-of-type {\n",
       "        vertical-align: middle;\n",
       "    }\n",
       "\n",
       "    .dataframe tbody tr th {\n",
       "        vertical-align: top;\n",
       "    }\n",
       "\n",
       "    .dataframe thead th {\n",
       "        text-align: right;\n",
       "    }\n",
       "</style>\n",
       "<table border=\"1\" class=\"dataframe\">\n",
       "  <thead>\n",
       "    <tr style=\"text-align: right;\">\n",
       "      <th></th>\n",
       "      <th>Tipo</th>\n",
       "      <th>Subtipo</th>\n",
       "      <th>fclass</th>\n",
       "    </tr>\n",
       "  </thead>\n",
       "  <tbody>\n",
       "    <tr>\n",
       "      <th>0</th>\n",
       "      <td>Accommodation</td>\n",
       "      <td>Hospitality</td>\n",
       "      <td>alpine_hut</td>\n",
       "    </tr>\n",
       "    <tr>\n",
       "      <th>1</th>\n",
       "      <td>Accommodation</td>\n",
       "      <td>Hospitality</td>\n",
       "      <td>camp_site</td>\n",
       "    </tr>\n",
       "    <tr>\n",
       "      <th>2</th>\n",
       "      <td>Accommodation</td>\n",
       "      <td>Hospitality</td>\n",
       "      <td>chalet</td>\n",
       "    </tr>\n",
       "    <tr>\n",
       "      <th>3</th>\n",
       "      <td>Accommodation</td>\n",
       "      <td>Hospitality</td>\n",
       "      <td>guesthouse</td>\n",
       "    </tr>\n",
       "    <tr>\n",
       "      <th>4</th>\n",
       "      <td>Accommodation</td>\n",
       "      <td>Hospitality</td>\n",
       "      <td>hostel</td>\n",
       "    </tr>\n",
       "  </tbody>\n",
       "</table>\n",
       "</div>"
      ],
      "text/plain": [
       "            Tipo      Subtipo      fclass\n",
       "0  Accommodation  Hospitality  alpine_hut\n",
       "1  Accommodation  Hospitality   camp_site\n",
       "2  Accommodation  Hospitality      chalet\n",
       "3  Accommodation  Hospitality  guesthouse\n",
       "4  Accommodation  Hospitality      hostel"
      ]
     },
     "execution_count": 16,
     "metadata": {},
     "output_type": "execute_result"
    }
   ],
   "source": [
    "POIS.head()"
   ]
  },
  {
   "cell_type": "code",
   "execution_count": 17,
   "metadata": {},
   "outputs": [
    {
     "data": {
      "text/plain": [
       "both          33079\n",
       "left_only         0\n",
       "right_only        0\n",
       "Name: _merge, dtype: int64"
      ]
     },
     "execution_count": 17,
     "metadata": {},
     "output_type": "execute_result"
    }
   ],
   "source": [
    "df_pois_merge = df_pois_merge.merge(POIS, on ='fclass', how = 'left', indicator = True)\n",
    "df_pois_merge['_merge'].value_counts()"
   ]
  },
  {
   "cell_type": "code",
   "execution_count": 18,
   "metadata": {},
   "outputs": [
    {
     "name": "stdout",
     "output_type": "stream",
     "text": [
      "<class 'geopandas.geodataframe.GeoDataFrame'>\n",
      "Int64Index: 33079 entries, 0 to 33078\n",
      "Data columns (total 19 columns):\n",
      " #   Column         Non-Null Count  Dtype   \n",
      "---  ------         --------------  -----   \n",
      " 0   osm_id         33079 non-null  object  \n",
      " 1   code           33079 non-null  int64   \n",
      " 2   fclass         33079 non-null  object  \n",
      " 3   name           21539 non-null  object  \n",
      " 4   geometry       33079 non-null  geometry\n",
      " 5   index_right    33079 non-null  int64   \n",
      " 6   OBJECTID       33079 non-null  int64   \n",
      " 7   nivel          33079 non-null  int64   \n",
      " 8   cod_Pais       33079 non-null  object  \n",
      " 9   nom_Pais       33079 non-null  object  \n",
      " 10  cod_Region     33079 non-null  object  \n",
      " 11  nom_Region     33079 non-null  object  \n",
      " 12  cod_Provincia  33079 non-null  object  \n",
      " 13  nom_Provincia  33079 non-null  object  \n",
      " 14  cod_Municipio  33079 non-null  object  \n",
      " 15  nom_Municipio  33079 non-null  object  \n",
      " 16  Tipo           23614 non-null  object  \n",
      " 17  Subtipo        23614 non-null  object  \n",
      " 18  _merge         33079 non-null  category\n",
      "dtypes: category(1), geometry(1), int64(4), object(13)\n",
      "memory usage: 4.8+ MB\n"
     ]
    }
   ],
   "source": [
    "df_pois_merge.info()"
   ]
  },
  {
   "cell_type": "code",
   "execution_count": 19,
   "metadata": {},
   "outputs": [
    {
     "data": {
      "text/html": [
       "<div>\n",
       "<style scoped>\n",
       "    .dataframe tbody tr th:only-of-type {\n",
       "        vertical-align: middle;\n",
       "    }\n",
       "\n",
       "    .dataframe tbody tr th {\n",
       "        vertical-align: top;\n",
       "    }\n",
       "\n",
       "    .dataframe thead th {\n",
       "        text-align: right;\n",
       "    }\n",
       "</style>\n",
       "<table border=\"1\" class=\"dataframe\">\n",
       "  <thead>\n",
       "    <tr style=\"text-align: right;\">\n",
       "      <th></th>\n",
       "      <th>osm_id</th>\n",
       "      <th>code</th>\n",
       "      <th>fclass</th>\n",
       "      <th>name</th>\n",
       "      <th>geometry</th>\n",
       "      <th>index_right</th>\n",
       "      <th>OBJECTID</th>\n",
       "      <th>nivel</th>\n",
       "      <th>cod_Pais</th>\n",
       "      <th>nom_Pais</th>\n",
       "      <th>cod_Region</th>\n",
       "      <th>nom_Region</th>\n",
       "      <th>cod_Provincia</th>\n",
       "      <th>nom_Provincia</th>\n",
       "      <th>cod_Municipio</th>\n",
       "      <th>nom_Municipio</th>\n",
       "      <th>Tipo</th>\n",
       "      <th>Subtipo</th>\n",
       "      <th>_merge</th>\n",
       "    </tr>\n",
       "  </thead>\n",
       "  <tbody>\n",
       "    <tr>\n",
       "      <th>0</th>\n",
       "      <td>26860774</td>\n",
       "      <td>2422</td>\n",
       "      <td>camp_site</td>\n",
       "      <td>Camping Biscione</td>\n",
       "      <td>POINT (12.47814 37.70137)</td>\n",
       "      <td>321</td>\n",
       "      <td>1241383</td>\n",
       "      <td>3</td>\n",
       "      <td>IT</td>\n",
       "      <td>Italia</td>\n",
       "      <td>19</td>\n",
       "      <td>Sicilia</td>\n",
       "      <td>81</td>\n",
       "      <td>Trapani</td>\n",
       "      <td>81024</td>\n",
       "      <td>Petrosino</td>\n",
       "      <td>Accommodation</td>\n",
       "      <td>Hospitality</td>\n",
       "      <td>both</td>\n",
       "    </tr>\n",
       "    <tr>\n",
       "      <th>1</th>\n",
       "      <td>639702152</td>\n",
       "      <td>2903</td>\n",
       "      <td>drinking_water</td>\n",
       "      <td>NaN</td>\n",
       "      <td>POINT (12.47201 37.70619)</td>\n",
       "      <td>321</td>\n",
       "      <td>1241383</td>\n",
       "      <td>3</td>\n",
       "      <td>IT</td>\n",
       "      <td>Italia</td>\n",
       "      <td>19</td>\n",
       "      <td>Sicilia</td>\n",
       "      <td>81</td>\n",
       "      <td>Trapani</td>\n",
       "      <td>81024</td>\n",
       "      <td>Petrosino</td>\n",
       "      <td>Amenity</td>\n",
       "      <td>Amenity</td>\n",
       "      <td>both</td>\n",
       "    </tr>\n",
       "    <tr>\n",
       "      <th>2</th>\n",
       "      <td>639702161</td>\n",
       "      <td>2903</td>\n",
       "      <td>drinking_water</td>\n",
       "      <td>NaN</td>\n",
       "      <td>POINT (12.48432 37.69290)</td>\n",
       "      <td>321</td>\n",
       "      <td>1241383</td>\n",
       "      <td>3</td>\n",
       "      <td>IT</td>\n",
       "      <td>Italia</td>\n",
       "      <td>19</td>\n",
       "      <td>Sicilia</td>\n",
       "      <td>81</td>\n",
       "      <td>Trapani</td>\n",
       "      <td>81024</td>\n",
       "      <td>Petrosino</td>\n",
       "      <td>Amenity</td>\n",
       "      <td>Amenity</td>\n",
       "      <td>both</td>\n",
       "    </tr>\n",
       "    <tr>\n",
       "      <th>3</th>\n",
       "      <td>639702164</td>\n",
       "      <td>2903</td>\n",
       "      <td>drinking_water</td>\n",
       "      <td>NaN</td>\n",
       "      <td>POINT (12.49512 37.71213)</td>\n",
       "      <td>321</td>\n",
       "      <td>1241383</td>\n",
       "      <td>3</td>\n",
       "      <td>IT</td>\n",
       "      <td>Italia</td>\n",
       "      <td>19</td>\n",
       "      <td>Sicilia</td>\n",
       "      <td>81</td>\n",
       "      <td>Trapani</td>\n",
       "      <td>81024</td>\n",
       "      <td>Petrosino</td>\n",
       "      <td>Amenity</td>\n",
       "      <td>Amenity</td>\n",
       "      <td>both</td>\n",
       "    </tr>\n",
       "    <tr>\n",
       "      <th>4</th>\n",
       "      <td>851680452</td>\n",
       "      <td>2501</td>\n",
       "      <td>supermarket</td>\n",
       "      <td>NaN</td>\n",
       "      <td>POINT (12.49964 37.71835)</td>\n",
       "      <td>321</td>\n",
       "      <td>1241383</td>\n",
       "      <td>3</td>\n",
       "      <td>IT</td>\n",
       "      <td>Italia</td>\n",
       "      <td>19</td>\n",
       "      <td>Sicilia</td>\n",
       "      <td>81</td>\n",
       "      <td>Trapani</td>\n",
       "      <td>81024</td>\n",
       "      <td>Petrosino</td>\n",
       "      <td>Food shops</td>\n",
       "      <td>Grocery store</td>\n",
       "      <td>both</td>\n",
       "    </tr>\n",
       "  </tbody>\n",
       "</table>\n",
       "</div>"
      ],
      "text/plain": [
       "      osm_id  code          fclass              name  \\\n",
       "0   26860774  2422       camp_site  Camping Biscione   \n",
       "1  639702152  2903  drinking_water               NaN   \n",
       "2  639702161  2903  drinking_water               NaN   \n",
       "3  639702164  2903  drinking_water               NaN   \n",
       "4  851680452  2501     supermarket               NaN   \n",
       "\n",
       "                    geometry  index_right  OBJECTID  nivel cod_Pais nom_Pais  \\\n",
       "0  POINT (12.47814 37.70137)          321   1241383      3       IT   Italia   \n",
       "1  POINT (12.47201 37.70619)          321   1241383      3       IT   Italia   \n",
       "2  POINT (12.48432 37.69290)          321   1241383      3       IT   Italia   \n",
       "3  POINT (12.49512 37.71213)          321   1241383      3       IT   Italia   \n",
       "4  POINT (12.49964 37.71835)          321   1241383      3       IT   Italia   \n",
       "\n",
       "  cod_Region nom_Region cod_Provincia nom_Provincia cod_Municipio  \\\n",
       "0         19    Sicilia            81       Trapani         81024   \n",
       "1         19    Sicilia            81       Trapani         81024   \n",
       "2         19    Sicilia            81       Trapani         81024   \n",
       "3         19    Sicilia            81       Trapani         81024   \n",
       "4         19    Sicilia            81       Trapani         81024   \n",
       "\n",
       "  nom_Municipio           Tipo        Subtipo _merge  \n",
       "0     Petrosino  Accommodation    Hospitality   both  \n",
       "1     Petrosino        Amenity        Amenity   both  \n",
       "2     Petrosino        Amenity        Amenity   both  \n",
       "3     Petrosino        Amenity        Amenity   both  \n",
       "4     Petrosino     Food shops  Grocery store   both  "
      ]
     },
     "execution_count": 19,
     "metadata": {},
     "output_type": "execute_result"
    }
   ],
   "source": [
    "df_pois_merge.head()"
   ]
  },
  {
   "attachments": {},
   "cell_type": "markdown",
   "metadata": {},
   "source": [
    "selecting only the data that falls into sicily"
   ]
  },
  {
   "cell_type": "code",
   "execution_count": 20,
   "metadata": {},
   "outputs": [
    {
     "data": {
      "text/plain": [
       "array(['Sicilia'], dtype=object)"
      ]
     },
     "execution_count": 20,
     "metadata": {},
     "output_type": "execute_result"
    }
   ],
   "source": [
    "df_pois_merge['nom_Region'].unique()"
   ]
  },
  {
   "cell_type": "code",
   "execution_count": 21,
   "metadata": {},
   "outputs": [],
   "source": [
    "df_pois_merge = df_pois_merge[df_pois_merge['nom_Region'] == 'Sicilia']"
   ]
  },
  {
   "cell_type": "code",
   "execution_count": 22,
   "metadata": {},
   "outputs": [],
   "source": [
    "df_pois_merge.drop(['_merge'], axis = 1, inplace = True)"
   ]
  },
  {
   "attachments": {},
   "cell_type": "markdown",
   "metadata": {},
   "source": [
    "add hotel listings to paint both of them together"
   ]
  },
  {
   "cell_type": "code",
   "execution_count": 78,
   "metadata": {},
   "outputs": [
    {
     "data": {
      "text/plain": [
       "'e:\\\\Cursos\\\\00ironhack_DA\\\\00LABS\\\\vuelve-conmigo-a-italia\\\\data'"
      ]
     },
     "execution_count": 78,
     "metadata": {},
     "output_type": "execute_result"
    }
   ],
   "source": [
    "local_path = os.path.dirname(os.getcwd()) + f'\\\\data'\n",
    "local_path"
   ]
  },
  {
   "cell_type": "code",
   "execution_count": 79,
   "metadata": {},
   "outputs": [
    {
     "data": {
      "text/html": [
       "<div>\n",
       "<style scoped>\n",
       "    .dataframe tbody tr th:only-of-type {\n",
       "        vertical-align: middle;\n",
       "    }\n",
       "\n",
       "    .dataframe tbody tr th {\n",
       "        vertical-align: top;\n",
       "    }\n",
       "\n",
       "    .dataframe thead th {\n",
       "        text-align: right;\n",
       "    }\n",
       "</style>\n",
       "<table border=\"1\" class=\"dataframe\">\n",
       "  <thead>\n",
       "    <tr style=\"text-align: right;\">\n",
       "      <th></th>\n",
       "      <th>name</th>\n",
       "      <th>address</th>\n",
       "      <th>currentPrice</th>\n",
       "      <th>previousPrice</th>\n",
       "      <th>rating</th>\n",
       "      <th>reviewNumber</th>\n",
       "      <th>checkingDate</th>\n",
       "      <th>image</th>\n",
       "      <th>parking</th>\n",
       "      <th>air_conditioning</th>\n",
       "      <th>bathroom</th>\n",
       "      <th>wifi</th>\n",
       "      <th>breakfast</th>\n",
       "      <th>coffee_tea_maker</th>\n",
       "      <th>laundry</th>\n",
       "      <th>location</th>\n",
       "      <th>point</th>\n",
       "      <th>latitude</th>\n",
       "      <th>longitude</th>\n",
       "      <th>altitude</th>\n",
       "      <th>url_clean</th>\n",
       "      <th>geometry</th>\n",
       "      <th>index_right</th>\n",
       "      <th>OBJECTID</th>\n",
       "      <th>nivel</th>\n",
       "      <th>cod_Pais</th>\n",
       "      <th>nom_Pais</th>\n",
       "      <th>cod_Region</th>\n",
       "      <th>nom_Region</th>\n",
       "      <th>cod_Provincia</th>\n",
       "      <th>nom_Provincia</th>\n",
       "      <th>cod_Municipio</th>\n",
       "      <th>nom_Municipio</th>\n",
       "    </tr>\n",
       "  </thead>\n",
       "  <tbody>\n",
       "    <tr>\n",
       "      <th>0</th>\n",
       "      <td>La Maison del Sole</td>\n",
       "      <td>84 via napoli, 90133 palermo, italy</td>\n",
       "      <td>84.0</td>\n",
       "      <td>NaN</td>\n",
       "      <td>9.4</td>\n",
       "      <td>125.0</td>\n",
       "      <td>01/09/2023</td>\n",
       "      <td>https://cf.bstatic.com/xdata/images/hotel/squa...</td>\n",
       "      <td>N</td>\n",
       "      <td>N</td>\n",
       "      <td>N</td>\n",
       "      <td>N</td>\n",
       "      <td>N</td>\n",
       "      <td>N</td>\n",
       "      <td>N</td>\n",
       "      <td>Via Napoli 84, 90133, Palermo</td>\n",
       "      <td>(38.117480016368205, 13.360619970299581, 0.0)</td>\n",
       "      <td>38.11748</td>\n",
       "      <td>13.36062</td>\n",
       "      <td>0</td>\n",
       "      <td>https://www.booking.com/hotel/it/la-maison-del...</td>\n",
       "      <td>POINT (13.36061997029958 38.117480016368205)</td>\n",
       "      <td>125</td>\n",
       "      <td>1240332</td>\n",
       "      <td>3</td>\n",
       "      <td>IT</td>\n",
       "      <td>Italia</td>\n",
       "      <td>19</td>\n",
       "      <td>Sicilia</td>\n",
       "      <td>82</td>\n",
       "      <td>Palermo</td>\n",
       "      <td>82053</td>\n",
       "      <td>Palermo</td>\n",
       "    </tr>\n",
       "  </tbody>\n",
       "</table>\n",
       "</div>"
      ],
      "text/plain": [
       "                 name                              address  currentPrice  \\\n",
       "0  La Maison del Sole  84 via napoli, 90133 palermo, italy          84.0   \n",
       "\n",
       "   previousPrice  rating  reviewNumber checkingDate  \\\n",
       "0            NaN     9.4         125.0   01/09/2023   \n",
       "\n",
       "                                               image parking air_conditioning  \\\n",
       "0  https://cf.bstatic.com/xdata/images/hotel/squa...       N                N   \n",
       "\n",
       "  bathroom wifi breakfast coffee_tea_maker laundry  \\\n",
       "0        N    N         N                N       N   \n",
       "\n",
       "                        location  \\\n",
       "0  Via Napoli 84, 90133, Palermo   \n",
       "\n",
       "                                           point  latitude  longitude  \\\n",
       "0  (38.117480016368205, 13.360619970299581, 0.0)  38.11748   13.36062   \n",
       "\n",
       "   altitude                                          url_clean  \\\n",
       "0         0  https://www.booking.com/hotel/it/la-maison-del...   \n",
       "\n",
       "                                       geometry  index_right  OBJECTID  nivel  \\\n",
       "0  POINT (13.36061997029958 38.117480016368205)          125   1240332      3   \n",
       "\n",
       "  cod_Pais nom_Pais  cod_Region nom_Region  cod_Provincia nom_Provincia  \\\n",
       "0       IT   Italia          19    Sicilia             82       Palermo   \n",
       "\n",
       "   cod_Municipio nom_Municipio  \n",
       "0          82053       Palermo  "
      ]
     },
     "execution_count": 79,
     "metadata": {},
     "output_type": "execute_result"
    }
   ],
   "source": [
    "df_booking = pd.read_csv(local_path + '//booking.csv', sep =';', decimal=',', thousands='.')\n",
    "df_booking.head(1)"
   ]
  },
  {
   "attachments": {},
   "cell_type": "markdown",
   "metadata": {},
   "source": [
    "turn into geodataframe and remove unnecesary columns"
   ]
  },
  {
   "cell_type": "code",
   "execution_count": 80,
   "metadata": {},
   "outputs": [
    {
     "data": {
      "text/html": [
       "<div>\n",
       "<style scoped>\n",
       "    .dataframe tbody tr th:only-of-type {\n",
       "        vertical-align: middle;\n",
       "    }\n",
       "\n",
       "    .dataframe tbody tr th {\n",
       "        vertical-align: top;\n",
       "    }\n",
       "\n",
       "    .dataframe thead th {\n",
       "        text-align: right;\n",
       "    }\n",
       "</style>\n",
       "<table border=\"1\" class=\"dataframe\">\n",
       "  <thead>\n",
       "    <tr style=\"text-align: right;\">\n",
       "      <th></th>\n",
       "      <th>name</th>\n",
       "      <th>address</th>\n",
       "      <th>currentPrice</th>\n",
       "      <th>previousPrice</th>\n",
       "      <th>rating</th>\n",
       "      <th>reviewNumber</th>\n",
       "      <th>checkingDate</th>\n",
       "      <th>image</th>\n",
       "      <th>parking</th>\n",
       "      <th>air_conditioning</th>\n",
       "      <th>bathroom</th>\n",
       "      <th>wifi</th>\n",
       "      <th>breakfast</th>\n",
       "      <th>coffee_tea_maker</th>\n",
       "      <th>laundry</th>\n",
       "      <th>location</th>\n",
       "      <th>point</th>\n",
       "      <th>latitude</th>\n",
       "      <th>longitude</th>\n",
       "      <th>altitude</th>\n",
       "      <th>url_clean</th>\n",
       "      <th>geometry</th>\n",
       "      <th>index_right</th>\n",
       "      <th>OBJECTID</th>\n",
       "      <th>nivel</th>\n",
       "      <th>cod_Pais</th>\n",
       "      <th>nom_Pais</th>\n",
       "      <th>cod_Region</th>\n",
       "      <th>nom_Region</th>\n",
       "      <th>cod_Provincia</th>\n",
       "      <th>nom_Provincia</th>\n",
       "      <th>cod_Municipio</th>\n",
       "      <th>nom_Municipio</th>\n",
       "    </tr>\n",
       "  </thead>\n",
       "  <tbody>\n",
       "    <tr>\n",
       "      <th>0</th>\n",
       "      <td>La Maison del Sole</td>\n",
       "      <td>84 via napoli, 90133 palermo, italy</td>\n",
       "      <td>84.0</td>\n",
       "      <td>NaN</td>\n",
       "      <td>9.4</td>\n",
       "      <td>125.0</td>\n",
       "      <td>01/09/2023</td>\n",
       "      <td>https://cf.bstatic.com/xdata/images/hotel/squa...</td>\n",
       "      <td>N</td>\n",
       "      <td>N</td>\n",
       "      <td>N</td>\n",
       "      <td>N</td>\n",
       "      <td>N</td>\n",
       "      <td>N</td>\n",
       "      <td>N</td>\n",
       "      <td>Via Napoli 84, 90133, Palermo</td>\n",
       "      <td>(38.117480016368205, 13.360619970299581, 0.0)</td>\n",
       "      <td>38.11748</td>\n",
       "      <td>13.36062</td>\n",
       "      <td>0</td>\n",
       "      <td>https://www.booking.com/hotel/it/la-maison-del...</td>\n",
       "      <td>POINT (13.36062 38.11748)</td>\n",
       "      <td>125</td>\n",
       "      <td>1240332</td>\n",
       "      <td>3</td>\n",
       "      <td>IT</td>\n",
       "      <td>Italia</td>\n",
       "      <td>19</td>\n",
       "      <td>Sicilia</td>\n",
       "      <td>82</td>\n",
       "      <td>Palermo</td>\n",
       "      <td>82053</td>\n",
       "      <td>Palermo</td>\n",
       "    </tr>\n",
       "  </tbody>\n",
       "</table>\n",
       "</div>"
      ],
      "text/plain": [
       "                 name                              address  currentPrice  \\\n",
       "0  La Maison del Sole  84 via napoli, 90133 palermo, italy          84.0   \n",
       "\n",
       "   previousPrice  rating  reviewNumber checkingDate  \\\n",
       "0            NaN     9.4         125.0   01/09/2023   \n",
       "\n",
       "                                               image parking air_conditioning  \\\n",
       "0  https://cf.bstatic.com/xdata/images/hotel/squa...       N                N   \n",
       "\n",
       "  bathroom wifi breakfast coffee_tea_maker laundry  \\\n",
       "0        N    N         N                N       N   \n",
       "\n",
       "                        location  \\\n",
       "0  Via Napoli 84, 90133, Palermo   \n",
       "\n",
       "                                           point  latitude  longitude  \\\n",
       "0  (38.117480016368205, 13.360619970299581, 0.0)  38.11748   13.36062   \n",
       "\n",
       "   altitude                                          url_clean  \\\n",
       "0         0  https://www.booking.com/hotel/it/la-maison-del...   \n",
       "\n",
       "                    geometry  index_right  OBJECTID  nivel cod_Pais nom_Pais  \\\n",
       "0  POINT (13.36062 38.11748)          125   1240332      3       IT   Italia   \n",
       "\n",
       "   cod_Region nom_Region  cod_Provincia nom_Provincia  cod_Municipio  \\\n",
       "0          19    Sicilia             82       Palermo          82053   \n",
       "\n",
       "  nom_Municipio  \n",
       "0       Palermo  "
      ]
     },
     "execution_count": 80,
     "metadata": {},
     "output_type": "execute_result"
    }
   ],
   "source": [
    "df_booking = gpd.GeoDataFrame(df_booking, geometry=gpd.points_from_xy(df_booking.longitude, df_booking.latitude))\n",
    "df_booking.set_crs(\"EPSG:4326\", inplace = True)\n",
    "df_booking.head(1)"
   ]
  },
  {
   "cell_type": "code",
   "execution_count": 81,
   "metadata": {},
   "outputs": [
    {
     "data": {
      "text/html": [
       "<div>\n",
       "<style scoped>\n",
       "    .dataframe tbody tr th:only-of-type {\n",
       "        vertical-align: middle;\n",
       "    }\n",
       "\n",
       "    .dataframe tbody tr th {\n",
       "        vertical-align: top;\n",
       "    }\n",
       "\n",
       "    .dataframe thead th {\n",
       "        text-align: right;\n",
       "    }\n",
       "</style>\n",
       "<table border=\"1\" class=\"dataframe\">\n",
       "  <thead>\n",
       "    <tr style=\"text-align: right;\">\n",
       "      <th></th>\n",
       "      <th>osm_id</th>\n",
       "      <th>code</th>\n",
       "      <th>fclass</th>\n",
       "      <th>name</th>\n",
       "      <th>geometry</th>\n",
       "      <th>index_right</th>\n",
       "      <th>OBJECTID</th>\n",
       "      <th>nivel</th>\n",
       "      <th>cod_Pais</th>\n",
       "      <th>nom_Pais</th>\n",
       "      <th>cod_Region</th>\n",
       "      <th>nom_Region</th>\n",
       "      <th>cod_Provincia</th>\n",
       "      <th>nom_Provincia</th>\n",
       "      <th>cod_Municipio</th>\n",
       "      <th>nom_Municipio</th>\n",
       "      <th>Tipo</th>\n",
       "      <th>Subtipo</th>\n",
       "      <th>currenPrice</th>\n",
       "    </tr>\n",
       "  </thead>\n",
       "  <tbody>\n",
       "    <tr>\n",
       "      <th>0</th>\n",
       "      <td>26860774</td>\n",
       "      <td>2422</td>\n",
       "      <td>camp_site</td>\n",
       "      <td>Camping Biscione</td>\n",
       "      <td>POINT (12.47814 37.70137)</td>\n",
       "      <td>321</td>\n",
       "      <td>1241383</td>\n",
       "      <td>3</td>\n",
       "      <td>IT</td>\n",
       "      <td>Italia</td>\n",
       "      <td>19</td>\n",
       "      <td>Sicilia</td>\n",
       "      <td>81</td>\n",
       "      <td>Trapani</td>\n",
       "      <td>81024</td>\n",
       "      <td>Petrosino</td>\n",
       "      <td>Accommodation</td>\n",
       "      <td>Hospitality</td>\n",
       "      <td>100</td>\n",
       "    </tr>\n",
       "  </tbody>\n",
       "</table>\n",
       "</div>"
      ],
      "text/plain": [
       "     osm_id  code     fclass              name                   geometry  \\\n",
       "0  26860774  2422  camp_site  Camping Biscione  POINT (12.47814 37.70137)   \n",
       "\n",
       "   index_right  OBJECTID  nivel cod_Pais nom_Pais cod_Region nom_Region  \\\n",
       "0          321   1241383      3       IT   Italia         19    Sicilia   \n",
       "\n",
       "  cod_Provincia nom_Provincia cod_Municipio nom_Municipio           Tipo  \\\n",
       "0            81       Trapani         81024     Petrosino  Accommodation   \n",
       "\n",
       "       Subtipo  currenPrice  \n",
       "0  Hospitality          100  "
      ]
     },
     "execution_count": 81,
     "metadata": {},
     "output_type": "execute_result"
    }
   ],
   "source": [
    "df_pois_merge['currenPrice'] = 100\n",
    "df_pois_merge.head(1)"
   ]
  },
  {
   "cell_type": "code",
   "execution_count": 82,
   "metadata": {},
   "outputs": [
    {
     "data": {
      "text/html": [
       "<div>\n",
       "<style scoped>\n",
       "    .dataframe tbody tr th:only-of-type {\n",
       "        vertical-align: middle;\n",
       "    }\n",
       "\n",
       "    .dataframe tbody tr th {\n",
       "        vertical-align: top;\n",
       "    }\n",
       "\n",
       "    .dataframe thead th {\n",
       "        text-align: right;\n",
       "    }\n",
       "</style>\n",
       "<table border=\"1\" class=\"dataframe\">\n",
       "  <thead>\n",
       "    <tr style=\"text-align: right;\">\n",
       "      <th></th>\n",
       "      <th>name</th>\n",
       "      <th>currentPrice</th>\n",
       "      <th>checkingDate</th>\n",
       "      <th>geometry</th>\n",
       "      <th>index_right</th>\n",
       "      <th>OBJECTID</th>\n",
       "      <th>nivel</th>\n",
       "      <th>cod_Pais</th>\n",
       "      <th>nom_Pais</th>\n",
       "      <th>cod_Region</th>\n",
       "      <th>nom_Region</th>\n",
       "      <th>cod_Provincia</th>\n",
       "      <th>nom_Provincia</th>\n",
       "      <th>cod_Municipio</th>\n",
       "      <th>nom_Municipio</th>\n",
       "      <th>fclass</th>\n",
       "      <th>Tipo</th>\n",
       "      <th>Subtipo</th>\n",
       "    </tr>\n",
       "  </thead>\n",
       "  <tbody>\n",
       "    <tr>\n",
       "      <th>0</th>\n",
       "      <td>La Maison del Sole</td>\n",
       "      <td>84.0</td>\n",
       "      <td>01/09/2023</td>\n",
       "      <td>POINT (13.36062 38.11748)</td>\n",
       "      <td>125</td>\n",
       "      <td>1240332</td>\n",
       "      <td>3</td>\n",
       "      <td>IT</td>\n",
       "      <td>Italia</td>\n",
       "      <td>19</td>\n",
       "      <td>Sicilia</td>\n",
       "      <td>82</td>\n",
       "      <td>Palermo</td>\n",
       "      <td>82053</td>\n",
       "      <td>Palermo</td>\n",
       "      <td>hotel</td>\n",
       "      <td>Hotel</td>\n",
       "      <td>Hotel</td>\n",
       "    </tr>\n",
       "  </tbody>\n",
       "</table>\n",
       "</div>"
      ],
      "text/plain": [
       "                 name  currentPrice checkingDate                   geometry  \\\n",
       "0  La Maison del Sole          84.0   01/09/2023  POINT (13.36062 38.11748)   \n",
       "\n",
       "   index_right  OBJECTID  nivel cod_Pais nom_Pais  cod_Region nom_Region  \\\n",
       "0          125   1240332      3       IT   Italia          19    Sicilia   \n",
       "\n",
       "   cod_Provincia nom_Provincia  cod_Municipio nom_Municipio fclass   Tipo  \\\n",
       "0             82       Palermo          82053       Palermo  hotel  Hotel   \n",
       "\n",
       "  Subtipo  \n",
       "0   Hotel  "
      ]
     },
     "execution_count": 82,
     "metadata": {},
     "output_type": "execute_result"
    }
   ],
   "source": [
    "df_booking['fclass'] = 'hotel'\n",
    "df_booking['Tipo'] = 'Hotel'\n",
    "df_booking['Subtipo'] = 'Hotel'\n",
    "df_booking.drop(['address', 'previousPrice', 'rating', 'reviewNumber', 'image', 'parking', 'air_conditioning', 'bathroom', 'wifi', 'breakfast', 'coffee_tea_maker', 'laundry', 'location', 'point', \n",
    "                 'latitude', 'longitude', 'altitude', 'url_clean'], axis = 1, inplace = True)\n",
    "df_booking.head(1)"
   ]
  },
  {
   "cell_type": "code",
   "execution_count": 83,
   "metadata": {},
   "outputs": [
    {
     "name": "stdout",
     "output_type": "stream",
     "text": [
      "(45899, 21)\n"
     ]
    },
    {
     "data": {
      "text/html": [
       "<div>\n",
       "<style scoped>\n",
       "    .dataframe tbody tr th:only-of-type {\n",
       "        vertical-align: middle;\n",
       "    }\n",
       "\n",
       "    .dataframe tbody tr th {\n",
       "        vertical-align: top;\n",
       "    }\n",
       "\n",
       "    .dataframe thead th {\n",
       "        text-align: right;\n",
       "    }\n",
       "</style>\n",
       "<table border=\"1\" class=\"dataframe\">\n",
       "  <thead>\n",
       "    <tr style=\"text-align: right;\">\n",
       "      <th></th>\n",
       "      <th>osm_id</th>\n",
       "      <th>code</th>\n",
       "      <th>fclass</th>\n",
       "      <th>name</th>\n",
       "      <th>geometry</th>\n",
       "      <th>index_right</th>\n",
       "      <th>OBJECTID</th>\n",
       "      <th>nivel</th>\n",
       "      <th>cod_Pais</th>\n",
       "      <th>nom_Pais</th>\n",
       "      <th>cod_Region</th>\n",
       "      <th>nom_Region</th>\n",
       "      <th>cod_Provincia</th>\n",
       "      <th>nom_Provincia</th>\n",
       "      <th>cod_Municipio</th>\n",
       "      <th>nom_Municipio</th>\n",
       "      <th>Tipo</th>\n",
       "      <th>Subtipo</th>\n",
       "      <th>currenPrice</th>\n",
       "      <th>currentPrice</th>\n",
       "      <th>checkingDate</th>\n",
       "    </tr>\n",
       "  </thead>\n",
       "  <tbody>\n",
       "    <tr>\n",
       "      <th>0</th>\n",
       "      <td>26860774</td>\n",
       "      <td>2422.0</td>\n",
       "      <td>camp_site</td>\n",
       "      <td>Camping Biscione</td>\n",
       "      <td>POINT (12.47814 37.70137)</td>\n",
       "      <td>321</td>\n",
       "      <td>1241383</td>\n",
       "      <td>3</td>\n",
       "      <td>IT</td>\n",
       "      <td>Italia</td>\n",
       "      <td>19</td>\n",
       "      <td>Sicilia</td>\n",
       "      <td>81</td>\n",
       "      <td>Trapani</td>\n",
       "      <td>81024</td>\n",
       "      <td>Petrosino</td>\n",
       "      <td>Accommodation</td>\n",
       "      <td>Hospitality</td>\n",
       "      <td>100.0</td>\n",
       "      <td>NaN</td>\n",
       "      <td>NaN</td>\n",
       "    </tr>\n",
       "  </tbody>\n",
       "</table>\n",
       "</div>"
      ],
      "text/plain": [
       "     osm_id    code     fclass              name                   geometry  \\\n",
       "0  26860774  2422.0  camp_site  Camping Biscione  POINT (12.47814 37.70137)   \n",
       "\n",
       "   index_right  OBJECTID  nivel cod_Pais nom_Pais cod_Region nom_Region  \\\n",
       "0          321   1241383      3       IT   Italia         19    Sicilia   \n",
       "\n",
       "  cod_Provincia nom_Provincia cod_Municipio nom_Municipio           Tipo  \\\n",
       "0            81       Trapani         81024     Petrosino  Accommodation   \n",
       "\n",
       "       Subtipo  currenPrice  currentPrice checkingDate  \n",
       "0  Hospitality        100.0           NaN          NaN  "
      ]
     },
     "execution_count": 83,
     "metadata": {},
     "output_type": "execute_result"
    }
   ],
   "source": [
    "df_total = pd.concat([df_pois_merge, df_booking])\n",
    "print(df_total.shape)\n",
    "df_total.head(1)"
   ]
  },
  {
   "attachments": {},
   "cell_type": "markdown",
   "metadata": {},
   "source": [
    "export"
   ]
  },
  {
   "cell_type": "code",
   "execution_count": 84,
   "metadata": {},
   "outputs": [
    {
     "data": {
      "text/plain": [
       "name               object\n",
       "currentPrice      float64\n",
       "checkingDate       object\n",
       "geometry         geometry\n",
       "index_right         int64\n",
       "OBJECTID            int64\n",
       "nivel               int64\n",
       "cod_Pais           object\n",
       "nom_Pais           object\n",
       "cod_Region          int64\n",
       "nom_Region         object\n",
       "cod_Provincia       int64\n",
       "nom_Provincia      object\n",
       "cod_Municipio       int64\n",
       "nom_Municipio      object\n",
       "fclass             object\n",
       "Tipo               object\n",
       "Subtipo            object\n",
       "dtype: object"
      ]
     },
     "execution_count": 84,
     "metadata": {},
     "output_type": "execute_result"
    }
   ],
   "source": [
    "df_booking.dtypes"
   ]
  },
  {
   "cell_type": "code",
   "execution_count": 85,
   "metadata": {},
   "outputs": [
    {
     "data": {
      "text/plain": [
       "'e:\\\\Cursos\\\\00ironhack_DA\\\\00LABS\\\\vuelve-conmigo-a-italia\\\\data'"
      ]
     },
     "execution_count": 85,
     "metadata": {},
     "output_type": "execute_result"
    }
   ],
   "source": [
    "local_path = os.path.dirname(os.getcwd()) + f'\\\\data'\n",
    "local_path"
   ]
  },
  {
   "cell_type": "code",
   "execution_count": 86,
   "metadata": {},
   "outputs": [
    {
     "data": {
      "text/html": [
       "<div>\n",
       "<style scoped>\n",
       "    .dataframe tbody tr th:only-of-type {\n",
       "        vertical-align: middle;\n",
       "    }\n",
       "\n",
       "    .dataframe tbody tr th {\n",
       "        vertical-align: top;\n",
       "    }\n",
       "\n",
       "    .dataframe thead th {\n",
       "        text-align: right;\n",
       "    }\n",
       "</style>\n",
       "<table border=\"1\" class=\"dataframe\">\n",
       "  <thead>\n",
       "    <tr style=\"text-align: right;\">\n",
       "      <th></th>\n",
       "      <th>osm_id</th>\n",
       "      <th>code</th>\n",
       "      <th>fclass</th>\n",
       "      <th>name</th>\n",
       "      <th>geometry</th>\n",
       "      <th>index_right</th>\n",
       "      <th>OBJECTID</th>\n",
       "      <th>nivel</th>\n",
       "      <th>cod_Pais</th>\n",
       "      <th>nom_Pais</th>\n",
       "      <th>cod_Region</th>\n",
       "      <th>nom_Region</th>\n",
       "      <th>cod_Provincia</th>\n",
       "      <th>nom_Provincia</th>\n",
       "      <th>cod_Municipio</th>\n",
       "      <th>nom_Municipio</th>\n",
       "      <th>Tipo</th>\n",
       "      <th>Subtipo</th>\n",
       "      <th>currenPrice</th>\n",
       "      <th>currentPrice</th>\n",
       "      <th>checkingDate</th>\n",
       "      <th>lon</th>\n",
       "      <th>lat</th>\n",
       "    </tr>\n",
       "  </thead>\n",
       "  <tbody>\n",
       "    <tr>\n",
       "      <th>0</th>\n",
       "      <td>26860774</td>\n",
       "      <td>2422.0</td>\n",
       "      <td>camp_site</td>\n",
       "      <td>Camping Biscione</td>\n",
       "      <td>POINT (12.47814 37.70137)</td>\n",
       "      <td>321</td>\n",
       "      <td>1241383</td>\n",
       "      <td>3</td>\n",
       "      <td>IT</td>\n",
       "      <td>Italia</td>\n",
       "      <td>19</td>\n",
       "      <td>Sicilia</td>\n",
       "      <td>81</td>\n",
       "      <td>Trapani</td>\n",
       "      <td>81024</td>\n",
       "      <td>Petrosino</td>\n",
       "      <td>Accommodation</td>\n",
       "      <td>Hospitality</td>\n",
       "      <td>100.0</td>\n",
       "      <td>NaN</td>\n",
       "      <td>NaN</td>\n",
       "      <td>12.478139</td>\n",
       "      <td>37.701373</td>\n",
       "    </tr>\n",
       "  </tbody>\n",
       "</table>\n",
       "</div>"
      ],
      "text/plain": [
       "     osm_id    code     fclass              name                   geometry  \\\n",
       "0  26860774  2422.0  camp_site  Camping Biscione  POINT (12.47814 37.70137)   \n",
       "\n",
       "   index_right  OBJECTID  nivel cod_Pais nom_Pais cod_Region nom_Region  \\\n",
       "0          321   1241383      3       IT   Italia         19    Sicilia   \n",
       "\n",
       "  cod_Provincia nom_Provincia cod_Municipio nom_Municipio           Tipo  \\\n",
       "0            81       Trapani         81024     Petrosino  Accommodation   \n",
       "\n",
       "       Subtipo  currenPrice  currentPrice checkingDate        lon        lat  \n",
       "0  Hospitality        100.0           NaN          NaN  12.478139  37.701373  "
      ]
     },
     "execution_count": 86,
     "metadata": {},
     "output_type": "execute_result"
    }
   ],
   "source": [
    "df_total['lon'] = df_total.geometry.apply(lambda p: p.x)\n",
    "df_total['lat'] = df_total.geometry.apply(lambda p: p.y)\n",
    "df_total.head(1)"
   ]
  },
  {
   "cell_type": "code",
   "execution_count": 87,
   "metadata": {},
   "outputs": [],
   "source": [
    "df_total.to_file(f'{local_path}\\\\df_pois.geojson', driver='GeoJSON')  "
   ]
  },
  {
   "cell_type": "code",
   "execution_count": null,
   "metadata": {},
   "outputs": [
    {
     "data": {
      "text/html": [
       "<div>\n",
       "<style scoped>\n",
       "    .dataframe tbody tr th:only-of-type {\n",
       "        vertical-align: middle;\n",
       "    }\n",
       "\n",
       "    .dataframe tbody tr th {\n",
       "        vertical-align: top;\n",
       "    }\n",
       "\n",
       "    .dataframe thead th {\n",
       "        text-align: right;\n",
       "    }\n",
       "</style>\n",
       "<table border=\"1\" class=\"dataframe\">\n",
       "  <thead>\n",
       "    <tr style=\"text-align: right;\">\n",
       "      <th></th>\n",
       "      <th>osm_id</th>\n",
       "      <th>code</th>\n",
       "      <th>fclass</th>\n",
       "      <th>name</th>\n",
       "      <th>geometry</th>\n",
       "      <th>index_right</th>\n",
       "      <th>OBJECTID</th>\n",
       "      <th>nivel</th>\n",
       "      <th>cod_Pais</th>\n",
       "      <th>nom_Pais</th>\n",
       "      <th>cod_Region</th>\n",
       "      <th>nom_Region</th>\n",
       "      <th>cod_Provincia</th>\n",
       "      <th>nom_Provincia</th>\n",
       "      <th>cod_Municipio</th>\n",
       "      <th>nom_Municipio</th>\n",
       "      <th>Tipo</th>\n",
       "      <th>Subtipo</th>\n",
       "      <th>currentPrice</th>\n",
       "      <th>lon</th>\n",
       "      <th>lat</th>\n",
       "    </tr>\n",
       "  </thead>\n",
       "  <tbody>\n",
       "    <tr>\n",
       "      <th>0</th>\n",
       "      <td>26860774</td>\n",
       "      <td>2422.0</td>\n",
       "      <td>camp_site</td>\n",
       "      <td>Camping Biscione</td>\n",
       "      <td>POINT (12.47814 37.70137)</td>\n",
       "      <td>321</td>\n",
       "      <td>1241383</td>\n",
       "      <td>3</td>\n",
       "      <td>IT</td>\n",
       "      <td>Italia</td>\n",
       "      <td>19</td>\n",
       "      <td>Sicilia</td>\n",
       "      <td>81</td>\n",
       "      <td>Trapani</td>\n",
       "      <td>81024</td>\n",
       "      <td>Petrosino</td>\n",
       "      <td>Accommodation</td>\n",
       "      <td>Hospitality</td>\n",
       "      <td>NaN</td>\n",
       "      <td>12.478139</td>\n",
       "      <td>37.701373</td>\n",
       "    </tr>\n",
       "  </tbody>\n",
       "</table>\n",
       "</div>"
      ],
      "text/plain": [
       "     osm_id    code     fclass              name                   geometry  \\\n",
       "0  26860774  2422.0  camp_site  Camping Biscione  POINT (12.47814 37.70137)   \n",
       "\n",
       "   index_right  OBJECTID  nivel cod_Pais nom_Pais cod_Region nom_Region  \\\n",
       "0          321   1241383      3       IT   Italia         19    Sicilia   \n",
       "\n",
       "  cod_Provincia nom_Provincia cod_Municipio nom_Municipio           Tipo  \\\n",
       "0            81       Trapani         81024     Petrosino  Accommodation   \n",
       "\n",
       "       Subtipo  currentPrice        lon        lat  \n",
       "0  Hospitality           NaN  12.478139  37.701373  "
      ]
     },
     "execution_count": 71,
     "metadata": {},
     "output_type": "execute_result"
    }
   ],
   "source": [
    "df_total.head(1)"
   ]
  },
  {
   "cell_type": "code",
   "execution_count": null,
   "metadata": {},
   "outputs": [
    {
     "data": {
      "text/plain": [
       "70.0     262\n",
       "90.0     244\n",
       "85.0     233\n",
       "80.0     225\n",
       "60.0     201\n",
       "        ... \n",
       "342.0      1\n",
       "324.0      1\n",
       "327.0      1\n",
       "520.0      1\n",
       "331.0      1\n",
       "Name: currentPrice, Length: 358, dtype: int64"
      ]
     },
     "execution_count": 74,
     "metadata": {},
     "output_type": "execute_result"
    }
   ],
   "source": [
    "df_total['currentPrice'].value_counts()"
   ]
  },
  {
   "cell_type": "code",
   "execution_count": null,
   "metadata": {},
   "outputs": [],
   "source": [
    "df_total.to_csv(f'{local_path}//pois.csv', encoding='utf-8', sep='|', decimal='.', index=False)"
   ]
  },
  {
   "cell_type": "code",
   "execution_count": null,
   "metadata": {},
   "outputs": [
    {
     "name": "stdout",
     "output_type": "stream",
     "text": [
      "(45899, 21)\n"
     ]
    },
    {
     "name": "stderr",
     "output_type": "stream",
     "text": [
      "c:\\Users\\annas\\anaconda3\\envs\\iron\\lib\\site-packages\\geopandas\\geodataframe.py:1415: UserWarning: Boolean Series key will be reindexed to match DataFrame index.\n",
      "  result = super().__getitem__(key)\n"
     ]
    }
   ],
   "source": [
    "print(df_total[df_pois_merge['nom_Region'] == 'Sicilia'].shape)"
   ]
  }
 ],
 "metadata": {
  "kernelspec": {
   "display_name": "iron",
   "language": "python",
   "name": "python3"
  },
  "language_info": {
   "codemirror_mode": {
    "name": "ipython",
    "version": 3
   },
   "file_extension": ".py",
   "mimetype": "text/x-python",
   "name": "python",
   "nbconvert_exporter": "python",
   "pygments_lexer": "ipython3",
   "version": "3.9.13"
  },
  "orig_nbformat": 4,
  "vscode": {
   "interpreter": {
    "hash": "e59d0b279e6461be5b4ea7b62838527cd8f41f3cbc9a1147b1a83b32d75ab689"
   }
  }
 },
 "nbformat": 4,
 "nbformat_minor": 2
}
