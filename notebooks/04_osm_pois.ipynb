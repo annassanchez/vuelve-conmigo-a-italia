{
 "cells": [
  {
   "cell_type": "code",
   "execution_count": 1,
   "metadata": {},
   "outputs": [],
   "source": [
    "import geopandas as gpd\n",
    "import requests\n",
    "import zipfile\n",
    "import io\n",
    "import matplotlib.pyplot as plt\n",
    "import os\n",
    "import fiona\n",
    "import pandas as pd\n",
    "import sys\n",
    "#%matplotlib inline  # jupyter \"magic\" to display plots in notebook\n",
    "pd.set_option('mode.chained_assignment', None)\n",
    "import numpy as np\n",
    "from bs4 import BeautifulSoup\n",
    "import re\n",
    "pd.options.display.max_columns = None\n",
    "pd.options.mode.chained_assignment = None  # default='warn'\n",
    "from geojson import Point, Feature, FeatureCollection, dump\n",
    "\n",
    "import sys\n",
    "sys.path.append(\"../\")\n",
    "import src.soporteScrapping as scr"
   ]
  },
  {
   "attachments": {},
   "cell_type": "markdown",
   "metadata": {},
   "source": [
    "parameters"
   ]
  },
  {
   "cell_type": "code",
   "execution_count": 2,
   "metadata": {},
   "outputs": [],
   "source": [
    "url = 'https://download.geofabrik.de/europe/italy/'\n",
    "country = 'IT'\n",
    "country_clean = 'IT'"
   ]
  },
  {
   "attachments": {},
   "cell_type": "markdown",
   "metadata": {},
   "source": [
    "get links"
   ]
  },
  {
   "cell_type": "code",
   "execution_count": 3,
   "metadata": {},
   "outputs": [
    {
     "name": "stdout",
     "output_type": "stream",
     "text": [
      "200\n"
     ]
    },
    {
     "data": {
      "text/plain": [
       "['https://download.geofabrik.de/europe/italy/centro-latest-free.shp.zip',\n",
       " 'https://download.geofabrik.de/europe/italy/isole-latest-free.shp.zip',\n",
       " 'https://download.geofabrik.de/europe/italy/nord-est-latest-free.shp.zip',\n",
       " 'https://download.geofabrik.de/europe/italy/nord-ovest-latest-free.shp.zip',\n",
       " 'https://download.geofabrik.de/europe/italy/sud-latest-free.shp.zip']"
      ]
     },
     "execution_count": 3,
     "metadata": {},
     "output_type": "execute_result"
    }
   ],
   "source": [
    "links,flattened = scr.getLinks(url)\n",
    "links"
   ]
  },
  {
   "cell_type": "code",
   "execution_count": 4,
   "metadata": {},
   "outputs": [
    {
     "data": {
      "text/plain": [
       "['centro-latest-free.shp.zip',\n",
       " 'isole-latest-free.shp.zip',\n",
       " 'nord-est-latest-free.shp.zip',\n",
       " 'nord-ovest-latest-free.shp.zip',\n",
       " 'sud-latest-free.shp.zip']"
      ]
     },
     "execution_count": 4,
     "metadata": {},
     "output_type": "execute_result"
    }
   ],
   "source": [
    "flattened"
   ]
  },
  {
   "attachments": {},
   "cell_type": "markdown",
   "metadata": {},
   "source": [
    "data conversion table input"
   ]
  },
  {
   "cell_type": "code",
   "execution_count": 5,
   "metadata": {},
   "outputs": [],
   "source": [
    "ruta = os.path.dirname(os.getcwd()) + '\\\\data'"
   ]
  },
  {
   "cell_type": "code",
   "execution_count": 6,
   "metadata": {},
   "outputs": [
    {
     "name": "stderr",
     "output_type": "stream",
     "text": [
      "c:\\Users\\annas\\anaconda3\\envs\\iron\\lib\\site-packages\\openpyxl\\worksheet\\header_footer.py:48: UserWarning: Cannot parse header or footer so it will be ignored\n",
      "  warn(\"\"\"Cannot parse header or footer so it will be ignored\"\"\")\n"
     ]
    },
    {
     "data": {
      "text/html": [
       "<div>\n",
       "<style scoped>\n",
       "    .dataframe tbody tr th:only-of-type {\n",
       "        vertical-align: middle;\n",
       "    }\n",
       "\n",
       "    .dataframe tbody tr th {\n",
       "        vertical-align: top;\n",
       "    }\n",
       "\n",
       "    .dataframe thead th {\n",
       "        text-align: right;\n",
       "    }\n",
       "</style>\n",
       "<table border=\"1\" class=\"dataframe\">\n",
       "  <thead>\n",
       "    <tr style=\"text-align: right;\">\n",
       "      <th></th>\n",
       "      <th>Tipo</th>\n",
       "      <th>Subtipo</th>\n",
       "      <th>fclass</th>\n",
       "    </tr>\n",
       "  </thead>\n",
       "  <tbody>\n",
       "    <tr>\n",
       "      <th>0</th>\n",
       "      <td>Accommodation</td>\n",
       "      <td>Hospitality</td>\n",
       "      <td>alpine_hut</td>\n",
       "    </tr>\n",
       "    <tr>\n",
       "      <th>1</th>\n",
       "      <td>Accommodation</td>\n",
       "      <td>Hospitality</td>\n",
       "      <td>camp_site</td>\n",
       "    </tr>\n",
       "    <tr>\n",
       "      <th>2</th>\n",
       "      <td>Accommodation</td>\n",
       "      <td>Hospitality</td>\n",
       "      <td>chalet</td>\n",
       "    </tr>\n",
       "    <tr>\n",
       "      <th>3</th>\n",
       "      <td>Accommodation</td>\n",
       "      <td>Hospitality</td>\n",
       "      <td>guesthouse</td>\n",
       "    </tr>\n",
       "    <tr>\n",
       "      <th>4</th>\n",
       "      <td>Accommodation</td>\n",
       "      <td>Hospitality</td>\n",
       "      <td>hostel</td>\n",
       "    </tr>\n",
       "  </tbody>\n",
       "</table>\n",
       "</div>"
      ],
      "text/plain": [
       "            Tipo      Subtipo      fclass\n",
       "0  Accommodation  Hospitality  alpine_hut\n",
       "1  Accommodation  Hospitality   camp_site\n",
       "2  Accommodation  Hospitality      chalet\n",
       "3  Accommodation  Hospitality  guesthouse\n",
       "4  Accommodation  Hospitality      hostel"
      ]
     },
     "execution_count": 6,
     "metadata": {},
     "output_type": "execute_result"
    }
   ],
   "source": [
    "inPOIS = pd.ExcelFile(f'{ruta}\\\\POIS_Classification' + '.xlsx')\n",
    "sheets_list = inPOIS.sheet_names[0]\n",
    "POIS = pd.read_excel(inPOIS, sheet_name = sheets_list)\n",
    "POIS.rename({'Tipo2':'Subtipo', 'Subtipo':'fclass'}, axis = 1, inplace=True)\n",
    "POIS.head()"
   ]
  },
  {
   "attachments": {},
   "cell_type": "markdown",
   "metadata": {},
   "source": [
    "downloading shapefile"
   ]
  },
  {
   "cell_type": "code",
   "execution_count": 7,
   "metadata": {},
   "outputs": [
    {
     "name": "stdout",
     "output_type": "stream",
     "text": [
      "Downloading shapefile...\n",
      "Done with https://download.geofabrik.de/europe/italy/centro-latest-free.shp.zip\n",
      "Done with https://download.geofabrik.de/europe/italy/isole-latest-free.shp.zip\n",
      "Done with https://download.geofabrik.de/europe/italy/nord-est-latest-free.shp.zip\n",
      "Done with https://download.geofabrik.de/europe/italy/nord-ovest-latest-free.shp.zip\n",
      "Done with https://download.geofabrik.de/europe/italy/sud-latest-free.shp.zip\n",
      "['gis_osm_buildings_a_free_1.cpg', 'gis_osm_buildings_a_free_1.dbf', 'gis_osm_buildings_a_free_1.prj', 'gis_osm_buildings_a_free_1.shp', 'gis_osm_buildings_a_free_1.shx', 'gis_osm_landuse_a_free_1.cpg', 'gis_osm_landuse_a_free_1.dbf', 'gis_osm_landuse_a_free_1.prj', 'gis_osm_landuse_a_free_1.shp', 'gis_osm_landuse_a_free_1.shx']\n"
     ]
    }
   ],
   "source": [
    "print('Downloading shapefile...')\n",
    "patron = r'(.*).shp.zip'\n",
    "for link, flat in zip(links, flattened):\n",
    "    local_path = os.path.dirname(os.getcwd()) + f'\\\\data\\\\tmpOSM_{country}'\n",
    "    r = requests.get(link)\n",
    "    z = zipfile.ZipFile(io.BytesIO(r.content), mode='a')\n",
    "    folder = re.findall(patron, flat)\n",
    "    os.mkdir(os.path.join(local_path, folder[0]))\n",
    "    z.extractall(path=(local_path + '//'+ folder[0])) # extract to folder\n",
    "    print(f\"Done with {link}\")\n",
    "filenames = [y for y in sorted(z.namelist()) for starting in ['gis_osm_landuse_a_free_1', 'gis_osm_buildings_a_free_1'] if y.startswith(starting)] \n",
    "print(filenames)"
   ]
  },
  {
   "attachments": {},
   "cell_type": "markdown",
   "metadata": {},
   "source": [
    "POIs"
   ]
  },
  {
   "cell_type": "code",
   "execution_count": 8,
   "metadata": {},
   "outputs": [],
   "source": [
    "local_path = os.path.dirname(os.getcwd()) + f'\\\\data\\\\tmpOSM_{country}'"
   ]
  },
  {
   "cell_type": "code",
   "execution_count": 9,
   "metadata": {},
   "outputs": [
    {
     "name": "stdout",
     "output_type": "stream",
     "text": [
      "gis_osm_pois_free_1.shp e:\\Cursos\\00ironhack_DA\\00LABS\\vuelve-conmigo-a-italia\\data\\tmpOSM_IT\\centro-latest-free\n",
      "gis_osm_pois_free_1.shp e:\\Cursos\\00ironhack_DA\\00LABS\\vuelve-conmigo-a-italia\\data\\tmpOSM_IT\\isole-latest-free\n",
      "gis_osm_pois_free_1.shp e:\\Cursos\\00ironhack_DA\\00LABS\\vuelve-conmigo-a-italia\\data\\tmpOSM_IT\\nord-est-latest-free\n",
      "gis_osm_pois_free_1.shp e:\\Cursos\\00ironhack_DA\\00LABS\\vuelve-conmigo-a-italia\\data\\tmpOSM_IT\\nord-ovest-latest-free\n",
      "gis_osm_pois_free_1.shp e:\\Cursos\\00ironhack_DA\\00LABS\\vuelve-conmigo-a-italia\\data\\tmpOSM_IT\\sud-latest-free\n"
     ]
    }
   ],
   "source": [
    "alldf_pois = []\n",
    "for subdir, dirs, files in os.walk(local_path):\n",
    "    #global alldf_landuse\n",
    "    for file in files:\n",
    "        #print(file)\n",
    "        if file.startswith('gis_osm_pois_free_1.shp'):\n",
    "            print(file, subdir)\n",
    "            df_pois = gpd.read_file(subdir + '\\\\' + 'gis_osm_pois_free_1' + '.shp')\n",
    "            alldf_pois.append(df_pois)"
   ]
  },
  {
   "cell_type": "code",
   "execution_count": 13,
   "metadata": {},
   "outputs": [],
   "source": [
    "df_pois = pd.concat([(alldf_pois[n]) for n in list(range(len(alldf_pois)))])"
   ]
  },
  {
   "cell_type": "code",
   "execution_count": 14,
   "metadata": {},
   "outputs": [
    {
     "name": "stdout",
     "output_type": "stream",
     "text": [
      "(727951, 5)\n"
     ]
    },
    {
     "data": {
      "text/html": [
       "<div>\n",
       "<style scoped>\n",
       "    .dataframe tbody tr th:only-of-type {\n",
       "        vertical-align: middle;\n",
       "    }\n",
       "\n",
       "    .dataframe tbody tr th {\n",
       "        vertical-align: top;\n",
       "    }\n",
       "\n",
       "    .dataframe thead th {\n",
       "        text-align: right;\n",
       "    }\n",
       "</style>\n",
       "<table border=\"1\" class=\"dataframe\">\n",
       "  <thead>\n",
       "    <tr style=\"text-align: right;\">\n",
       "      <th></th>\n",
       "      <th>osm_id</th>\n",
       "      <th>code</th>\n",
       "      <th>fclass</th>\n",
       "      <th>name</th>\n",
       "      <th>geometry</th>\n",
       "    </tr>\n",
       "  </thead>\n",
       "  <tbody>\n",
       "    <tr>\n",
       "      <th>0</th>\n",
       "      <td>21027591</td>\n",
       "      <td>2733</td>\n",
       "      <td>archaeological</td>\n",
       "      <td>Via cava del Cavone</td>\n",
       "      <td>POINT (11.63634 42.66276)</td>\n",
       "    </tr>\n",
       "    <tr>\n",
       "      <th>1</th>\n",
       "      <td>26859360</td>\n",
       "      <td>2422</td>\n",
       "      <td>camp_site</td>\n",
       "      <td>Albinia</td>\n",
       "      <td>POINT (10.52806 43.01722)</td>\n",
       "    </tr>\n",
       "    <tr>\n",
       "      <th>2</th>\n",
       "      <td>26859373</td>\n",
       "      <td>2422</td>\n",
       "      <td>camp_site</td>\n",
       "      <td>Argentario Camping Village</td>\n",
       "      <td>POINT (11.19245 42.49649)</td>\n",
       "    </tr>\n",
       "    <tr>\n",
       "      <th>3</th>\n",
       "      <td>26859377</td>\n",
       "      <td>2422</td>\n",
       "      <td>camp_site</td>\n",
       "      <td>Camping Village Assisi</td>\n",
       "      <td>POINT (12.57420 43.07560)</td>\n",
       "    </tr>\n",
       "    <tr>\n",
       "      <th>4</th>\n",
       "      <td>26859385</td>\n",
       "      <td>2422</td>\n",
       "      <td>camp_site</td>\n",
       "      <td>Badiaccia</td>\n",
       "      <td>POINT (12.01639 43.18028)</td>\n",
       "    </tr>\n",
       "  </tbody>\n",
       "</table>\n",
       "</div>"
      ],
      "text/plain": [
       "     osm_id  code          fclass                        name  \\\n",
       "0  21027591  2733  archaeological         Via cava del Cavone   \n",
       "1  26859360  2422       camp_site                     Albinia   \n",
       "2  26859373  2422       camp_site  Argentario Camping Village   \n",
       "3  26859377  2422       camp_site      Camping Village Assisi   \n",
       "4  26859385  2422       camp_site                   Badiaccia   \n",
       "\n",
       "                    geometry  \n",
       "0  POINT (11.63634 42.66276)  \n",
       "1  POINT (10.52806 43.01722)  \n",
       "2  POINT (11.19245 42.49649)  \n",
       "3  POINT (12.57420 43.07560)  \n",
       "4  POINT (12.01639 43.18028)  "
      ]
     },
     "execution_count": 14,
     "metadata": {},
     "output_type": "execute_result"
    }
   ],
   "source": [
    "print(df_pois.shape)\n",
    "df_pois.head()"
   ]
  },
  {
   "attachments": {},
   "cell_type": "markdown",
   "metadata": {},
   "source": [
    "reproject"
   ]
  },
  {
   "cell_type": "code",
   "execution_count": 17,
   "metadata": {},
   "outputs": [
    {
     "data": {
      "text/plain": [
       "<Geographic 2D CRS: GEOGCS[\"WGS 84\",DATUM[\"WGS_1984\",SPHEROID[\"WGS 84\" ...>\n",
       "Name: WGS 84\n",
       "Axis Info [ellipsoidal]:\n",
       "- lon[east]: Longitude (Degree)\n",
       "- lat[north]: Latitude (Degree)\n",
       "Area of Use:\n",
       "- undefined\n",
       "Datum: World Geodetic System 1984\n",
       "- Ellipsoid: WGS 84\n",
       "- Prime Meridian: Greenwich"
      ]
     },
     "execution_count": 17,
     "metadata": {},
     "output_type": "execute_result"
    }
   ],
   "source": [
    "df_pois.crs ## tiene que estar en WGS 84"
   ]
  },
  {
   "cell_type": "code",
   "execution_count": 25,
   "metadata": {},
   "outputs": [],
   "source": [
    "df_pois.to_crs(\"EPSG:4326\", inplace=True)"
   ]
  },
  {
   "cell_type": "code",
   "execution_count": 19,
   "metadata": {},
   "outputs": [
    {
     "data": {
      "text/plain": [
       "<Geographic 2D CRS: GEOGCS[\"WGS 84\",DATUM[\"WGS_1984\",SPHEROID[\"WGS 84\" ...>\n",
       "Name: WGS 84\n",
       "Axis Info [ellipsoidal]:\n",
       "- lon[east]: Longitude (Degree)\n",
       "- lat[north]: Latitude (Degree)\n",
       "Area of Use:\n",
       "- undefined\n",
       "Datum: World Geodetic System 1984\n",
       "- Ellipsoid: WGS 84\n",
       "- Prime Meridian: Greenwich"
      ]
     },
     "execution_count": 19,
     "metadata": {},
     "output_type": "execute_result"
    }
   ],
   "source": [
    "df_pois.crs ## tiene que estar en WGS 84"
   ]
  },
  {
   "attachments": {},
   "cell_type": "markdown",
   "metadata": {},
   "source": [
    "spatial join geoLevels"
   ]
  },
  {
   "cell_type": "code",
   "execution_count": 24,
   "metadata": {},
   "outputs": [],
   "source": [
    "GeoLevels_IT_03 = gpd.read_file(ruta + '\\\\' + 'GeoLevels_IT_03.geojson')\n",
    "GeoLevels_IT_03.to_crs(\"EPSG:4326\", inplace = True)"
   ]
  },
  {
   "cell_type": "code",
   "execution_count": 26,
   "metadata": {},
   "outputs": [
    {
     "name": "stdout",
     "output_type": "stream",
     "text": [
      "(717159, 16)\n"
     ]
    },
    {
     "data": {
      "text/html": [
       "<div>\n",
       "<style scoped>\n",
       "    .dataframe tbody tr th:only-of-type {\n",
       "        vertical-align: middle;\n",
       "    }\n",
       "\n",
       "    .dataframe tbody tr th {\n",
       "        vertical-align: top;\n",
       "    }\n",
       "\n",
       "    .dataframe thead th {\n",
       "        text-align: right;\n",
       "    }\n",
       "</style>\n",
       "<table border=\"1\" class=\"dataframe\">\n",
       "  <thead>\n",
       "    <tr style=\"text-align: right;\">\n",
       "      <th></th>\n",
       "      <th>osm_id</th>\n",
       "      <th>code</th>\n",
       "      <th>fclass</th>\n",
       "      <th>name</th>\n",
       "      <th>geometry</th>\n",
       "      <th>index_right</th>\n",
       "      <th>OBJECTID</th>\n",
       "      <th>nivel</th>\n",
       "      <th>cod_Pais</th>\n",
       "      <th>nom_Pais</th>\n",
       "      <th>cod_Region</th>\n",
       "      <th>nom_Region</th>\n",
       "      <th>cod_Provincia</th>\n",
       "      <th>nom_Provincia</th>\n",
       "      <th>cod_Municipio</th>\n",
       "      <th>nom_Municipio</th>\n",
       "    </tr>\n",
       "  </thead>\n",
       "  <tbody>\n",
       "    <tr>\n",
       "      <th>0</th>\n",
       "      <td>21027591</td>\n",
       "      <td>2733</td>\n",
       "      <td>archaeological</td>\n",
       "      <td>Via cava del Cavone</td>\n",
       "      <td>POINT (11.63634 42.66276)</td>\n",
       "      <td>4078</td>\n",
       "      <td>1238525</td>\n",
       "      <td>3</td>\n",
       "      <td>IT</td>\n",
       "      <td>Italia</td>\n",
       "      <td>9</td>\n",
       "      <td>Toscana</td>\n",
       "      <td>53</td>\n",
       "      <td>Grosseto</td>\n",
       "      <td>53026</td>\n",
       "      <td>Sorano</td>\n",
       "    </tr>\n",
       "  </tbody>\n",
       "</table>\n",
       "</div>"
      ],
      "text/plain": [
       "     osm_id  code          fclass                 name  \\\n",
       "0  21027591  2733  archaeological  Via cava del Cavone   \n",
       "\n",
       "                    geometry  index_right  OBJECTID  nivel cod_Pais nom_Pais  \\\n",
       "0  POINT (11.63634 42.66276)         4078   1238525      3       IT   Italia   \n",
       "\n",
       "  cod_Region nom_Region cod_Provincia nom_Provincia cod_Municipio  \\\n",
       "0          9    Toscana            53      Grosseto         53026   \n",
       "\n",
       "  nom_Municipio  \n",
       "0        Sorano  "
      ]
     },
     "execution_count": 26,
     "metadata": {},
     "output_type": "execute_result"
    }
   ],
   "source": [
    "df_pois_merge = df_pois.sjoin(GeoLevels_IT_03, how=\"inner\")\n",
    "print(df_pois_merge.shape)\n",
    "df_pois_merge.head(1)"
   ]
  },
  {
   "cell_type": "markdown",
   "metadata": {},
   "source": [
    "merge with equivalence table"
   ]
  },
  {
   "cell_type": "code",
   "execution_count": 27,
   "metadata": {},
   "outputs": [
    {
     "data": {
      "text/html": [
       "<div>\n",
       "<style scoped>\n",
       "    .dataframe tbody tr th:only-of-type {\n",
       "        vertical-align: middle;\n",
       "    }\n",
       "\n",
       "    .dataframe tbody tr th {\n",
       "        vertical-align: top;\n",
       "    }\n",
       "\n",
       "    .dataframe thead th {\n",
       "        text-align: right;\n",
       "    }\n",
       "</style>\n",
       "<table border=\"1\" class=\"dataframe\">\n",
       "  <thead>\n",
       "    <tr style=\"text-align: right;\">\n",
       "      <th></th>\n",
       "      <th>Tipo</th>\n",
       "      <th>Subtipo</th>\n",
       "      <th>fclass</th>\n",
       "    </tr>\n",
       "  </thead>\n",
       "  <tbody>\n",
       "    <tr>\n",
       "      <th>0</th>\n",
       "      <td>Accommodation</td>\n",
       "      <td>Hospitality</td>\n",
       "      <td>alpine_hut</td>\n",
       "    </tr>\n",
       "    <tr>\n",
       "      <th>1</th>\n",
       "      <td>Accommodation</td>\n",
       "      <td>Hospitality</td>\n",
       "      <td>camp_site</td>\n",
       "    </tr>\n",
       "    <tr>\n",
       "      <th>2</th>\n",
       "      <td>Accommodation</td>\n",
       "      <td>Hospitality</td>\n",
       "      <td>chalet</td>\n",
       "    </tr>\n",
       "    <tr>\n",
       "      <th>3</th>\n",
       "      <td>Accommodation</td>\n",
       "      <td>Hospitality</td>\n",
       "      <td>guesthouse</td>\n",
       "    </tr>\n",
       "    <tr>\n",
       "      <th>4</th>\n",
       "      <td>Accommodation</td>\n",
       "      <td>Hospitality</td>\n",
       "      <td>hostel</td>\n",
       "    </tr>\n",
       "  </tbody>\n",
       "</table>\n",
       "</div>"
      ],
      "text/plain": [
       "            Tipo      Subtipo      fclass\n",
       "0  Accommodation  Hospitality  alpine_hut\n",
       "1  Accommodation  Hospitality   camp_site\n",
       "2  Accommodation  Hospitality      chalet\n",
       "3  Accommodation  Hospitality  guesthouse\n",
       "4  Accommodation  Hospitality      hostel"
      ]
     },
     "execution_count": 27,
     "metadata": {},
     "output_type": "execute_result"
    }
   ],
   "source": [
    "POIS.head()"
   ]
  },
  {
   "cell_type": "code",
   "execution_count": 28,
   "metadata": {},
   "outputs": [
    {
     "data": {
      "text/plain": [
       "both          717158\n",
       "left_only          1\n",
       "right_only         0\n",
       "Name: _merge, dtype: int64"
      ]
     },
     "execution_count": 28,
     "metadata": {},
     "output_type": "execute_result"
    }
   ],
   "source": [
    "df_pois_merge = df_pois_merge.merge(POIS, on ='fclass', how = 'left', indicator = True)\n",
    "df_pois_merge['_merge'].value_counts()"
   ]
  },
  {
   "cell_type": "code",
   "execution_count": 30,
   "metadata": {},
   "outputs": [
    {
     "name": "stdout",
     "output_type": "stream",
     "text": [
      "<class 'geopandas.geodataframe.GeoDataFrame'>\n",
      "Int64Index: 717159 entries, 0 to 717158\n",
      "Data columns (total 19 columns):\n",
      " #   Column         Non-Null Count   Dtype   \n",
      "---  ------         --------------   -----   \n",
      " 0   osm_id         717159 non-null  object  \n",
      " 1   code           717159 non-null  int64   \n",
      " 2   fclass         717159 non-null  object  \n",
      " 3   name           330894 non-null  object  \n",
      " 4   geometry       717159 non-null  geometry\n",
      " 5   index_right    717159 non-null  int64   \n",
      " 6   OBJECTID       717159 non-null  int64   \n",
      " 7   nivel          717159 non-null  int64   \n",
      " 8   cod_Pais       717159 non-null  object  \n",
      " 9   nom_Pais       717159 non-null  object  \n",
      " 10  cod_Region     717159 non-null  object  \n",
      " 11  nom_Region     717159 non-null  object  \n",
      " 12  cod_Provincia  717159 non-null  object  \n",
      " 13  nom_Provincia  717159 non-null  object  \n",
      " 14  cod_Municipio  717159 non-null  object  \n",
      " 15  nom_Municipio  717159 non-null  object  \n",
      " 16  Tipo           408585 non-null  object  \n",
      " 17  Subtipo        408585 non-null  object  \n",
      " 18  _merge         717159 non-null  category\n",
      "dtypes: category(1), geometry(1), int64(4), object(13)\n",
      "memory usage: 104.6+ MB\n"
     ]
    }
   ],
   "source": [
    "df_pois_merge.info()"
   ]
  },
  {
   "cell_type": "code",
   "execution_count": 31,
   "metadata": {},
   "outputs": [
    {
     "data": {
      "text/html": [
       "<div>\n",
       "<style scoped>\n",
       "    .dataframe tbody tr th:only-of-type {\n",
       "        vertical-align: middle;\n",
       "    }\n",
       "\n",
       "    .dataframe tbody tr th {\n",
       "        vertical-align: top;\n",
       "    }\n",
       "\n",
       "    .dataframe thead th {\n",
       "        text-align: right;\n",
       "    }\n",
       "</style>\n",
       "<table border=\"1\" class=\"dataframe\">\n",
       "  <thead>\n",
       "    <tr style=\"text-align: right;\">\n",
       "      <th></th>\n",
       "      <th>osm_id</th>\n",
       "      <th>code</th>\n",
       "      <th>fclass</th>\n",
       "      <th>name</th>\n",
       "      <th>geometry</th>\n",
       "      <th>index_right</th>\n",
       "      <th>OBJECTID</th>\n",
       "      <th>nivel</th>\n",
       "      <th>cod_Pais</th>\n",
       "      <th>nom_Pais</th>\n",
       "      <th>cod_Region</th>\n",
       "      <th>nom_Region</th>\n",
       "      <th>cod_Provincia</th>\n",
       "      <th>nom_Provincia</th>\n",
       "      <th>cod_Municipio</th>\n",
       "      <th>nom_Municipio</th>\n",
       "      <th>Tipo</th>\n",
       "      <th>Subtipo</th>\n",
       "      <th>_merge</th>\n",
       "    </tr>\n",
       "  </thead>\n",
       "  <tbody>\n",
       "    <tr>\n",
       "      <th>0</th>\n",
       "      <td>21027591</td>\n",
       "      <td>2733</td>\n",
       "      <td>archaeological</td>\n",
       "      <td>Via cava del Cavone</td>\n",
       "      <td>POINT (11.63634 42.66276)</td>\n",
       "      <td>4078</td>\n",
       "      <td>1238525</td>\n",
       "      <td>3</td>\n",
       "      <td>IT</td>\n",
       "      <td>Italia</td>\n",
       "      <td>9</td>\n",
       "      <td>Toscana</td>\n",
       "      <td>53</td>\n",
       "      <td>Grosseto</td>\n",
       "      <td>53026</td>\n",
       "      <td>Sorano</td>\n",
       "      <td>Art &amp; Culture</td>\n",
       "      <td>Archeological</td>\n",
       "      <td>both</td>\n",
       "    </tr>\n",
       "    <tr>\n",
       "      <th>1</th>\n",
       "      <td>417059088</td>\n",
       "      <td>2907</td>\n",
       "      <td>camera_surveillance</td>\n",
       "      <td>NaN</td>\n",
       "      <td>POINT (11.64423 42.65732)</td>\n",
       "      <td>4078</td>\n",
       "      <td>1238525</td>\n",
       "      <td>3</td>\n",
       "      <td>IT</td>\n",
       "      <td>Italia</td>\n",
       "      <td>9</td>\n",
       "      <td>Toscana</td>\n",
       "      <td>53</td>\n",
       "      <td>Grosseto</td>\n",
       "      <td>53026</td>\n",
       "      <td>Sorano</td>\n",
       "      <td>NaN</td>\n",
       "      <td>NaN</td>\n",
       "      <td>both</td>\n",
       "    </tr>\n",
       "    <tr>\n",
       "      <th>2</th>\n",
       "      <td>456875080</td>\n",
       "      <td>2004</td>\n",
       "      <td>post_box</td>\n",
       "      <td>NaN</td>\n",
       "      <td>POINT (11.64599 42.65771)</td>\n",
       "      <td>4078</td>\n",
       "      <td>1238525</td>\n",
       "      <td>3</td>\n",
       "      <td>IT</td>\n",
       "      <td>Italia</td>\n",
       "      <td>9</td>\n",
       "      <td>Toscana</td>\n",
       "      <td>53</td>\n",
       "      <td>Grosseto</td>\n",
       "      <td>53026</td>\n",
       "      <td>Sorano</td>\n",
       "      <td>NaN</td>\n",
       "      <td>NaN</td>\n",
       "      <td>both</td>\n",
       "    </tr>\n",
       "    <tr>\n",
       "      <th>3</th>\n",
       "      <td>610578172</td>\n",
       "      <td>2742</td>\n",
       "      <td>viewpoint</td>\n",
       "      <td>San Rocco</td>\n",
       "      <td>POINT (11.71067 42.68410)</td>\n",
       "      <td>4078</td>\n",
       "      <td>1238525</td>\n",
       "      <td>3</td>\n",
       "      <td>IT</td>\n",
       "      <td>Italia</td>\n",
       "      <td>9</td>\n",
       "      <td>Toscana</td>\n",
       "      <td>53</td>\n",
       "      <td>Grosseto</td>\n",
       "      <td>53026</td>\n",
       "      <td>Sorano</td>\n",
       "      <td>Tourism</td>\n",
       "      <td>Art &amp; Culture</td>\n",
       "      <td>both</td>\n",
       "    </tr>\n",
       "    <tr>\n",
       "      <th>4</th>\n",
       "      <td>741597346</td>\n",
       "      <td>2901</td>\n",
       "      <td>toilet</td>\n",
       "      <td>NaN</td>\n",
       "      <td>POINT (11.64302 42.65776)</td>\n",
       "      <td>4078</td>\n",
       "      <td>1238525</td>\n",
       "      <td>3</td>\n",
       "      <td>IT</td>\n",
       "      <td>Italia</td>\n",
       "      <td>9</td>\n",
       "      <td>Toscana</td>\n",
       "      <td>53</td>\n",
       "      <td>Grosseto</td>\n",
       "      <td>53026</td>\n",
       "      <td>Sorano</td>\n",
       "      <td>Amenity</td>\n",
       "      <td>Amenity</td>\n",
       "      <td>both</td>\n",
       "    </tr>\n",
       "  </tbody>\n",
       "</table>\n",
       "</div>"
      ],
      "text/plain": [
       "      osm_id  code               fclass                 name  \\\n",
       "0   21027591  2733       archaeological  Via cava del Cavone   \n",
       "1  417059088  2907  camera_surveillance                  NaN   \n",
       "2  456875080  2004             post_box                  NaN   \n",
       "3  610578172  2742            viewpoint            San Rocco   \n",
       "4  741597346  2901               toilet                  NaN   \n",
       "\n",
       "                    geometry  index_right  OBJECTID  nivel cod_Pais nom_Pais  \\\n",
       "0  POINT (11.63634 42.66276)         4078   1238525      3       IT   Italia   \n",
       "1  POINT (11.64423 42.65732)         4078   1238525      3       IT   Italia   \n",
       "2  POINT (11.64599 42.65771)         4078   1238525      3       IT   Italia   \n",
       "3  POINT (11.71067 42.68410)         4078   1238525      3       IT   Italia   \n",
       "4  POINT (11.64302 42.65776)         4078   1238525      3       IT   Italia   \n",
       "\n",
       "  cod_Region nom_Region cod_Provincia nom_Provincia cod_Municipio  \\\n",
       "0          9    Toscana            53      Grosseto         53026   \n",
       "1          9    Toscana            53      Grosseto         53026   \n",
       "2          9    Toscana            53      Grosseto         53026   \n",
       "3          9    Toscana            53      Grosseto         53026   \n",
       "4          9    Toscana            53      Grosseto         53026   \n",
       "\n",
       "  nom_Municipio           Tipo        Subtipo _merge  \n",
       "0        Sorano  Art & Culture  Archeological   both  \n",
       "1        Sorano            NaN            NaN   both  \n",
       "2        Sorano            NaN            NaN   both  \n",
       "3        Sorano        Tourism  Art & Culture   both  \n",
       "4        Sorano        Amenity        Amenity   both  "
      ]
     },
     "execution_count": 31,
     "metadata": {},
     "output_type": "execute_result"
    }
   ],
   "source": [
    "df_pois_merge.head()"
   ]
  },
  {
   "attachments": {},
   "cell_type": "markdown",
   "metadata": {},
   "source": [
    "selecting only the data that falls into sicily"
   ]
  },
  {
   "cell_type": "code",
   "execution_count": 32,
   "metadata": {},
   "outputs": [
    {
     "data": {
      "text/plain": [
       "array(['Toscana', 'Umbria', 'Lazio', 'Marche', 'Emilia-Romagna', 'Puglia',\n",
       "       'Liguria', 'Abruzzo', 'Molise', 'Campania', 'Sardegna', 'Sicilia',\n",
       "       'Trentino-Alto Adige', 'Veneto', 'Friuli Venezia Giulia',\n",
       "       'Lombardia', 'Piemonte', \"Valle d'Aosta\", 'Calabria', 'Basilicata'],\n",
       "      dtype=object)"
      ]
     },
     "execution_count": 32,
     "metadata": {},
     "output_type": "execute_result"
    }
   ],
   "source": [
    "df_pois_merge['nom_Region'].unique()"
   ]
  },
  {
   "cell_type": "code",
   "execution_count": 33,
   "metadata": {},
   "outputs": [],
   "source": [
    "df_pois_merge = df_pois_merge[df_pois_merge['nom_Region'] == 'Sicilia']"
   ]
  },
  {
   "cell_type": "code",
   "execution_count": 35,
   "metadata": {},
   "outputs": [],
   "source": [
    "df_pois_merge.drop(['_merge'], axis = 1, inplace = True)"
   ]
  },
  {
   "attachments": {},
   "cell_type": "markdown",
   "metadata": {},
   "source": [
    "export"
   ]
  },
  {
   "cell_type": "code",
   "execution_count": 34,
   "metadata": {},
   "outputs": [
    {
     "data": {
      "text/plain": [
       "'e:\\\\Cursos\\\\00ironhack_DA\\\\00LABS\\\\vuelve-conmigo-a-italia\\\\data'"
      ]
     },
     "execution_count": 34,
     "metadata": {},
     "output_type": "execute_result"
    }
   ],
   "source": [
    "local_path = os.path.dirname(os.getcwd()) + f'\\\\data'\n",
    "local_path"
   ]
  },
  {
   "cell_type": "code",
   "execution_count": 41,
   "metadata": {},
   "outputs": [
    {
     "data": {
      "text/html": [
       "<div>\n",
       "<style scoped>\n",
       "    .dataframe tbody tr th:only-of-type {\n",
       "        vertical-align: middle;\n",
       "    }\n",
       "\n",
       "    .dataframe tbody tr th {\n",
       "        vertical-align: top;\n",
       "    }\n",
       "\n",
       "    .dataframe thead th {\n",
       "        text-align: right;\n",
       "    }\n",
       "</style>\n",
       "<table border=\"1\" class=\"dataframe\">\n",
       "  <thead>\n",
       "    <tr style=\"text-align: right;\">\n",
       "      <th></th>\n",
       "      <th>osm_id</th>\n",
       "      <th>code</th>\n",
       "      <th>fclass</th>\n",
       "      <th>name</th>\n",
       "      <th>geometry</th>\n",
       "      <th>index_right</th>\n",
       "      <th>OBJECTID</th>\n",
       "      <th>nivel</th>\n",
       "      <th>cod_Pais</th>\n",
       "      <th>nom_Pais</th>\n",
       "      <th>cod_Region</th>\n",
       "      <th>nom_Region</th>\n",
       "      <th>cod_Provincia</th>\n",
       "      <th>nom_Provincia</th>\n",
       "      <th>cod_Municipio</th>\n",
       "      <th>nom_Municipio</th>\n",
       "      <th>Tipo</th>\n",
       "      <th>Subtipo</th>\n",
       "      <th>lon</th>\n",
       "      <th>lat</th>\n",
       "    </tr>\n",
       "  </thead>\n",
       "  <tbody>\n",
       "    <tr>\n",
       "      <th>127938</th>\n",
       "      <td>26860774</td>\n",
       "      <td>2422</td>\n",
       "      <td>camp_site</td>\n",
       "      <td>Camping Biscione</td>\n",
       "      <td>POINT (12.47814 37.70137)</td>\n",
       "      <td>6936</td>\n",
       "      <td>1241383</td>\n",
       "      <td>3</td>\n",
       "      <td>IT</td>\n",
       "      <td>Italia</td>\n",
       "      <td>19</td>\n",
       "      <td>Sicilia</td>\n",
       "      <td>81</td>\n",
       "      <td>Trapani</td>\n",
       "      <td>81024</td>\n",
       "      <td>Petrosino</td>\n",
       "      <td>Accommodation</td>\n",
       "      <td>Hospitality</td>\n",
       "      <td>12.478139</td>\n",
       "      <td>37.701373</td>\n",
       "    </tr>\n",
       "  </tbody>\n",
       "</table>\n",
       "</div>"
      ],
      "text/plain": [
       "          osm_id  code     fclass              name  \\\n",
       "127938  26860774  2422  camp_site  Camping Biscione   \n",
       "\n",
       "                         geometry  index_right  OBJECTID  nivel cod_Pais  \\\n",
       "127938  POINT (12.47814 37.70137)         6936   1241383      3       IT   \n",
       "\n",
       "       nom_Pais cod_Region nom_Region cod_Provincia nom_Provincia  \\\n",
       "127938   Italia         19    Sicilia            81       Trapani   \n",
       "\n",
       "       cod_Municipio nom_Municipio           Tipo      Subtipo        lon  \\\n",
       "127938         81024     Petrosino  Accommodation  Hospitality  12.478139   \n",
       "\n",
       "              lat  \n",
       "127938  37.701373  "
      ]
     },
     "execution_count": 41,
     "metadata": {},
     "output_type": "execute_result"
    }
   ],
   "source": [
    "df_pois_merge['lon'] = df_pois_merge.geometry.apply(lambda p: p.x)\n",
    "df_pois_merge['lat'] = df_pois_merge.geometry.apply(lambda p: p.y)\n",
    "df_pois_merge.head(1)"
   ]
  },
  {
   "cell_type": "code",
   "execution_count": 42,
   "metadata": {},
   "outputs": [],
   "source": [
    "df_pois_merge.to_file(f'{local_path}\\\\df_pois.geojson', driver='GeoJSON')  "
   ]
  },
  {
   "cell_type": "code",
   "execution_count": 37,
   "metadata": {},
   "outputs": [
    {
     "data": {
      "text/html": [
       "<div>\n",
       "<style scoped>\n",
       "    .dataframe tbody tr th:only-of-type {\n",
       "        vertical-align: middle;\n",
       "    }\n",
       "\n",
       "    .dataframe tbody tr th {\n",
       "        vertical-align: top;\n",
       "    }\n",
       "\n",
       "    .dataframe thead th {\n",
       "        text-align: right;\n",
       "    }\n",
       "</style>\n",
       "<table border=\"1\" class=\"dataframe\">\n",
       "  <thead>\n",
       "    <tr style=\"text-align: right;\">\n",
       "      <th></th>\n",
       "      <th>osm_id</th>\n",
       "      <th>code</th>\n",
       "      <th>fclass</th>\n",
       "      <th>name</th>\n",
       "      <th>geometry</th>\n",
       "      <th>index_right</th>\n",
       "      <th>OBJECTID</th>\n",
       "      <th>nivel</th>\n",
       "      <th>cod_Pais</th>\n",
       "      <th>nom_Pais</th>\n",
       "      <th>cod_Region</th>\n",
       "      <th>nom_Region</th>\n",
       "      <th>cod_Provincia</th>\n",
       "      <th>nom_Provincia</th>\n",
       "      <th>cod_Municipio</th>\n",
       "      <th>nom_Municipio</th>\n",
       "      <th>Tipo</th>\n",
       "      <th>Subtipo</th>\n",
       "    </tr>\n",
       "  </thead>\n",
       "  <tbody>\n",
       "    <tr>\n",
       "      <th>127938</th>\n",
       "      <td>26860774</td>\n",
       "      <td>2422</td>\n",
       "      <td>camp_site</td>\n",
       "      <td>Camping Biscione</td>\n",
       "      <td>POINT (12.47814 37.70137)</td>\n",
       "      <td>6936</td>\n",
       "      <td>1241383</td>\n",
       "      <td>3</td>\n",
       "      <td>IT</td>\n",
       "      <td>Italia</td>\n",
       "      <td>19</td>\n",
       "      <td>Sicilia</td>\n",
       "      <td>81</td>\n",
       "      <td>Trapani</td>\n",
       "      <td>81024</td>\n",
       "      <td>Petrosino</td>\n",
       "      <td>Accommodation</td>\n",
       "      <td>Hospitality</td>\n",
       "    </tr>\n",
       "  </tbody>\n",
       "</table>\n",
       "</div>"
      ],
      "text/plain": [
       "          osm_id  code     fclass              name  \\\n",
       "127938  26860774  2422  camp_site  Camping Biscione   \n",
       "\n",
       "                         geometry  index_right  OBJECTID  nivel cod_Pais  \\\n",
       "127938  POINT (12.47814 37.70137)         6936   1241383      3       IT   \n",
       "\n",
       "       nom_Pais cod_Region nom_Region cod_Provincia nom_Provincia  \\\n",
       "127938   Italia         19    Sicilia            81       Trapani   \n",
       "\n",
       "       cod_Municipio nom_Municipio           Tipo      Subtipo  \n",
       "127938         81024     Petrosino  Accommodation  Hospitality  "
      ]
     },
     "execution_count": 37,
     "metadata": {},
     "output_type": "execute_result"
    }
   ],
   "source": [
    "df_pois_merge.head(1)"
   ]
  },
  {
   "cell_type": "code",
   "execution_count": 39,
   "metadata": {},
   "outputs": [],
   "source": [
    "df_pois_merge.to_csv(f'{local_path}//pois.csv', encoding='utf-8', sep='|', decimal='.', index=False)"
   ]
  },
  {
   "cell_type": "code",
   "execution_count": 40,
   "metadata": {},
   "outputs": [
    {
     "name": "stdout",
     "output_type": "stream",
     "text": [
      "(33079, 20)\n"
     ]
    }
   ],
   "source": [
    "print(df_pois_merge[df_pois_merge['nom_Region'] == 'Sicilia'].shape)"
   ]
  }
 ],
 "metadata": {
  "kernelspec": {
   "display_name": "iron",
   "language": "python",
   "name": "python3"
  },
  "language_info": {
   "codemirror_mode": {
    "name": "ipython",
    "version": 3
   },
   "file_extension": ".py",
   "mimetype": "text/x-python",
   "name": "python",
   "nbconvert_exporter": "python",
   "pygments_lexer": "ipython3",
   "version": "3.9.13"
  },
  "orig_nbformat": 4,
  "vscode": {
   "interpreter": {
    "hash": "e59d0b279e6461be5b4ea7b62838527cd8f41f3cbc9a1147b1a83b32d75ab689"
   }
  }
 },
 "nbformat": 4,
 "nbformat_minor": 2
}
