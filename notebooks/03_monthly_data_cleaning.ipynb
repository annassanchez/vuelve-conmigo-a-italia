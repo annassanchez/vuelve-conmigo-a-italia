{
 "cells": [
  {
   "cell_type": "code",
   "execution_count": 1,
   "metadata": {},
   "outputs": [],
   "source": [
    "import numpy as np\n",
    "import pandas as pd\n",
    "pd.options.display.max_columns = None\n",
    "import os\n",
    "\n",
    "import sys\n",
    "sys.path.append(\"../\")\n",
    "import src.biblioteca as bb\n",
    "sys.path.append(\"../\")\n",
    "import src.soporteCleaning as scl"
   ]
  },
  {
   "attachments": {},
   "cell_type": "markdown",
   "metadata": {},
   "source": [
    "# data import"
   ]
  },
  {
   "cell_type": "code",
   "execution_count": 2,
   "metadata": {},
   "outputs": [
    {
     "data": {
      "text/plain": [
       "'e:\\\\Cursos\\\\00ironhack_DA\\\\00LABS\\\\vuelve-conmigo-a-italia\\\\data\\\\tourism_monthly'"
      ]
     },
     "execution_count": 2,
     "metadata": {},
     "output_type": "execute_result"
    }
   ],
   "source": [
    "os.chdir('..')\n",
    "os.chdir('data')\n",
    "os.chdir('tourism_monthly')\n",
    "os.getcwd()"
   ]
  },
  {
   "cell_type": "code",
   "execution_count": 3,
   "metadata": {},
   "outputs": [
    {
     "data": {
      "text/plain": [
       "['DCSC_TUR_07022023150311792.csv', 'test.csv']"
      ]
     },
     "execution_count": 3,
     "metadata": {},
     "output_type": "execute_result"
    }
   ],
   "source": [
    "path = os.getcwd()\n",
    "files = os.listdir(path)\n",
    "files = [f for f in files if f[-3:] == 'csv']\n",
    "files"
   ]
  },
  {
   "cell_type": "code",
   "execution_count": 4,
   "metadata": {},
   "outputs": [
    {
     "data": {
      "text/html": [
       "<div>\n",
       "<style scoped>\n",
       "    .dataframe tbody tr th:only-of-type {\n",
       "        vertical-align: middle;\n",
       "    }\n",
       "\n",
       "    .dataframe tbody tr th {\n",
       "        vertical-align: top;\n",
       "    }\n",
       "\n",
       "    .dataframe thead th {\n",
       "        text-align: right;\n",
       "    }\n",
       "</style>\n",
       "<table border=\"1\" class=\"dataframe\">\n",
       "  <thead>\n",
       "    <tr style=\"text-align: right;\">\n",
       "      <th></th>\n",
       "      <th>ITTER107</th>\n",
       "      <th>Territorio</th>\n",
       "      <th>TIPO_DATO7</th>\n",
       "      <th>Indicatori</th>\n",
       "      <th>CORREZ</th>\n",
       "      <th>Correzione</th>\n",
       "      <th>TIPO_ALLOGGIO2</th>\n",
       "      <th>Tipologia di esercizio</th>\n",
       "      <th>ATECO_2007</th>\n",
       "      <th>Ateco 2007</th>\n",
       "      <th>ISO</th>\n",
       "      <th>Paese di residenza dei clienti</th>\n",
       "      <th>TIME</th>\n",
       "      <th>Seleziona periodo</th>\n",
       "      <th>Value</th>\n",
       "      <th>Flag Codes</th>\n",
       "      <th>Flags</th>\n",
       "    </tr>\n",
       "  </thead>\n",
       "  <tbody>\n",
       "    <tr>\n",
       "      <th>0</th>\n",
       "      <td>IT</td>\n",
       "      <td>Italia</td>\n",
       "      <td>AR</td>\n",
       "      <td>arrivi</td>\n",
       "      <td>N</td>\n",
       "      <td>dati grezzi</td>\n",
       "      <td>ALL</td>\n",
       "      <td>totale esercizi ricettivi</td>\n",
       "      <td>551_553</td>\n",
       "      <td>alberghi e strutture simili, alloggi per vacan...</td>\n",
       "      <td>IT</td>\n",
       "      <td>Italia</td>\n",
       "      <td>2020-12</td>\n",
       "      <td>Dic-2020</td>\n",
       "      <td>909328</td>\n",
       "      <td>NaN</td>\n",
       "      <td>NaN</td>\n",
       "    </tr>\n",
       "    <tr>\n",
       "      <th>1</th>\n",
       "      <td>IT</td>\n",
       "      <td>Italia</td>\n",
       "      <td>AR</td>\n",
       "      <td>arrivi</td>\n",
       "      <td>N</td>\n",
       "      <td>dati grezzi</td>\n",
       "      <td>ALL</td>\n",
       "      <td>totale esercizi ricettivi</td>\n",
       "      <td>551_553</td>\n",
       "      <td>alberghi e strutture simili, alloggi per vacan...</td>\n",
       "      <td>IT</td>\n",
       "      <td>Italia</td>\n",
       "      <td>2021</td>\n",
       "      <td>2021</td>\n",
       "      <td>51767750</td>\n",
       "      <td>NaN</td>\n",
       "      <td>NaN</td>\n",
       "    </tr>\n",
       "    <tr>\n",
       "      <th>2</th>\n",
       "      <td>IT</td>\n",
       "      <td>Italia</td>\n",
       "      <td>AR</td>\n",
       "      <td>arrivi</td>\n",
       "      <td>N</td>\n",
       "      <td>dati grezzi</td>\n",
       "      <td>ALL</td>\n",
       "      <td>totale esercizi ricettivi</td>\n",
       "      <td>551_553</td>\n",
       "      <td>alberghi e strutture simili, alloggi per vacan...</td>\n",
       "      <td>IT</td>\n",
       "      <td>Italia</td>\n",
       "      <td>2021-01</td>\n",
       "      <td>Gen-2021</td>\n",
       "      <td>963909</td>\n",
       "      <td>NaN</td>\n",
       "      <td>NaN</td>\n",
       "    </tr>\n",
       "    <tr>\n",
       "      <th>3</th>\n",
       "      <td>IT</td>\n",
       "      <td>Italia</td>\n",
       "      <td>AR</td>\n",
       "      <td>arrivi</td>\n",
       "      <td>N</td>\n",
       "      <td>dati grezzi</td>\n",
       "      <td>ALL</td>\n",
       "      <td>totale esercizi ricettivi</td>\n",
       "      <td>551_553</td>\n",
       "      <td>alberghi e strutture simili, alloggi per vacan...</td>\n",
       "      <td>IT</td>\n",
       "      <td>Italia</td>\n",
       "      <td>2021-02</td>\n",
       "      <td>Feb-2021</td>\n",
       "      <td>1447175</td>\n",
       "      <td>NaN</td>\n",
       "      <td>NaN</td>\n",
       "    </tr>\n",
       "    <tr>\n",
       "      <th>4</th>\n",
       "      <td>IT</td>\n",
       "      <td>Italia</td>\n",
       "      <td>AR</td>\n",
       "      <td>arrivi</td>\n",
       "      <td>N</td>\n",
       "      <td>dati grezzi</td>\n",
       "      <td>ALL</td>\n",
       "      <td>totale esercizi ricettivi</td>\n",
       "      <td>551_553</td>\n",
       "      <td>alberghi e strutture simili, alloggi per vacan...</td>\n",
       "      <td>IT</td>\n",
       "      <td>Italia</td>\n",
       "      <td>2021-03</td>\n",
       "      <td>Mar-2021</td>\n",
       "      <td>1132137</td>\n",
       "      <td>NaN</td>\n",
       "      <td>NaN</td>\n",
       "    </tr>\n",
       "  </tbody>\n",
       "</table>\n",
       "</div>"
      ],
      "text/plain": [
       "  ITTER107 Territorio TIPO_DATO7 Indicatori CORREZ   Correzione  \\\n",
       "0       IT     Italia         AR    arrivi       N  dati grezzi   \n",
       "1       IT     Italia         AR    arrivi       N  dati grezzi   \n",
       "2       IT     Italia         AR    arrivi       N  dati grezzi   \n",
       "3       IT     Italia         AR    arrivi       N  dati grezzi   \n",
       "4       IT     Italia         AR    arrivi       N  dati grezzi   \n",
       "\n",
       "  TIPO_ALLOGGIO2     Tipologia di esercizio ATECO_2007  \\\n",
       "0            ALL  totale esercizi ricettivi    551_553   \n",
       "1            ALL  totale esercizi ricettivi    551_553   \n",
       "2            ALL  totale esercizi ricettivi    551_553   \n",
       "3            ALL  totale esercizi ricettivi    551_553   \n",
       "4            ALL  totale esercizi ricettivi    551_553   \n",
       "\n",
       "                                          Ateco 2007 ISO  \\\n",
       "0  alberghi e strutture simili, alloggi per vacan...  IT   \n",
       "1  alberghi e strutture simili, alloggi per vacan...  IT   \n",
       "2  alberghi e strutture simili, alloggi per vacan...  IT   \n",
       "3  alberghi e strutture simili, alloggi per vacan...  IT   \n",
       "4  alberghi e strutture simili, alloggi per vacan...  IT   \n",
       "\n",
       "  Paese di residenza dei clienti     TIME Seleziona periodo     Value  \\\n",
       "0                         Italia  2020-12          Dic-2020    909328   \n",
       "1                         Italia     2021              2021  51767750   \n",
       "2                         Italia  2021-01          Gen-2021    963909   \n",
       "3                         Italia  2021-02          Feb-2021   1447175   \n",
       "4                         Italia  2021-03          Mar-2021   1132137   \n",
       "\n",
       "  Flag Codes Flags  \n",
       "0        NaN   NaN  \n",
       "1        NaN   NaN  \n",
       "2        NaN   NaN  \n",
       "3        NaN   NaN  \n",
       "4        NaN   NaN  "
      ]
     },
     "execution_count": 4,
     "metadata": {},
     "output_type": "execute_result"
    }
   ],
   "source": [
    "df = pd.read_csv(files[0])\n",
    "df.head()"
   ]
  },
  {
   "cell_type": "code",
   "execution_count": 5,
   "metadata": {},
   "outputs": [],
   "source": [
    "alldf = []\n",
    "for file in files:\n",
    "    df = pd.read_csv(file)\n",
    "    alldf.append(df)"
   ]
  },
  {
   "cell_type": "code",
   "execution_count": 6,
   "metadata": {},
   "outputs": [
    {
     "name": "stdout",
     "output_type": "stream",
     "text": [
      "(32742, 17)\n"
     ]
    },
    {
     "data": {
      "text/html": [
       "<div>\n",
       "<style scoped>\n",
       "    .dataframe tbody tr th:only-of-type {\n",
       "        vertical-align: middle;\n",
       "    }\n",
       "\n",
       "    .dataframe tbody tr th {\n",
       "        vertical-align: top;\n",
       "    }\n",
       "\n",
       "    .dataframe thead th {\n",
       "        text-align: right;\n",
       "    }\n",
       "</style>\n",
       "<table border=\"1\" class=\"dataframe\">\n",
       "  <thead>\n",
       "    <tr style=\"text-align: right;\">\n",
       "      <th></th>\n",
       "      <th>ITTER107</th>\n",
       "      <th>Territorio</th>\n",
       "      <th>TIPO_DATO7</th>\n",
       "      <th>Indicatori</th>\n",
       "      <th>CORREZ</th>\n",
       "      <th>Correzione</th>\n",
       "      <th>TIPO_ALLOGGIO2</th>\n",
       "      <th>Tipologia di esercizio</th>\n",
       "      <th>ATECO_2007</th>\n",
       "      <th>Ateco 2007</th>\n",
       "      <th>ISO</th>\n",
       "      <th>Paese di residenza dei clienti</th>\n",
       "      <th>TIME</th>\n",
       "      <th>Seleziona periodo</th>\n",
       "      <th>Value</th>\n",
       "      <th>Flag Codes</th>\n",
       "      <th>Flags</th>\n",
       "    </tr>\n",
       "  </thead>\n",
       "  <tbody>\n",
       "    <tr>\n",
       "      <th>0</th>\n",
       "      <td>IT</td>\n",
       "      <td>Italia</td>\n",
       "      <td>AR</td>\n",
       "      <td>arrivi</td>\n",
       "      <td>N</td>\n",
       "      <td>dati grezzi</td>\n",
       "      <td>ALL</td>\n",
       "      <td>totale esercizi ricettivi</td>\n",
       "      <td>551_553</td>\n",
       "      <td>alberghi e strutture simili, alloggi per vacan...</td>\n",
       "      <td>IT</td>\n",
       "      <td>Italia</td>\n",
       "      <td>2020-12</td>\n",
       "      <td>Dic-2020</td>\n",
       "      <td>909328</td>\n",
       "      <td>NaN</td>\n",
       "      <td>NaN</td>\n",
       "    </tr>\n",
       "    <tr>\n",
       "      <th>1</th>\n",
       "      <td>IT</td>\n",
       "      <td>Italia</td>\n",
       "      <td>AR</td>\n",
       "      <td>arrivi</td>\n",
       "      <td>N</td>\n",
       "      <td>dati grezzi</td>\n",
       "      <td>ALL</td>\n",
       "      <td>totale esercizi ricettivi</td>\n",
       "      <td>551_553</td>\n",
       "      <td>alberghi e strutture simili, alloggi per vacan...</td>\n",
       "      <td>IT</td>\n",
       "      <td>Italia</td>\n",
       "      <td>2021</td>\n",
       "      <td>2021</td>\n",
       "      <td>51767750</td>\n",
       "      <td>NaN</td>\n",
       "      <td>NaN</td>\n",
       "    </tr>\n",
       "    <tr>\n",
       "      <th>2</th>\n",
       "      <td>IT</td>\n",
       "      <td>Italia</td>\n",
       "      <td>AR</td>\n",
       "      <td>arrivi</td>\n",
       "      <td>N</td>\n",
       "      <td>dati grezzi</td>\n",
       "      <td>ALL</td>\n",
       "      <td>totale esercizi ricettivi</td>\n",
       "      <td>551_553</td>\n",
       "      <td>alberghi e strutture simili, alloggi per vacan...</td>\n",
       "      <td>IT</td>\n",
       "      <td>Italia</td>\n",
       "      <td>2021-01</td>\n",
       "      <td>Gen-2021</td>\n",
       "      <td>963909</td>\n",
       "      <td>NaN</td>\n",
       "      <td>NaN</td>\n",
       "    </tr>\n",
       "    <tr>\n",
       "      <th>3</th>\n",
       "      <td>IT</td>\n",
       "      <td>Italia</td>\n",
       "      <td>AR</td>\n",
       "      <td>arrivi</td>\n",
       "      <td>N</td>\n",
       "      <td>dati grezzi</td>\n",
       "      <td>ALL</td>\n",
       "      <td>totale esercizi ricettivi</td>\n",
       "      <td>551_553</td>\n",
       "      <td>alberghi e strutture simili, alloggi per vacan...</td>\n",
       "      <td>IT</td>\n",
       "      <td>Italia</td>\n",
       "      <td>2021-02</td>\n",
       "      <td>Feb-2021</td>\n",
       "      <td>1447175</td>\n",
       "      <td>NaN</td>\n",
       "      <td>NaN</td>\n",
       "    </tr>\n",
       "    <tr>\n",
       "      <th>4</th>\n",
       "      <td>IT</td>\n",
       "      <td>Italia</td>\n",
       "      <td>AR</td>\n",
       "      <td>arrivi</td>\n",
       "      <td>N</td>\n",
       "      <td>dati grezzi</td>\n",
       "      <td>ALL</td>\n",
       "      <td>totale esercizi ricettivi</td>\n",
       "      <td>551_553</td>\n",
       "      <td>alberghi e strutture simili, alloggi per vacan...</td>\n",
       "      <td>IT</td>\n",
       "      <td>Italia</td>\n",
       "      <td>2021-03</td>\n",
       "      <td>Mar-2021</td>\n",
       "      <td>1132137</td>\n",
       "      <td>NaN</td>\n",
       "      <td>NaN</td>\n",
       "    </tr>\n",
       "  </tbody>\n",
       "</table>\n",
       "</div>"
      ],
      "text/plain": [
       "  ITTER107 Territorio TIPO_DATO7 Indicatori CORREZ   Correzione  \\\n",
       "0       IT     Italia         AR    arrivi       N  dati grezzi   \n",
       "1       IT     Italia         AR    arrivi       N  dati grezzi   \n",
       "2       IT     Italia         AR    arrivi       N  dati grezzi   \n",
       "3       IT     Italia         AR    arrivi       N  dati grezzi   \n",
       "4       IT     Italia         AR    arrivi       N  dati grezzi   \n",
       "\n",
       "  TIPO_ALLOGGIO2     Tipologia di esercizio ATECO_2007  \\\n",
       "0            ALL  totale esercizi ricettivi    551_553   \n",
       "1            ALL  totale esercizi ricettivi    551_553   \n",
       "2            ALL  totale esercizi ricettivi    551_553   \n",
       "3            ALL  totale esercizi ricettivi    551_553   \n",
       "4            ALL  totale esercizi ricettivi    551_553   \n",
       "\n",
       "                                          Ateco 2007 ISO  \\\n",
       "0  alberghi e strutture simili, alloggi per vacan...  IT   \n",
       "1  alberghi e strutture simili, alloggi per vacan...  IT   \n",
       "2  alberghi e strutture simili, alloggi per vacan...  IT   \n",
       "3  alberghi e strutture simili, alloggi per vacan...  IT   \n",
       "4  alberghi e strutture simili, alloggi per vacan...  IT   \n",
       "\n",
       "  Paese di residenza dei clienti     TIME Seleziona periodo     Value  \\\n",
       "0                         Italia  2020-12          Dic-2020    909328   \n",
       "1                         Italia     2021              2021  51767750   \n",
       "2                         Italia  2021-01          Gen-2021    963909   \n",
       "3                         Italia  2021-02          Feb-2021   1447175   \n",
       "4                         Italia  2021-03          Mar-2021   1132137   \n",
       "\n",
       "  Flag Codes Flags  \n",
       "0        NaN   NaN  \n",
       "1        NaN   NaN  \n",
       "2        NaN   NaN  \n",
       "3        NaN   NaN  \n",
       "4        NaN   NaN  "
      ]
     },
     "execution_count": 6,
     "metadata": {},
     "output_type": "execute_result"
    }
   ],
   "source": [
    "df = pd.concat([alldf[0]])\n",
    "print(df.shape)\n",
    "df.head()"
   ]
  },
  {
   "attachments": {},
   "cell_type": "markdown",
   "metadata": {},
   "source": [
    "# clean values"
   ]
  },
  {
   "cell_type": "code",
   "execution_count": 7,
   "metadata": {},
   "outputs": [
    {
     "data": {
      "text/plain": [
       "2    26964\n",
       "1     5466\n",
       "0      312\n",
       "Name: nivel, dtype: int64"
      ]
     },
     "execution_count": 7,
     "metadata": {},
     "output_type": "execute_result"
    }
   ],
   "source": [
    "df['nivel'] = df['ITTER107'].apply(scl.nivelGeo)\n",
    "df['nivel'].value_counts()"
   ]
  },
  {
   "cell_type": "code",
   "execution_count": 8,
   "metadata": {},
   "outputs": [
    {
     "data": {
      "text/plain": [
       "monthly    30402\n",
       "yearly      2340\n",
       "Name: period, dtype: int64"
      ]
     },
     "execution_count": 8,
     "metadata": {},
     "output_type": "execute_result"
    }
   ],
   "source": [
    "df['period'] = df['TIME'].apply(scl.yearOrMonthlyData)\n",
    "df['period'].value_counts()"
   ]
  },
  {
   "cell_type": "code",
   "execution_count": 9,
   "metadata": {},
   "outputs": [],
   "source": [
    "df['Variable'] = df['Indicatori'].replace(bb.dict_indicatori)\n",
    "df['Typology'] = df['Tipologia di esercizio'].replace(bb.dict_tipologia_esercizio)"
   ]
  },
  {
   "cell_type": "code",
   "execution_count": 11,
   "metadata": {},
   "outputs": [
    {
     "data": {
      "text/html": [
       "<div>\n",
       "<style scoped>\n",
       "    .dataframe tbody tr th:only-of-type {\n",
       "        vertical-align: middle;\n",
       "    }\n",
       "\n",
       "    .dataframe tbody tr th {\n",
       "        vertical-align: top;\n",
       "    }\n",
       "\n",
       "    .dataframe thead th {\n",
       "        text-align: right;\n",
       "    }\n",
       "</style>\n",
       "<table border=\"1\" class=\"dataframe\">\n",
       "  <thead>\n",
       "    <tr style=\"text-align: right;\">\n",
       "      <th></th>\n",
       "      <th>ITTER107</th>\n",
       "      <th>Territorio</th>\n",
       "      <th>TIPO_DATO7</th>\n",
       "      <th>Indicatori</th>\n",
       "      <th>CORREZ</th>\n",
       "      <th>Correzione</th>\n",
       "      <th>TIPO_ALLOGGIO2</th>\n",
       "      <th>Tipologia di esercizio</th>\n",
       "      <th>ATECO_2007</th>\n",
       "      <th>Ateco 2007</th>\n",
       "      <th>ISO</th>\n",
       "      <th>Paese di residenza dei clienti</th>\n",
       "      <th>TIME</th>\n",
       "      <th>Seleziona periodo</th>\n",
       "      <th>Value</th>\n",
       "      <th>Flag Codes</th>\n",
       "      <th>Flags</th>\n",
       "      <th>nivel</th>\n",
       "      <th>period</th>\n",
       "      <th>Variable</th>\n",
       "      <th>Typology</th>\n",
       "    </tr>\n",
       "  </thead>\n",
       "  <tbody>\n",
       "    <tr>\n",
       "      <th>0</th>\n",
       "      <td>IT</td>\n",
       "      <td>Italia</td>\n",
       "      <td>AR</td>\n",
       "      <td>arrivi</td>\n",
       "      <td>N</td>\n",
       "      <td>dati grezzi</td>\n",
       "      <td>ALL</td>\n",
       "      <td>totale esercizi ricettivi</td>\n",
       "      <td>551_553</td>\n",
       "      <td>alberghi e strutture simili, alloggi per vacan...</td>\n",
       "      <td>IT</td>\n",
       "      <td>Italia</td>\n",
       "      <td>2020-12</td>\n",
       "      <td>Dic-2020</td>\n",
       "      <td>909328</td>\n",
       "      <td>NaN</td>\n",
       "      <td>NaN</td>\n",
       "      <td>0</td>\n",
       "      <td>monthly</td>\n",
       "      <td>arrivals</td>\n",
       "      <td>total</td>\n",
       "    </tr>\n",
       "  </tbody>\n",
       "</table>\n",
       "</div>"
      ],
      "text/plain": [
       "  ITTER107 Territorio TIPO_DATO7 Indicatori CORREZ   Correzione  \\\n",
       "0       IT     Italia         AR    arrivi       N  dati grezzi   \n",
       "\n",
       "  TIPO_ALLOGGIO2     Tipologia di esercizio ATECO_2007  \\\n",
       "0            ALL  totale esercizi ricettivi    551_553   \n",
       "\n",
       "                                          Ateco 2007 ISO  \\\n",
       "0  alberghi e strutture simili, alloggi per vacan...  IT   \n",
       "\n",
       "  Paese di residenza dei clienti     TIME Seleziona periodo   Value  \\\n",
       "0                         Italia  2020-12          Dic-2020  909328   \n",
       "\n",
       "  Flag Codes Flags  nivel   period  Variable Typology  \n",
       "0        NaN   NaN      0  monthly  arrivals    total  "
      ]
     },
     "execution_count": 11,
     "metadata": {},
     "output_type": "execute_result"
    }
   ],
   "source": [
    "df.head(1)"
   ]
  },
  {
   "attachments": {},
   "cell_type": "markdown",
   "metadata": {},
   "source": [
    "# reorder columns"
   ]
  },
  {
   "cell_type": "code",
   "execution_count": null,
   "metadata": {},
   "outputs": [],
   "source": [
    "lista_columnas = [df.columns.tolist()[-4]] + df.columns.tolist()[0:2] + df.columns.tolist()[-2:] + [df.columns.tolist()[-3]] + [df.columns.tolist()[-9]] + [df.columns.tolist()[-7]]\n",
    "lista_columnas"
   ]
  },
  {
   "cell_type": "code",
   "execution_count": null,
   "metadata": {},
   "outputs": [],
   "source": [
    "new_df = df[lista_columnas]\n",
    "new_df.head()"
   ]
  },
  {
   "cell_type": "code",
   "execution_count": null,
   "metadata": {},
   "outputs": [],
   "source": [
    "new_df.to_csv('../arrivals_nights_monthly.csv', encoding='utf-8', sep=';', decimal='.')"
   ]
  }
 ],
 "metadata": {
  "kernelspec": {
   "display_name": "iron",
   "language": "python",
   "name": "python3"
  },
  "language_info": {
   "codemirror_mode": {
    "name": "ipython",
    "version": 3
   },
   "file_extension": ".py",
   "mimetype": "text/x-python",
   "name": "python",
   "nbconvert_exporter": "python",
   "pygments_lexer": "ipython3",
   "version": "3.9.13"
  },
  "orig_nbformat": 4,
  "vscode": {
   "interpreter": {
    "hash": "e59d0b279e6461be5b4ea7b62838527cd8f41f3cbc9a1147b1a83b32d75ab689"
   }
  }
 },
 "nbformat": 4,
 "nbformat_minor": 2
}
