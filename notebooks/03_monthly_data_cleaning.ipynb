{
 "cells": [
  {
   "cell_type": "code",
   "execution_count": 1,
   "metadata": {},
   "outputs": [],
   "source": [
    "import numpy as np\n",
    "import pandas as pd\n",
    "pd.options.display.max_columns = None\n",
    "import os\n",
    "\n",
    "import sys\n",
    "sys.path.append(\"../\")\n",
    "import src.biblioteca as bb\n",
    "sys.path.append(\"../\")\n",
    "import src.soporteCleaning as scl"
   ]
  },
  {
   "attachments": {},
   "cell_type": "markdown",
   "metadata": {},
   "source": [
    "# data import"
   ]
  },
  {
   "cell_type": "code",
   "execution_count": 2,
   "metadata": {},
   "outputs": [
    {
     "data": {
      "text/plain": [
       "'e:\\\\Cursos\\\\00ironhack_DA\\\\00LABS\\\\vuelve-conmigo-a-italia\\\\data\\\\tourism_monthly'"
      ]
     },
     "execution_count": 2,
     "metadata": {},
     "output_type": "execute_result"
    }
   ],
   "source": [
    "os.chdir('..')\n",
    "os.chdir('data')\n",
    "os.chdir('tourism_monthly')\n",
    "os.getcwd()"
   ]
  },
  {
   "cell_type": "code",
   "execution_count": 3,
   "metadata": {},
   "outputs": [
    {
     "data": {
      "text/plain": [
       "['DCSC_TUR - Accommodation establishments - full dataset.csv']"
      ]
     },
     "execution_count": 3,
     "metadata": {},
     "output_type": "execute_result"
    }
   ],
   "source": [
    "path = os.getcwd()\n",
    "files = os.listdir(path)\n",
    "files = [f for f in files if f[-3:] == 'csv']\n",
    "files"
   ]
  },
  {
   "cell_type": "code",
   "execution_count": 4,
   "metadata": {},
   "outputs": [
    {
     "name": "stderr",
     "output_type": "stream",
     "text": [
      "C:\\Users\\annas\\AppData\\Local\\Temp\\ipykernel_8316\\1430112649.py:1: DtypeWarning: Columns (0,8,20,21,23,24) have mixed types. Specify dtype option on import or set low_memory=False.\n",
      "  df = pd.read_csv(files[0], on_bad_lines='skip', sep = '|')\n"
     ]
    },
    {
     "name": "stdout",
     "output_type": "stream",
     "text": [
      "(11674205, 25)\n"
     ]
    },
    {
     "data": {
      "text/html": [
       "<div>\n",
       "<style scoped>\n",
       "    .dataframe tbody tr th:only-of-type {\n",
       "        vertical-align: middle;\n",
       "    }\n",
       "\n",
       "    .dataframe tbody tr th {\n",
       "        vertical-align: top;\n",
       "    }\n",
       "\n",
       "    .dataframe thead th {\n",
       "        text-align: right;\n",
       "    }\n",
       "</style>\n",
       "<table border=\"1\" class=\"dataframe\">\n",
       "  <thead>\n",
       "    <tr style=\"text-align: right;\">\n",
       "      <th></th>\n",
       "      <th>ITTER107</th>\n",
       "      <th>Territory</th>\n",
       "      <th>TIPO_DATO7</th>\n",
       "      <th>Indicators</th>\n",
       "      <th>CORREZ</th>\n",
       "      <th>Adjustment</th>\n",
       "      <th>TIPO_ALLOGGIO2</th>\n",
       "      <th>Type of accommodation</th>\n",
       "      <th>ATECO_2007</th>\n",
       "      <th>NACE rev. 2</th>\n",
       "      <th>ISO</th>\n",
       "      <th>Country of residence of guests</th>\n",
       "      <th>TIPOITTER1A</th>\n",
       "      <th>Type of locality</th>\n",
       "      <th>TIPOITTER1B</th>\n",
       "      <th>Degree of urbanisation</th>\n",
       "      <th>TIPOITTER1C</th>\n",
       "      <th>Coastal and non-coastal area</th>\n",
       "      <th>NUMEROSITA</th>\n",
       "      <th>Size by number of rooms</th>\n",
       "      <th>TIME</th>\n",
       "      <th>Select time</th>\n",
       "      <th>Value</th>\n",
       "      <th>Flag Codes</th>\n",
       "      <th>Flags</th>\n",
       "    </tr>\n",
       "  </thead>\n",
       "  <tbody>\n",
       "    <tr>\n",
       "      <th>0</th>\n",
       "      <td>IT</td>\n",
       "      <td>Italy</td>\n",
       "      <td>AR</td>\n",
       "      <td>arrivals</td>\n",
       "      <td>N</td>\n",
       "      <td>raw data</td>\n",
       "      <td>ALL</td>\n",
       "      <td>total collective accommodation establishments</td>\n",
       "      <td>551</td>\n",
       "      <td>hotels and similar accommodation</td>\n",
       "      <td>IT</td>\n",
       "      <td>Italy</td>\n",
       "      <td>ALL</td>\n",
       "      <td>all items</td>\n",
       "      <td>ALL</td>\n",
       "      <td>all items</td>\n",
       "      <td>ALL</td>\n",
       "      <td>all items</td>\n",
       "      <td>TOT</td>\n",
       "      <td>total</td>\n",
       "      <td>1990M1</td>\n",
       "      <td>Jan-1990</td>\n",
       "      <td>1948743.0</td>\n",
       "      <td>NaN</td>\n",
       "      <td>NaN</td>\n",
       "    </tr>\n",
       "    <tr>\n",
       "      <th>1</th>\n",
       "      <td>IT</td>\n",
       "      <td>Italy</td>\n",
       "      <td>AR</td>\n",
       "      <td>arrivals</td>\n",
       "      <td>N</td>\n",
       "      <td>raw data</td>\n",
       "      <td>ALL</td>\n",
       "      <td>total collective accommodation establishments</td>\n",
       "      <td>551</td>\n",
       "      <td>hotels and similar accommodation</td>\n",
       "      <td>IT</td>\n",
       "      <td>Italy</td>\n",
       "      <td>ALL</td>\n",
       "      <td>all items</td>\n",
       "      <td>ALL</td>\n",
       "      <td>all items</td>\n",
       "      <td>ALL</td>\n",
       "      <td>all items</td>\n",
       "      <td>TOT</td>\n",
       "      <td>total</td>\n",
       "      <td>1990M2</td>\n",
       "      <td>Feb-1990</td>\n",
       "      <td>2073904.0</td>\n",
       "      <td>NaN</td>\n",
       "      <td>NaN</td>\n",
       "    </tr>\n",
       "    <tr>\n",
       "      <th>2</th>\n",
       "      <td>IT</td>\n",
       "      <td>Italy</td>\n",
       "      <td>AR</td>\n",
       "      <td>arrivals</td>\n",
       "      <td>N</td>\n",
       "      <td>raw data</td>\n",
       "      <td>ALL</td>\n",
       "      <td>total collective accommodation establishments</td>\n",
       "      <td>551</td>\n",
       "      <td>hotels and similar accommodation</td>\n",
       "      <td>IT</td>\n",
       "      <td>Italy</td>\n",
       "      <td>ALL</td>\n",
       "      <td>all items</td>\n",
       "      <td>ALL</td>\n",
       "      <td>all items</td>\n",
       "      <td>ALL</td>\n",
       "      <td>all items</td>\n",
       "      <td>TOT</td>\n",
       "      <td>total</td>\n",
       "      <td>1990M3</td>\n",
       "      <td>Mar-1990</td>\n",
       "      <td>2643010.0</td>\n",
       "      <td>NaN</td>\n",
       "      <td>NaN</td>\n",
       "    </tr>\n",
       "    <tr>\n",
       "      <th>3</th>\n",
       "      <td>IT</td>\n",
       "      <td>Italy</td>\n",
       "      <td>AR</td>\n",
       "      <td>arrivals</td>\n",
       "      <td>N</td>\n",
       "      <td>raw data</td>\n",
       "      <td>ALL</td>\n",
       "      <td>total collective accommodation establishments</td>\n",
       "      <td>551</td>\n",
       "      <td>hotels and similar accommodation</td>\n",
       "      <td>IT</td>\n",
       "      <td>Italy</td>\n",
       "      <td>ALL</td>\n",
       "      <td>all items</td>\n",
       "      <td>ALL</td>\n",
       "      <td>all items</td>\n",
       "      <td>ALL</td>\n",
       "      <td>all items</td>\n",
       "      <td>TOT</td>\n",
       "      <td>total</td>\n",
       "      <td>1990M4</td>\n",
       "      <td>Apr-1990</td>\n",
       "      <td>3290894.0</td>\n",
       "      <td>NaN</td>\n",
       "      <td>NaN</td>\n",
       "    </tr>\n",
       "    <tr>\n",
       "      <th>4</th>\n",
       "      <td>IT</td>\n",
       "      <td>Italy</td>\n",
       "      <td>AR</td>\n",
       "      <td>arrivals</td>\n",
       "      <td>N</td>\n",
       "      <td>raw data</td>\n",
       "      <td>ALL</td>\n",
       "      <td>total collective accommodation establishments</td>\n",
       "      <td>551</td>\n",
       "      <td>hotels and similar accommodation</td>\n",
       "      <td>IT</td>\n",
       "      <td>Italy</td>\n",
       "      <td>ALL</td>\n",
       "      <td>all items</td>\n",
       "      <td>ALL</td>\n",
       "      <td>all items</td>\n",
       "      <td>ALL</td>\n",
       "      <td>all items</td>\n",
       "      <td>TOT</td>\n",
       "      <td>total</td>\n",
       "      <td>1990M5</td>\n",
       "      <td>May-1990</td>\n",
       "      <td>2765215.0</td>\n",
       "      <td>NaN</td>\n",
       "      <td>NaN</td>\n",
       "    </tr>\n",
       "  </tbody>\n",
       "</table>\n",
       "</div>"
      ],
      "text/plain": [
       "  ITTER107 Territory TIPO_DATO7 Indicators CORREZ Adjustment TIPO_ALLOGGIO2  \\\n",
       "0       IT     Italy         AR   arrivals      N   raw data            ALL   \n",
       "1       IT     Italy         AR   arrivals      N   raw data            ALL   \n",
       "2       IT     Italy         AR   arrivals      N   raw data            ALL   \n",
       "3       IT     Italy         AR   arrivals      N   raw data            ALL   \n",
       "4       IT     Italy         AR   arrivals      N   raw data            ALL   \n",
       "\n",
       "                           Type of accommodation ATECO_2007  \\\n",
       "0  total collective accommodation establishments        551   \n",
       "1  total collective accommodation establishments        551   \n",
       "2  total collective accommodation establishments        551   \n",
       "3  total collective accommodation establishments        551   \n",
       "4  total collective accommodation establishments        551   \n",
       "\n",
       "                        NACE rev. 2 ISO Country of residence of guests  \\\n",
       "0  hotels and similar accommodation  IT                          Italy   \n",
       "1  hotels and similar accommodation  IT                          Italy   \n",
       "2  hotels and similar accommodation  IT                          Italy   \n",
       "3  hotels and similar accommodation  IT                          Italy   \n",
       "4  hotels and similar accommodation  IT                          Italy   \n",
       "\n",
       "  TIPOITTER1A Type of locality TIPOITTER1B Degree of urbanisation TIPOITTER1C  \\\n",
       "0         ALL        all items         ALL              all items         ALL   \n",
       "1         ALL        all items         ALL              all items         ALL   \n",
       "2         ALL        all items         ALL              all items         ALL   \n",
       "3         ALL        all items         ALL              all items         ALL   \n",
       "4         ALL        all items         ALL              all items         ALL   \n",
       "\n",
       "  Coastal and non-coastal area NUMEROSITA Size by number of rooms    TIME  \\\n",
       "0                    all items        TOT                   total  1990M1   \n",
       "1                    all items        TOT                   total  1990M2   \n",
       "2                    all items        TOT                   total  1990M3   \n",
       "3                    all items        TOT                   total  1990M4   \n",
       "4                    all items        TOT                   total  1990M5   \n",
       "\n",
       "  Select time      Value Flag Codes Flags  \n",
       "0    Jan-1990  1948743.0        NaN   NaN  \n",
       "1    Feb-1990  2073904.0        NaN   NaN  \n",
       "2    Mar-1990  2643010.0        NaN   NaN  \n",
       "3    Apr-1990  3290894.0        NaN   NaN  \n",
       "4    May-1990  2765215.0        NaN   NaN  "
      ]
     },
     "execution_count": 4,
     "metadata": {},
     "output_type": "execute_result"
    }
   ],
   "source": [
    "df = pd.read_csv(files[0], on_bad_lines='skip', sep = '|')\n",
    "print(df.shape)\n",
    "df.head()"
   ]
  },
  {
   "attachments": {},
   "cell_type": "markdown",
   "metadata": {},
   "source": [
    "# cleaning and adding comtrol columns"
   ]
  },
  {
   "cell_type": "code",
   "execution_count": 5,
   "metadata": {},
   "outputs": [],
   "source": [
    "df['TIME'] = df['TIME'].str.replace('M', '-')"
   ]
  },
  {
   "cell_type": "code",
   "execution_count": 6,
   "metadata": {},
   "outputs": [
    {
     "data": {
      "text/plain": [
       "3    10069816\n",
       "2     1133202\n",
       "1      308592\n",
       "0      162595\n",
       "Name: nivel, dtype: int64"
      ]
     },
     "execution_count": 6,
     "metadata": {},
     "output_type": "execute_result"
    }
   ],
   "source": [
    "df['nivel'] = df['ITTER107'].apply(scl.nivelGeo)\n",
    "df['nivel'].value_counts()"
   ]
  },
  {
   "cell_type": "code",
   "execution_count": 7,
   "metadata": {},
   "outputs": [
    {
     "data": {
      "text/plain": [
       "monthly    9966588\n",
       "yearly     1707617\n",
       "Name: year_month, dtype: int64"
      ]
     },
     "execution_count": 7,
     "metadata": {},
     "output_type": "execute_result"
    }
   ],
   "source": [
    "df['year_month'] = df['TIME'].apply(scl.yearOrMonthlyData)\n",
    "df['year_month'].value_counts()"
   ]
  },
  {
   "attachments": {},
   "cell_type": "markdown",
   "metadata": {},
   "source": [
    "# monthly data"
   ]
  },
  {
   "cell_type": "code",
   "execution_count": 8,
   "metadata": {},
   "outputs": [
    {
     "name": "stdout",
     "output_type": "stream",
     "text": [
      "(9966588, 27)\n"
     ]
    },
    {
     "data": {
      "text/html": [
       "<div>\n",
       "<style scoped>\n",
       "    .dataframe tbody tr th:only-of-type {\n",
       "        vertical-align: middle;\n",
       "    }\n",
       "\n",
       "    .dataframe tbody tr th {\n",
       "        vertical-align: top;\n",
       "    }\n",
       "\n",
       "    .dataframe thead th {\n",
       "        text-align: right;\n",
       "    }\n",
       "</style>\n",
       "<table border=\"1\" class=\"dataframe\">\n",
       "  <thead>\n",
       "    <tr style=\"text-align: right;\">\n",
       "      <th></th>\n",
       "      <th>ITTER107</th>\n",
       "      <th>Territory</th>\n",
       "      <th>TIPO_DATO7</th>\n",
       "      <th>Indicators</th>\n",
       "      <th>CORREZ</th>\n",
       "      <th>Adjustment</th>\n",
       "      <th>TIPO_ALLOGGIO2</th>\n",
       "      <th>Type of accommodation</th>\n",
       "      <th>ATECO_2007</th>\n",
       "      <th>NACE rev. 2</th>\n",
       "      <th>ISO</th>\n",
       "      <th>Country of residence of guests</th>\n",
       "      <th>TIPOITTER1A</th>\n",
       "      <th>Type of locality</th>\n",
       "      <th>TIPOITTER1B</th>\n",
       "      <th>Degree of urbanisation</th>\n",
       "      <th>TIPOITTER1C</th>\n",
       "      <th>Coastal and non-coastal area</th>\n",
       "      <th>NUMEROSITA</th>\n",
       "      <th>Size by number of rooms</th>\n",
       "      <th>TIME</th>\n",
       "      <th>Select time</th>\n",
       "      <th>Value</th>\n",
       "      <th>Flag Codes</th>\n",
       "      <th>Flags</th>\n",
       "      <th>nivel</th>\n",
       "      <th>year_month</th>\n",
       "    </tr>\n",
       "  </thead>\n",
       "  <tbody>\n",
       "    <tr>\n",
       "      <th>0</th>\n",
       "      <td>IT</td>\n",
       "      <td>Italy</td>\n",
       "      <td>AR</td>\n",
       "      <td>arrivals</td>\n",
       "      <td>N</td>\n",
       "      <td>raw data</td>\n",
       "      <td>ALL</td>\n",
       "      <td>total collective accommodation establishments</td>\n",
       "      <td>551</td>\n",
       "      <td>hotels and similar accommodation</td>\n",
       "      <td>IT</td>\n",
       "      <td>Italy</td>\n",
       "      <td>ALL</td>\n",
       "      <td>all items</td>\n",
       "      <td>ALL</td>\n",
       "      <td>all items</td>\n",
       "      <td>ALL</td>\n",
       "      <td>all items</td>\n",
       "      <td>TOT</td>\n",
       "      <td>total</td>\n",
       "      <td>1990-1</td>\n",
       "      <td>Jan-1990</td>\n",
       "      <td>1948743.0</td>\n",
       "      <td>NaN</td>\n",
       "      <td>NaN</td>\n",
       "      <td>0</td>\n",
       "      <td>monthly</td>\n",
       "    </tr>\n",
       "    <tr>\n",
       "      <th>1</th>\n",
       "      <td>IT</td>\n",
       "      <td>Italy</td>\n",
       "      <td>AR</td>\n",
       "      <td>arrivals</td>\n",
       "      <td>N</td>\n",
       "      <td>raw data</td>\n",
       "      <td>ALL</td>\n",
       "      <td>total collective accommodation establishments</td>\n",
       "      <td>551</td>\n",
       "      <td>hotels and similar accommodation</td>\n",
       "      <td>IT</td>\n",
       "      <td>Italy</td>\n",
       "      <td>ALL</td>\n",
       "      <td>all items</td>\n",
       "      <td>ALL</td>\n",
       "      <td>all items</td>\n",
       "      <td>ALL</td>\n",
       "      <td>all items</td>\n",
       "      <td>TOT</td>\n",
       "      <td>total</td>\n",
       "      <td>1990-2</td>\n",
       "      <td>Feb-1990</td>\n",
       "      <td>2073904.0</td>\n",
       "      <td>NaN</td>\n",
       "      <td>NaN</td>\n",
       "      <td>0</td>\n",
       "      <td>monthly</td>\n",
       "    </tr>\n",
       "    <tr>\n",
       "      <th>2</th>\n",
       "      <td>IT</td>\n",
       "      <td>Italy</td>\n",
       "      <td>AR</td>\n",
       "      <td>arrivals</td>\n",
       "      <td>N</td>\n",
       "      <td>raw data</td>\n",
       "      <td>ALL</td>\n",
       "      <td>total collective accommodation establishments</td>\n",
       "      <td>551</td>\n",
       "      <td>hotels and similar accommodation</td>\n",
       "      <td>IT</td>\n",
       "      <td>Italy</td>\n",
       "      <td>ALL</td>\n",
       "      <td>all items</td>\n",
       "      <td>ALL</td>\n",
       "      <td>all items</td>\n",
       "      <td>ALL</td>\n",
       "      <td>all items</td>\n",
       "      <td>TOT</td>\n",
       "      <td>total</td>\n",
       "      <td>1990-3</td>\n",
       "      <td>Mar-1990</td>\n",
       "      <td>2643010.0</td>\n",
       "      <td>NaN</td>\n",
       "      <td>NaN</td>\n",
       "      <td>0</td>\n",
       "      <td>monthly</td>\n",
       "    </tr>\n",
       "    <tr>\n",
       "      <th>3</th>\n",
       "      <td>IT</td>\n",
       "      <td>Italy</td>\n",
       "      <td>AR</td>\n",
       "      <td>arrivals</td>\n",
       "      <td>N</td>\n",
       "      <td>raw data</td>\n",
       "      <td>ALL</td>\n",
       "      <td>total collective accommodation establishments</td>\n",
       "      <td>551</td>\n",
       "      <td>hotels and similar accommodation</td>\n",
       "      <td>IT</td>\n",
       "      <td>Italy</td>\n",
       "      <td>ALL</td>\n",
       "      <td>all items</td>\n",
       "      <td>ALL</td>\n",
       "      <td>all items</td>\n",
       "      <td>ALL</td>\n",
       "      <td>all items</td>\n",
       "      <td>TOT</td>\n",
       "      <td>total</td>\n",
       "      <td>1990-4</td>\n",
       "      <td>Apr-1990</td>\n",
       "      <td>3290894.0</td>\n",
       "      <td>NaN</td>\n",
       "      <td>NaN</td>\n",
       "      <td>0</td>\n",
       "      <td>monthly</td>\n",
       "    </tr>\n",
       "    <tr>\n",
       "      <th>4</th>\n",
       "      <td>IT</td>\n",
       "      <td>Italy</td>\n",
       "      <td>AR</td>\n",
       "      <td>arrivals</td>\n",
       "      <td>N</td>\n",
       "      <td>raw data</td>\n",
       "      <td>ALL</td>\n",
       "      <td>total collective accommodation establishments</td>\n",
       "      <td>551</td>\n",
       "      <td>hotels and similar accommodation</td>\n",
       "      <td>IT</td>\n",
       "      <td>Italy</td>\n",
       "      <td>ALL</td>\n",
       "      <td>all items</td>\n",
       "      <td>ALL</td>\n",
       "      <td>all items</td>\n",
       "      <td>ALL</td>\n",
       "      <td>all items</td>\n",
       "      <td>TOT</td>\n",
       "      <td>total</td>\n",
       "      <td>1990-5</td>\n",
       "      <td>May-1990</td>\n",
       "      <td>2765215.0</td>\n",
       "      <td>NaN</td>\n",
       "      <td>NaN</td>\n",
       "      <td>0</td>\n",
       "      <td>monthly</td>\n",
       "    </tr>\n",
       "  </tbody>\n",
       "</table>\n",
       "</div>"
      ],
      "text/plain": [
       "  ITTER107 Territory TIPO_DATO7 Indicators CORREZ Adjustment TIPO_ALLOGGIO2  \\\n",
       "0       IT     Italy         AR   arrivals      N   raw data            ALL   \n",
       "1       IT     Italy         AR   arrivals      N   raw data            ALL   \n",
       "2       IT     Italy         AR   arrivals      N   raw data            ALL   \n",
       "3       IT     Italy         AR   arrivals      N   raw data            ALL   \n",
       "4       IT     Italy         AR   arrivals      N   raw data            ALL   \n",
       "\n",
       "                           Type of accommodation ATECO_2007  \\\n",
       "0  total collective accommodation establishments        551   \n",
       "1  total collective accommodation establishments        551   \n",
       "2  total collective accommodation establishments        551   \n",
       "3  total collective accommodation establishments        551   \n",
       "4  total collective accommodation establishments        551   \n",
       "\n",
       "                        NACE rev. 2 ISO Country of residence of guests  \\\n",
       "0  hotels and similar accommodation  IT                          Italy   \n",
       "1  hotels and similar accommodation  IT                          Italy   \n",
       "2  hotels and similar accommodation  IT                          Italy   \n",
       "3  hotels and similar accommodation  IT                          Italy   \n",
       "4  hotels and similar accommodation  IT                          Italy   \n",
       "\n",
       "  TIPOITTER1A Type of locality TIPOITTER1B Degree of urbanisation TIPOITTER1C  \\\n",
       "0         ALL        all items         ALL              all items         ALL   \n",
       "1         ALL        all items         ALL              all items         ALL   \n",
       "2         ALL        all items         ALL              all items         ALL   \n",
       "3         ALL        all items         ALL              all items         ALL   \n",
       "4         ALL        all items         ALL              all items         ALL   \n",
       "\n",
       "  Coastal and non-coastal area NUMEROSITA Size by number of rooms    TIME  \\\n",
       "0                    all items        TOT                   total  1990-1   \n",
       "1                    all items        TOT                   total  1990-2   \n",
       "2                    all items        TOT                   total  1990-3   \n",
       "3                    all items        TOT                   total  1990-4   \n",
       "4                    all items        TOT                   total  1990-5   \n",
       "\n",
       "  Select time      Value Flag Codes Flags  nivel year_month  \n",
       "0    Jan-1990  1948743.0        NaN   NaN      0    monthly  \n",
       "1    Feb-1990  2073904.0        NaN   NaN      0    monthly  \n",
       "2    Mar-1990  2643010.0        NaN   NaN      0    monthly  \n",
       "3    Apr-1990  3290894.0        NaN   NaN      0    monthly  \n",
       "4    May-1990  2765215.0        NaN   NaN      0    monthly  "
      ]
     },
     "execution_count": 8,
     "metadata": {},
     "output_type": "execute_result"
    }
   ],
   "source": [
    "df_month = df[df['year_month'] == 'monthly']\n",
    "print(df_month.shape)\n",
    "df_month.head()"
   ]
  },
  {
   "cell_type": "code",
   "execution_count": 9,
   "metadata": {},
   "outputs": [
    {
     "data": {
      "text/plain": [
       "hotels and similar establishments                1485700\n",
       "total collective accommodation establishments     858511\n",
       "5 stars-5 stars deluxe hotels                     724627\n",
       "1 star hotels                                     724599\n",
       "3 stars hotels                                    724533\n",
       "4 stars hotels                                    724296\n",
       "hotel-tourism residences                          724282\n",
       "2 stars hotels                                    724279\n",
       "other collective accommodation establishments     496019\n",
       "bed and breakfast                                 349803\n",
       "farmhouses                                        349749\n",
       "youth hostels                                     349746\n",
       "tourist camp-sites and holiday villages           349723\n",
       "holiday dwellings (rented)                        349605\n",
       "holiday homes                                     349554\n",
       "mountain refugees                                 349516\n",
       "other accommodation n.e.c.                        272485\n",
       "other collective accommodation                     59561\n",
       "Name: Type of accommodation, dtype: int64"
      ]
     },
     "execution_count": 9,
     "metadata": {},
     "output_type": "execute_result"
    }
   ],
   "source": [
    "df_month['Type of accommodation'].value_counts()"
   ]
  },
  {
   "cell_type": "code",
   "execution_count": 10,
   "metadata": {},
   "outputs": [
    {
     "data": {
      "text/plain": [
       "3    9337891\n",
       "2     399218\n",
       "0     130038\n",
       "1      99441\n",
       "Name: nivel, dtype: int64"
      ]
     },
     "execution_count": 10,
     "metadata": {},
     "output_type": "execute_result"
    }
   ],
   "source": [
    "df_month['nivel'].value_counts()"
   ]
  },
  {
   "cell_type": "code",
   "execution_count": 11,
   "metadata": {},
   "outputs": [
    {
     "data": {
      "text/plain": [
       "bed-places                                          3319814\n",
       "number of establishments                            2867299\n",
       "bedrooms                                            1649799\n",
       "bathrooms                                           1630528\n",
       "nights spent                                         242222\n",
       "arrivals                                             242079\n",
       "average length of stay                                 5247\n",
       "net occupancy rate of bed-places (percentage)          4800\n",
       "gross occupancy rate of bed-places  (percentage)       4800\n",
       "Name: Indicators, dtype: int64"
      ]
     },
     "execution_count": 11,
     "metadata": {},
     "output_type": "execute_result"
    }
   ],
   "source": [
    "df_month['Indicators'].value_counts()"
   ]
  },
  {
   "cell_type": "code",
   "execution_count": 12,
   "metadata": {},
   "outputs": [
    {
     "data": {
      "text/plain": [
       "Not applicable                       9467440\n",
       "Italy                                 165656\n",
       "Foreign countries                     165645\n",
       "All countries of the world             82307\n",
       "South Korea                             1156\n",
       "                                      ...   \n",
       "Piemonte                                 864\n",
       "Lombardia                                864\n",
       "Other Oceanian Countries                 840\n",
       "Other Northern American Countries        840\n",
       "Trentino Alto Adige                      360\n",
       "Name: Country of residence of guests, Length: 86, dtype: int64"
      ]
     },
     "execution_count": 12,
     "metadata": {},
     "output_type": "execute_result"
    }
   ],
   "source": [
    "df_month['Country of residence of guests'].value_counts()"
   ]
  },
  {
   "attachments": {},
   "cell_type": "markdown",
   "metadata": {},
   "source": [
    "## arrivals and nights spent"
   ]
  },
  {
   "cell_type": "code",
   "execution_count": 13,
   "metadata": {},
   "outputs": [
    {
     "name": "stdout",
     "output_type": "stream",
     "text": [
      "(310235, 27)\n"
     ]
    },
    {
     "data": {
      "text/html": [
       "<div>\n",
       "<style scoped>\n",
       "    .dataframe tbody tr th:only-of-type {\n",
       "        vertical-align: middle;\n",
       "    }\n",
       "\n",
       "    .dataframe tbody tr th {\n",
       "        vertical-align: top;\n",
       "    }\n",
       "\n",
       "    .dataframe thead th {\n",
       "        text-align: right;\n",
       "    }\n",
       "</style>\n",
       "<table border=\"1\" class=\"dataframe\">\n",
       "  <thead>\n",
       "    <tr style=\"text-align: right;\">\n",
       "      <th></th>\n",
       "      <th>ITTER107</th>\n",
       "      <th>Territory</th>\n",
       "      <th>TIPO_DATO7</th>\n",
       "      <th>Indicators</th>\n",
       "      <th>CORREZ</th>\n",
       "      <th>Adjustment</th>\n",
       "      <th>TIPO_ALLOGGIO2</th>\n",
       "      <th>Type of accommodation</th>\n",
       "      <th>ATECO_2007</th>\n",
       "      <th>NACE rev. 2</th>\n",
       "      <th>ISO</th>\n",
       "      <th>Country of residence of guests</th>\n",
       "      <th>TIPOITTER1A</th>\n",
       "      <th>Type of locality</th>\n",
       "      <th>TIPOITTER1B</th>\n",
       "      <th>Degree of urbanisation</th>\n",
       "      <th>TIPOITTER1C</th>\n",
       "      <th>Coastal and non-coastal area</th>\n",
       "      <th>NUMEROSITA</th>\n",
       "      <th>Size by number of rooms</th>\n",
       "      <th>TIME</th>\n",
       "      <th>Select time</th>\n",
       "      <th>Value</th>\n",
       "      <th>Flag Codes</th>\n",
       "      <th>Flags</th>\n",
       "      <th>nivel</th>\n",
       "      <th>year_month</th>\n",
       "    </tr>\n",
       "  </thead>\n",
       "  <tbody>\n",
       "    <tr>\n",
       "      <th>0</th>\n",
       "      <td>IT</td>\n",
       "      <td>Italy</td>\n",
       "      <td>AR</td>\n",
       "      <td>arrivals</td>\n",
       "      <td>N</td>\n",
       "      <td>raw data</td>\n",
       "      <td>ALL</td>\n",
       "      <td>total collective accommodation establishments</td>\n",
       "      <td>551</td>\n",
       "      <td>hotels and similar accommodation</td>\n",
       "      <td>IT</td>\n",
       "      <td>Italy</td>\n",
       "      <td>ALL</td>\n",
       "      <td>all items</td>\n",
       "      <td>ALL</td>\n",
       "      <td>all items</td>\n",
       "      <td>ALL</td>\n",
       "      <td>all items</td>\n",
       "      <td>TOT</td>\n",
       "      <td>total</td>\n",
       "      <td>1990-1</td>\n",
       "      <td>Jan-1990</td>\n",
       "      <td>1948743.0</td>\n",
       "      <td>NaN</td>\n",
       "      <td>NaN</td>\n",
       "      <td>0</td>\n",
       "      <td>monthly</td>\n",
       "    </tr>\n",
       "  </tbody>\n",
       "</table>\n",
       "</div>"
      ],
      "text/plain": [
       "  ITTER107 Territory TIPO_DATO7 Indicators CORREZ Adjustment TIPO_ALLOGGIO2  \\\n",
       "0       IT     Italy         AR   arrivals      N   raw data            ALL   \n",
       "\n",
       "                           Type of accommodation ATECO_2007  \\\n",
       "0  total collective accommodation establishments        551   \n",
       "\n",
       "                        NACE rev. 2 ISO Country of residence of guests  \\\n",
       "0  hotels and similar accommodation  IT                          Italy   \n",
       "\n",
       "  TIPOITTER1A Type of locality TIPOITTER1B Degree of urbanisation TIPOITTER1C  \\\n",
       "0         ALL        all items         ALL              all items         ALL   \n",
       "\n",
       "  Coastal and non-coastal area NUMEROSITA Size by number of rooms    TIME  \\\n",
       "0                    all items        TOT                   total  1990-1   \n",
       "\n",
       "  Select time      Value Flag Codes Flags  nivel year_month  \n",
       "0    Jan-1990  1948743.0        NaN   NaN      0    monthly  "
      ]
     },
     "execution_count": 13,
     "metadata": {},
     "output_type": "execute_result"
    }
   ],
   "source": [
    "df_month_arrivals = df_month[((df_month['Indicators'] == 'arrivals') |  \n",
    "    (df_month['Indicators'] == 'nights spent')) & (df_month['Type of locality'] == 'all items') &\n",
    "    ((df_month['Country of residence of guests'] == 'Italy') | \n",
    "        (df_month['Country of residence of guests'] == 'Foreign countries'))\n",
    "    ]\n",
    "print(df_month_arrivals.shape)\n",
    "df_month_arrivals.head(1)"
   ]
  },
  {
   "attachments": {},
   "cell_type": "markdown",
   "metadata": {},
   "source": [
    "I will keep only the data available for Italy, Sicily region and provinces"
   ]
  },
  {
   "cell_type": "code",
   "execution_count": 14,
   "metadata": {},
   "outputs": [
    {
     "name": "stdout",
     "output_type": "stream",
     "text": [
      "(38016, 27)\n"
     ]
    },
    {
     "data": {
      "text/html": [
       "<div>\n",
       "<style scoped>\n",
       "    .dataframe tbody tr th:only-of-type {\n",
       "        vertical-align: middle;\n",
       "    }\n",
       "\n",
       "    .dataframe tbody tr th {\n",
       "        vertical-align: top;\n",
       "    }\n",
       "\n",
       "    .dataframe thead th {\n",
       "        text-align: right;\n",
       "    }\n",
       "</style>\n",
       "<table border=\"1\" class=\"dataframe\">\n",
       "  <thead>\n",
       "    <tr style=\"text-align: right;\">\n",
       "      <th></th>\n",
       "      <th>ITTER107</th>\n",
       "      <th>Territory</th>\n",
       "      <th>TIPO_DATO7</th>\n",
       "      <th>Indicators</th>\n",
       "      <th>CORREZ</th>\n",
       "      <th>Adjustment</th>\n",
       "      <th>TIPO_ALLOGGIO2</th>\n",
       "      <th>Type of accommodation</th>\n",
       "      <th>ATECO_2007</th>\n",
       "      <th>NACE rev. 2</th>\n",
       "      <th>ISO</th>\n",
       "      <th>Country of residence of guests</th>\n",
       "      <th>TIPOITTER1A</th>\n",
       "      <th>Type of locality</th>\n",
       "      <th>TIPOITTER1B</th>\n",
       "      <th>Degree of urbanisation</th>\n",
       "      <th>TIPOITTER1C</th>\n",
       "      <th>Coastal and non-coastal area</th>\n",
       "      <th>NUMEROSITA</th>\n",
       "      <th>Size by number of rooms</th>\n",
       "      <th>TIME</th>\n",
       "      <th>Select time</th>\n",
       "      <th>Value</th>\n",
       "      <th>Flag Codes</th>\n",
       "      <th>Flags</th>\n",
       "      <th>nivel</th>\n",
       "      <th>year_month</th>\n",
       "    </tr>\n",
       "  </thead>\n",
       "  <tbody>\n",
       "    <tr>\n",
       "      <th>0</th>\n",
       "      <td>IT</td>\n",
       "      <td>Italy</td>\n",
       "      <td>AR</td>\n",
       "      <td>arrivals</td>\n",
       "      <td>N</td>\n",
       "      <td>raw data</td>\n",
       "      <td>ALL</td>\n",
       "      <td>total collective accommodation establishments</td>\n",
       "      <td>551</td>\n",
       "      <td>hotels and similar accommodation</td>\n",
       "      <td>IT</td>\n",
       "      <td>Italy</td>\n",
       "      <td>ALL</td>\n",
       "      <td>all items</td>\n",
       "      <td>ALL</td>\n",
       "      <td>all items</td>\n",
       "      <td>ALL</td>\n",
       "      <td>all items</td>\n",
       "      <td>TOT</td>\n",
       "      <td>total</td>\n",
       "      <td>1990-1</td>\n",
       "      <td>Jan-1990</td>\n",
       "      <td>1948743.0</td>\n",
       "      <td>NaN</td>\n",
       "      <td>NaN</td>\n",
       "      <td>0</td>\n",
       "      <td>monthly</td>\n",
       "    </tr>\n",
       "  </tbody>\n",
       "</table>\n",
       "</div>"
      ],
      "text/plain": [
       "  ITTER107 Territory TIPO_DATO7 Indicators CORREZ Adjustment TIPO_ALLOGGIO2  \\\n",
       "0       IT     Italy         AR   arrivals      N   raw data            ALL   \n",
       "\n",
       "                           Type of accommodation ATECO_2007  \\\n",
       "0  total collective accommodation establishments        551   \n",
       "\n",
       "                        NACE rev. 2 ISO Country of residence of guests  \\\n",
       "0  hotels and similar accommodation  IT                          Italy   \n",
       "\n",
       "  TIPOITTER1A Type of locality TIPOITTER1B Degree of urbanisation TIPOITTER1C  \\\n",
       "0         ALL        all items         ALL              all items         ALL   \n",
       "\n",
       "  Coastal and non-coastal area NUMEROSITA Size by number of rooms    TIME  \\\n",
       "0                    all items        TOT                   total  1990-1   \n",
       "\n",
       "  Select time      Value Flag Codes Flags  nivel year_month  \n",
       "0    Jan-1990  1948743.0        NaN   NaN      0    monthly  "
      ]
     },
     "execution_count": 14,
     "metadata": {},
     "output_type": "execute_result"
    }
   ],
   "source": [
    "df_month_arrivals = df_month_arrivals[df_month_arrivals['Territory'].isin(bb.list_region)]\n",
    "print(df_month_arrivals.shape)\n",
    "df_month_arrivals.head(1)"
   ]
  },
  {
   "cell_type": "code",
   "execution_count": 15,
   "metadata": {},
   "outputs": [
    {
     "data": {
      "text/plain": [
       "array(['Italy', 'Palermo', 'Messina', 'Agrigento', 'Caltanissetta',\n",
       "       'Enna', 'Catania', 'Ragusa', 'Siracusa', 'Sicilia', 'Trapani'],\n",
       "      dtype=object)"
      ]
     },
     "execution_count": 15,
     "metadata": {},
     "output_type": "execute_result"
    }
   ],
   "source": [
    "df_month_arrivals['Territory'].unique()"
   ]
  },
  {
   "cell_type": "code",
   "execution_count": 16,
   "metadata": {},
   "outputs": [
    {
     "data": {
      "text/plain": [
       "array(['all items'], dtype=object)"
      ]
     },
     "execution_count": 16,
     "metadata": {},
     "output_type": "execute_result"
    }
   ],
   "source": [
    "df_month_arrivals['Type of locality'].unique()"
   ]
  },
  {
   "cell_type": "code",
   "execution_count": 17,
   "metadata": {},
   "outputs": [
    {
     "data": {
      "text/plain": [
       "Italy                19008\n",
       "Foreign countries    19008\n",
       "Name: Country of residence of guests, dtype: int64"
      ]
     },
     "execution_count": 17,
     "metadata": {},
     "output_type": "execute_result"
    }
   ],
   "source": [
    "df_month_arrivals['Country of residence of guests'].value_counts()"
   ]
  },
  {
   "cell_type": "code",
   "execution_count": 18,
   "metadata": {},
   "outputs": [
    {
     "data": {
      "text/plain": [
       "Italy                19008\n",
       "Foreign countries    19008\n",
       "Name: Country of residence of guests, dtype: int64"
      ]
     },
     "execution_count": 18,
     "metadata": {},
     "output_type": "execute_result"
    }
   ],
   "source": [
    "df_month_arrivals['Country of residence of guests'].value_counts()"
   ]
  },
  {
   "attachments": {},
   "cell_type": "markdown",
   "metadata": {},
   "source": [
    "reorder columns & export"
   ]
  },
  {
   "cell_type": "code",
   "execution_count": 19,
   "metadata": {},
   "outputs": [
    {
     "data": {
      "text/html": [
       "<div>\n",
       "<style scoped>\n",
       "    .dataframe tbody tr th:only-of-type {\n",
       "        vertical-align: middle;\n",
       "    }\n",
       "\n",
       "    .dataframe tbody tr th {\n",
       "        vertical-align: top;\n",
       "    }\n",
       "\n",
       "    .dataframe thead th {\n",
       "        text-align: right;\n",
       "    }\n",
       "</style>\n",
       "<table border=\"1\" class=\"dataframe\">\n",
       "  <thead>\n",
       "    <tr style=\"text-align: right;\">\n",
       "      <th></th>\n",
       "      <th>ITTER107</th>\n",
       "      <th>Territory</th>\n",
       "      <th>TIPO_DATO7</th>\n",
       "      <th>Indicators</th>\n",
       "      <th>CORREZ</th>\n",
       "      <th>Adjustment</th>\n",
       "      <th>TIPO_ALLOGGIO2</th>\n",
       "      <th>Type of accommodation</th>\n",
       "      <th>ATECO_2007</th>\n",
       "      <th>NACE rev. 2</th>\n",
       "      <th>ISO</th>\n",
       "      <th>Country of residence of guests</th>\n",
       "      <th>TIPOITTER1A</th>\n",
       "      <th>Type of locality</th>\n",
       "      <th>TIPOITTER1B</th>\n",
       "      <th>Degree of urbanisation</th>\n",
       "      <th>TIPOITTER1C</th>\n",
       "      <th>Coastal and non-coastal area</th>\n",
       "      <th>NUMEROSITA</th>\n",
       "      <th>Size by number of rooms</th>\n",
       "      <th>TIME</th>\n",
       "      <th>Select time</th>\n",
       "      <th>Value</th>\n",
       "      <th>Flag Codes</th>\n",
       "      <th>Flags</th>\n",
       "      <th>nivel</th>\n",
       "      <th>year_month</th>\n",
       "    </tr>\n",
       "  </thead>\n",
       "  <tbody>\n",
       "    <tr>\n",
       "      <th>0</th>\n",
       "      <td>IT</td>\n",
       "      <td>Italy</td>\n",
       "      <td>AR</td>\n",
       "      <td>arrivals</td>\n",
       "      <td>N</td>\n",
       "      <td>raw data</td>\n",
       "      <td>ALL</td>\n",
       "      <td>total collective accommodation establishments</td>\n",
       "      <td>551</td>\n",
       "      <td>hotels and similar accommodation</td>\n",
       "      <td>IT</td>\n",
       "      <td>Italy</td>\n",
       "      <td>ALL</td>\n",
       "      <td>all items</td>\n",
       "      <td>ALL</td>\n",
       "      <td>all items</td>\n",
       "      <td>ALL</td>\n",
       "      <td>all items</td>\n",
       "      <td>TOT</td>\n",
       "      <td>total</td>\n",
       "      <td>1990-1</td>\n",
       "      <td>Jan-1990</td>\n",
       "      <td>1948743.0</td>\n",
       "      <td>NaN</td>\n",
       "      <td>NaN</td>\n",
       "      <td>0</td>\n",
       "      <td>monthly</td>\n",
       "    </tr>\n",
       "  </tbody>\n",
       "</table>\n",
       "</div>"
      ],
      "text/plain": [
       "  ITTER107 Territory TIPO_DATO7 Indicators CORREZ Adjustment TIPO_ALLOGGIO2  \\\n",
       "0       IT     Italy         AR   arrivals      N   raw data            ALL   \n",
       "\n",
       "                           Type of accommodation ATECO_2007  \\\n",
       "0  total collective accommodation establishments        551   \n",
       "\n",
       "                        NACE rev. 2 ISO Country of residence of guests  \\\n",
       "0  hotels and similar accommodation  IT                          Italy   \n",
       "\n",
       "  TIPOITTER1A Type of locality TIPOITTER1B Degree of urbanisation TIPOITTER1C  \\\n",
       "0         ALL        all items         ALL              all items         ALL   \n",
       "\n",
       "  Coastal and non-coastal area NUMEROSITA Size by number of rooms    TIME  \\\n",
       "0                    all items        TOT                   total  1990-1   \n",
       "\n",
       "  Select time      Value Flag Codes Flags  nivel year_month  \n",
       "0    Jan-1990  1948743.0        NaN   NaN      0    monthly  "
      ]
     },
     "execution_count": 19,
     "metadata": {},
     "output_type": "execute_result"
    }
   ],
   "source": [
    "df_month_arrivals.head(1)"
   ]
  },
  {
   "cell_type": "code",
   "execution_count": 20,
   "metadata": {},
   "outputs": [
    {
     "name": "stdout",
     "output_type": "stream",
     "text": [
      "(38016, 7)\n"
     ]
    },
    {
     "data": {
      "text/html": [
       "<div>\n",
       "<style scoped>\n",
       "    .dataframe tbody tr th:only-of-type {\n",
       "        vertical-align: middle;\n",
       "    }\n",
       "\n",
       "    .dataframe tbody tr th {\n",
       "        vertical-align: top;\n",
       "    }\n",
       "\n",
       "    .dataframe thead th {\n",
       "        text-align: right;\n",
       "    }\n",
       "</style>\n",
       "<table border=\"1\" class=\"dataframe\">\n",
       "  <thead>\n",
       "    <tr style=\"text-align: right;\">\n",
       "      <th></th>\n",
       "      <th>nivel</th>\n",
       "      <th>ITTER107</th>\n",
       "      <th>Territory</th>\n",
       "      <th>Indicators</th>\n",
       "      <th>Type of accommodation</th>\n",
       "      <th>TIME</th>\n",
       "      <th>Value</th>\n",
       "    </tr>\n",
       "  </thead>\n",
       "  <tbody>\n",
       "    <tr>\n",
       "      <th>0</th>\n",
       "      <td>0</td>\n",
       "      <td>IT</td>\n",
       "      <td>Italy</td>\n",
       "      <td>arrivals</td>\n",
       "      <td>total collective accommodation establishments</td>\n",
       "      <td>1990-1</td>\n",
       "      <td>1948743.0</td>\n",
       "    </tr>\n",
       "  </tbody>\n",
       "</table>\n",
       "</div>"
      ],
      "text/plain": [
       "   nivel ITTER107 Territory Indicators  \\\n",
       "0      0       IT     Italy   arrivals   \n",
       "\n",
       "                           Type of accommodation    TIME      Value  \n",
       "0  total collective accommodation establishments  1990-1  1948743.0  "
      ]
     },
     "execution_count": 20,
     "metadata": {},
     "output_type": "execute_result"
    }
   ],
   "source": [
    "df_month_arrivals = df_month_arrivals[[df_month_arrivals.columns.tolist()[-2]] + df_month_arrivals.columns.tolist()[0:2] + [df_month_arrivals.columns.tolist()[3]] + [df_month_arrivals.columns.tolist()[7]] + [df_month_arrivals.columns.tolist()[-7]] + [df_month_arrivals.columns.tolist()[-5]]]\n",
    "print(df_month_arrivals.shape)\n",
    "df_month_arrivals.head(1)"
   ]
  },
  {
   "cell_type": "code",
   "execution_count": 21,
   "metadata": {},
   "outputs": [],
   "source": [
    "df_month_arrivals.to_csv('../arrivals_nights_monthly.csv', sep = ';', decimal = '.')"
   ]
  },
  {
   "attachments": {},
   "cell_type": "markdown",
   "metadata": {},
   "source": [
    "## beds, baths and so on"
   ]
  },
  {
   "cell_type": "code",
   "execution_count": 22,
   "metadata": {},
   "outputs": [
    {
     "data": {
      "text/html": [
       "<div>\n",
       "<style scoped>\n",
       "    .dataframe tbody tr th:only-of-type {\n",
       "        vertical-align: middle;\n",
       "    }\n",
       "\n",
       "    .dataframe tbody tr th {\n",
       "        vertical-align: top;\n",
       "    }\n",
       "\n",
       "    .dataframe thead th {\n",
       "        text-align: right;\n",
       "    }\n",
       "</style>\n",
       "<table border=\"1\" class=\"dataframe\">\n",
       "  <thead>\n",
       "    <tr style=\"text-align: right;\">\n",
       "      <th></th>\n",
       "      <th>ITTER107</th>\n",
       "      <th>Territory</th>\n",
       "      <th>TIPO_DATO7</th>\n",
       "      <th>Indicators</th>\n",
       "      <th>CORREZ</th>\n",
       "      <th>Adjustment</th>\n",
       "      <th>TIPO_ALLOGGIO2</th>\n",
       "      <th>Type of accommodation</th>\n",
       "      <th>ATECO_2007</th>\n",
       "      <th>NACE rev. 2</th>\n",
       "      <th>ISO</th>\n",
       "      <th>Country of residence of guests</th>\n",
       "      <th>TIPOITTER1A</th>\n",
       "      <th>Type of locality</th>\n",
       "      <th>TIPOITTER1B</th>\n",
       "      <th>Degree of urbanisation</th>\n",
       "      <th>TIPOITTER1C</th>\n",
       "      <th>Coastal and non-coastal area</th>\n",
       "      <th>NUMEROSITA</th>\n",
       "      <th>Size by number of rooms</th>\n",
       "      <th>TIME</th>\n",
       "      <th>Select time</th>\n",
       "      <th>Value</th>\n",
       "      <th>Flag Codes</th>\n",
       "      <th>Flags</th>\n",
       "      <th>nivel</th>\n",
       "      <th>year_month</th>\n",
       "    </tr>\n",
       "  </thead>\n",
       "  <tbody>\n",
       "    <tr>\n",
       "      <th>0</th>\n",
       "      <td>IT</td>\n",
       "      <td>Italy</td>\n",
       "      <td>AR</td>\n",
       "      <td>arrivals</td>\n",
       "      <td>N</td>\n",
       "      <td>raw data</td>\n",
       "      <td>ALL</td>\n",
       "      <td>total collective accommodation establishments</td>\n",
       "      <td>551</td>\n",
       "      <td>hotels and similar accommodation</td>\n",
       "      <td>IT</td>\n",
       "      <td>Italy</td>\n",
       "      <td>ALL</td>\n",
       "      <td>all items</td>\n",
       "      <td>ALL</td>\n",
       "      <td>all items</td>\n",
       "      <td>ALL</td>\n",
       "      <td>all items</td>\n",
       "      <td>TOT</td>\n",
       "      <td>total</td>\n",
       "      <td>1990-1</td>\n",
       "      <td>Jan-1990</td>\n",
       "      <td>1948743.0</td>\n",
       "      <td>NaN</td>\n",
       "      <td>NaN</td>\n",
       "      <td>0</td>\n",
       "      <td>monthly</td>\n",
       "    </tr>\n",
       "  </tbody>\n",
       "</table>\n",
       "</div>"
      ],
      "text/plain": [
       "  ITTER107 Territory TIPO_DATO7 Indicators CORREZ Adjustment TIPO_ALLOGGIO2  \\\n",
       "0       IT     Italy         AR   arrivals      N   raw data            ALL   \n",
       "\n",
       "                           Type of accommodation ATECO_2007  \\\n",
       "0  total collective accommodation establishments        551   \n",
       "\n",
       "                        NACE rev. 2 ISO Country of residence of guests  \\\n",
       "0  hotels and similar accommodation  IT                          Italy   \n",
       "\n",
       "  TIPOITTER1A Type of locality TIPOITTER1B Degree of urbanisation TIPOITTER1C  \\\n",
       "0         ALL        all items         ALL              all items         ALL   \n",
       "\n",
       "  Coastal and non-coastal area NUMEROSITA Size by number of rooms    TIME  \\\n",
       "0                    all items        TOT                   total  1990-1   \n",
       "\n",
       "  Select time      Value Flag Codes Flags  nivel year_month  \n",
       "0    Jan-1990  1948743.0        NaN   NaN      0    monthly  "
      ]
     },
     "execution_count": 22,
     "metadata": {},
     "output_type": "execute_result"
    }
   ],
   "source": [
    "df_month.head(1)"
   ]
  },
  {
   "cell_type": "code",
   "execution_count": 35,
   "metadata": {},
   "outputs": [
    {
     "data": {
      "text/plain": [
       "bed-places                                          3319814\n",
       "number of establishments                            2867299\n",
       "bedrooms                                            1649799\n",
       "bathrooms                                           1630528\n",
       "nights spent                                         242222\n",
       "arrivals                                             242079\n",
       "average length of stay                                 5247\n",
       "net occupancy rate of bed-places (percentage)          4800\n",
       "gross occupancy rate of bed-places  (percentage)       4800\n",
       "Name: Indicators, dtype: int64"
      ]
     },
     "execution_count": 35,
     "metadata": {},
     "output_type": "execute_result"
    }
   ],
   "source": [
    "df_month['Indicators'].value_counts()"
   ]
  },
  {
   "cell_type": "code",
   "execution_count": 36,
   "metadata": {},
   "outputs": [
    {
     "name": "stdout",
     "output_type": "stream",
     "text": [
      "(7863826, 27)\n"
     ]
    },
    {
     "data": {
      "text/html": [
       "<div>\n",
       "<style scoped>\n",
       "    .dataframe tbody tr th:only-of-type {\n",
       "        vertical-align: middle;\n",
       "    }\n",
       "\n",
       "    .dataframe tbody tr th {\n",
       "        vertical-align: top;\n",
       "    }\n",
       "\n",
       "    .dataframe thead th {\n",
       "        text-align: right;\n",
       "    }\n",
       "</style>\n",
       "<table border=\"1\" class=\"dataframe\">\n",
       "  <thead>\n",
       "    <tr style=\"text-align: right;\">\n",
       "      <th></th>\n",
       "      <th>ITTER107</th>\n",
       "      <th>Territory</th>\n",
       "      <th>TIPO_DATO7</th>\n",
       "      <th>Indicators</th>\n",
       "      <th>CORREZ</th>\n",
       "      <th>Adjustment</th>\n",
       "      <th>TIPO_ALLOGGIO2</th>\n",
       "      <th>Type of accommodation</th>\n",
       "      <th>ATECO_2007</th>\n",
       "      <th>NACE rev. 2</th>\n",
       "      <th>ISO</th>\n",
       "      <th>Country of residence of guests</th>\n",
       "      <th>TIPOITTER1A</th>\n",
       "      <th>Type of locality</th>\n",
       "      <th>TIPOITTER1B</th>\n",
       "      <th>Degree of urbanisation</th>\n",
       "      <th>TIPOITTER1C</th>\n",
       "      <th>Coastal and non-coastal area</th>\n",
       "      <th>NUMEROSITA</th>\n",
       "      <th>Size by number of rooms</th>\n",
       "      <th>TIME</th>\n",
       "      <th>Select time</th>\n",
       "      <th>Value</th>\n",
       "      <th>Flag Codes</th>\n",
       "      <th>Flags</th>\n",
       "      <th>nivel</th>\n",
       "      <th>year_month</th>\n",
       "    </tr>\n",
       "  </thead>\n",
       "  <tbody>\n",
       "    <tr>\n",
       "      <th>1507328</th>\n",
       "      <td>29013</td>\n",
       "      <td>Castelnovo Bariano</td>\n",
       "      <td>NUM_EST</td>\n",
       "      <td>number of establishments</td>\n",
       "      <td>N</td>\n",
       "      <td>raw data</td>\n",
       "      <td>5_5P_STARSHOTELS</td>\n",
       "      <td>5 stars-5 stars deluxe hotels</td>\n",
       "      <td>551_553</td>\n",
       "      <td>hotels and similar accommodation, holiday and ...</td>\n",
       "      <td>NAP</td>\n",
       "      <td>Not applicable</td>\n",
       "      <td>ALL</td>\n",
       "      <td>all items</td>\n",
       "      <td>ALL</td>\n",
       "      <td>all items</td>\n",
       "      <td>ALL</td>\n",
       "      <td>all items</td>\n",
       "      <td>TOT</td>\n",
       "      <td>total</td>\n",
       "      <td>NaN</td>\n",
       "      <td>2012</td>\n",
       "      <td>NaN</td>\n",
       "      <td>-</td>\n",
       "      <td>the instance does not exist or any case has no...</td>\n",
       "      <td>3</td>\n",
       "      <td>monthly</td>\n",
       "    </tr>\n",
       "  </tbody>\n",
       "</table>\n",
       "</div>"
      ],
      "text/plain": [
       "        ITTER107           Territory TIPO_DATO7                Indicators  \\\n",
       "1507328    29013  Castelnovo Bariano    NUM_EST  number of establishments   \n",
       "\n",
       "        CORREZ Adjustment    TIPO_ALLOGGIO2          Type of accommodation  \\\n",
       "1507328      N   raw data  5_5P_STARSHOTELS  5 stars-5 stars deluxe hotels   \n",
       "\n",
       "        ATECO_2007                                        NACE rev. 2  ISO  \\\n",
       "1507328    551_553  hotels and similar accommodation, holiday and ...  NAP   \n",
       "\n",
       "        Country of residence of guests TIPOITTER1A Type of locality  \\\n",
       "1507328                 Not applicable         ALL        all items   \n",
       "\n",
       "        TIPOITTER1B Degree of urbanisation TIPOITTER1C  \\\n",
       "1507328         ALL              all items         ALL   \n",
       "\n",
       "        Coastal and non-coastal area NUMEROSITA Size by number of rooms TIME  \\\n",
       "1507328                    all items        TOT                   total  NaN   \n",
       "\n",
       "        Select time  Value Flag Codes  \\\n",
       "1507328        2012    NaN          -   \n",
       "\n",
       "                                                     Flags  nivel year_month  \n",
       "1507328  the instance does not exist or any case has no...      3    monthly  "
      ]
     },
     "execution_count": 36,
     "metadata": {},
     "output_type": "execute_result"
    }
   ],
   "source": [
    "df_month_hotels = df_month[((df_month['Indicators'] == 'bed-places') | (df_month['Indicators'] == 'number of establishments') | (df_month['Indicators'] == 'bedrooms') | (df_month['Indicators'] == 'bathrooms')) & \n",
    "    (df_month['Coastal and non-coastal area'] == 'all items') & (df_month['Type of locality'] == 'all items')\n",
    "    ]\n",
    "print(df_month_hotels.shape)\n",
    "df_month_hotels.head(1)"
   ]
  },
  {
   "cell_type": "code",
   "execution_count": 37,
   "metadata": {},
   "outputs": [
    {
     "data": {
      "text/plain": [
       "all items    7863826\n",
       "Name: Degree of urbanisation, dtype: int64"
      ]
     },
     "execution_count": 37,
     "metadata": {},
     "output_type": "execute_result"
    }
   ],
   "source": [
    "df_month_hotels['Degree of urbanisation'].value_counts()"
   ]
  },
  {
   "cell_type": "code",
   "execution_count": 38,
   "metadata": {},
   "outputs": [
    {
     "name": "stdout",
     "output_type": "stream",
     "text": [
      "(18324, 27)\n"
     ]
    },
    {
     "data": {
      "text/html": [
       "<div>\n",
       "<style scoped>\n",
       "    .dataframe tbody tr th:only-of-type {\n",
       "        vertical-align: middle;\n",
       "    }\n",
       "\n",
       "    .dataframe tbody tr th {\n",
       "        vertical-align: top;\n",
       "    }\n",
       "\n",
       "    .dataframe thead th {\n",
       "        text-align: right;\n",
       "    }\n",
       "</style>\n",
       "<table border=\"1\" class=\"dataframe\">\n",
       "  <thead>\n",
       "    <tr style=\"text-align: right;\">\n",
       "      <th></th>\n",
       "      <th>ITTER107</th>\n",
       "      <th>Territory</th>\n",
       "      <th>TIPO_DATO7</th>\n",
       "      <th>Indicators</th>\n",
       "      <th>CORREZ</th>\n",
       "      <th>Adjustment</th>\n",
       "      <th>TIPO_ALLOGGIO2</th>\n",
       "      <th>Type of accommodation</th>\n",
       "      <th>ATECO_2007</th>\n",
       "      <th>NACE rev. 2</th>\n",
       "      <th>ISO</th>\n",
       "      <th>Country of residence of guests</th>\n",
       "      <th>TIPOITTER1A</th>\n",
       "      <th>Type of locality</th>\n",
       "      <th>TIPOITTER1B</th>\n",
       "      <th>Degree of urbanisation</th>\n",
       "      <th>TIPOITTER1C</th>\n",
       "      <th>Coastal and non-coastal area</th>\n",
       "      <th>NUMEROSITA</th>\n",
       "      <th>Size by number of rooms</th>\n",
       "      <th>TIME</th>\n",
       "      <th>Select time</th>\n",
       "      <th>Value</th>\n",
       "      <th>Flag Codes</th>\n",
       "      <th>Flags</th>\n",
       "      <th>nivel</th>\n",
       "      <th>year_month</th>\n",
       "    </tr>\n",
       "  </thead>\n",
       "  <tbody>\n",
       "    <tr>\n",
       "      <th>2489616</th>\n",
       "      <td>088009</td>\n",
       "      <td>Ragusa</td>\n",
       "      <td>BEDS</td>\n",
       "      <td>bed-places</td>\n",
       "      <td>N</td>\n",
       "      <td>raw data</td>\n",
       "      <td>1_STARSHOTELS</td>\n",
       "      <td>1 star hotels</td>\n",
       "      <td>551_553</td>\n",
       "      <td>hotels and similar accommodation, holiday and ...</td>\n",
       "      <td>NAP</td>\n",
       "      <td>Not applicable</td>\n",
       "      <td>ALL</td>\n",
       "      <td>all items</td>\n",
       "      <td>ALL</td>\n",
       "      <td>all items</td>\n",
       "      <td>ALL</td>\n",
       "      <td>all items</td>\n",
       "      <td>TOT</td>\n",
       "      <td>total</td>\n",
       "      <td>NaN</td>\n",
       "      <td>2002</td>\n",
       "      <td>0.0</td>\n",
       "      <td>NaN</td>\n",
       "      <td>NaN</td>\n",
       "      <td>3</td>\n",
       "      <td>monthly</td>\n",
       "    </tr>\n",
       "  </tbody>\n",
       "</table>\n",
       "</div>"
      ],
      "text/plain": [
       "        ITTER107 Territory TIPO_DATO7  Indicators CORREZ Adjustment  \\\n",
       "2489616   088009    Ragusa       BEDS  bed-places      N   raw data   \n",
       "\n",
       "        TIPO_ALLOGGIO2 Type of accommodation ATECO_2007  \\\n",
       "2489616  1_STARSHOTELS         1 star hotels    551_553   \n",
       "\n",
       "                                               NACE rev. 2  ISO  \\\n",
       "2489616  hotels and similar accommodation, holiday and ...  NAP   \n",
       "\n",
       "        Country of residence of guests TIPOITTER1A Type of locality  \\\n",
       "2489616                 Not applicable         ALL        all items   \n",
       "\n",
       "        TIPOITTER1B Degree of urbanisation TIPOITTER1C  \\\n",
       "2489616         ALL              all items         ALL   \n",
       "\n",
       "        Coastal and non-coastal area NUMEROSITA Size by number of rooms TIME  \\\n",
       "2489616                    all items        TOT                   total  NaN   \n",
       "\n",
       "        Select time  Value Flag Codes Flags  nivel year_month  \n",
       "2489616        2002    0.0        NaN   NaN      3    monthly  "
      ]
     },
     "execution_count": 38,
     "metadata": {},
     "output_type": "execute_result"
    }
   ],
   "source": [
    "df_month_hotels = df_month_hotels[(df_month_hotels['Territory'].isin(bb.list_region)) | ((len(df_month_hotels['ITTER107']) == 5) & (df_month_hotels['ITTER107'].str.startswith('8') == True)) ]\n",
    "print(df_month_hotels.shape)\n",
    "df_month_hotels.head(1)"
   ]
  },
  {
   "cell_type": "code",
   "execution_count": 30,
   "metadata": {},
   "outputs": [],
   "source": [
    "df_month_hotels.to_csv('../hotels_monthly.csv', encoding='utf-8', sep=';', decimal='.', index = False)"
   ]
  },
  {
   "attachments": {},
   "cell_type": "markdown",
   "metadata": {},
   "source": [
    "# yearly data"
   ]
  },
  {
   "cell_type": "code",
   "execution_count": null,
   "metadata": {},
   "outputs": [],
   "source": [
    "df_year = df[df['year_month'] == 'yearly']\n",
    "print(df_year.shape)\n",
    "df_year.head()"
   ]
  },
  {
   "cell_type": "code",
   "execution_count": null,
   "metadata": {},
   "outputs": [],
   "source": [
    "df[df['TIME'] == '2021M1']"
   ]
  },
  {
   "cell_type": "code",
   "execution_count": null,
   "metadata": {},
   "outputs": [],
   "source": [
    "df['Type of accommodation'].value_counts()"
   ]
  },
  {
   "cell_type": "code",
   "execution_count": null,
   "metadata": {},
   "outputs": [],
   "source": [
    "alldf = []\n",
    "for file in files:\n",
    "    df = pd.read_csv(file)\n",
    "    alldf.append(df)"
   ]
  },
  {
   "cell_type": "code",
   "execution_count": null,
   "metadata": {},
   "outputs": [],
   "source": [
    "df = pd.concat([alldf[0]])\n",
    "print(df.shape)\n",
    "df.head()"
   ]
  },
  {
   "attachments": {},
   "cell_type": "markdown",
   "metadata": {},
   "source": [
    "# clean values"
   ]
  },
  {
   "cell_type": "code",
   "execution_count": null,
   "metadata": {},
   "outputs": [],
   "source": [
    "df['nivel'] = df['ITTER107'].apply(scl.nivelGeo)\n",
    "df['nivel'].value_counts()"
   ]
  },
  {
   "cell_type": "code",
   "execution_count": null,
   "metadata": {},
   "outputs": [],
   "source": [
    "df['period'] = df['TIME'].apply(scl.yearOrMonthlyData)\n",
    "df['period'].value_counts()"
   ]
  },
  {
   "cell_type": "code",
   "execution_count": null,
   "metadata": {},
   "outputs": [],
   "source": [
    "df['Variable'] = df['Indicatori'].replace(bb.dict_indicatori)\n",
    "df['Typology'] = df['Tipologia di esercizio'].replace(bb.dict_tipologia_esercizio)"
   ]
  },
  {
   "cell_type": "code",
   "execution_count": null,
   "metadata": {},
   "outputs": [],
   "source": [
    "df.head(1)"
   ]
  },
  {
   "attachments": {},
   "cell_type": "markdown",
   "metadata": {},
   "source": [
    "# reorder columns"
   ]
  },
  {
   "cell_type": "code",
   "execution_count": null,
   "metadata": {},
   "outputs": [],
   "source": [
    "lista_columnas = [df.columns.tolist()[-4]] + df.columns.tolist()[0:2] + df.columns.tolist()[-2:] + [df.columns.tolist()[-3]] + [df.columns.tolist()[-9]] + [df.columns.tolist()[-7]]\n",
    "lista_columnas"
   ]
  },
  {
   "cell_type": "code",
   "execution_count": null,
   "metadata": {},
   "outputs": [],
   "source": [
    "new_df = df[lista_columnas]\n",
    "new_df.head()"
   ]
  },
  {
   "cell_type": "code",
   "execution_count": null,
   "metadata": {},
   "outputs": [],
   "source": [
    "new_df.to_csv('../arrivals_nights_monthly.csv', encoding='utf-8', sep=';', decimal='.')"
   ]
  }
 ],
 "metadata": {
  "kernelspec": {
   "display_name": "iron",
   "language": "python",
   "name": "python3"
  },
  "language_info": {
   "codemirror_mode": {
    "name": "ipython",
    "version": 3
   },
   "file_extension": ".py",
   "mimetype": "text/x-python",
   "name": "python",
   "nbconvert_exporter": "python",
   "pygments_lexer": "ipython3",
   "version": "3.9.13"
  },
  "orig_nbformat": 4,
  "vscode": {
   "interpreter": {
    "hash": "e59d0b279e6461be5b4ea7b62838527cd8f41f3cbc9a1147b1a83b32d75ab689"
   }
  }
 },
 "nbformat": 4,
 "nbformat_minor": 2
}
