{
 "cells": [
  {
   "cell_type": "code",
   "execution_count": 1,
   "metadata": {},
   "outputs": [],
   "source": [
    "import pickle\n",
    "import pandas as pd\n",
    "import folium\n",
    "import geopy\n",
    "import geopandas\n",
    "from tqdm import tqdm\n",
    "import os\n",
    "import warnings\n",
    "warnings.filterwarnings(\"ignore\")\n",
    "import re"
   ]
  },
  {
   "cell_type": "code",
   "execution_count": 2,
   "metadata": {},
   "outputs": [],
   "source": [
    "from geopy import Nominatim\n",
    "locator = Nominatim(user_agent=\"myGeocoder\")\n",
    "location = locator.geocode(\"Champ de Mars, Paris, France\")"
   ]
  },
  {
   "attachments": {},
   "cell_type": "markdown",
   "metadata": {},
   "source": [
    "# import data\n",
    "I need to drop the `name` column cause there are some names missing."
   ]
  },
  {
   "cell_type": "code",
   "execution_count": 3,
   "metadata": {},
   "outputs": [
    {
     "data": {
      "text/plain": [
       "'e:\\\\Cursos\\\\00ironhack_DA\\\\00LABS\\\\vuelve-conmigo-a-italia\\\\data\\\\pickle'"
      ]
     },
     "execution_count": 3,
     "metadata": {},
     "output_type": "execute_result"
    }
   ],
   "source": [
    "os.chdir('..')\n",
    "os.chdir('data')\n",
    "os.chdir('pickle')\n",
    "os.getcwd()"
   ]
  },
  {
   "cell_type": "code",
   "execution_count": 4,
   "metadata": {},
   "outputs": [
    {
     "data": {
      "text/plain": [
       "['dict_booking_0.pickle',\n",
       " 'dict_booking_1.pickle',\n",
       " 'dict_booking_2.pickle',\n",
       " 'dict_booking_3.pickle',\n",
       " 'dict_booking_4.pickle',\n",
       " 'dict_booking_5.pickle']"
      ]
     },
     "execution_count": 4,
     "metadata": {},
     "output_type": "execute_result"
    }
   ],
   "source": [
    "path = os.getcwd()\n",
    "files = os.listdir(path)\n",
    "files = [f for f in files if f[-6:] == 'pickle']\n",
    "files"
   ]
  },
  {
   "cell_type": "code",
   "execution_count": 5,
   "metadata": {},
   "outputs": [
    {
     "name": "stdout",
     "output_type": "stream",
     "text": [
      "49 49 49 49 49\n",
      "1905 1905 1905 1905 1905\n",
      "1172 1172 1172 1172 1172\n",
      "75 75 75 75 75\n",
      "807 807 807 807 807\n",
      "51 51 51 51 51\n"
     ]
    }
   ],
   "source": [
    "list_dicts = []\n",
    "for file in files:\n",
    "    with open(f'{file}', 'rb') as dict_booking:\n",
    "        dict_booking = pickle.load(dict_booking)\n",
    "        if len(dict_booking['url']) != len(dict_booking['name']):\n",
    "            del dict_booking['url'][-1]\n",
    "        print(len(dict_booking['url']), len(dict_booking['name']), len(dict_booking['pagina']), len(dict_booking['currentPrice']), len(dict_booking['address']))\n",
    "        list_dicts.append(pd.DataFrame(dict_booking))"
   ]
  },
  {
   "cell_type": "code",
   "execution_count": 6,
   "metadata": {},
   "outputs": [
    {
     "data": {
      "text/html": [
       "<div>\n",
       "<style scoped>\n",
       "    .dataframe tbody tr th:only-of-type {\n",
       "        vertical-align: middle;\n",
       "    }\n",
       "\n",
       "    .dataframe tbody tr th {\n",
       "        vertical-align: top;\n",
       "    }\n",
       "\n",
       "    .dataframe thead th {\n",
       "        text-align: right;\n",
       "    }\n",
       "</style>\n",
       "<table border=\"1\" class=\"dataframe\">\n",
       "  <thead>\n",
       "    <tr style=\"text-align: right;\">\n",
       "      <th></th>\n",
       "      <th>url</th>\n",
       "      <th>name</th>\n",
       "      <th>pagina</th>\n",
       "      <th>address</th>\n",
       "      <th>currentPrice</th>\n",
       "      <th>previousPrice</th>\n",
       "      <th>rating</th>\n",
       "      <th>reviewNumber</th>\n",
       "      <th>checkingDate</th>\n",
       "      <th>image</th>\n",
       "    </tr>\n",
       "  </thead>\n",
       "  <tbody>\n",
       "    <tr>\n",
       "      <th>0</th>\n",
       "      <td>https://www.booking.com/hotel/it/b-amp-b-donna...</td>\n",
       "      <td>B&amp;B Donna Teresa</td>\n",
       "      <td>\\n\\n\\n\\n\\n\\n\\n\\n\\n\\n\\n\\n\\n\\n\\n\\n\\n\\n\\n\\n\\n\\n\\n...</td>\n",
       "      <td>[via giuseppe garibaldi, 137/b, 92100 , 92100 ...</td>\n",
       "      <td>€ 76</td>\n",
       "      <td>€ 124</td>\n",
       "      <td>9.2</td>\n",
       "      <td>525 reviews</td>\n",
       "      <td>2023-09-01</td>\n",
       "      <td>https://cf.bstatic.com/xdata/images/hotel/squa...</td>\n",
       "    </tr>\n",
       "  </tbody>\n",
       "</table>\n",
       "</div>"
      ],
      "text/plain": [
       "                                                 url              name  \\\n",
       "0  https://www.booking.com/hotel/it/b-amp-b-donna...  B&B Donna Teresa   \n",
       "\n",
       "                                              pagina  \\\n",
       "0  \\n\\n\\n\\n\\n\\n\\n\\n\\n\\n\\n\\n\\n\\n\\n\\n\\n\\n\\n\\n\\n\\n\\n...   \n",
       "\n",
       "                                             address currentPrice  \\\n",
       "0  [via giuseppe garibaldi, 137/b, 92100 , 92100 ...         € 76   \n",
       "\n",
       "  previousPrice rating reviewNumber checkingDate  \\\n",
       "0         € 124    9.2  525 reviews   2023-09-01   \n",
       "\n",
       "                                               image  \n",
       "0  https://cf.bstatic.com/xdata/images/hotel/squa...  "
      ]
     },
     "execution_count": 6,
     "metadata": {},
     "output_type": "execute_result"
    }
   ],
   "source": [
    "df_booking = pd.concat(list_dicts).reset_index(drop=True)\n",
    "df_booking.head(1)"
   ]
  },
  {
   "cell_type": "code",
   "execution_count": 7,
   "metadata": {},
   "outputs": [
    {
     "data": {
      "text/html": [
       "<div>\n",
       "<style scoped>\n",
       "    .dataframe tbody tr th:only-of-type {\n",
       "        vertical-align: middle;\n",
       "    }\n",
       "\n",
       "    .dataframe tbody tr th {\n",
       "        vertical-align: top;\n",
       "    }\n",
       "\n",
       "    .dataframe thead th {\n",
       "        text-align: right;\n",
       "    }\n",
       "</style>\n",
       "<table border=\"1\" class=\"dataframe\">\n",
       "  <thead>\n",
       "    <tr style=\"text-align: right;\">\n",
       "      <th></th>\n",
       "      <th>url</th>\n",
       "      <th>name</th>\n",
       "      <th>pagina</th>\n",
       "      <th>address</th>\n",
       "      <th>currentPrice</th>\n",
       "      <th>previousPrice</th>\n",
       "      <th>rating</th>\n",
       "      <th>reviewNumber</th>\n",
       "      <th>checkingDate</th>\n",
       "      <th>image</th>\n",
       "    </tr>\n",
       "  </thead>\n",
       "  <tbody>\n",
       "    <tr>\n",
       "      <th>0</th>\n",
       "      <td>https://www.booking.com/hotel/it/b-amp-b-donna...</td>\n",
       "      <td>B&amp;B Donna Teresa</td>\n",
       "      <td>\\n\\n\\n\\n\\n\\n\\n\\n\\n\\n\\n\\n\\n\\n\\n\\n\\n\\n\\n\\n\\n\\n\\n...</td>\n",
       "      <td>via giuseppe garibaldi, 137/b, 92100 , 92100 a...</td>\n",
       "      <td>€ 76</td>\n",
       "      <td>€ 124</td>\n",
       "      <td>9.2</td>\n",
       "      <td>525 reviews</td>\n",
       "      <td>2023-09-01</td>\n",
       "      <td>https://cf.bstatic.com/xdata/images/hotel/squa...</td>\n",
       "    </tr>\n",
       "  </tbody>\n",
       "</table>\n",
       "</div>"
      ],
      "text/plain": [
       "                                                 url              name  \\\n",
       "0  https://www.booking.com/hotel/it/b-amp-b-donna...  B&B Donna Teresa   \n",
       "\n",
       "                                              pagina  \\\n",
       "0  \\n\\n\\n\\n\\n\\n\\n\\n\\n\\n\\n\\n\\n\\n\\n\\n\\n\\n\\n\\n\\n\\n\\n...   \n",
       "\n",
       "                                             address currentPrice  \\\n",
       "0  via giuseppe garibaldi, 137/b, 92100 , 92100 a...         € 76   \n",
       "\n",
       "  previousPrice rating reviewNumber checkingDate  \\\n",
       "0         € 124    9.2  525 reviews   2023-09-01   \n",
       "\n",
       "                                               image  \n",
       "0  https://cf.bstatic.com/xdata/images/hotel/squa...  "
      ]
     },
     "execution_count": 7,
     "metadata": {},
     "output_type": "execute_result"
    }
   ],
   "source": [
    "df_booking = df_booking.explode('address')\n",
    "df_booking.head(1)"
   ]
  },
  {
   "attachments": {},
   "cell_type": "markdown",
   "metadata": {},
   "source": [
    "cleaning duplicated prices "
   ]
  },
  {
   "cell_type": "code",
   "execution_count": 8,
   "metadata": {},
   "outputs": [
    {
     "data": {
      "text/plain": [
       "€ 85          80\n",
       "€ 90          79\n",
       "€ 72          74\n",
       "€ 82          73\n",
       "€ 100         73\n",
       "              ..\n",
       "€ 207          1\n",
       "€ 191          1\n",
       "€ 364          1\n",
       "€ 172€ 138     1\n",
       "€ 493          1\n",
       "Name: currentPrice, Length: 414, dtype: int64"
      ]
     },
     "execution_count": 8,
     "metadata": {},
     "output_type": "execute_result"
    }
   ],
   "source": [
    "df_booking['currentPrice'].value_counts()"
   ]
  },
  {
   "cell_type": "code",
   "execution_count": 9,
   "metadata": {},
   "outputs": [],
   "source": [
    "def countEuro(column):\n",
    "    if column.count('€') == 1:\n",
    "        return 1\n",
    "    elif column.count('€') == 2:\n",
    "        return 2\n",
    "    else:\n",
    "        return 0"
   ]
  },
  {
   "cell_type": "code",
   "execution_count": 10,
   "metadata": {},
   "outputs": [],
   "source": [
    "df_booking['cleanPrice'] = df_booking['currentPrice'].apply(countEuro)"
   ]
  },
  {
   "cell_type": "code",
   "execution_count": 11,
   "metadata": {},
   "outputs": [
    {
     "data": {
      "text/plain": [
       "1    4283\n",
       "2     238\n",
       "Name: cleanPrice, dtype: int64"
      ]
     },
     "execution_count": 11,
     "metadata": {},
     "output_type": "execute_result"
    }
   ],
   "source": [
    "df_booking['cleanPrice'].value_counts()"
   ]
  },
  {
   "cell_type": "code",
   "execution_count": 12,
   "metadata": {},
   "outputs": [],
   "source": [
    "df_booking_limpio = df_booking[df_booking['cleanPrice'] == 1]\n",
    "df_booking_sucio = df_booking[df_booking['cleanPrice'] == 2]"
   ]
  },
  {
   "cell_type": "code",
   "execution_count": 13,
   "metadata": {},
   "outputs": [
    {
     "data": {
      "text/html": [
       "<div>\n",
       "<style scoped>\n",
       "    .dataframe tbody tr th:only-of-type {\n",
       "        vertical-align: middle;\n",
       "    }\n",
       "\n",
       "    .dataframe tbody tr th {\n",
       "        vertical-align: top;\n",
       "    }\n",
       "\n",
       "    .dataframe thead th {\n",
       "        text-align: right;\n",
       "    }\n",
       "</style>\n",
       "<table border=\"1\" class=\"dataframe\">\n",
       "  <thead>\n",
       "    <tr style=\"text-align: right;\">\n",
       "      <th></th>\n",
       "      <th>url</th>\n",
       "      <th>name</th>\n",
       "      <th>pagina</th>\n",
       "      <th>address</th>\n",
       "      <th>currentPrice</th>\n",
       "      <th>previousPrice</th>\n",
       "      <th>rating</th>\n",
       "      <th>reviewNumber</th>\n",
       "      <th>checkingDate</th>\n",
       "      <th>image</th>\n",
       "      <th>cleanPrice</th>\n",
       "    </tr>\n",
       "  </thead>\n",
       "  <tbody>\n",
       "    <tr>\n",
       "      <th>17</th>\n",
       "      <td>https://www.booking.com/hotel/it/residence-gui...</td>\n",
       "      <td>Residence Guidaloca</td>\n",
       "      <td>\\n\\n\\n\\n\\n\\n\\n\\n\\n\\n\\n\\n\\n\\n\\n\\n\\n\\n\\n\\n\\n\\n\\n...</td>\n",
       "      <td>località guidaloca - scopello, 91014 scopello,...</td>\n",
       "      <td>€ 141€ 127</td>\n",
       "      <td>NaN</td>\n",
       "      <td>8.3</td>\n",
       "      <td>624 reviews</td>\n",
       "      <td>2023-09-01</td>\n",
       "      <td>https://cf.bstatic.com/xdata/images/hotel/squa...</td>\n",
       "      <td>2</td>\n",
       "    </tr>\n",
       "  </tbody>\n",
       "</table>\n",
       "</div>"
      ],
      "text/plain": [
       "                                                  url                 name  \\\n",
       "17  https://www.booking.com/hotel/it/residence-gui...  Residence Guidaloca   \n",
       "\n",
       "                                               pagina  \\\n",
       "17  \\n\\n\\n\\n\\n\\n\\n\\n\\n\\n\\n\\n\\n\\n\\n\\n\\n\\n\\n\\n\\n\\n\\n...   \n",
       "\n",
       "                                              address currentPrice  \\\n",
       "17  località guidaloca - scopello, 91014 scopello,...   € 141€ 127   \n",
       "\n",
       "   previousPrice rating reviewNumber checkingDate  \\\n",
       "17           NaN    8.3  624 reviews   2023-09-01   \n",
       "\n",
       "                                                image  cleanPrice  \n",
       "17  https://cf.bstatic.com/xdata/images/hotel/squa...           2  "
      ]
     },
     "execution_count": 13,
     "metadata": {},
     "output_type": "execute_result"
    }
   ],
   "source": [
    "df_booking_sucio.head(1)"
   ]
  },
  {
   "cell_type": "code",
   "execution_count": 14,
   "metadata": {},
   "outputs": [
    {
     "data": {
      "text/html": [
       "<div>\n",
       "<style scoped>\n",
       "    .dataframe tbody tr th:only-of-type {\n",
       "        vertical-align: middle;\n",
       "    }\n",
       "\n",
       "    .dataframe tbody tr th {\n",
       "        vertical-align: top;\n",
       "    }\n",
       "\n",
       "    .dataframe thead th {\n",
       "        text-align: right;\n",
       "    }\n",
       "</style>\n",
       "<table border=\"1\" class=\"dataframe\">\n",
       "  <thead>\n",
       "    <tr style=\"text-align: right;\">\n",
       "      <th></th>\n",
       "      <th>url</th>\n",
       "      <th>name</th>\n",
       "      <th>pagina</th>\n",
       "      <th>address</th>\n",
       "      <th>currentPrice</th>\n",
       "      <th>previousPrice</th>\n",
       "      <th>rating</th>\n",
       "      <th>reviewNumber</th>\n",
       "      <th>checkingDate</th>\n",
       "      <th>image</th>\n",
       "      <th>cleanPrice</th>\n",
       "      <th>0</th>\n",
       "      <th>1</th>\n",
       "      <th>2</th>\n",
       "    </tr>\n",
       "  </thead>\n",
       "  <tbody>\n",
       "    <tr>\n",
       "      <th>17</th>\n",
       "      <td>https://www.booking.com/hotel/it/residence-gui...</td>\n",
       "      <td>Residence Guidaloca</td>\n",
       "      <td>\\n\\n\\n\\n\\n\\n\\n\\n\\n\\n\\n\\n\\n\\n\\n\\n\\n\\n\\n\\n\\n\\n\\n...</td>\n",
       "      <td>località guidaloca - scopello, 91014 scopello,...</td>\n",
       "      <td>€ 141€ 127</td>\n",
       "      <td>NaN</td>\n",
       "      <td>8.3</td>\n",
       "      <td>624 reviews</td>\n",
       "      <td>2023-09-01</td>\n",
       "      <td>https://cf.bstatic.com/xdata/images/hotel/squa...</td>\n",
       "      <td>2</td>\n",
       "      <td></td>\n",
       "      <td>141</td>\n",
       "      <td>127</td>\n",
       "    </tr>\n",
       "  </tbody>\n",
       "</table>\n",
       "</div>"
      ],
      "text/plain": [
       "                                                  url                 name  \\\n",
       "17  https://www.booking.com/hotel/it/residence-gui...  Residence Guidaloca   \n",
       "\n",
       "                                               pagina  \\\n",
       "17  \\n\\n\\n\\n\\n\\n\\n\\n\\n\\n\\n\\n\\n\\n\\n\\n\\n\\n\\n\\n\\n\\n\\n...   \n",
       "\n",
       "                                              address currentPrice  \\\n",
       "17  località guidaloca - scopello, 91014 scopello,...   € 141€ 127   \n",
       "\n",
       "   previousPrice rating reviewNumber checkingDate  \\\n",
       "17           NaN    8.3  624 reviews   2023-09-01   \n",
       "\n",
       "                                                image  cleanPrice 0     1  \\\n",
       "17  https://cf.bstatic.com/xdata/images/hotel/squa...           2     141   \n",
       "\n",
       "       2  \n",
       "17   127  "
      ]
     },
     "execution_count": 14,
     "metadata": {},
     "output_type": "execute_result"
    }
   ],
   "source": [
    "df_booking_sucio[[0,1,2]] = df_booking_sucio['currentPrice'].str.split('€', expand=True, n = 2)\n",
    "df_booking_sucio.head(1)"
   ]
  },
  {
   "cell_type": "code",
   "execution_count": 15,
   "metadata": {},
   "outputs": [],
   "source": [
    "df_booking_sucio['currentPrice'] = '€ ' + df_booking_sucio[2] \n",
    "df_booking_sucio['previousPrice'] = '€ ' + df_booking_sucio[1]"
   ]
  },
  {
   "cell_type": "code",
   "execution_count": 37,
   "metadata": {},
   "outputs": [
    {
     "ename": "KeyError",
     "evalue": "\"['cleanPrice', 0, 1, 2] not found in axis\"",
     "output_type": "error",
     "traceback": [
      "\u001b[1;31m---------------------------------------------------------------------------\u001b[0m",
      "\u001b[1;31mKeyError\u001b[0m                                  Traceback (most recent call last)",
      "Cell \u001b[1;32mIn [37], line 1\u001b[0m\n\u001b[1;32m----> 1\u001b[0m df_booking_sucio\u001b[39m.\u001b[39;49mdrop([\u001b[39m'\u001b[39;49m\u001b[39mcleanPrice\u001b[39;49m\u001b[39m'\u001b[39;49m, \u001b[39m0\u001b[39;49m, \u001b[39m1\u001b[39;49m, \u001b[39m2\u001b[39;49m], axis \u001b[39m=\u001b[39;49m \u001b[39m1\u001b[39;49m, inplace\u001b[39m=\u001b[39;49m\u001b[39mTrue\u001b[39;49;00m)\n\u001b[0;32m      2\u001b[0m df_booking_limpio\u001b[39m.\u001b[39mdrop([\u001b[39m'\u001b[39m\u001b[39mcleanPrice\u001b[39m\u001b[39m'\u001b[39m], axis \u001b[39m=\u001b[39m \u001b[39m1\u001b[39m, inplace\u001b[39m=\u001b[39m\u001b[39mTrue\u001b[39;00m)\n\u001b[0;32m      3\u001b[0m df_booking_sucio\u001b[39m.\u001b[39mhead(\u001b[39m1\u001b[39m)\n",
      "File \u001b[1;32mc:\\Users\\annas\\anaconda3\\envs\\iron\\lib\\site-packages\\pandas\\util\\_decorators.py:331\u001b[0m, in \u001b[0;36mdeprecate_nonkeyword_arguments.<locals>.decorate.<locals>.wrapper\u001b[1;34m(*args, **kwargs)\u001b[0m\n\u001b[0;32m    325\u001b[0m \u001b[39mif\u001b[39;00m \u001b[39mlen\u001b[39m(args) \u001b[39m>\u001b[39m num_allow_args:\n\u001b[0;32m    326\u001b[0m     warnings\u001b[39m.\u001b[39mwarn(\n\u001b[0;32m    327\u001b[0m         msg\u001b[39m.\u001b[39mformat(arguments\u001b[39m=\u001b[39m_format_argument_list(allow_args)),\n\u001b[0;32m    328\u001b[0m         \u001b[39mFutureWarning\u001b[39;00m,\n\u001b[0;32m    329\u001b[0m         stacklevel\u001b[39m=\u001b[39mfind_stack_level(),\n\u001b[0;32m    330\u001b[0m     )\n\u001b[1;32m--> 331\u001b[0m \u001b[39mreturn\u001b[39;00m func(\u001b[39m*\u001b[39margs, \u001b[39m*\u001b[39m\u001b[39m*\u001b[39mkwargs)\n",
      "File \u001b[1;32mc:\\Users\\annas\\anaconda3\\envs\\iron\\lib\\site-packages\\pandas\\core\\frame.py:5388\u001b[0m, in \u001b[0;36mDataFrame.drop\u001b[1;34m(self, labels, axis, index, columns, level, inplace, errors)\u001b[0m\n\u001b[0;32m   5240\u001b[0m \u001b[39m@deprecate_nonkeyword_arguments\u001b[39m(version\u001b[39m=\u001b[39m\u001b[39mNone\u001b[39;00m, allowed_args\u001b[39m=\u001b[39m[\u001b[39m\"\u001b[39m\u001b[39mself\u001b[39m\u001b[39m\"\u001b[39m, \u001b[39m\"\u001b[39m\u001b[39mlabels\u001b[39m\u001b[39m\"\u001b[39m])\n\u001b[0;32m   5241\u001b[0m \u001b[39mdef\u001b[39;00m \u001b[39mdrop\u001b[39m(  \u001b[39m# type: ignore[override]\u001b[39;00m\n\u001b[0;32m   5242\u001b[0m     \u001b[39mself\u001b[39m,\n\u001b[1;32m   (...)\u001b[0m\n\u001b[0;32m   5249\u001b[0m     errors: IgnoreRaise \u001b[39m=\u001b[39m \u001b[39m\"\u001b[39m\u001b[39mraise\u001b[39m\u001b[39m\"\u001b[39m,\n\u001b[0;32m   5250\u001b[0m ) \u001b[39m-\u001b[39m\u001b[39m>\u001b[39m DataFrame \u001b[39m|\u001b[39m \u001b[39mNone\u001b[39;00m:\n\u001b[0;32m   5251\u001b[0m \u001b[39m    \u001b[39m\u001b[39m\"\"\"\u001b[39;00m\n\u001b[0;32m   5252\u001b[0m \u001b[39m    Drop specified labels from rows or columns.\u001b[39;00m\n\u001b[0;32m   5253\u001b[0m \n\u001b[1;32m   (...)\u001b[0m\n\u001b[0;32m   5386\u001b[0m \u001b[39m            weight  1.0     0.8\u001b[39;00m\n\u001b[0;32m   5387\u001b[0m \u001b[39m    \"\"\"\u001b[39;00m\n\u001b[1;32m-> 5388\u001b[0m     \u001b[39mreturn\u001b[39;00m \u001b[39msuper\u001b[39;49m()\u001b[39m.\u001b[39;49mdrop(\n\u001b[0;32m   5389\u001b[0m         labels\u001b[39m=\u001b[39;49mlabels,\n\u001b[0;32m   5390\u001b[0m         axis\u001b[39m=\u001b[39;49maxis,\n\u001b[0;32m   5391\u001b[0m         index\u001b[39m=\u001b[39;49mindex,\n\u001b[0;32m   5392\u001b[0m         columns\u001b[39m=\u001b[39;49mcolumns,\n\u001b[0;32m   5393\u001b[0m         level\u001b[39m=\u001b[39;49mlevel,\n\u001b[0;32m   5394\u001b[0m         inplace\u001b[39m=\u001b[39;49minplace,\n\u001b[0;32m   5395\u001b[0m         errors\u001b[39m=\u001b[39;49merrors,\n\u001b[0;32m   5396\u001b[0m     )\n",
      "File \u001b[1;32mc:\\Users\\annas\\anaconda3\\envs\\iron\\lib\\site-packages\\pandas\\util\\_decorators.py:331\u001b[0m, in \u001b[0;36mdeprecate_nonkeyword_arguments.<locals>.decorate.<locals>.wrapper\u001b[1;34m(*args, **kwargs)\u001b[0m\n\u001b[0;32m    325\u001b[0m \u001b[39mif\u001b[39;00m \u001b[39mlen\u001b[39m(args) \u001b[39m>\u001b[39m num_allow_args:\n\u001b[0;32m    326\u001b[0m     warnings\u001b[39m.\u001b[39mwarn(\n\u001b[0;32m    327\u001b[0m         msg\u001b[39m.\u001b[39mformat(arguments\u001b[39m=\u001b[39m_format_argument_list(allow_args)),\n\u001b[0;32m    328\u001b[0m         \u001b[39mFutureWarning\u001b[39;00m,\n\u001b[0;32m    329\u001b[0m         stacklevel\u001b[39m=\u001b[39mfind_stack_level(),\n\u001b[0;32m    330\u001b[0m     )\n\u001b[1;32m--> 331\u001b[0m \u001b[39mreturn\u001b[39;00m func(\u001b[39m*\u001b[39margs, \u001b[39m*\u001b[39m\u001b[39m*\u001b[39mkwargs)\n",
      "File \u001b[1;32mc:\\Users\\annas\\anaconda3\\envs\\iron\\lib\\site-packages\\pandas\\core\\generic.py:4505\u001b[0m, in \u001b[0;36mNDFrame.drop\u001b[1;34m(self, labels, axis, index, columns, level, inplace, errors)\u001b[0m\n\u001b[0;32m   4503\u001b[0m \u001b[39mfor\u001b[39;00m axis, labels \u001b[39min\u001b[39;00m axes\u001b[39m.\u001b[39mitems():\n\u001b[0;32m   4504\u001b[0m     \u001b[39mif\u001b[39;00m labels \u001b[39mis\u001b[39;00m \u001b[39mnot\u001b[39;00m \u001b[39mNone\u001b[39;00m:\n\u001b[1;32m-> 4505\u001b[0m         obj \u001b[39m=\u001b[39m obj\u001b[39m.\u001b[39;49m_drop_axis(labels, axis, level\u001b[39m=\u001b[39;49mlevel, errors\u001b[39m=\u001b[39;49merrors)\n\u001b[0;32m   4507\u001b[0m \u001b[39mif\u001b[39;00m inplace:\n\u001b[0;32m   4508\u001b[0m     \u001b[39mself\u001b[39m\u001b[39m.\u001b[39m_update_inplace(obj)\n",
      "File \u001b[1;32mc:\\Users\\annas\\anaconda3\\envs\\iron\\lib\\site-packages\\pandas\\core\\generic.py:4546\u001b[0m, in \u001b[0;36mNDFrame._drop_axis\u001b[1;34m(self, labels, axis, level, errors, only_slice)\u001b[0m\n\u001b[0;32m   4544\u001b[0m         new_axis \u001b[39m=\u001b[39m axis\u001b[39m.\u001b[39mdrop(labels, level\u001b[39m=\u001b[39mlevel, errors\u001b[39m=\u001b[39merrors)\n\u001b[0;32m   4545\u001b[0m     \u001b[39melse\u001b[39;00m:\n\u001b[1;32m-> 4546\u001b[0m         new_axis \u001b[39m=\u001b[39m axis\u001b[39m.\u001b[39;49mdrop(labels, errors\u001b[39m=\u001b[39;49merrors)\n\u001b[0;32m   4547\u001b[0m     indexer \u001b[39m=\u001b[39m axis\u001b[39m.\u001b[39mget_indexer(new_axis)\n\u001b[0;32m   4549\u001b[0m \u001b[39m# Case for non-unique axis\u001b[39;00m\n\u001b[0;32m   4550\u001b[0m \u001b[39melse\u001b[39;00m:\n",
      "File \u001b[1;32mc:\\Users\\annas\\anaconda3\\envs\\iron\\lib\\site-packages\\pandas\\core\\indexes\\base.py:6975\u001b[0m, in \u001b[0;36mIndex.drop\u001b[1;34m(self, labels, errors)\u001b[0m\n\u001b[0;32m   6973\u001b[0m \u001b[39mif\u001b[39;00m mask\u001b[39m.\u001b[39many():\n\u001b[0;32m   6974\u001b[0m     \u001b[39mif\u001b[39;00m errors \u001b[39m!=\u001b[39m \u001b[39m\"\u001b[39m\u001b[39mignore\u001b[39m\u001b[39m\"\u001b[39m:\n\u001b[1;32m-> 6975\u001b[0m         \u001b[39mraise\u001b[39;00m \u001b[39mKeyError\u001b[39;00m(\u001b[39mf\u001b[39m\u001b[39m\"\u001b[39m\u001b[39m{\u001b[39;00m\u001b[39mlist\u001b[39m(labels[mask])\u001b[39m}\u001b[39;00m\u001b[39m not found in axis\u001b[39m\u001b[39m\"\u001b[39m)\n\u001b[0;32m   6976\u001b[0m     indexer \u001b[39m=\u001b[39m indexer[\u001b[39m~\u001b[39mmask]\n\u001b[0;32m   6977\u001b[0m \u001b[39mreturn\u001b[39;00m \u001b[39mself\u001b[39m\u001b[39m.\u001b[39mdelete(indexer)\n",
      "\u001b[1;31mKeyError\u001b[0m: \"['cleanPrice', 0, 1, 2] not found in axis\""
     ]
    }
   ],
   "source": [
    "df_booking_sucio.drop(['cleanPrice', 0, 1, 2], axis = 1, inplace=True)\n",
    "df_booking_limpio.drop(['cleanPrice'], axis = 1, inplace=True)\n",
    "df_booking_sucio.head(1)"
   ]
  },
  {
   "cell_type": "code",
   "execution_count": 17,
   "metadata": {},
   "outputs": [
    {
     "name": "stdout",
     "output_type": "stream",
     "text": [
      "(4521, 11)\n"
     ]
    },
    {
     "data": {
      "text/html": [
       "<div>\n",
       "<style scoped>\n",
       "    .dataframe tbody tr th:only-of-type {\n",
       "        vertical-align: middle;\n",
       "    }\n",
       "\n",
       "    .dataframe tbody tr th {\n",
       "        vertical-align: top;\n",
       "    }\n",
       "\n",
       "    .dataframe thead th {\n",
       "        text-align: right;\n",
       "    }\n",
       "</style>\n",
       "<table border=\"1\" class=\"dataframe\">\n",
       "  <thead>\n",
       "    <tr style=\"text-align: right;\">\n",
       "      <th></th>\n",
       "      <th>url</th>\n",
       "      <th>name</th>\n",
       "      <th>pagina</th>\n",
       "      <th>address</th>\n",
       "      <th>currentPrice</th>\n",
       "      <th>previousPrice</th>\n",
       "      <th>rating</th>\n",
       "      <th>reviewNumber</th>\n",
       "      <th>checkingDate</th>\n",
       "      <th>image</th>\n",
       "      <th>cleanPrice</th>\n",
       "    </tr>\n",
       "  </thead>\n",
       "  <tbody>\n",
       "    <tr>\n",
       "      <th>0</th>\n",
       "      <td>https://www.booking.com/hotel/it/b-amp-b-donna...</td>\n",
       "      <td>B&amp;B Donna Teresa</td>\n",
       "      <td>\\n\\n\\n\\n\\n\\n\\n\\n\\n\\n\\n\\n\\n\\n\\n\\n\\n\\n\\n\\n\\n\\n\\n...</td>\n",
       "      <td>via giuseppe garibaldi, 137/b, 92100 , 92100 a...</td>\n",
       "      <td>€ 76</td>\n",
       "      <td>€ 124</td>\n",
       "      <td>9.2</td>\n",
       "      <td>525 reviews</td>\n",
       "      <td>2023-09-01</td>\n",
       "      <td>https://cf.bstatic.com/xdata/images/hotel/squa...</td>\n",
       "      <td>1.0</td>\n",
       "    </tr>\n",
       "  </tbody>\n",
       "</table>\n",
       "</div>"
      ],
      "text/plain": [
       "                                                 url              name  \\\n",
       "0  https://www.booking.com/hotel/it/b-amp-b-donna...  B&B Donna Teresa   \n",
       "\n",
       "                                              pagina  \\\n",
       "0  \\n\\n\\n\\n\\n\\n\\n\\n\\n\\n\\n\\n\\n\\n\\n\\n\\n\\n\\n\\n\\n\\n\\n...   \n",
       "\n",
       "                                             address currentPrice  \\\n",
       "0  via giuseppe garibaldi, 137/b, 92100 , 92100 a...         € 76   \n",
       "\n",
       "  previousPrice rating reviewNumber checkingDate  \\\n",
       "0         € 124    9.2  525 reviews   2023-09-01   \n",
       "\n",
       "                                               image  cleanPrice  \n",
       "0  https://cf.bstatic.com/xdata/images/hotel/squa...         1.0  "
      ]
     },
     "execution_count": 17,
     "metadata": {},
     "output_type": "execute_result"
    }
   ],
   "source": [
    "df_booking = pd.concat([df_booking_limpio, df_booking_sucio])\n",
    "print(df_booking.shape)\n",
    "df_booking.head(1)"
   ]
  },
  {
   "attachments": {},
   "cell_type": "markdown",
   "metadata": {},
   "source": [
    "cleaning info -- parkings and other amenities\n",
    "- comida\n",
    "- ensuite bathroom\n",
    "- piscina\n",
    "- air conditioning"
   ]
  },
  {
   "cell_type": "code",
   "execution_count": 24,
   "metadata": {},
   "outputs": [
    {
     "data": {
      "text/plain": [
       "free parking    2582\n",
       "Name: parking, dtype: int64"
      ]
     },
     "execution_count": 24,
     "metadata": {},
     "output_type": "execute_result"
    }
   ],
   "source": [
    "#parking\n",
    "df_booking['parking'] = df_booking['pagina'].str.lower().str.findall(r'(free parking)')\n",
    "df_booking = df_booking.explode('parking').drop_duplicates()\n",
    "df_booking['parking'].value_counts()"
   ]
  },
  {
   "cell_type": "code",
   "execution_count": 27,
   "metadata": {},
   "outputs": [
    {
     "data": {
      "text/plain": [
       "air conditioning    4438\n",
       "Name: air_conditioning, dtype: int64"
      ]
     },
     "execution_count": 27,
     "metadata": {},
     "output_type": "execute_result"
    }
   ],
   "source": [
    "#air conditioning\n",
    "df_booking['air_conditioning'] = df_booking['pagina'].str.lower().str.findall(r'(air conditioning)')\n",
    "df_booking = df_booking.explode('air_conditioning').drop_duplicates()\n",
    "df_booking['air_conditioning'].value_counts()"
   ]
  },
  {
   "cell_type": "code",
   "execution_count": 28,
   "metadata": {},
   "outputs": [
    {
     "data": {
      "text/plain": [
       "private bathroom    4389\n",
       "Name: bathroom, dtype: int64"
      ]
     },
     "execution_count": 28,
     "metadata": {},
     "output_type": "execute_result"
    }
   ],
   "source": [
    "#private bathroom\n",
    "df_booking['bathroom'] = df_booking['pagina'].str.lower().str.findall(r'(private bathroom)')\n",
    "df_booking = df_booking.explode('bathroom').drop_duplicates()\n",
    "df_booking['bathroom'].value_counts()"
   ]
  },
  {
   "cell_type": "code",
   "execution_count": 30,
   "metadata": {},
   "outputs": [
    {
     "data": {
      "text/plain": [
       "free wifi    4440\n",
       "Name: wifi, dtype: int64"
      ]
     },
     "execution_count": 30,
     "metadata": {},
     "output_type": "execute_result"
    }
   ],
   "source": [
    "#free wifi\n",
    "df_booking['wifi'] = df_booking['pagina'].str.lower().str.findall(r'(free wifi)')\n",
    "df_booking = df_booking.explode('wifi').drop_duplicates()\n",
    "df_booking['wifi'].value_counts()"
   ]
  },
  {
   "cell_type": "code",
   "execution_count": 31,
   "metadata": {},
   "outputs": [
    {
     "data": {
      "text/plain": [
       "breakfast    4024\n",
       "Name: breakfast, dtype: int64"
      ]
     },
     "execution_count": 31,
     "metadata": {},
     "output_type": "execute_result"
    }
   ],
   "source": [
    "#breakfast\n",
    "df_booking['breakfast'] = df_booking['pagina'].str.lower().str.findall(r'(breakfast)')\n",
    "df_booking = df_booking.explode('breakfast').drop_duplicates()\n",
    "df_booking['breakfast'].value_counts()"
   ]
  },
  {
   "cell_type": "code",
   "execution_count": 32,
   "metadata": {},
   "outputs": [
    {
     "data": {
      "text/plain": [
       "tea/coffee maker    1832\n",
       "Name: coffee_tea_maker, dtype: int64"
      ]
     },
     "execution_count": 32,
     "metadata": {},
     "output_type": "execute_result"
    }
   ],
   "source": [
    "#coffee machine\n",
    "df_booking['coffee_tea_maker'] = df_booking['pagina'].str.lower().str.findall(r'(tea/coffee maker)')\n",
    "df_booking = df_booking.explode('coffee_tea_maker').drop_duplicates()\n",
    "df_booking['coffee_tea_maker'].value_counts()"
   ]
  },
  {
   "cell_type": "code",
   "execution_count": 35,
   "metadata": {},
   "outputs": [
    {
     "data": {
      "text/plain": [
       "laundry    2423\n",
       "Name: laundry, dtype: int64"
      ]
     },
     "execution_count": 35,
     "metadata": {},
     "output_type": "execute_result"
    }
   ],
   "source": [
    "#laundry\n",
    "df_booking['laundry'] = df_booking['pagina'].str.lower().str.findall(r'(laundry)')\n",
    "df_booking = df_booking.explode('laundry').drop_duplicates()\n",
    "df_booking['laundry'].value_counts()"
   ]
  },
  {
   "cell_type": "code",
   "execution_count": 36,
   "metadata": {},
   "outputs": [
    {
     "data": {
      "text/html": [
       "<div>\n",
       "<style scoped>\n",
       "    .dataframe tbody tr th:only-of-type {\n",
       "        vertical-align: middle;\n",
       "    }\n",
       "\n",
       "    .dataframe tbody tr th {\n",
       "        vertical-align: top;\n",
       "    }\n",
       "\n",
       "    .dataframe thead th {\n",
       "        text-align: right;\n",
       "    }\n",
       "</style>\n",
       "<table border=\"1\" class=\"dataframe\">\n",
       "  <thead>\n",
       "    <tr style=\"text-align: right;\">\n",
       "      <th></th>\n",
       "      <th>url</th>\n",
       "      <th>name</th>\n",
       "      <th>pagina</th>\n",
       "      <th>address</th>\n",
       "      <th>currentPrice</th>\n",
       "      <th>previousPrice</th>\n",
       "      <th>rating</th>\n",
       "      <th>reviewNumber</th>\n",
       "      <th>checkingDate</th>\n",
       "      <th>image</th>\n",
       "      <th>cleanPrice</th>\n",
       "      <th>parking</th>\n",
       "      <th>air_conditioning</th>\n",
       "      <th>bathroom</th>\n",
       "      <th>wifi</th>\n",
       "      <th>breakfast</th>\n",
       "      <th>coffee_tea_maker</th>\n",
       "      <th>washing_machine</th>\n",
       "      <th>laundry</th>\n",
       "    </tr>\n",
       "  </thead>\n",
       "  <tbody>\n",
       "    <tr>\n",
       "      <th>0</th>\n",
       "      <td>https://www.booking.com/hotel/it/b-amp-b-donna...</td>\n",
       "      <td>B&amp;B Donna Teresa</td>\n",
       "      <td>\\n\\n\\n\\n\\n\\n\\n\\n\\n\\n\\n\\n\\n\\n\\n\\n\\n\\n\\n\\n\\n\\n\\n...</td>\n",
       "      <td>via giuseppe garibaldi, 137/b, 92100 , 92100 a...</td>\n",
       "      <td>€ 76</td>\n",
       "      <td>€ 124</td>\n",
       "      <td>9.2</td>\n",
       "      <td>525 reviews</td>\n",
       "      <td>2023-09-01</td>\n",
       "      <td>https://cf.bstatic.com/xdata/images/hotel/squa...</td>\n",
       "      <td>1.0</td>\n",
       "      <td>free parking</td>\n",
       "      <td>air conditioning</td>\n",
       "      <td>private bathroom</td>\n",
       "      <td>free wifi</td>\n",
       "      <td>breakfast</td>\n",
       "      <td>tea/coffee maker</td>\n",
       "      <td>NaN</td>\n",
       "      <td>laundry</td>\n",
       "    </tr>\n",
       "  </tbody>\n",
       "</table>\n",
       "</div>"
      ],
      "text/plain": [
       "                                                 url              name  \\\n",
       "0  https://www.booking.com/hotel/it/b-amp-b-donna...  B&B Donna Teresa   \n",
       "\n",
       "                                              pagina  \\\n",
       "0  \\n\\n\\n\\n\\n\\n\\n\\n\\n\\n\\n\\n\\n\\n\\n\\n\\n\\n\\n\\n\\n\\n\\n...   \n",
       "\n",
       "                                             address currentPrice  \\\n",
       "0  via giuseppe garibaldi, 137/b, 92100 , 92100 a...         € 76   \n",
       "\n",
       "  previousPrice rating reviewNumber checkingDate  \\\n",
       "0         € 124    9.2  525 reviews   2023-09-01   \n",
       "\n",
       "                                               image  cleanPrice  \\\n",
       "0  https://cf.bstatic.com/xdata/images/hotel/squa...         1.0   \n",
       "\n",
       "        parking  air_conditioning          bathroom       wifi  breakfast  \\\n",
       "0  free parking  air conditioning  private bathroom  free wifi  breakfast   \n",
       "\n",
       "   coffee_tea_maker washing_machine  laundry  \n",
       "0  tea/coffee maker             NaN  laundry  "
      ]
     },
     "execution_count": 36,
     "metadata": {},
     "output_type": "execute_result"
    }
   ],
   "source": [
    "df_booking.head(1)"
   ]
  },
  {
   "cell_type": "code",
   "execution_count": null,
   "metadata": {},
   "outputs": [],
   "source": [
    "print(df_booking.shape)\n",
    "df_booking.drop_duplicates(inplace=True)\n",
    "print(df_booking.shape)"
   ]
  },
  {
   "attachments": {},
   "cell_type": "markdown",
   "metadata": {},
   "source": [
    "checking dtypes"
   ]
  },
  {
   "cell_type": "code",
   "execution_count": null,
   "metadata": {},
   "outputs": [],
   "source": [
    "df_booking.dtypes"
   ]
  },
  {
   "cell_type": "code",
   "execution_count": null,
   "metadata": {},
   "outputs": [],
   "source": [
    "type(df_booking['address'][0])"
   ]
  },
  {
   "attachments": {},
   "cell_type": "markdown",
   "metadata": {},
   "source": [
    "# Geocoding"
   ]
  },
  {
   "cell_type": "code",
   "execution_count": null,
   "metadata": {},
   "outputs": [],
   "source": [
    "from geopy.extra.rate_limiter import RateLimiter\n",
    "tqdm.pandas()\n",
    "\n",
    "# 1 - conveneint function to delay between geocoding calls\n",
    "geocode = RateLimiter(locator.geocode, min_delay_seconds=1)\n",
    "# 2- - create location column\n",
    "df_booking['location'] = df_booking['address'].progress_apply(geocode)\n",
    "# 3 - create longitude, laatitude and altitude from location column (returns tuple)\n",
    "df_booking['point'] = df_booking['location'].progress_apply(lambda loc: tuple(loc.point) if loc else None)\n",
    "# 4 - split point column into latitude, longitude and altitude columns\n",
    "df_booking[['latitude', 'longitude', 'altitude']] = pd.DataFrame(df_booking['point'].tolist(), index=df_booking.index)"
   ]
  },
  {
   "cell_type": "code",
   "execution_count": null,
   "metadata": {},
   "outputs": [],
   "source": [
    "map1 = folium.Map(\n",
    "    location=[37.75120776952038, 14.992361985738308],\n",
    "    tiles='cartodbpositron',\n",
    "    zoom_start=12,\n",
    ")\n",
    "df_booking[df_booking['latitude'].isnull() == False].apply(lambda row:folium.CircleMarker(location=[row[\"latitude\"], row[\"longitude\"]]).add_to(map1), axis=1)\n",
    "map1"
   ]
  },
  {
   "cell_type": "code",
   "execution_count": null,
   "metadata": {},
   "outputs": [],
   "source": [
    "df_booking.head(1)"
   ]
  },
  {
   "cell_type": "code",
   "execution_count": null,
   "metadata": {},
   "outputs": [],
   "source": [
    "df_booking.iloc[0,0]"
   ]
  },
  {
   "attachments": {},
   "cell_type": "markdown",
   "metadata": {},
   "source": [
    "revisa el formato de los precios, no está cogiendo bien los valores"
   ]
  },
  {
   "cell_type": "code",
   "execution_count": null,
   "metadata": {},
   "outputs": [],
   "source": [
    "df_booking['url_clean'] = df_booking['url'].str.split('?', expand=True)[0]\n",
    "df_booking.head(1)"
   ]
  },
  {
   "cell_type": "code",
   "execution_count": null,
   "metadata": {},
   "outputs": [],
   "source": [
    "df_booking.drop(['url', 'pagina'], axis = 1).to_csv('../data/booking.csv', sep='|', encoding='utf-8', index = False)"
   ]
  }
 ],
 "metadata": {
  "kernelspec": {
   "display_name": "iron",
   "language": "python",
   "name": "python3"
  },
  "language_info": {
   "codemirror_mode": {
    "name": "ipython",
    "version": 3
   },
   "file_extension": ".py",
   "mimetype": "text/x-python",
   "name": "python",
   "nbconvert_exporter": "python",
   "pygments_lexer": "ipython3",
   "version": "3.9.13"
  },
  "orig_nbformat": 4,
  "vscode": {
   "interpreter": {
    "hash": "e59d0b279e6461be5b4ea7b62838527cd8f41f3cbc9a1147b1a83b32d75ab689"
   }
  }
 },
 "nbformat": 4,
 "nbformat_minor": 2
}
