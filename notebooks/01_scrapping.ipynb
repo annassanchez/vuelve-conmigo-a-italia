{
 "cells": [
  {
   "cell_type": "code",
   "execution_count": 1,
   "metadata": {},
   "outputs": [],
   "source": [
    "#! /usr/bin/env python3.6\n",
    "import requests\n",
    "import datetime\n",
    "from bs4 import BeautifulSoup\n",
    "import time\n",
    "import pandas as pd\n",
    "import re\n",
    "import pickle\n",
    "\n",
    "from selenium import webdriver\n",
    "from webdriver_manager.chrome import ChromeDriverManager\n",
    "from selenium.webdriver.common.keys import Keys\n",
    "from selenium.webdriver.chrome.options import Options\n",
    "from selenium.webdriver.support.ui import WebDriverWait\n",
    "import numpy as np\n",
    "from IPython.display import clear_output\n",
    "from selenium.webdriver.common.by import By\n",
    "from selenium.webdriver.support import expected_conditions as EC\n",
    "import time\n",
    "\n",
    "import sys\n",
    "sys.path.append(\"../\")\n",
    "import src.soporteScrapping as scr\n",
    "import warnings\n",
    "warnings.filterwarnings('ignore')\n"
   ]
  },
  {
   "attachments": {},
   "cell_type": "markdown",
   "metadata": {},
   "source": [
    "new"
   ]
  },
  {
   "cell_type": "code",
   "execution_count": 2,
   "metadata": {},
   "outputs": [],
   "source": [
    "country = 'Sicily'\n",
    "rooms = 1\n",
    "adults = 2\n",
    "checkin = '2023-09-01'\n",
    "checkout = '2023-09-08'"
   ]
  },
  {
   "cell_type": "code",
   "execution_count": 3,
   "metadata": {},
   "outputs": [
    {
     "data": {
      "text/plain": [
       "'https://www.booking.com/searchresults.en-gb.html?ss=Sicily%2C+Italy&ssne=Sicily%2C+Italy&ssne_untouched=Sicily%2C+Italy&efdco=1&label=gen173nr-1DCAEoggJCAlhYSDNYBGiTAYgBAZgBLsIBCndpbmRvd3MgMTDIAQzYAQPoAQGSAgF5qAID&sid=716ea5d78c4043fd78b7a1410d639e3d&aid=304142&lang=en-gb&sb=1&src_elem=sb&src=index&dest_id=909&dest_type=region&ac_position=0&ac_click_type=b&ac_langcode=en&ac_suggestion_list_length=5&search_selected=true&search_pageview_id=36746f79352b0064&ac_meta=GhAzNjc0NmY3OTM1MmIwMDY0IAAoATICZW46BFNpY2lAAEoAUAA%3D&checkin=2023-09-01&checkout=2023-09-02&group_adults=2&no_rooms=1&group_children=0&sb_travel_purpose=leisure'"
      ]
     },
     "execution_count": 3,
     "metadata": {},
     "output_type": "execute_result"
    }
   ],
   "source": [
    "list_url = []\n",
    "list_dates = []\n",
    "for i in range(1,30):\n",
    "    if (len(str(i)) == 1) & (len(str(i+1)) == 1):\n",
    "        day_in = '0' + str(i)\n",
    "        day_out = '0' + str(i+1)\n",
    "    elif (len(str(i)) == 1) & (len(str(i+1)) == 2):\n",
    "        day_in = '0' + str(i)\n",
    "        day_out = str(i+1)\n",
    "    else:\n",
    "        day_in = str(i)\n",
    "        day_out = str(i+1)\n",
    "    url_original_test = scr.url(rooms, country, f'2023-09-{day_in}', f'2023-09-{day_out}', adults)\n",
    "    list_dates.append(f'2023-09-{day_in}')\n",
    "    list_url.append(url_original_test)\n",
    "list_url[0]"
   ]
  },
  {
   "cell_type": "code",
   "execution_count": 4,
   "metadata": {},
   "outputs": [],
   "source": [
    "almacen = {\n",
    "    'url':[],\n",
    "    'name':[],\n",
    "    'pagina':[],\n",
    "    'address':[],\n",
    "    'currentPrice':[],\n",
    "    'previousPrice':[],\n",
    "    'rating':[],\n",
    "    'reviewNumber':[],\n",
    "    'checkingDate':[],\n",
    "    'image':[]\n",
    "}"
   ]
  },
  {
   "attachments": {},
   "cell_type": "markdown",
   "metadata": {},
   "source": [
    "hace solo una paorte del bucle"
   ]
  },
  {
   "cell_type": "code",
   "execution_count": null,
   "metadata": {},
   "outputs": [],
   "source": [
    "scr.opcionesSelenium()"
   ]
  },
  {
   "cell_type": "code",
   "execution_count": null,
   "metadata": {},
   "outputs": [],
   "source": [
    "driver = webdriver.Chrome(ChromeDriverManager().install())\n",
    "driver.get(list_url[0])\n",
    "driver.maximize_window()\n",
    "driver.set_window_size(1920, 1080)\n",
    "driver.implicitly_wait(30)\n",
    "driver.find_element('css selector', '#onetrust-accept-btn-handler').click()\n",
    "res = requests.get(list_url[3])\n",
    "soup_numero = BeautifulSoup(res.content, 'html.parser')\n",
    "pagina_numero = soup_numero.text\n",
    "number = math.ceil(int(re.findall(r': (.*) properties', pagina_numero)[0].replace(',', '')) / 25)\n",
    "try:\n",
    "    try:\n",
    "        for i in range(3, 50):\n",
    "            print('item:', i)\n",
    "            try:\n",
    "                try:\n",
    "                    name = driver.find_element('xpath', '//*[@id=\"search_results_table\"]/div[2]/div/div/div/div[3]/div[{i}]/div[1]/div[2]/div/div[1]/div/div[1]/div/div[1]/div/h3/a/div[1]'.format(i=i)).text\n",
    "                    previousPrice = driver.find_element('xpath', '//*[@id=\"search_results_table\"]/div[2]/div/div/div/div[3]/div[{i}]/div[1]/div[2]/div/div[3]/div[2]/div/div[1]/span/div/span[1]'.format(i=i)).text\n",
    "                    currentPrice = driver.find_element('xpath', '//*[@id=\"search_results_table\"]/div[2]/div/div/div/div[3]/div[{i}]/div[1]/div[2]/div/div[3]/div[2]/div/div[1]/span/div/span[2]'.format(i=i)).text\n",
    "                    rating = driver.find_element('xpath', '//*[@id=\"search_results_table\"]/div[2]/div/div/div/div[3]/div[{i}]/div[1]/div[2]/div/div[1]/div/div[2]/div/div/div/a/span/div/div[1]'.format(i=i)).text\n",
    "                    reviewNumber = driver.find_element('xpath', '//*[@id=\"search_results_table\"]/div[2]/div/div/div/div[3]/div[{i}]/div[1]/div[2]/div/div[1]/div/div[2]/div/div/div/a/span/div/div[2]/div[2]'.format(i=i)).text\n",
    "                    image = driver.find_element('xpath', '//*[@id=\"search_results_table\"]/div[2]/div/div/div/div[3]/div[{i}]/div[1]/div[1]/div/a/img'.format(i=i)).get_attribute('src')\n",
    "                    driver.find_element('xpath', f'//*[@id=\"search_results_table\"]/div[2]/div/div/div/div[3]/div[{i}]/div[1]/div[2]/div/div[1]/div/div[1]/div/div[1]/div/h3/a').click()\n",
    "                except:\n",
    "                    name = driver.find_element('xpath', '//*[@id=\"search_results_table\"]/div[2]/div/div/div/div[3]/div[{i}]/div[1]/div[2]/div/div[1]/div/div[1]/div/div[1]/div/h3/a/div[1]'.format(i=i)).text\n",
    "                    try:\n",
    "                        previousPrice = driver.find_element('xpath', '//*[@id=\"search_results_table\"]/div[2]/div/div/div/div[3]/div[{i}]/div[1]/div[2]/div/div[3]/div[2]/div/div/span/div/span[1]'.format(i=i)).text\n",
    "                        currentPrice = driver.find_element('xpath', '//*[@id=\"search_results_table\"]/div[2]/div/div/div/div[3]/div[{i}]/div[1]/div[2]/div/div[3]/div[2]/div/div/span/div/span[2]'.format(i=i)).text\n",
    "                    except:\n",
    "                        previousPrice = np.nan\n",
    "                        currentPrice = driver.find_element('xpath', '//*[@id=\"search_results_table\"]/div[2]/div/div/div/div[3]/div[{i}]/div[1]/div[2]/div/div[2]/div[2]/div/div[1]/span'.format(i=i)).text\n",
    "                    rating = driver.find_element('xpath', '//*[@id=\"search_results_table\"]/div[2]/div/div/div/div[3]/div[{i}]/div[1]/div[2]/div/div[1]/div/div[2]/div/div/div/a/span/div/div[1]'.format(i=i)).text\n",
    "                    reviewNumber = driver.find_element('xpath', '//*[@id=\"search_results_table\"]/div[2]/div/div/div/div[3]/div[{i}]/div[1]/div[2]/div/div[1]/div/div[2]/div/div/div/a/span/div/div[2]/div[2]'.format(i=i)).text\n",
    "                    image = driver.find_element('xpath', '//*[@id=\"search_results_table\"]/div[2]/div/div/div/div[3]/div[{i}]/div[1]/div[1]/div/a/img'.format(i=i)).get_attribute('src')\n",
    "                    driver.find_element('xpath', f'//*[@id=\"search_results_table\"]/div[2]/div/div/div/div[3]/div[{i}]/div[1]/div[2]/div/div[2]/div[2]/div/div[2]/a').click()\n",
    "                driver.implicitly_wait(15)\n",
    "                driver.switch_to.window(driver.window_handles[1])\n",
    "                url = driver.current_url\n",
    "                almacen['url'].append(url)\n",
    "                res = requests.get(url)\n",
    "                soup = BeautifulSoup(res.content, 'html.parser')\n",
    "                pagina = soup.text\n",
    "                almacen['pagina'].append(pagina)\n",
    "                almacen['address'].append(re.findall('(.*, \\d{3,5} .*)', pagina.lower()))\n",
    "                print('dict:', len(almacen['url']), len(almacen['pagina']))\n",
    "                driver.close()\n",
    "                driver.switch_to.window(driver.window_handles[0])\n",
    "                almacen['name'].append(name)\n",
    "                almacen['previousPrice'].append(previousPrice)\n",
    "                almacen['currentPrice'].append(currentPrice)\n",
    "                almacen['rating'].append(rating)\n",
    "                almacen['reviewNumber'].append(reviewNumber)\n",
    "                almacen['image'].append(image)\n",
    "                almacen['checkingDate'].append(list_dates[3])\n",
    "                print(len(almacen['name']), len(almacen['url']), len(almacen['currentPrice']), len(almacen['previousPrice']))\n",
    "                clear_output(wait=True)\n",
    "            except:\n",
    "                pass\n",
    "            clear_output\n",
    "    # driver.find_element('xpath', '//*[@id=\"search_results_table\"]/div[2]/div/div/div/div[4]/div[2]/nav/div/div[3]/button').click()\n",
    "    # driver.implicitly_wait(2)\n",
    "    # clear_output(wait=True)\n",
    "    except:\n",
    "        pass\n",
    "except:\n",
    "    print('me rompí')\n",
    "    "
   ]
  },
  {
   "cell_type": "code",
   "execution_count": null,
   "metadata": {},
   "outputs": [],
   "source": [
    "almacen['name'][0]"
   ]
  },
  {
   "cell_type": "code",
   "execution_count": null,
   "metadata": {},
   "outputs": [],
   "source": [
    "almacen['url'][0]"
   ]
  },
  {
   "cell_type": "code",
   "execution_count": null,
   "metadata": {},
   "outputs": [],
   "source": [
    "print(len(almacen['url']), len(almacen['name']), len(almacen['pagina']), len(almacen['address']), len(almacen['currentPrice']), len(almacen['previousPrice']))"
   ]
  },
  {
   "cell_type": "code",
   "execution_count": null,
   "metadata": {},
   "outputs": [],
   "source": [
    "print(len(list(dict.fromkeys(almacen['name']))))"
   ]
  },
  {
   "cell_type": "code",
   "execution_count": null,
   "metadata": {},
   "outputs": [],
   "source": [
    "re.findall('price(.*)', almacen['pagina'][-2].lower())"
   ]
  },
  {
   "cell_type": "code",
   "execution_count": null,
   "metadata": {},
   "outputs": [],
   "source": [
    "link = 'https://www.booking.com/hotel/it/mer-amp-soleil.en-gb.html?aid=304142&label=gen173nr-1BCAEoggI46AdIM1gEaJMBiAEBmAEJuAEXyAEM2AEB6AEBiAIBqAID2AIB&sid=dc6ef7819845d47e050d4481b6d81df6&all_sr_blocks=197039301_346575045_2_0_0;checkin=2023-09-01;checkout=2023-09-08;dest_id=909;dest_type=region;dist=0;group_adults=2;group_children=0;hapos=24;highlighted_blocks=197039301_346575045_2_0_0;hpos=24;matching_block_id=197039301_346575045_2_0_0;no_rooms=1;req_adults=2;req_children=0;room1=A%2CA;sb_price_type=total;sr_order=popularity;sr_pri_blocks=197039301_346575045_2_0_0__79500;srepoch=1675348577;srpvid=e65166afe72c013c;type=total;ucfs=1&#hotelTmpl'\n"
   ]
  },
  {
   "cell_type": "code",
   "execution_count": null,
   "metadata": {},
   "outputs": [],
   "source": [
    "res = requests.get(link)\n",
    "soup_numero = BeautifulSoup(res.content, 'html5lib')\n",
    "#soup_numero.text"
   ]
  },
  {
   "attachments": {},
   "cell_type": "markdown",
   "metadata": {},
   "source": [
    "hace el bucle completo"
   ]
  },
  {
   "cell_type": "code",
   "execution_count": null,
   "metadata": {},
   "outputs": [],
   "source": [
    "scr.opcionesSelenium()"
   ]
  },
  {
   "attachments": {},
   "cell_type": "markdown",
   "metadata": {},
   "source": [
    "faltan registros día 0"
   ]
  },
  {
   "cell_type": "code",
   "execution_count": null,
   "metadata": {},
   "outputs": [],
   "source": [
    "dia = 3"
   ]
  },
  {
   "attachments": {},
   "cell_type": "markdown",
   "metadata": {},
   "source": [
    "chrome driver"
   ]
  },
  {
   "cell_type": "code",
   "execution_count": null,
   "metadata": {},
   "outputs": [],
   "source": [
    "driver = webdriver.Chrome(ChromeDriverManager().install())\n",
    "driver.get(list_url[dia])\n",
    "driver.maximize_window()\n",
    "driver.set_window_size(1920, 1080)\n",
    "driver.implicitly_wait(30)\n",
    "driver.find_element('css selector', '#onetrust-accept-btn-handler').click()\n",
    "res = requests.get(list_url[dia])\n",
    "soup_numero = BeautifulSoup(res.content, 'html.parser')\n",
    "pagina_numero = soup_numero.text\n",
    "number = math.ceil(int(re.findall(r': (.*) properties', pagina_numero)[0].replace(',', '')) / 25)\n",
    "try:\n",
    "    for page in range (1,40):\n",
    "        try:\n",
    "            for i in range(3, 50):\n",
    "                print('item:', i, 'page:', page)\n",
    "                print(driver.current_window_handle)\n",
    "                try:\n",
    "                    try:\n",
    "                        name = driver.find_element('xpath', '//*[@id=\"search_results_table\"]/div[2]/div/div/div/div[3]/div[{i}]/div[1]/div[2]/div/div[1]/div/div[1]/div/div[1]/div/h3/a/div[1]'.format(i=i)).text\n",
    "                        previousPrice = driver.find_element('xpath', '//*[@id=\"search_results_table\"]/div[2]/div/div/div/div[3]/div[{i}]/div[1]/div[2]/div/div[3]/div[2]/div/div[1]/span/div/span[1]'.format(i=i)).text\n",
    "                        currentPrice = driver.find_element('xpath', '//*[@id=\"search_results_table\"]/div[2]/div/div/div/div[3]/div[{i}]/div[1]/div[2]/div/div[3]/div[2]/div/div[1]/span/div/span[2]'.format(i=i)).text\n",
    "                        rating = driver.find_element('xpath', '//*[@id=\"search_results_table\"]/div[2]/div/div/div/div[3]/div[{i}]/div[1]/div[2]/div/div[1]/div/div[2]/div/div/div/a/span/div/div[1]'.format(i=i)).text\n",
    "                        reviewNumber = driver.find_element('xpath', '//*[@id=\"search_results_table\"]/div[2]/div/div/div/div[3]/div[{i}]/div[1]/div[2]/div/div[1]/div/div[2]/div/div/div/a/span/div/div[2]/div[2]'.format(i=i)).text\n",
    "                        image = driver.find_element('xpath', '//*[@id=\"search_results_table\"]/div[2]/div/div/div/div[3]/div[{i}]/div[1]/div[1]/div/a/img'.format(i=i)).get_attribute('src')\n",
    "                        driver.find_element('xpath', f'//*[@id=\"search_results_table\"]/div[2]/div/div/div/div[3]/div[{i}]/div[1]/div[2]/div/div[1]/div/div[1]/div/div[1]/div/h3/a').click()\n",
    "                    except:\n",
    "                        name = driver.find_element('xpath', '//*[@id=\"search_results_table\"]/div[2]/div/div/div/div[3]/div[{i}]/div[1]/div[2]/div/div[1]/div/div[1]/div/div[1]/div/h3/a/div[1]'.format(i=i)).text\n",
    "                        try:\n",
    "                            previousPrice = driver.find_element('xpath', '//*[@id=\"search_results_table\"]/div[2]/div/div/div/div[3]/div[{i}]/div[1]/div[2]/div/div[3]/div[2]/div/div/span/div/span[1]'.format(i=i)).text\n",
    "                            currentPrice = driver.find_element('xpath', '//*[@id=\"search_results_table\"]/div[2]/div/div/div/div[3]/div[{i}]/div[1]/div[2]/div/div[3]/div[2]/div/div/span/div/span[2]'.format(i=i)).text\n",
    "                        except:\n",
    "                            previousPrice = np.nan\n",
    "                            currentPrice = driver.find_element('xpath', '//*[@id=\"search_results_table\"]/div[2]/div/div/div/div[3]/div[{i}]/div[1]/div[2]/div/div[2]/div[2]/div/div[1]/span'.format(i=i)).text\n",
    "                        rating = driver.find_element('xpath', '//*[@id=\"search_results_table\"]/div[2]/div/div/div/div[3]/div[{i}]/div[1]/div[2]/div/div[1]/div/div[2]/div/div/div/a/span/div/div[1]'.format(i=i)).text\n",
    "                        reviewNumber = driver.find_element('xpath', '//*[@id=\"search_results_table\"]/div[2]/div/div/div/div[3]/div[{i}]/div[1]/div[2]/div/div[1]/div/div[2]/div/div/div/a/span/div/div[2]/div[2]'.format(i=i)).text\n",
    "                        image = driver.find_element('xpath', '//*[@id=\"search_results_table\"]/div[2]/div/div/div/div[3]/div[{i}]/div[1]/div[1]/div/a/img'.format(i=i)).get_attribute('src')\n",
    "                        driver.find_element('xpath', f'//*[@id=\"search_results_table\"]/div[2]/div/div/div/div[3]/div[{i}]/div[1]/div[2]/div/div[2]/div[2]/div/div[2]/a').click()\n",
    "                    driver.implicitly_wait(15)\n",
    "                    before = driver.window_handles[0]\n",
    "                    after = driver.window_handles[-1]\n",
    "                    driver.switch_to.window(after)\n",
    "                    print(driver.current_window_handle)\n",
    "                    driver.implicitly_wait(15)\n",
    "                    url = driver.current_url\n",
    "                    almacen['url'].append(url)\n",
    "                    res = requests.get(url)\n",
    "                    soup = BeautifulSoup(res.content, 'html.parser')\n",
    "                    pagina = soup.text\n",
    "                    almacen['pagina'].append(pagina)\n",
    "                    almacen['address'].append(re.findall('(.*, \\d{3,5} .*)', pagina.lower()))\n",
    "                    print('dict:', len(almacen['url']), len(almacen['pagina']))\n",
    "                    driver.close()\n",
    "                    driver.switch_to.window(before)\n",
    "                    almacen['name'].append(name)\n",
    "                    almacen['previousPrice'].append(previousPrice)\n",
    "                    almacen['currentPrice'].append(currentPrice)\n",
    "                    almacen['rating'].append(rating)\n",
    "                    almacen['reviewNumber'].append(reviewNumber)\n",
    "                    almacen['image'].append(image)\n",
    "                    almacen['checkingDate'].append(list_dates[dia])\n",
    "                    print(len(almacen['name']), len(almacen['url']), len(almacen['currentPrice']), len(almacen['previousPrice']))\n",
    "                    clear_output(wait=True)\n",
    "                except:\n",
    "                    pass\n",
    "                clear_output\n",
    "            driver.find_element('xpath', '//*[@id=\"search_results_table\"]/div[2]/div/div/div/div[4]/div[2]/nav/div/div[3]/button').click()\n",
    "            print(len(almacen['name']), len(almacen['url']), len(almacen['currentPrice']), len(almacen['previousPrice']))\n",
    "            driver.implicitly_wait(2)\n",
    "            clear_output(wait=True)\n",
    "            with open(f'../data/dict_booking_{dia}.pickle', 'wb') as data_scrapeado:\n",
    "                pickle.dump(almacen, data_scrapeado)\n",
    "        except:\n",
    "            pass\n",
    "except:\n",
    "    print('me rompí')\n",
    "    "
   ]
  },
  {
   "attachments": {},
   "cell_type": "markdown",
   "metadata": {},
   "source": [
    "firefox driver"
   ]
  },
  {
   "cell_type": "code",
   "execution_count": 5,
   "metadata": {},
   "outputs": [
    {
     "name": "stdout",
     "output_type": "stream",
     "text": [
      "item: 4 page: 1\n"
     ]
    }
   ],
   "source": [
    "scr.seleniumFirefoxBooking(list_url, list_dates, 3, almacen)"
   ]
  }
 ],
 "metadata": {
  "kernelspec": {
   "display_name": "iron",
   "language": "python",
   "name": "python3"
  },
  "language_info": {
   "codemirror_mode": {
    "name": "ipython",
    "version": 3
   },
   "file_extension": ".py",
   "mimetype": "text/x-python",
   "name": "python",
   "nbconvert_exporter": "python",
   "pygments_lexer": "ipython3",
   "version": "3.9.13"
  },
  "orig_nbformat": 4,
  "vscode": {
   "interpreter": {
    "hash": "e59d0b279e6461be5b4ea7b62838527cd8f41f3cbc9a1147b1a83b32d75ab689"
   }
  }
 },
 "nbformat": 4,
 "nbformat_minor": 2
}
