{
 "cells": [
  {
   "cell_type": "code",
   "execution_count": 1,
   "metadata": {},
   "outputs": [],
   "source": [
    "#! /usr/bin/env python3.6\n",
    "import requests\n",
    "import datetime\n",
    "from bs4 import BeautifulSoup\n",
    "import time\n",
    "import pandas as pd\n",
    "import re\n",
    "import math\n",
    "\n",
    "from selenium import webdriver\n",
    "from webdriver_manager.chrome import ChromeDriverManager\n",
    "from selenium.webdriver.common.keys import Keys\n",
    "from selenium.webdriver.chrome.options import Options\n",
    "import numpy as np\n",
    "from IPython.display import clear_output\n",
    "\n",
    "import sys\n",
    "sys.path.append(\"../\")\n",
    "#import test.booking as book\n",
    "import warnings\n",
    "warnings.filterwarnings('ignore')\n"
   ]
  },
  {
   "attachments": {},
   "cell_type": "markdown",
   "metadata": {},
   "source": [
    "new"
   ]
  },
  {
   "cell_type": "code",
   "execution_count": 2,
   "metadata": {},
   "outputs": [],
   "source": [
    "country = 'Sicily'\n",
    "rooms = 1\n",
    "adults = 2\n",
    "checkin = '2023-09-01'\n",
    "checkout = '2023-09-08'"
   ]
  },
  {
   "cell_type": "code",
   "execution_count": 3,
   "metadata": {},
   "outputs": [],
   "source": [
    "## opciones selenium\n",
    "opciones= Options()\n",
    "opciones.add_experimental_option('excludeSwitches', ['enable-automation'])\n",
    "#para ocultarme como robot\n",
    "opciones.add_experimental_option('useAutomationExtension', False)\n",
    "opciones.add_argument('--start-maximized') #empezar maximizado\n",
    "opciones.add_argument('user.data-dir=selenium') #guarda las cookies\n",
    "opciones.add_argument('--incognito')#incognito window"
   ]
  },
  {
   "cell_type": "code",
   "execution_count": 4,
   "metadata": {},
   "outputs": [],
   "source": [
    "url_original = str(\n",
    "    \"https://www.booking.com/searchresults.en-gb.html?\"\n",
    "    \"aid=304142&label\"\n",
    "    \"=gen173nr-1DCAEoggJCAlhYSDNYBGiTAYgBAZgBLsIBCnd\"\n",
    "    \"pbmRvd3MgMTDIAQzYAQPoAQGSAgF5qAID&\"\n",
    "    \"sid=716ea5d78c4043fd78b7a1410d639e3d&checkin_month=\"\n",
    "    \"{checkin_m}&checkin_monthday={checkin_d}&checkin_year={checkin_y}&checkout_month={checkout_m}&\"\n",
    "    \"checkout_monthday={checkout_d}&checkout_year={checkout_y}\"\n",
    "    \"&class_interval=1&dest_id=125&dest_type=country&dtdisc=0&from_sf\"\n",
    "    \"=1&genius_rate=1&no_rooms={rooms}&group_adults=2&group_children=0&inac=0&\"\n",
    "    \"index_postcard=0&label_click=undef\"\n",
    "    \"&no_rooms=1&postcard=0&raw_dest_type=country&room1=\"\n",
    "    \"A%2CA&sb_price\"\n",
    "    \"_type=total&src=searchresults&src_elem=sb&ss={country}&ss_all=\"\n",
    "    \"0&ssb=empty&sshis=0&ssne={country}\"\n",
    "    \"&ssne_untouched={country}&rows=15&offset=\".format(\n",
    "        rooms=rooms,\n",
    "        country=country.replace(\" \", \"+\"),\n",
    "        checkin_m=checkin[1],\n",
    "        checkin_d=checkin[2],\n",
    "        checkin_y=checkin[0],\n",
    "        checkout_m=checkout[1],\n",
    "        checkout_d=checkout[2],\n",
    "        checkout_y=checkout[0],\n",
    "    )\n",
    ")"
   ]
  },
  {
   "cell_type": "code",
   "execution_count": 5,
   "metadata": {},
   "outputs": [],
   "source": [
    "url_original = str(\n",
    "    'https://www.booking.com/searchresults.en-gb.html?'\n",
    "    'ss=Sicily%2C+Italy&ssne=Sicily%2C+Italy&ssne_untouched=Sicily%2C+Italy'\n",
    "    '&efdco=1&label'\n",
    "    '=gen173nr-1DCAEoggJCAlhYSDNYBGiTAYgBAZgBLsIBCnd'\n",
    "    'pbmRvd3MgMTDIAQzYAQPoAQGSAgF5qAID&'\n",
    "    'sid=716ea5d78c4043fd78b7a1410d639e3d&'\n",
    "    'aid=304142&'\n",
    "    'lang=en-gb'\n",
    "    '&sb=1&'\n",
    "    'src_elem=sb&'\n",
    "    'src=index&'\n",
    "    'dest_id=909&'\n",
    "    'dest_type=region&'\n",
    "    'ac_position=0&'\n",
    "    'ac_click_type=b&'\n",
    "    'ac_langcode=en&'\n",
    "    'ac_suggestion_list_length=5&'\n",
    "    'search_selected=true&'\n",
    "    'search_pageview_id=36746f79352b0064&'\n",
    "    'ac_meta=GhAzNjc0NmY3OTM1MmIwMDY0IAAoATICZW46BFNpY2lAAEoAUAA%3D&'\n",
    "    'checkin={checkin}&'\n",
    "    'checkout={checkout}&'\n",
    "    'group_adults={adults}&'\n",
    "    'no_rooms={rooms}&'\n",
    "    'group_children=0&'\n",
    "    'sb_travel_purpose=leisure'.format(\n",
    "        rooms=rooms,\n",
    "        country=country.replace(\" \", \"+\"),\n",
    "        checkin=checkin,\n",
    "        checkout=checkout,\n",
    "        adults=adults,\n",
    "    )\n",
    ")"
   ]
  },
  {
   "cell_type": "code",
   "execution_count": 47,
   "metadata": {},
   "outputs": [],
   "source": [
    "almacen = {\n",
    "    'url':[], \n",
    "    'pagina':[],\n",
    "    'address':[],\n",
    "}"
   ]
  },
  {
   "attachments": {},
   "cell_type": "markdown",
   "metadata": {},
   "source": [
    "hace solo una paorte del bucle"
   ]
  },
  {
   "cell_type": "code",
   "execution_count": 48,
   "metadata": {},
   "outputs": [
    {
     "name": "stdout",
     "output_type": "stream",
     "text": [
      "item: 39\n",
      "item: 40\n",
      "item: 41\n",
      "item: 42\n",
      "item: 43\n",
      "item: 44\n",
      "item: 45\n",
      "item: 46\n",
      "item: 47\n",
      "item: 48\n",
      "item: 49\n"
     ]
    }
   ],
   "source": [
    "driver = webdriver.Chrome(ChromeDriverManager().install())\n",
    "driver.get(url_original)\n",
    "driver.maximize_window()\n",
    "driver.set_window_size(1920, 1080)\n",
    "driver.implicitly_wait(30)\n",
    "driver.find_element('css selector', '#onetrust-accept-btn-handler').click()\n",
    "res = requests.get(url_original)\n",
    "soup_numero = BeautifulSoup(res.content, 'html.parser')\n",
    "pagina_numero = soup_numero.text\n",
    "number = math.ceil(int(re.findall(r': (.*) properties', pagina_numero)[0].replace(',', '')) / 25)\n",
    "try:\n",
    "    try:\n",
    "        for i in range(1,50):\n",
    "            print('item:', i)\n",
    "            try:\n",
    "                driver.find_element('xpath', '//*[@id=\"search_results_table\"]/div[2]/div/div/div/div[3]/div[{i}]/div[1]/div[2]/div/div[1]/div[1]/div/div[1]/div[1]/h3/a'.format(i=i)).click()\n",
    "                driver.implicitly_wait(15)\n",
    "                driver.switch_to.window(driver.window_handles[1])\n",
    "                url = driver.current_url\n",
    "                almacen['url'].append(url)\n",
    "                res = requests.get(url)\n",
    "                soup = BeautifulSoup(res.content, 'html.parser')\n",
    "                pagina = soup.text\n",
    "                almacen['pagina'].append(pagina)\n",
    "                almacen['address'].append(re.findall('(.*, \\d{3,5} .*)', pagina.lower()))\n",
    "                print('dict:', len(almacen['url']), len(almacen['pagina']))\n",
    "                driver.close()\n",
    "                driver.switch_to.window(driver.window_handles[0])\n",
    "                clear_output(wait=True)\n",
    "            except:\n",
    "                pass\n",
    "            clear_output\n",
    "    # driver.find_element('xpath', '//*[@id=\"search_results_table\"]/div[2]/div/div/div/div[4]/div[2]/nav/div/div[3]/button').click()\n",
    "    # driver.implicitly_wait(2)\n",
    "    # clear_output(wait=True)\n",
    "    except:\n",
    "        pass\n",
    "except:\n",
    "    print('me rompí')\n",
    "    #//*[@id=\"search_results_table\"]/div[2]/div/div/div/div[3]/div[5]/div[1]/div[2]/div/div[1]/div[1]/div/div[1]/div/h3/a\n",
    "    #//*[@id=\"search_results_table\"]/div[2]/div/div/div/div[3]/div[3]/div[1]/div[2]/div/div[1]/div[1]/div/div[1]/div[1]/h3/a\n",
    "    #search_results_table > div:nth-child(2) > div > div > div > div.d4924c9e74 > div:nth-child(4) > div.d20f4628d0 > div.b978843432 > div > div.a1b3f50dcd.b2fe1a41c3.a7c67ebfe5.d19ba76520.d14b211b4f > div.b1e6dd8416.aacd9d0b0a > div > div:nth-child(1) > div.dd023375f5 > h3 > a\n",
    "    #search_results_table > div:nth-child(2) > div > div > div > div.d4924c9e74 > div:nth-child(6) > div.d20f4628d0 > div.b978843432 > div > div.a1b3f50dcd.b2fe1a41c3.a7c67ebfe5.d19ba76520.d14b211b4f > div.b1e6dd8416.aacd9d0b0a > div > div:nth-child(1) > div > h3 > a\n",
    "#search_results_table > div:nth-chil\n",
    "# Aur\n",
    "# d(2) > div > div > div > div.d4924c9e74 > div:nth-child(4) > div.d20f4628d0 > div.b978843432 > div > div.a1b3f50dcd.b2fe1a41c3.a7c67ebfe5.d19ba76520.d14b211b4f > div.b1e6dd8416.aacd9d0b0a > div > div:nth-child(1) > div > h3 > a > div.fcab3ed991.a23c043802\n",
    "##search_results_table > div:nth-child(2) > div > div > div > div.d4924c9e74 > div:nth-child(6) > div.d20f4628d0 > div.b978843432 > div > div.a1b3f50dcd.b2fe1a41c3.a7c67ebfe5.d19ba76520.d14b211b4f > div.b1e6dd8416.aacd9d0b0a > div > div:nth-child(1) > div > h3 > a > div.fcab3ed991.a23c043802\n",
    "##search_results_table > div:nth-child(2) > div > div > div > div.d4924c9e74 > div:nth-child(8) > div.d20f4628d0 > div.b978843432 > div > div.a1b3f50dcd.b2fe1a41c3.a7c67ebfe5.d19ba76520.d14b211b4f > div.b1e6dd8416.aacd9d0b0a > div > div:nth-child(1) > div > h3 > a > div.fcab3ed991.a23c043802\n",
    "#except:\n",
    "#    driver.find_element('xpath', '//*[@id=\"__bui-c2718823-1\"]').send_keys(city, Keys.TAB)\n",
    "    "
   ]
  },
  {
   "cell_type": "code",
   "execution_count": 59,
   "metadata": {},
   "outputs": [
    {
     "data": {
      "text/plain": [
       "['via della gallizza, 90015 cefalù, italy']"
      ]
     },
     "execution_count": 59,
     "metadata": {},
     "output_type": "execute_result"
    }
   ],
   "source": [
    "almacen['address'][0]"
   ]
  },
  {
   "cell_type": "code",
   "execution_count": 46,
   "metadata": {},
   "outputs": [
    {
     "data": {
      "text/plain": [
       "['via degli aceri, 1, 92100 villaggio mosè, italy']"
      ]
     },
     "execution_count": 46,
     "metadata": {},
     "output_type": "execute_result"
    }
   ],
   "source": [
    "re.findall('(.*, \\d{3,5} .*)', almacen['pagina'][-2].lower())"
   ]
  },
  {
   "cell_type": "code",
   "execution_count": 13,
   "metadata": {},
   "outputs": [
    {
     "data": {
      "text/plain": [
       "\"\\n\\n\\n\\n\\n\\n\\n\\n\\n\\n\\n\\n\\n\\n\\n\\n\\n\\n\\n\\n\\n\\n\\n\\n\\n\\n\\n\\n\\n\\n\\n\\n\\n\\n\\n\\n\\n\\n\\n\\nPater Meus Suites, Cefalù – Updated 2023 Prices\\n\\n\\n\\n\\n\\n\\n\\n\\n\\n\\n\\n\\n\\n\\n\\n\\n\\n\\n\\n\\n\\n\\n\\n\\n\\n\\n\\n\\n\\n\\n\\n\\n\\n\\n\\n\\n\\n\\n\\n\\n\\n\\n\\n\\n\\n\\n\\n\\n\\n\\n\\n\\n\\n\\n\\n\\n\\n\\n\\n\\n\\n\\n\\n\\n\\n\\n\\n\\n\\n\\n\\n\\n\\n\\n\\n\\n\\n\\n\\n\\n\\n\\n\\n\\n\\n\\n\\n\\n\\n\\n\\n\\n\\n\\n\\n\\n\\n\\n\\n\\n\\n\\n\\n\\nSkip to main content\\n\\n\\n\\n\\n\\n\\n\\n\\n\\n\\n\\n\\n\\n\\n\\n\\n\\n\\n\\n\\nGBP\\n\\n\\nChoose your currency.\\nYour current currency is Pound sterling\\n\\n\\n\\n\\n\\n\\n\\n\\n\\n\\n\\nChoose your language.\\nYour current language is English (UK)\\n\\n\\n\\n\\n\\n\\n\\n\\n\\n\\n\\n\\nGet help with your reservation\\n\\n\\n\\n\\n\\n\\n\\n\\nList your property\\n\\n\\n\\n\\n\\n\\nRegister\\n\\n\\n\\n\\n\\n\\n\\nSign in\\n\\n\\n\\n\\n\\n\\n\\n\\n\\n\\n\\n\\nStays\\n\\n\\n\\n\\n\\n\\n\\n\\nFlights\\n\\n\\n\\n\\n\\n\\n\\n\\nFlight + Hotel\\n\\n\\n\\n\\n\\n\\n\\n\\nCar rentals\\n\\n\\n\\n\\n\\n\\n\\n\\nAttractions\\n\\n\\n\\n\\n\\n\\n\\n\\nAirport taxis\\n\\n\\n\\n\\n\\n\\n\\n\\n\\n\\n\\n\\n\\nCoronavirus (COVID-19) Support\\n\\n\\n\\nGet the travel advice you need. Read more about possible travel restrictions before you go.\\n\\n\\n\\nRead more\\n\\n\\n\\n\\n\\n\\n\\n\\n\\n\\n\\n\\n\\n\\n\\nHome\\n\\n\\n\\n\\n\\n\\n\\n\\n\\nAll serviced apartments\\n\\n\\n\\n\\n\\nServiced Apartments \\n\\n\\n\\n\\n\\n\\nApartments\\n\\n\\n\\n\\n\\n\\n\\n\\n\\n\\n\\n\\nItaly\\n\\n\\n\\n\\n\\nServiced Apartments \\n\\n\\n\\n\\n\\n\\nHotels\\n\\n\\n\\n\\n\\n\\n\\n\\n\\n\\n\\n\\nSicily\\n\\n\\n\\n\\n\\nServiced Apartments \\n\\n\\n\\n\\n\\n\\nHotels\\n\\n\\n\\n\\n\\n\\n\\n\\n\\n\\n\\n\\nCefalù\\n\\n\\n\\n\\n\\nServiced Apartments \\n\\n\\n\\n\\n\\n\\nHotels\\n\\n\\n\\n\\nTourism\\n\\n\\n\\n\\nCar hire\\n\\n\\n\\n\\n\\n\\n\\n\\n\\n\\n\\n\\n\\n\\nPater Meus Suites (Aparthotel), Cefalù (Italy) deals\\n\\n\\n\\n\\n\\n\\n\\n\\n\\n\\n\\n\\n\\n\\n\\n\\n\\n\\n\\n\\n\\n\\n\\n\\n\\n\\n\\n\\n\\n\\n\\n\\n\\n\\n\\n\\n\\n\\n\\n \\n\\n\\n\\n\\n\\n\\n\\n\\n\\n\\n\\n\\n\\n\\n\\n\\n\\n\\n\\n\\n\\n\\n\\n\\n\\n\\n\\n\\n\\n\\n\\n\\n\\n\\n\\n\\n\\n\\n\\n\\n\\n\\n\\n\\n\\nWe Price Match\\n\\n\\n\\nSearchDestination/property name:Check-in date+Check-in dateCheck-out date+Check-out date2 adults · 0 children · 1 roomI'm travelling for workSearch\\n\\n\\n\\n\\n\\n\\nShow on map\\n\\n\\n\\n\\n\\n\\n\\n\\n\\n\\n\\n\\n\\n\\n\\n\\n\\n\\n\\n\\n\\n\\n\\n\\n\\n\\n\\n\\n\\n\\n\\n\\n\\n\\n\\n\\n\\n\\n\\n\\n\\n\\n\\n\\n\\n\\n\\n\\n\\n\\n\\n\\n\\n\\n\\n\\n\\n\\n\\n\\n\\n\\n\\n\\n\\n\\n\\n\\n\\n\\n\\n\\n\\n\\n\\n\\n\\n\\n\\n\\n\\n\\n\\n\\n\\n\\n\\n\\n\\n\\n\\n\\n\\n\\n\\n\\n\\n\\n\\nInfo & pricesFacilitiesHouse rulesGuest reviews (99)\\n\\n\\n\\n\\n\\n\\n\\n\\n\\n\\n\\n\\n\\n\\n\\n\\n\\n\\n\\nReserve\\n\\n\\n\\n\\n\\n\\n\\n\\nRemoved from:\\n\\n\\n\\n\\n\\n\\n\\n\\n\\nShare Pater Meus Suites\\n\\n\\n\\n\\n\\n\\n\\n\\n\\n\\n\\n\\nShare on Facebook\\n\\n\\n\\n\\n\\n\\n\\nShare on Twitter\\n\\n\\n\\n\\n\\nShare this link\\n\\n\\n\\nCopy link\\n\\n\\nCopied\\n\\n\\n\\n\\n\\n\\n\\n\\n\\n\\n\\nWe Price Match\\n\\n\\n\\n\\n\\n\\n\\nAparthotel\\n\\n\\n\\n\\n\\n\\n\\n\\n\\n\\n\\n\\nPater Meus Suites\\n\\n\\n\\nPater Meus Suites\\n\\n\\n\\n\\n\\n\\nVia della Gallizza, 90015 Cefalù, Italy\\n\\n\\n–\\n\\nGreat location - show map\\n\\n\\n\\n\\nAfter booking, all of the property’s details, including telephone and address, are provided in your booking confirmation and your account.\\n\\n\\n\\n\\n\\n\\n\\n\\n\\n\\n\\n\\n\\n\\n\\n9.1Superb 99 reviews\\n\\n\\n\\n\\n\\n\\n\\n\\nFacilities\\n\\n\\n\\n9.2\\n\\n\\nCleanliness\\n\\n\\n\\n9.4\\n\\n\\nComfort\\n\\n\\n\\n9.3\\n\\n\\nValue for money\\n\\n\\n\\n8.7\\n\\n\\nLocation\\n\\n\\n\\n8.8\\n\\n\\nTotal\\n\\n\\n\\n9.1\\n\\n\\nFree WiFi\\n\\n\\n\\n10.0\\n\\n\\n\\n\\n\\n\\n\\n\\n\\n\\n\\n\\n\\nThe apartment is very confortable and very well equipped. The view on Cefalu from the pool is beautiful. The area is quiet and about 15- 20 minutes walk to Cefalu beach. There’s a small supermarket at about 5 minutes walk from the apartment. We had a car only the first day, and we walked everywhere the rest of the time. The pool and garden area are well maintained and very clean. Staff is around every morning to ensure everything is fine. Maria and Chiara were very helpful every time we needed extra attention ( like printing travel documents or arranging taxi ride to train station). We also appreciated the nice bottle of wine offered on arrival and the nice pastries on Sunday morning! \\rWe loved the place and we hope we have the chance to come back someday!\\n\\n\\n\\n\\n\\nAnne-marie\\n\\nCanada\\n\\n\\n\\n\\n\\n\\nThis was a fabulous apartment.  The staff, especially Maria couldn't have been more helpful, and were available by mobile phone at any time to help.  The accommodation and public areas were absolutely spotless and the attention to detail with beautiful seating/dining areas and special lighting in the evenings an added bonus.  The arrival of freshly baked croissants on our doorstep on 2 of the days of our stay was most unexpected and a lovely treat!  Thank you everyone - your accommodation is highly recommended for a peaceful, relaxing stay.\\n\\n\\n\\n\\n\\nJames\\n\\nUnited Kingdom\\n\\n\\n\\n\\n\\n\\nOverall atmosphere was great! Beautiful new apartments with a stunning view over Cefalù. Appartments are super clean, spacious and comfortable. \\nProperty is located at 10-15 mins walking distance to the beach & old town. We walked it everyday, was perfectly fine as it allowed us to stay in a super quiet and spacious accommodation! \\nThe staff are also really helpful and friendly and will help you with anything.\\n\\n\\n\\n\\n\\nJeffrey\\n\\nNetherlands\\n\\n\\n\\n\\n\\n\\nVery relaxing and really nice to be out of the extremely busy beach and town area in the height of summer. \\nWe enjoyed the walk to town and back and the extra exercise definitely helped when eating beautiful Italian pasta every day!!\\nThe pool was great and the other guests were considerate and friendly.\\nThe staff were really friendly and helpful too and really appreciated the lift from the train station.\\n\\n\\n\\n\\n\\nJulie\\n\\nAustralia\\n\\n\\n\\n\\n\\n\\nEverything was exceptional. \\nStaff so friendly, place was so nice and clean. Views gorgeous.\\n\\n\\n\\n\\n\\nSimon\\n\\nIreland\\n\\n\\n\\n\\n\\n\\nThe property was super clean and had everything you need, including a coffee machine and fresh croissants delivered to your door every morning. The staff are super friendly and communicative and helped us with everything we needed. We would come back in a heartbeat.\\n\\n\\n\\n\\n\\nElla\\n\\nUnited Kingdom\\n\\n\\n\\n\\n\\n\\nLocation was super! We never got enough of the view to the sea and the charming village.\\rThe owner and especially her daughter (and other staff) were so friendly and service orientated. They helped me with everything, sometimes before I could ask myself!\\rI honestly never experienced this service level before, they did it really with pleasure. Outstanding!!!\\rWe also liked the apartment very much and the little terrace, the nice swimming pool and  situated very close to a supermarket.. it was very peacefully.\\n\\n\\n\\n\\n\\nBelia\\n\\nNetherlands\\n\\n\\n\\n\\n\\n\\nIt was a great stay. The apartment is very clean and the bed very comfy. The kitchen is quite big and has everything to make meals. I also enjoyed the solarium, fresh pool and amazing views. The parking is free and it’s pretty close to the old town. More over the staff was very nice and helped whenever i needed. Will definitely come back!\\n\\n\\n\\n\\n\\nKateryna\\n\\nSpain\\n\\n\\n\\n\\n\\n\\nOutstanding coast view, clean and comfortable apartment, nice staff and really appreciated that the most basic stuff as soap, salt, sugar, coffee etc were there to the first days.\\n\\n\\n\\n\\n\\nSussi\\n\\nDenmark\\n\\n\\n\\n\\n\\n\\nWe really enjoyed our stay at the Pater Meus Suites. The facilities were lovely - comfortable outside sitting and sun bathing areas, a pool, in lovely greenery and surrounds. The rooms were modern and comfortable, and had everything needed for a short stay. The suites were also a 20 minute walk from Cefalu town, and only 5 mins from a local supermarket.\\n\\n\\n\\n\\n\\nMhairi\\n\\nUnited Kingdom\\n\\n\\n\\n\\n\\n\\n\\n\\n\\n\\n\\n\\n\\n\\n\\n8.6Top-rated beach nearby \\n\\n\\n\\n\\n\\n\\n\\n\\n\\n\\n\\n\\n\\n\\n\\n\\n\\n\\n\\n\\n\\n\\n\\n\\n\\n\\n\\n\\n\\n\\n\\n\\n\\n\\n\\n\\n\\n\\n\\n\\n\\n\\n\\n\\n\\n\\n\\n\\n\\n\\n+45 photos\\n\\n\\n\\n\\n\\n\\n\\n\\n\\n\\n\\n\\n\\nPater Meus Suites\\n\\n\\n\\n\\n\\n\\n\\n\\n\\n\\n\\n\\n\\n\\n\\n\\n\\n\\n\\n\\n\\n\\n\\n\\nReserve now\\n\\n\\n\\n\\n\\n\\n\\n\\n\\nGallery\\n\\n\\n\\n\\n\\n\\nClose\\n\\n\\n\\n\\n\\n\\n\\n\\n\\n\\n\\n\\n\\n\\n\\n\\n\\n\\n\\n\\n\\n\\n\\n\\n\\n\\n\\n\\n\\n\\n\\n\\n\\n\\n\\n\\n\\n\\n\\nLock in a great price for Pater Meus Suites - rated 9.1 by recent guests.\\nEnter dates to get started.\\n\\n\\n\\n\\n\\n\\nLock in a great price for Pater Meus Suites - rated 9.1 by recent guests.\\nEnter dates to get started.\\n\\n\\n\\n\\n\\n\\n\\n\\n\\n\\n9.1 Superb99 reviews\\n\\n\\n\\n\\n\\n\\nWhat guests loved the most:\\n\\n\\n\\n“The apartment is very confortable and very well equipped. The view on Cefalu from the pool is beautiful. The area is quiet and about 15- 20 minutes walk to Cefalu beach.”\\n\\n\\n\\n\\n\\n\\n\\nAnne-marie\\n\\n\\nCanada\\n\\n\\n\\n\\n\\n\\n“This was a fabulous apartment.  The staff, especially Maria couldn't have been more helpful, and were available by mobile phone at any time to help.”\\n\\n\\n\\n\\n\\n\\n\\nJames\\n\\n\\nUnited Kingdom\\n\\n\\n\\n\\n\\n\\n“Overall atmosphere was great! Beautiful new apartments with a stunning view over Cefalù. Appartments are super clean, spacious and comfortable.”\\n\\n\\n\\n\\n\\n\\n\\nJeffrey\\n\\n\\nNetherlands\\n\\n\\n\\n\\n\\n\\n“Very relaxing and really nice to be out of the extremely busy beach and town area in the height of summer.”\\n\\n\\n\\n\\n\\n\\n\\nJulie\\n\\n\\nAustralia\\n\\n\\n\\n\\n\\n\\n“Everything was exceptional.\\nStaff so friendly, place was so nice and clean. Views gorgeous.”\\n\\n\\n\\n\\n\\n\\n\\nSimon\\n\\n\\nIreland\\n\\n\\n\\n\\n\\n\\n“The property was super clean and had everything you need, including a coffee machine and fresh croissants delivered to your door every morning.”\\n\\n\\n\\n\\n\\n\\n\\nElla\\n\\n\\nUnited Kingdom\\n\\n\\n\\n\\n\\n\\n“Location was super! We never got enough of the view to the sea and the charming village.\\nThe owner and especially her daughter (and other staff) were so friendly and service orientated.”\\n\\n\\n\\n\\n\\n\\n\\nBelia\\n\\n\\nNetherlands\\n\\n\\n\\n\\n\\n\\n“It was a great stay. The apartment is very clean and the bed very comfy. The kitchen is quite big and has everything to make meals. I also enjoyed the solarium, fresh pool and amazing views.”\\n\\n\\n\\n\\n\\n\\n\\nKateryna\\n\\n\\nSpain\\n\\n\\n\\n\\n\\n\\n“Outstanding coast view, clean and comfortable apartment, nice staff and really appreciated that the most basic stuff as soap, salt, sugar, coffee etc were there to the first days.”\\n\\n\\n\\n\\n\\n\\n\\nSussi\\n\\n\\nDenmark\\n\\n\\n\\n\\n\\n\\n“We really enjoyed our stay at the Pater Meus Suites. The facilities were lovely - comfortable outside sitting and sun bathing areas, a pool, in lovely greenery and surrounds.”\\n\\n\\n\\n\\n\\n\\n\\nMhairi\\n\\n\\nUnited Kingdom\\n\\n\\n\\n\\n\\n\\n\\nCategories:\\n\\n\\n\\n\\n\\nStaff9.6\\n\\n\\n\\n\\n\\n\\nFacilities9.2\\n\\n\\n\\n\\n\\n\\nCleanliness9.4\\n\\n\\n\\n\\n\\n\\nComfort9.3\\n\\n\\n\\n\\n\\n\\nValue for money8.7\\n\\n\\n\\n\\n\\n\\nLocation8.8\\n\\n\\n\\n\\n\\n\\n\\n\\n\\n\\n\\n\\n\\n\\n\\n\\n\\n\\n\\n\\n\\n\\n \\n\\n\\n\\n\\n\\n\\n\\n\\n\\n\\n\\n\\n\\n\\n\\n\\nWrite a review\\n\\n\\n\\n\\n\\n9.1 Superb99 reviews\\n\\n\\nWe aim for 100% real reviews\\n\\n\\n\\n\\n\\n\\n\\n\\n\\n\\n\\nSuperb: 9+\\n\\n\\n\\n\\n80\\n\\n\\n\\nGood: 7 – 9\\n\\n\\n\\n\\n14\\n\\n\\n\\nPassable: 5 – 7\\n\\n\\n\\n\\n4\\n\\n\\n\\nPoor: 3 – 5\\n\\n\\n\\n\\n0\\n\\n\\n\\nVery poor: 1 – 3\\n\\n\\n\\n\\n1\\n\\n\\n\\n\\n\\nCategories:Staff 9.6Facilities 9.2Cleanliness 9.4Comfort 9.3Value for money 8.7Location 8.8Free WiFi 10High score for Cefalù\\n\\n\\n\\n\\nThere was a problem loading the reviews. \\n\\n\\nTry again\\n\\n\\n\\n\\n\\n\\nFilters\\n\\n\\nReviewers\\n\\nAll (99)\\n\\n\\n\\n\\n\\n\\n\\n\\n\\nAll (99)\\n\\n\\n\\n\\nFamilies (36)\\n\\n\\n\\n\\nCouples (45)\\n\\n\\n\\n\\nGroups of friends (4)\\n\\n\\n\\n\\nSolo travellers (8)\\n\\n\\n\\n\\nBusiness travellers (4)\\n\\n\\n\\n\\n\\n\\n\\nReview scores \\n\\nAll (99)\\n\\n\\n\\n\\n\\n\\n\\n\\n\\nAll (99)\\n\\n\\n\\n\\nSuperb: 9+ (80)\\n\\n\\n\\n\\nGood: 7 – 9 (14)\\n\\n\\n\\n\\nPassable: 5 – 7 (4)\\n\\n\\n\\n\\nVery poor: 1 – 3 (1)\\n\\n\\n\\n\\n\\n\\n\\nLanguages \\n\\nAll (99)\\n\\n\\n\\n\\n\\n\\n\\n\\n\\nAll (99)\\n\\n\\n\\n\\n\\n\\xa0\\xa0English (40)\\n\\n\\n\\n\\n\\n\\xa0\\xa0Chinese (2)\\n\\n\\n\\n\\n\\n\\xa0\\xa0Polish (2)\\n\\n\\n\\n\\n\\n\\xa0\\xa0Spanish (3)\\n\\n\\n\\n\\n\\n\\xa0\\xa0French (10)\\n\\n\\n\\n\\n\\n\\xa0\\xa0Italian (10)\\n\\n\\n\\n\\n\\n\\xa0\\xa0German (17)\\n\\n\\n\\n\\n\\n\\xa0\\xa0Portuguese (1)\\n\\n\\n\\n\\n\\n\\xa0\\xa0Dutch (9)\\n\\n\\n\\n\\n\\n\\xa0\\xa0Swedish (3)\\n\\n\\n\\n\\n\\n\\xa0\\xa0Danish (1)\\n\\n\\n\\n\\n\\n\\xa0\\xa0Ukrainian (1)\\n\\n\\n\\n\\n\\n\\n\\nTime of year \\n\\nAll (99)\\n\\n\\n\\n\\n\\n\\n\\n\\n\\nAll (99)\\n\\n\\n\\n\\nMar-May\\n\\n\\n\\n\\nJun-Aug\\n\\n\\n\\n\\nSep-Nov\\n\\n\\n\\n\\nDec-Feb\\n\\n\\n\\n\\n\\n\\n\\n\\n\\n\\n\\n\\n\\n\\n\\n\\n\\n\\n\\n\\n\\n\\n\\n\\nApartmentsKitchenCity viewGardenSwimming PoolFree WiFiTerraceBalconyFree parkingAir conditioning\\n\\n\\n\\n\\n\\n\\n\\n\\n\\n\\n\\n\\n\\n\\nYou're eligible for a Genius discount at Pater Meus Suites! To save at this property, all you have to do is sign in.\\nLocated in Cefalù, 1.1 miles from Cefalu Beach and 1.6 miles from Mazzaforno Beach, Pater Meus Suites provides accommodation with free WiFi, air conditioning, an outdoor swimming pool and a garden.\\nThe aparthotel provides guests with a terrace, city views, a seating area, satellite TV, a fully equipped kitchen with a fridge and a microwave, and a private bathroom with shower and free toiletries. There is also a stovetop, toaster and a coffee machine.\\nCefalù Cathedral is 2.2 miles from Pater Meus Suites, while Bastione Capo Marchiafava is 2.3 miles away. The nearest airport is Falcone-Borsellino Airport, 59.7 miles from the accommodation. \\n\\n\\n\\nCouples particularly like the location — they rated it 9.0 for a two-person trip.\\n\\n\\n\\nPater Meus Suites has been welcoming Booking.com guests since 3 Aug 2021.\\n\\n\\n\\nDistance in property description is calculated using © OpenStreetMap\\n\\n\\nShow me more\\n\\n\\n\\n\\n\\n\\nMost popular facilitiesOutdoor swimming pool Free parking Free WiFi Family rooms Non-smoking rooms Terrace Garden \\n\\n\\n\\n\\n\\n\\n\\n\\nProperty highlights\\n\\n\\n\\n\\n\\n\\n\\n\\nTop location: Highly rated by recent guests (8.8)\\n\\n\\n\\n\\n\\n\\n\\n\\n\\n\\n\\n\\nFree private parking available on-site\\n\\n\\n\\n\\n\\n\\n\\nReserve\\n\\n\\n\\n\\n\\n\\n\\nSave the property\\n\\n\\n\\n\\nRemoved from:\\n\\n\\n\\n\\n\\n\\n\\nSaved to 667 lists\\n\\n\\n\\n\\n\\n\\n\\nReliable infoGuests say the description and photos for this property are very accurate.\\n\\n\\n\\n\\n\\n\\n\\n\\n\\n\\n\\n\\n\\nAvailability\\n\\n\\nWe Price Match\\n\\n\\n\\n\\n\\n\\n\\nSelect dates to see this property's availability and prices\\n\\n\\n\\n\\n\\n\\n\\n\\n\\n\\n\\n\\n\\n\\n\\n\\n\\n\\n\\n\\n\\n\\n\\n\\n\\n\\n\\n\\n\\n\\n+\\n\\n\\n\\n\\n\\n\\n\\n\\n\\n\\n\\n\\n\\n\\n\\n\\n\\n\\n\\n\\n\\n\\n\\n\\n\\nCheck-in\\n\\n\\n\\n\\n\\n\\n\\n\\n\\n\\n\\n\\n\\n\\n\\n+\\n\\n\\n\\n\\n\\n\\n\\n\\n\\n\\n\\n\\n\\n\\n\\n\\n\\n\\n\\n\\n\\n\\n\\n\\n\\nCheck-out\\n\\n\\n\\n\\n\\n\\n\\n\\n\\n\\n\\n\\n\\n\\n\\n\\n\\n\\n\\n\\nApproximate prices in GBP for a 1-night stay\\n\\n\\n\\n\\n\\nLoading dates...\\n\\n\\n\\n\\n\\n\\n\\n\\n\\n\\n\\nRooms and occupancy\\n\\n\\n2 adults\\n\\n\\n\\xa0·\\xa0\\n\\n0 children\\n\\n\\n\\n\\xa0·\\xa0\\n\\n1 room\\n\\n\\n\\n\\n\\n\\n\\n\\n\\n\\n\\nAdults\\n\\n\\n\\n\\n-\\n\\n2\\n\\n+\\n\\n\\n\\n\\n\\n\\n\\nChildren\\n\\n\\n\\n\\n-\\n\\n0\\n\\n+\\n\\n\\n\\n\\n\\n\\n\\nRooms\\n\\n\\n\\n\\n-\\n\\n1\\n\\n+\\n\\n\\n\\n\\n\\n\\n\\n\\n\\n\\n\\n\\n\\n\\nSearch\\n\\n\\n\\n\\n\\n\\n\\n\\n\\n\\n\\n\\nAccommodation TypeSleeps\\xa0Apartment with Terrace1 large double bed+Show pricesApartment with Garden View1 sofa bedand1 large double bed+Show pricesApartment with Sea View1 large double bed+Show pricesApartment with Sea ViewBedroom :1 double bedLiving room:1 sofa bed× 4+Show pricesApartment with TerraceBedroom :1 large double bedLiving room:1 sofa bed× 4+Show prices\\n\\n\\n\\n\\n\\n\\n\\n\\n\\n\\n\\n\\n\\n\\n\\n\\n\\n\\n\\n\\n\\n\\n\\n\\n\\n\\n\\n\\n\\n\\n\\n\\nSomething went wrong. Please try again later.\\n\\n\\n\\n\\n\\n\\n\\n\\n\\n\\n\\n\\nSomething went wrong. Please try again later.\\n\\n\\n\\n\\n\\n\\n\\n\\n\\n\\n\\n\\nSomething went wrong. Please try again later.\\n\\n\\n\\n\\n\\n\\n\\n\\n\\n\\n\\n\\nSomething went wrong. Please try again later.\\n\\n\\n\\n\\n\\n\\n\\n\\n\\n\\n\\n\\nSomething went wrong. Please try again later.\\n\\n\\n\\n\\n\\n\\n\\n\\n\\n\\n\\n\\n\\n\\n\\n\\n\\n\\n\\n\\n\\n\\n\\n\\n\\nExtra health & safety measuresThis property has taken extra health and hygiene measures to ensure that your safety is their prioritySee health & safety details\\n\\n\\n\\n\\n\\n\\n\\n\\n\\nClosest beachesCefalu Beach8.6 Fabulous beach600 yards from propertyMazzaforno Beach8.1 Very good beach1.4 miles from propertyCaldura Beach8.5 Very good beach1.7 miles from property\\n\\n\\n\\n\\n\\n\\n\\nGuest reviewsSee availability9.1 Superb\\xa0·\\xa099 reviewsRead all reviews\\n\\nCategories:Staff 9.6Facilities 9.2Cleanliness 9.4Comfort 9.3Value for money 8.7Location 8.8Free WiFi 10High score for Cefalù\\nSelect topics to read reviews:PoolCleanViewLocationBeach\\n\\nSee what guests loved the most:Anne-marieCanada“The apartment is very confortable and very well equipped. The view on Cefalu from the pool is beautiful. The area is quiet and about 15- 20 minutes walk to Cefalu beach. There’s a small supermarket at about 5 minutes walk from the apartment. We...”Read moreJamesUnited Kingdom“This was a fabulous apartment.  The staff, especially Maria couldn't have been more helpful, and were available by mobile phone at any time to help.  The accommodation and public areas were absolutely spotless and the attention to detail with...”Read moreJeffreyNetherlands“Overall atmosphere was great! Beautiful new apartments with a stunning view over Cefalù. Appartments are super clean, spacious and comfortable. \\n\\nProperty is located at 10-15 mins walking distance to the beach & old town. We walked it everyday,...”Read moreJulieAustralia“Very relaxing and really nice to be out of the extremely busy beach and town area in the height of summer. \\nWe enjoyed the walk to town and back and the extra exercise definitely helped when eating beautiful Italian pasta every day!!\\nThe pool was...”Read moreSimonIreland“Everything was exceptional. \\nStaff so friendly, place was so nice and clean. Views gorgeous.”Read moreEllaUnited Kingdom“The property was super clean and had everything you need, including a coffee machine and fresh croissants delivered to your door every morning. The staff are super friendly and communicative and helped us with everything we needed. We would come...”Read moreBeliaNetherlands“Location was super! We never got enough of the view to the sea and the charming village.\\r\\nThe owner and especially her daughter (and other staff) were so friendly and service orientated. They helped me with everything, sometimes before I could ask...”Read moreKaterynaSpain“It was a great stay. The apartment is very clean and the bed very comfy. The kitchen is quite big and has everything to make meals. I also enjoyed the solarium, fresh pool and amazing views. The parking is free and it’s pretty close to the old...”Read moreSussiDenmark“Outstanding coast view, clean and comfortable apartment, nice staff and really appreciated that the most basic stuff as soap, salt, sugar, coffee etc were there to the first days.”Read moreMMhairiUnited Kingdom“We really enjoyed our stay at the Pater Meus Suites. The facilities were lovely - comfortable outside sitting and sun bathing areas, a pool, in lovely greenery and surrounds. The rooms were modern and comfortable, and had everything needed for a...”Read moreRead all reviews\\n\\n\\n\\n\\nProperty questions and answersBrowse questions from guests for anything extra you want to know about the propertyThe property usually replies within a few daysSee availabilityHi. I would be walking into cefalu and back with my kids at night. They are 8 and 6. is it a safe walk especially at night and how long?Hi, the residence is 1 km far from the centre and 1,5 from the cefalù cathedral. The route is composed of a small private street with few lights and a..Read moreAnswered on 16 September 2021do u have parking plsYes we have a free parking for app out guests. Answered on 27 June 2022Hi. Are you able to provide a cot for 9 month old please.Hi, yes we have one and you can reserve it for free. Thanks, we are available for further questions.Answered on 14 March 2022Hello is it possible to arrange baby bed fro dates 16 october -23 october?Hi, yes sure we can reserve it for youAnswered on 13 November 2022Is the pool open in April?Yes the pool is always open Answered on 11 November 2022Still looking?Ask a questionSee more questions (8)Ask a questionSee more questions (8)\\n\\n\\n\\n\\n\\n\\n\\n\\nProperty surroundings *See availability\\n\\n\\n\\n\\n\\n\\n\\n\\n\\nQuality ratingBooking.com rated the quality of this property as 3 out of 5 based on factors such as facilities, size, location and services provided.\\n\\n\\n\\n\\n\\n\\n\\n\\nFacilities of Pater Meus Suites\\n\\n\\n\\n\\nSee availability\\n\\n\\n\\n\\n\\nMost popular facilitiesOutdoor swimming pool Free parking Free WiFi Family rooms Non-smoking rooms Terrace Garden \\n\\n\\n\\nParkingFree private parking is possible on site (reservation is not needed).InternetWiFi is available in the rooms and is free of charge.KitchenChildren's high chair Dining table Coffee machine Cleaning products Toaster Stovetop Kitchenware Kitchen Microwave Refrigerator Kitchenette BedroomLinen Wardrobe or closet BathroomToilet paper Towels Private bathroom Toilet Free toiletries Hairdryer Shower Living AreaDining area Seating Area Media & TechnologySatellite channels TV Room AmenitiesSocket near the bed Clothes rack Mosquito net Tile/marble floor OutdoorsOutdoor furniture Sun terrace Terrace Garden Outdoor swimming poolOpen all year All ages welcome Infinity pool Pool with view Sun loungers or beach chairs Sun umbrellas WellnessSun umbrellas Sun loungers or beach chairs Outdoor & ViewCity view Landmark view Mountain view Pool view Garden view View Building characteristicsPrivate apartment in building Semi-detached Reception servicesInvoice provided Private check-in/check-out MiscellaneousAir conditioning Family rooms Non-smoking rooms Languages spokenEnglish Spanish Italian \\n\\n\\n\\nSustainable initiativesThis property has taken steps to provide more sustainable and environmentally friendly travelRead more\\n\\n\\n\\n\\n\\n\\n\\n\\n\\n\\nSee availability\\n\\n\\nHouse rules\\n\\n\\n\\nPater Meus Suites takes special requests - add in the next step!\\n\\n\\n\\n\\n\\n\\n\\n\\n\\nCheck-in\\n\\n\\n\\n\\n14:00 - 21:00 \\n\\n\\nYou'll need to let the property know in advance what time you'll arrive.\\n\\n\\n\\n\\n\\n\\n\\nCheck-out\\n\\n\\n\\n\\n08:00 - 10:00 \\n\\n\\n\\n\\n\\n\\n\\n\\n\\n\\n\\nCancellation/\\nprepayment\\n\\n\\n\\nCancellation and prepayment policies vary according to accommodation type.\\nPlease enter the dates of your stay and check the conditions of your required room.\\n\\n\\n\\n\\n\\n\\n\\n\\n\\nRefundable damage deposit\\n\\n\\n\\nA damage deposit of EUR 100 is required on arrival. That's about 88.22GBP. This will be collected as a cash payment. You should be reimbursed on check-out. Your deposit will be refunded in full in cash, subject to an inspection of the property.\\n\\n\\n\\n\\n\\n\\n\\nChildren and beds\\n\\n\\nChild policiesChildren of any age are welcome.Children aged 3 years and above are considered adults at this property.To see correct prices and occupancy information, please add the number of children in your group and their ages to your search.Cot and extra bed policiesCots and extra beds are not available at this property.\\n\\n\\n\\n\\n\\n\\n\\n\\nNo age restriction\\n\\n\\nThere is no age requirement for check-in\\n\\n\\n\\n\\n\\n\\nPayments by Booking.com\\n\\n\\nBooking.com takes your payment on behalf of the property for this stay, but make sure you have cash for any extras once you get there.\\n\\n\\n\\n\\n\\n\\n\\n\\n\\nParties\\n\\n\\nParties/events are not allowed\\n\\n\\n\\n\\n\\n\\n\\n\\nPets\\n\\n\\nPets are not allowed.\\n\\n\\n\\n\\n\\n\\n\\n\\n\\n\\n\\n\\nSee availability\\n\\n\\nThe fine print\\n\\n\\n\\n\\nThis property will not accommodate hen, stag or similar parties.\\nLicense number: 19082027C218383\\nA damage deposit of EUR 100 is required on arrival. That's about 88.22GBP. This will be collected as a cash payment. You should be reimbursed on check-out. Your deposit will be refunded in full in cash, subject to an inspection of the property.\\n\\n\\n\\n\\n\\n\\n\\nLegal informationThis property is managed by a private host. EU consumer law relating to professional hosts might not apply. Learn more.\\n\\n\\n\\n\\n\\n\\n\\n\\nFAQs about Pater Meus Suites\\n\\n\\n\\n\\n\\n\\n\\n\\n\\n\\nWhat are the check-in and check-out times at Pater Meus Suites?\\n\\n\\n\\n\\n\\n\\n\\n\\nCheck-in at Pater Meus Suites is from 14:00, and check-out is until 10:00.\\n\\n\\n\\n\\n\\n\\n\\nHow much does it cost to stay at Pater Meus Suites?\\n\\n\\n\\n\\n\\n\\n\\n\\nThe prices at Pater Meus Suites may vary depending on your stay (e.g. dates you select, hotel's policy etc.). See the prices by entering your dates.\\n\\n\\n\\n\\n\\n\\n\\nWhat is there to do at Pater Meus Suites?\\n\\n\\n\\n\\n\\n\\n\\n\\nPater Meus Suites offers the following activities / services (charges may apply): Swimming Pool\\n\\n\\n\\n\\n\\n\\n\\nDoes Pater Meus Suites have a balcony?\\n\\n\\n\\n\\n\\n\\n\\n\\nYes, there are options at this property that have a balcony. You can find out more about this and the other facilities at Pater Meus Suites on this page.\\n\\n\\n\\n\\n\\n\\n\\nHow far is Pater Meus Suites from the centre of Cefalù?\\n\\n\\n\\n\\n\\n\\n\\n\\nPater Meus Suites is 0.9 miles from the centre of Cefalù.\\n\\n\\n\\n\\n\\n\\n\\nHow many bedrooms does Pater Meus Suites have?\\n\\n\\n\\n\\n\\n\\n\\n\\nPater Meus Suites has the following number of bedrooms: 1 bedroom\\nFor more detailed information, please check the accommodation option(s) breakdown on this page.\\n\\n\\n\\n\\n\\n\\n\\nDoes Pater Meus Suites have a pool?\\n\\n\\n\\n\\n\\n\\n\\n\\nYes, this hotel has a pool. Find out the details about the pool and other facilities on this page.\\n\\n\\n\\n\\n\\n\\n\\nDoes Pater Meus Suites have a terrace?\\n\\n\\n\\n\\n\\n\\n\\n\\nYes, there are options at this property that have a terrace. You can find out more about this and the other facilities at Pater Meus Suites on this page.\\n\\n\\n\\n\\n\\n\\n\\nHow many guests can sleep at Pater Meus Suites?\\n\\n\\n\\n\\n\\n\\n\\n\\nYou can choose from a number of accommodation options at Pater Meus Suites (subject to availability). These can accommodate: 2 guests3 guests4 guests\\nFor more detailed information, please check the accommodation option(s) breakdown on this page.\\n\\n\\n\\n\\n\\n\\n\\nIs Pater Meus Suites popular with families?\\n\\n\\n\\n\\n\\n\\n\\n\\nYes, Pater Meus Suites is popular with guests booking family stays.\\n\\n\\n\\n\\n\\n\\n\\n\\n\\n\\n\\n\\n\\n\\n\\n\\n\\n\\n\\n\\n\\n\\n\\n\\n\\n\\n\\n\\n\\n\\n\\n\\n\\n\\n\\n\\n\\n\\n\\n\\n\\n\\n\\n\\n\\n\\n\\nShow more\\n\\n\\n\\n\\n\\n\\n\\n\\n\\n\\n\\n\\n\\n\\n\\n\\n\\n\\n\\n\\n\\n\\n\\n\\n\\n\\n\\n\\n\\n\\n\\n\\n\\n\\n\\n\\n\\n\\n\\n\\n\\n\\n\\n\\n\\n\\n\\nShow more\\n\\n\\n\\n\\n\\n\\n\\n\\n\\nThe best of Cefalù\\n\\n\\n\\nClick here to see more properties near popular landmarks in Cefalù\\n\\n\\n\\n\\n\\n\\n\\n\\n\\n\\n\\n\\n\\n\\n\\nPiano Battaglia\\n\\n\\n\\n\\n\\n\\nLandmarks\\n\\n\\n\\n\\nCefalù Cathedral\\n\\n\\n\\n\\nLa Rocca\\n\\n\\n\\n\\nSanctuary of Gibilmanna\\n\\n\\n\\n\\nSalita Saraceni\\n\\n\\n\\n\\n\\n\\nMonuments\\n\\n\\n\\n\\nBastione Capo Marchiafava\\n\\n\\n\\n\\nLavatoio Cefalù\\n\\n\\n\\n\\n\\n\\nMuseums\\n\\n\\n\\n\\nMuseo Mandralisca\\n\\n\\n\\n\\n\\n\\n\\nAirports\\n\\n\\n\\nFalcone-Borsellino Airport\\n\\n(PMO)\\n50.3 miles\\n\\n\\n\\n\\nRailway stations\\n\\n\\n\\nCefalu Railway Station\\n\\n\\n\\n\\n\\n\\n\\nMost popular cities\\n\\n\\n\\n\\nCampofelice di Roccella\\n\\n\\n\\n\\nBagheria\\n\\n\\n\\n\\nTermini Imerese\\n\\n\\n\\n\\nCastel di Tusa\\n\\n\\n\\n\\nCasteldaccia\\n\\n\\n\\n\\n\\n\\n\\n\\n\\n\\n\\n\\n\\n\\n\\n\\n\\n\\n\\n\\n\\n\\n\\n\\n\\n\\n\\n\\n\\n\\n\\n\\n\\n\\n\\n\\n\\n\\n\\nSave time, save money!\\n\\n\\nSign up and we'll send the best deals to you\\n\\n\\n\\n\\nEnter your email address and we'll send you our best deals\\n\\n\\n\\n\\nSubscribe\\n\\n\\n\\n\\n\\n\\nError:\\nPlease enter a valid email address\\n\\n\\n\\nError:\\nSorry. An error has occurred.\\n\\n\\n\\nThanks! We've sent you an email so you can complete your subscription\\n\\n\\n\\n\\n\\n\\n\\n\\n\\n\\n\\n\\n\\n\\n\\n\\n\\nList your property\\n\\n\\n\\n\\n\\n\\n\\n\\n\\nMobile version\\n\\n\\n\\nYour account\\n\\n\\n\\n\\nMake changes to your booking online\\n\\n\\n\\n\\nCustomer Service help\\n\\n\\n\\n\\n\\nBecome an affiliate\\n\\n\\n\\n\\nBooking.com for Business\\n\\n\\n\\n\\n\\n\\n\\n\\n\\n\\n\\n\\nCountries\\n\\n\\n\\n\\nRegions\\n\\n\\n\\n\\nCities\\n\\n\\n\\n\\nDistricts\\n\\n\\n\\n\\nAirports\\n\\n\\n\\n\\nHotels\\n\\n\\n\\n\\nPlaces of interest\\n\\n\\n\\n\\n\\n\\n\\n\\nHomes\\n\\n\\n\\n\\nApartments\\n\\n\\n\\n\\nResorts\\n\\n\\n\\n\\nVillas\\n\\n\\n\\n\\nHostels\\n\\n\\n\\n\\nB&Bs\\n\\n\\n\\n\\nGuest houses\\n\\n\\n\\n\\n\\n\\n\\n\\nUnique places to stay\\n\\n\\n\\n\\nReviews\\n\\n\\n\\n\\n\\nUnpacked: Travel articles\\n\\n\\n\\n\\nTravel Communities\\n\\n\\n\\n\\nSeasonal and holiday deals\\n\\n\\n\\n\\n\\n\\n\\n\\nCar hire\\n\\n\\n\\n\\nFlight finder\\n\\n\\n\\n\\nRestaurant reservations\\n\\n\\n\\n\\nBooking.com for Travel Agents\\n\\n\\n\\n\\n\\n\\n\\n\\nCoronavirus (COVID-19) FAQs\\n\\n\\n\\nAbout Booking.com\\n\\n\\n\\nCustomer Service help\\n\\n\\n\\n\\nPartner help\\n\\n\\n\\n\\nCareers\\n\\n\\n\\n\\nSustainability\\n\\n\\n\\n\\nPress centre\\n\\n\\n\\n\\nSafety resource centre\\n\\n\\n\\n\\nInvestor relations\\n\\n\\n\\n\\nTerms & Conditions\\n\\n\\n\\n\\nPartner dispute\\n\\n\\n\\n\\nHow we work\\n\\n\\n\\n\\nPrivacy & Cookie Statement\\n\\n\\n\\n\\nCookie Settings\\n\\n\\nManage cookie settings\\n\\n\\n\\n\\nMSA Statement\\n\\n\\n\\n\\nCorporate contact\\n\\n\\n\\n\\n\\n\\n\\n\\n\\nExtranet login\\n\\n\\n\\n\\n\\nCopyright © 1996–2023\\nBooking.com™. All rights reserved.\\n\\n\\n\\n\\n\\xa0\\n\\n\\n\\nBooking.com is part of Booking Holdings Inc., the world leader in online travel and related services.\\n\\n\\n\\n\\n\\n\\n\\n\\n\\n\\n\\n\\n\\n\\n\\n\\n\\n\\n\\n\\n\\n\\n\\n\\n\\n\\n\\n\\n\\nStart of dialog content\\n\\nVerified reviews from real guests.\\nWe have more than 70 million property reviews, and they're all from real, verified guests.\\n\\n\\n\\nHow does it work?\\n\\n\\n\\n\\n1\\n\\n\\n\\nIt starts with a booking\\nIt starts with a booking\\nThe only way to leave a review is to first make a booking. That's how we know our reviews come from real guests who have stayed at the property.\\n\\n\\n\\n\\n\\n\\n\\n2\\n\\n\\n\\nFollowed by a trip\\nFollowed by a trip\\nWhen guests stay at the property they check out how quiet the room is, how friendly the staff are and more.\\n\\n\\n\\n\\n\\n\\n\\n3\\n\\n\\n\\nAnd finally, a review\\nAnd finally, a review\\nAfter their trip, guests tell us about their stay. We check for naughty words and verify the authenticity of all guest reviews before adding them to our site.\\n\\n\\n\\n\\nIf you booked through us and want to leave a review, please sign in first.\\n\\nSign in and leave a review\\n\\nEnd of dialog content\\n\\n\\nCheck-in date\\nCheck-out date\\n\\n\\n«\\n\\n\\n\\n\\n\\n\\n\\n\\n\\n\\n\\n\\n\\n\\n\\n\\n\\n\\n\\n\\n\\n\\n\\n\\n\\n\\n\\n\\n\\n\\n\\n\\n\\n\\n\\n\\n»\\n\\n\\n\\n\\nMoTuWeThFrSaSu\\n\\n\\xa0\\xa0\\xa0\\xa0\\xa0\\xa0\\xa0\\n\\xa0\\xa0\\xa0\\xa0\\xa0\\xa0\\xa0\\n\\xa0\\xa0\\xa0\\xa0\\xa0\\xa0\\xa0\\n\\xa0\\xa0\\xa0\\xa0\\xa0\\xa0\\xa0\\n\\xa0\\xa0\\xa0\\xa0\\xa0\\xa0\\xa0\\n\\xa0\\xa0\\xa0\\xa0\\xa0\\xa0\\xa0\\n\\n\\nClose calendar\\n\\n\\n\\n\\n\\n\\n\\n\\n\\n\\n\\n\\n\\n\\n\\n\\n\\n\\n\\n\\n\\n\\n\\n\\n\\n\\n\\n\\n\\n\\n\\n\\n\\n\\n\\n\\n\\n\\n\\n\\n\\n\\n\\n\\n\\n\\n\\n\\n\\n\\n\\n\\n\\n\\n\\n\\n\\n\\n\\n\\n\\nSave big in Cefalù\\n\\n\\nGet exclusive access to member-only deals by email.\\n\\n\\n\\n\\n\\n\\n\\n\\n\\n\\n\\n\\n\\n\\n\\n\\n\\n\\n\\n\\n\\n\\n\\nFor a limited time only\\n\\n\\n\\n\\nError:\\nPlease enter a valid email address\\n\\n\\n\\nError:\\nSorry. An error has occurred.\\n\\n\\n\\nHooray, you're now subscribed!\\n\\n\\nShortly, you will receive news about top-rated hotels, irresistible deals and exciting destinations.\\n\\n\\n\\n\\n\\n\\n\\n\\n\\n\\n\\n\\n\\n\\n\\nPlease sign in to continue \\n\\n\\n\\nSign in to your account\\n\\n\\n\\n\\nor use one of these options\\n\\n\\n\\n\\n\\n\\n\\n\\n\\n\\n\\n\\n\\n\\n\\n\\n\\n\\n\\n\\n\\n\\n\\n\\n\\nDon't have an account yet? Create your account\\n\\n\\n\\n\\n\\n\\n\\n\\n\\n\\n\\n\\n\\n\\n\\n\\n\\n\\n\\n\\n\\n\\n\\n\\n\\n\\n\\n\\n\\n\\n\\n\\n\\n\\n\\n\\n\\n\\n\\n\\n\\n\\n\\n\\n\\n\\n\\n\\n\\n\\n\\n\\n\\n\\n\\n\\n\\n\\n\\n\\n\\n\\n\\n\\n\\n\\n\\n\\n\\n\\n\\n\\n\\n\\n\\n\\n\\n1668350,1659950,1672400|5,1659950|1,1668350|1,1653450,1667860,1672160,1664870,1669330,1654280,1672950,1659950|5,1672400|1,1639390,1667860|2,1672400,1664970\\n\\n\""
      ]
     },
     "execution_count": 13,
     "metadata": {},
     "output_type": "execute_result"
    }
   ],
   "source": [
    "almacen['pagina'][0]"
   ]
  },
  {
   "attachments": {},
   "cell_type": "markdown",
   "metadata": {},
   "source": [
    "hace el bucle completo"
   ]
  },
  {
   "cell_type": "code",
   "execution_count": 7,
   "metadata": {},
   "outputs": [
    {
     "name": "stdout",
     "output_type": "stream",
     "text": [
      "item: 39 page: 1\n",
      "item: 40 page: 1\n",
      "item: 41 page: 1\n",
      "item: 42 page: 1\n",
      "item: 43 page: 1\n",
      "item: 44 page: 1\n",
      "item: 45 page: 1\n",
      "item: 46 page: 1\n"
     ]
    }
   ],
   "source": [
    "driver = webdriver.Chrome(ChromeDriverManager().install())\n",
    "driver.get(url_original)\n",
    "driver.maximize_window()\n",
    "driver.set_window_size(1920, 1080)\n",
    "driver.implicitly_wait(30)\n",
    "driver.find_element('css selector', '#onetrust-accept-btn-handler').click()\n",
    "res = requests.get(url_original)\n",
    "soup_numero = BeautifulSoup(res.content, 'html.parser')\n",
    "pagina_numero = soup_numero.text\n",
    "number = math.ceil(int(re.findall(r': (.*) properties', pagina_numero)[0].replace(',', '')) / 25)\n",
    "try:\n",
    "    for page in range (1,number):\n",
    "        try:\n",
    "            for i in range(1,50):\n",
    "                print('item:', i, 'page:', page)\n",
    "                try:\n",
    "                    driver.find_element('xpath', '//*[@id=\"search_results_table\"]/div[2]/div/div/div/div[3]/div[{i}]/div[1]/div[2]/div/div[1]/div[1]/div/div[1]/div[1]/h3/a'.format(i=i)).click()\n",
    "                    driver.implicitly_wait(15)\n",
    "                    url = driver.current_url\n",
    "                    driver.switch_to.window(driver.window_handles[1])\n",
    "                    almacen['url'].append(url)\n",
    "                    res = requests.get(url)\n",
    "                    soup = BeautifulSoup(res.content, 'html.parser')\n",
    "                    pagina = soup.text\n",
    "                    almacen['pagina'].append(pagina)\n",
    "                    almacen['address'].append(re.findall('(.*, \\d{3,5} .*)', pagina.lower()))\n",
    "                    print('dict:', len(almacen['url']), len(almacen['pagina']))\n",
    "                    driver.switch_to.window(driver.window_handles[1])\n",
    "                    driver.close()\n",
    "                    driver.switch_to.window(driver.window_handles[0])\n",
    "                    clear_output(wait=True)\n",
    "                except:\n",
    "                    pass\n",
    "                clear_output\n",
    "           # driver.find_element('xpath', '//*[@id=\"search_results_table\"]/div[2]/div/div/div/div[4]/div[2]/nav/div/div[3]/button').click()\n",
    "           # driver.implicitly_wait(2)\n",
    "           # clear_output(wait=True)\n",
    "        except:\n",
    "            pass\n",
    "except:\n",
    "    print('me rompí')\n",
    "    #//*[@id=\"search_results_table\"]/div[2]/div/div/div/div[3]/div[5]/div[1]/div[2]/div/div[1]/div[1]/div/div[1]/div/h3/a\n",
    "    #//*[@id=\"search_results_table\"]/div[2]/div/div/div/div[3]/div[3]/div[1]/div[2]/div/div[1]/div[1]/div/div[1]/div[1]/h3/a\n",
    "    #search_results_table > div:nth-child(2) > div > div > div > div.d4924c9e74 > div:nth-child(4) > div.d20f4628d0 > div.b978843432 > div > div.a1b3f50dcd.b2fe1a41c3.a7c67ebfe5.d19ba76520.d14b211b4f > div.b1e6dd8416.aacd9d0b0a > div > div:nth-child(1) > div.dd023375f5 > h3 > a\n",
    "    #search_results_table > div:nth-child(2) > div > div > div > div.d4924c9e74 > div:nth-child(6) > div.d20f4628d0 > div.b978843432 > div > div.a1b3f50dcd.b2fe1a41c3.a7c67ebfe5.d19ba76520.d14b211b4f > div.b1e6dd8416.aacd9d0b0a > div > div:nth-child(1) > div > h3 > a\n",
    "#search_results_table > div:nth-chil\n",
    "# Aur\n",
    "# d(2) > div > div > div > div.d4924c9e74 > div:nth-child(4) > div.d20f4628d0 > div.b978843432 > div > div.a1b3f50dcd.b2fe1a41c3.a7c67ebfe5.d19ba76520.d14b211b4f > div.b1e6dd8416.aacd9d0b0a > div > div:nth-child(1) > div > h3 > a > div.fcab3ed991.a23c043802\n",
    "##search_results_table > div:nth-child(2) > div > div > div > div.d4924c9e74 > div:nth-child(6) > div.d20f4628d0 > div.b978843432 > div > div.a1b3f50dcd.b2fe1a41c3.a7c67ebfe5.d19ba76520.d14b211b4f > div.b1e6dd8416.aacd9d0b0a > div > div:nth-child(1) > div > h3 > a > div.fcab3ed991.a23c043802\n",
    "##search_results_table > div:nth-child(2) > div > div > div > div.d4924c9e74 > div:nth-child(8) > div.d20f4628d0 > div.b978843432 > div > div.a1b3f50dcd.b2fe1a41c3.a7c67ebfe5.d19ba76520.d14b211b4f > div.b1e6dd8416.aacd9d0b0a > div > div:nth-child(1) > div > h3 > a > div.fcab3ed991.a23c043802\n",
    "#except:\n",
    "#    driver.find_element('xpath', '//*[@id=\"__bui-c2718823-1\"]').send_keys(city, Keys.TAB)\n",
    "    "
   ]
  },
  {
   "cell_type": "code",
   "execution_count": null,
   "metadata": {},
   "outputs": [],
   "source": [
    "len(almacen['url'])"
   ]
  },
  {
   "cell_type": "code",
   "execution_count": null,
   "metadata": {},
   "outputs": [],
   "source": [
    "almacen['url'][1]"
   ]
  },
  {
   "cell_type": "code",
   "execution_count": null,
   "metadata": {},
   "outputs": [],
   "source": [
    "almacen['url']"
   ]
  },
  {
   "attachments": {},
   "cell_type": "markdown",
   "metadata": {},
   "source": []
  },
  {
   "cell_type": "code",
   "execution_count": null,
   "metadata": {},
   "outputs": [],
   "source": [
    "driver = webdriver.Chrome(ChromeDriverManager().install())\n",
    "driver.get(url_original)\n",
    "driver.maximize_window()\n",
    "driver.set_window_size(1920, 1080)\n",
    "driver.implicitly_wait(30)\n",
    "driver.find_element('css selector', '#onetrust-accept-btn-handler').click()\n",
    "try:\n",
    "    #driver.find_elements_by_xpath('')\n",
    "    driver.find_element('xpath', '//*[@id=\"search_results_table\"]/div[2]/div/div/div/div[3]/div[3]/div[1]/div[2]/div/div[1]/div[1]/div/div[1]/div[1]/h3/a').click().click()\n",
    "    driver.implicitly_wait(15)\n",
    "    #almacen['url'].append(driver.getCurrentUrl())\n",
    "    time.sleep(5)\n",
    "    for handle in driver.window_handles:\n",
    "        print('handle')\n",
    "        driver.switch_to.window(handle)\n",
    "    #p = driver.window_handles[0]\n",
    "    #obtain browser tab window\n",
    "    #c = driver.window_handles[1]\n",
    "    #switch to tab browser\n",
    "    #driver.switch_to.window(c)\n",
    "    try:\n",
    "        chwd = driver.window_handles\n",
    "        print(chwd[0])\n",
    "        for w in chwd:\n",
    "        #switch focus to child window\n",
    "            if(w!=p):\n",
    "                driver.switch_to.window(w)\n",
    "                page_source = driver.page_source\n",
    "                time.sleep(1)\n",
    "            url = driver.current_url\n",
    "            almacen['url'].append(url)\n",
    "            res = requests.get(url)\n",
    "            soup = BeautifulSoup(res.content, 'html.parser')\n",
    "            pagina = soup.text\n",
    "            almacen['pagina'].append(pagina)\n",
    "            #driver.current_url\n",
    "            #print(\"The current url is:\"+str(driver.current_url))\n",
    "    except:\n",
    "        pass\n",
    "except:\n",
    "    print('aloha')\n",
    "    #//*[@id=\"search_results_table\"]/div[2]/div/div/div/div[3]/div[5]/div[1]/div[2]/div/div[1]/div[1]/div/div[1]/div/h3/a\n",
    "    #//*[@id=\"search_results_table\"]/div[2]/div/div/div/div[3]/div[3]/div[1]/div[2]/div/div[1]/div[1]/div/div[1]/div[1]/h3/a\n",
    "    #search_results_table > div:nth-child(2) > div > div > div > div.d4924c9e74 > div:nth-child(4) > div.d20f4628d0 > div.b978843432 > div > div.a1b3f50dcd.b2fe1a41c3.a7c67ebfe5.d19ba76520.d14b211b4f > div.b1e6dd8416.aacd9d0b0a > div > div:nth-child(1) > div.dd023375f5 > h3 > a\n",
    "    #search_results_table > div:nth-child(2) > div > div > div > div.d4924c9e74 > div:nth-child(6) > div.d20f4628d0 > div.b978843432 > div > div.a1b3f50dcd.b2fe1a41c3.a7c67ebfe5.d19ba76520.d14b211b4f > div.b1e6dd8416.aacd9d0b0a > div > div:nth-child(1) > div > h3 > a\n",
    "#search_results_table > div:nth-chil\n",
    "# Aur\n",
    "# d(2) > div > div > div > div.d4924c9e74 > div:nth-child(4) > div.d20f4628d0 > div.b978843432 > div > div.a1b3f50dcd.b2fe1a41c3.a7c67ebfe5.d19ba76520.d14b211b4f > div.b1e6dd8416.aacd9d0b0a > div > div:nth-child(1) > div > h3 > a > div.fcab3ed991.a23c043802\n",
    "##search_results_table > div:nth-child(2) > div > div > div > div.d4924c9e74 > div:nth-child(6) > div.d20f4628d0 > div.b978843432 > div > div.a1b3f50dcd.b2fe1a41c3.a7c67ebfe5.d19ba76520.d14b211b4f > div.b1e6dd8416.aacd9d0b0a > div > div:nth-child(1) > div > h3 > a > div.fcab3ed991.a23c043802\n",
    "##search_results_table > div:nth-child(2) > div > div > div > div.d4924c9e74 > div:nth-child(8) > div.d20f4628d0 > div.b978843432 > div > div.a1b3f50dcd.b2fe1a41c3.a7c67ebfe5.d19ba76520.d14b211b4f > div.b1e6dd8416.aacd9d0b0a > div > div:nth-child(1) > div > h3 > a > div.fcab3ed991.a23c043802\n",
    "#except:\n",
    "#    driver.find_element('xpath', '//*[@id=\"__bui-c2718823-1\"]').send_keys(city, Keys.TAB)\n",
    "    "
   ]
  },
  {
   "cell_type": "code",
   "execution_count": null,
   "metadata": {},
   "outputs": [],
   "source": [
    "driver.window_handles[0]"
   ]
  },
  {
   "cell_type": "code",
   "execution_count": null,
   "metadata": {},
   "outputs": [],
   "source": [
    "almacen['url']"
   ]
  },
  {
   "cell_type": "code",
   "execution_count": null,
   "metadata": {},
   "outputs": [],
   "source": [
    "driver = webdriver.Chrome(ChromeDriverManager().install())\n",
    "driver.get('https://www.booking.com/')\n",
    "driver.maximize_window()\n",
    "driver.set_window_size(1920, 1080)\n",
    "driver.implicitly_wait(30)\n",
    "driver.find_element('css selector', '#onetrust-accept-btn-handler').click()\n",
    "try:\n",
    "    driver.find_element('xpath', '//*[@id=\"ss\"]').send_keys(city, Keys.TAB)\n",
    "except:\n",
    "    driver.find_element('xpath', '//*[@id=\"__bui-c2718823-1\"]').send_keys(city, Keys.TAB)\n",
    "    "
   ]
  },
  {
   "cell_type": "code",
   "execution_count": null,
   "metadata": {},
   "outputs": [],
   "source": [
    "link = str('https://www.booking.com/searchresults.es.html?'\n",
    "    'label'\n",
    "    '=gen173nr-1FCAEoggI46AdIM1gEaEaIAQGYAQq4ARfIAQzYAQHoAQH4AQuIAgGoAgO4AszOv54GwAIB0gIkZjVlYTNmNmQtZGVhOS00MzY5LWFjZDAtZGY4NGVmYmRhNzFm2AIG4AIB&'\n",
    "    'sid=a4916b536ec3ecd3b62ccc75112c9105&sb=1&sb_lp=1&src=index&src_elem=sb&error_url=https%3A%2F%2Fwww.booking.com%2Findex.es.html%3Flabel%3Dgen173nr-1FCAEoggI46AdIM1gEaEaIAQGYAQq4ARfIAQzYAQHoAQH4AQuIAgGoAgO4AszOv54GwAIB0gIkZjVlYTNmNmQtZGVhOS00MzY5LWFjZDAtZGY4NGVmYmRhNzFm2AIG4AIB%26'\n",
    "    'sid%3Da4916b536ec3ecd3b62ccc75112c9105%26sb_price'\n",
    "    '_type%3Dtotal%26%26&ss={country}&is_ski_area=0&checkin_year=&checkin_month=&checkout_year=&checkout_month=&group_adults=2&group_children=0&no_rooms=1&b_h4u_keep_filters=&from_sf=1')"
   ]
  },
  {
   "attachments": {},
   "cell_type": "markdown",
   "metadata": {},
   "source": [
    "old"
   ]
  },
  {
   "cell_type": "code",
   "execution_count": null,
   "metadata": {},
   "outputs": [],
   "source": [
    "import requests\n",
    "from scrapy.selector import Selector\n",
    "\n",
    "# Prepare url\n",
    "city     = 'Sicily'\n",
    "main_url = 'https://www.airbnb.com'\n",
    "city_url = f'{main_url}/s/{city}/homes/'\n",
    "\n",
    "# Create selector\n",
    "html = requests.get(city_url).content\n",
    "sel  = Selector(text=html)\n",
    "\n",
    "# Get hotels\n",
    "hotels = sel.css('div._8ssblpx')\n",
    "print('Number of hotels:', len(hotels))\n",
    "\n",
    "# Find the next page url\n",
    "next_page = sel.css('a._za9j7e ::attr(href)').extract_first()\n",
    "print('Next page:', '\\n', next_page)"
   ]
  },
  {
   "cell_type": "code",
   "execution_count": null,
   "metadata": {},
   "outputs": [],
   "source": []
  },
  {
   "cell_type": "code",
   "execution_count": null,
   "metadata": {},
   "outputs": [],
   "source": []
  },
  {
   "cell_type": "code",
   "execution_count": null,
   "metadata": {},
   "outputs": [],
   "source": []
  },
  {
   "cell_type": "code",
   "execution_count": null,
   "metadata": {},
   "outputs": [],
   "source": [
    "def get_booking_page(offset, rooms, country, startdate, enddate):\n",
    "    \"\"\"\n",
    "    Make request to booking page and parse html\n",
    "    :param offset:\n",
    "    :return: html page\n",
    "    \"\"\"\n",
    "    checkin: list = str(startdate).split(\"-\")\n",
    "    checkout: list = str(enddate).split(\"-\")\n",
    "    url: str = (\n",
    "        \"https://www.booking.com/searchresults.en-gb.html?\"\n",
    "        \"aid=304142&label\"\n",
    "        \"=gen173nr-1DCAEoggJCAlhYSDNYBGiTAYgBAZgBLsIBCnd\"\n",
    "        \"pbmRvd3MgMTDIAQzYAQPoAQGSAgF5qAID&\"\n",
    "        \"sid=716ea5d78c4043fd78b7a1410d639e3d&checkin_month=\"\n",
    "        \"{checkin_m}&checkin_monthday={checkin_d}&checkin_year={checkin_y}&checkout_month={checkout_m}&\"\n",
    "        \"checkout_monthday={checkout_d}&checkout_year={checkout_y}\"\n",
    "        \"&class_interval=1&dest_id=125&dest_type=country&dtdisc=0&from_sf\"\n",
    "        \"=1&genius_rate=1&no_rooms={rooms}&group_adults=2&group_children=0&inac=0&\"\n",
    "        \"index_postcard=0&label_click=undef\"\n",
    "        \"&no_rooms=1&postcard=0&raw_dest_type=country&room1=\"\n",
    "        \"A%2CA&sb_price\"\n",
    "        \"_type=total&src=searchresults&src_elem=sb&ss={country}&ss_all=\"\n",
    "        \"0&ssb=empty&sshis=0&ssne={country}\"\n",
    "        \"&ssne_untouched={country}&rows=15&offset=\".format(\n",
    "            rooms=rooms,\n",
    "            country=country.replace(\" \", \"+\"),\n",
    "            checkin_m=checkin[1],\n",
    "            checkin_d=checkin[2],\n",
    "            checkin_y=checkin[0],\n",
    "            checkout_m=checkout[1],\n",
    "            checkout_d=checkout[2],\n",
    "            checkout_y=checkout[0],\n",
    "        )\n",
    "        + str(offset)\n",
    "    )\n",
    "    r = requests.get(\n",
    "        url,\n",
    "        headers={\n",
    "            \"User-Agent\": \"Mozilla/5.0 (Windows NT 6.1; Win64; x64; rv:47.0)\"\n",
    "            \" Gecko/20100101 Firefox/48.0\"\n",
    "        },\n",
    "    )\n",
    "    html = r.content\n",
    "    parsed_html = BeautifulSoup(html, \"lxml\")\n",
    "    return parsed_html"
   ]
  },
  {
   "cell_type": "code",
   "execution_count": null,
   "metadata": {},
   "outputs": [],
   "source": []
  }
 ],
 "metadata": {
  "kernelspec": {
   "display_name": "brains",
   "language": "python",
   "name": "python3"
  },
  "language_info": {
   "codemirror_mode": {
    "name": "ipython",
    "version": 3
   },
   "file_extension": ".py",
   "mimetype": "text/x-python",
   "name": "python",
   "nbconvert_exporter": "python",
   "pygments_lexer": "ipython3",
   "version": "3.9.13"
  },
  "orig_nbformat": 4,
  "vscode": {
   "interpreter": {
    "hash": "bd3118e8585715c5e7fc282aed76d7676b79208628d9a4fd66b36a1df38de7df"
   }
  }
 },
 "nbformat": 4,
 "nbformat_minor": 2
}
