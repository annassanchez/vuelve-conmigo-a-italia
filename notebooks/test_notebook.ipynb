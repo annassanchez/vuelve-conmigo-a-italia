{
 "cells": [
  {
   "cell_type": "code",
   "execution_count": 1,
   "metadata": {},
   "outputs": [],
   "source": [
    "#! /usr/bin/env python3.6\n",
    "import argparse\n",
    "import argcomplete\n",
    "from argcomplete.completers import ChoicesCompleter\n",
    "from argcomplete.completers import EnvironCompleter\n",
    "import requests\n",
    "import datetime\n",
    "import bthread\n",
    "from bs4 import BeautifulSoup\n",
    "import time\n",
    "import pandas as pd\n",
    "import re\n",
    "import math\n",
    "\n",
    "from selenium import webdriver\n",
    "from webdriver_manager.chrome import ChromeDriverManager\n",
    "from selenium.webdriver.common.keys import Keys\n",
    "from selenium.webdriver.chrome.options import Options\n",
    "import numpy as np\n",
    "from IPython.display import clear_output\n",
    "\n",
    "import sys\n",
    "sys.path.append(\"../\")\n",
    "#import test.booking as book\n",
    "import warnings\n",
    "warnings.filterwarnings('ignore')\n"
   ]
  },
  {
   "attachments": {},
   "cell_type": "markdown",
   "metadata": {},
   "source": [
    "new"
   ]
  },
  {
   "cell_type": "code",
   "execution_count": 2,
   "metadata": {},
   "outputs": [],
   "source": [
    "country = 'Sicily'\n",
    "rooms = 1\n",
    "adults = 2\n",
    "checkin = '2023-09-01'\n",
    "checkout = '2023-09-08'"
   ]
  },
  {
   "cell_type": "code",
   "execution_count": 3,
   "metadata": {},
   "outputs": [],
   "source": [
    "## opciones selenium\n",
    "opciones= Options()\n",
    "opciones.add_experimental_option('excludeSwitches', ['enable-automation'])\n",
    "#para ocultarme como robot\n",
    "opciones.add_experimental_option('useAutomationExtension', False)\n",
    "opciones.add_argument('--start-maximized') #empezar maximizado\n",
    "opciones.add_argument('user.data-dir=selenium') #guarda las cookies\n",
    "opciones.add_argument('--incognito')#incognito window"
   ]
  },
  {
   "cell_type": "code",
   "execution_count": 4,
   "metadata": {},
   "outputs": [],
   "source": [
    "url_original = str(\n",
    "    \"https://www.booking.com/searchresults.en-gb.html?\"\n",
    "    \"aid=304142&label\"\n",
    "    \"=gen173nr-1DCAEoggJCAlhYSDNYBGiTAYgBAZgBLsIBCnd\"\n",
    "    \"pbmRvd3MgMTDIAQzYAQPoAQGSAgF5qAID&\"\n",
    "    \"sid=716ea5d78c4043fd78b7a1410d639e3d&checkin_month=\"\n",
    "    \"{checkin_m}&checkin_monthday={checkin_d}&checkin_year={checkin_y}&checkout_month={checkout_m}&\"\n",
    "    \"checkout_monthday={checkout_d}&checkout_year={checkout_y}\"\n",
    "    \"&class_interval=1&dest_id=125&dest_type=country&dtdisc=0&from_sf\"\n",
    "    \"=1&genius_rate=1&no_rooms={rooms}&group_adults=2&group_children=0&inac=0&\"\n",
    "    \"index_postcard=0&label_click=undef\"\n",
    "    \"&no_rooms=1&postcard=0&raw_dest_type=country&room1=\"\n",
    "    \"A%2CA&sb_price\"\n",
    "    \"_type=total&src=searchresults&src_elem=sb&ss={country}&ss_all=\"\n",
    "    \"0&ssb=empty&sshis=0&ssne={country}\"\n",
    "    \"&ssne_untouched={country}&rows=15&offset=\".format(\n",
    "        rooms=rooms,\n",
    "        country=country.replace(\" \", \"+\"),\n",
    "        checkin_m=checkin[1],\n",
    "        checkin_d=checkin[2],\n",
    "        checkin_y=checkin[0],\n",
    "        checkout_m=checkout[1],\n",
    "        checkout_d=checkout[2],\n",
    "        checkout_y=checkout[0],\n",
    "    )\n",
    ")"
   ]
  },
  {
   "cell_type": "code",
   "execution_count": 5,
   "metadata": {},
   "outputs": [],
   "source": [
    "url_original = str(\n",
    "    'https://www.booking.com/searchresults.en-gb.html?'\n",
    "    'ss=Sicily%2C+Italy&ssne=Sicily%2C+Italy&ssne_untouched=Sicily%2C+Italy'\n",
    "    '&efdco=1&label'\n",
    "    '=gen173nr-1DCAEoggJCAlhYSDNYBGiTAYgBAZgBLsIBCnd'\n",
    "    'pbmRvd3MgMTDIAQzYAQPoAQGSAgF5qAID&'\n",
    "    'sid=716ea5d78c4043fd78b7a1410d639e3d&'\n",
    "    'aid=304142&'\n",
    "    'lang=en-gb'\n",
    "    '&sb=1&'\n",
    "    'src_elem=sb&'\n",
    "    'src=index&'\n",
    "    'dest_id=909&'\n",
    "    'dest_type=region&'\n",
    "    'ac_position=0&'\n",
    "    'ac_click_type=b&'\n",
    "    'ac_langcode=en&'\n",
    "    'ac_suggestion_list_length=5&'\n",
    "    'search_selected=true&'\n",
    "    'search_pageview_id=36746f79352b0064&'\n",
    "    'ac_meta=GhAzNjc0NmY3OTM1MmIwMDY0IAAoATICZW46BFNpY2lAAEoAUAA%3D&'\n",
    "    'checkin={checkin}&'\n",
    "    'checkout={checkout}&'\n",
    "    'group_adults={adults}&'\n",
    "    'no_rooms={rooms}&'\n",
    "    'group_children=0&'\n",
    "    'sb_travel_purpose=leisure'.format(\n",
    "        rooms=rooms,\n",
    "        country=country.replace(\" \", \"+\"),\n",
    "        checkin=checkin,\n",
    "        checkout=checkout,\n",
    "        adults=adults,\n",
    "    )\n",
    ")"
   ]
  },
  {
   "cell_type": "code",
   "execution_count": 6,
   "metadata": {},
   "outputs": [],
   "source": [
    "almacen = {\n",
    "    'url':[], \n",
    "    'pagina':[]\n",
    "}"
   ]
  },
  {
   "cell_type": "code",
   "execution_count": 7,
   "metadata": {},
   "outputs": [
    {
     "name": "stdout",
     "output_type": "stream",
     "text": [
      "item: 35 page: 2\n"
     ]
    }
   ],
   "source": [
    "driver = webdriver.Chrome(ChromeDriverManager().install())\n",
    "driver.get(url_original)\n",
    "driver.maximize_window()\n",
    "driver.set_window_size(1920, 1080)\n",
    "driver.implicitly_wait(30)\n",
    "driver.find_element('css selector', '#onetrust-accept-btn-handler').click()\n",
    "res = requests.get(url_original)\n",
    "soup_numero = BeautifulSoup(res.content, 'html.parser')\n",
    "pagina_numero = soup_numero.text\n",
    "number = math.ceil(int(re.findall(r': (.*) properties', pagina_numero)[0].replace(',', '')) / 25)\n",
    "try:\n",
    "    for page in range (1,number):\n",
    "        try:\n",
    "            for i in range(1,50):\n",
    "                print('item:', i, 'page:', page)\n",
    "                try:\n",
    "                    driver.find_element('xpath', '//*[@id=\"search_results_table\"]/div[2]/div/div/div/div[3]/div[{i}]/div[1]/div[2]/div/div[1]/div[1]/div/div[1]/div[1]/h3/a'.format(i=i)).click()\n",
    "                    driver.implicitly_wait(15)\n",
    "                    url = driver.current_url\n",
    "                    almacen['url'].append(url)\n",
    "                    res = requests.get(url)\n",
    "                    soup = BeautifulSoup(res.content, 'html.parser')\n",
    "                    pagina = soup.text\n",
    "                    almacen['pagina'].append(pagina)\n",
    "                    print('dict:', len(almacen['url']), len(almacen['pagina']))\n",
    "                    driver.switch_to.window(driver.window_handles[1])\n",
    "                    driver.close()\n",
    "                    driver.switch_to.window(driver.window_handles[0])\n",
    "                    clear_output(wait=True)\n",
    "                except:\n",
    "                    pass\n",
    "                clear_output\n",
    "            driver.find_element('xpath', '//*[@id=\"search_results_table\"]/div[2]/div/div/div/div[4]/div[2]/nav/div/div[3]/button').click()\n",
    "            driver.implicitly_wait(2)\n",
    "            clear_output(wait=True)\n",
    "        except:\n",
    "            pass\n",
    "except:\n",
    "    print('me rompí')\n",
    "    #//*[@id=\"search_results_table\"]/div[2]/div/div/div/div[3]/div[5]/div[1]/div[2]/div/div[1]/div[1]/div/div[1]/div/h3/a\n",
    "    #//*[@id=\"search_results_table\"]/div[2]/div/div/div/div[3]/div[3]/div[1]/div[2]/div/div[1]/div[1]/div/div[1]/div[1]/h3/a\n",
    "    #search_results_table > div:nth-child(2) > div > div > div > div.d4924c9e74 > div:nth-child(4) > div.d20f4628d0 > div.b978843432 > div > div.a1b3f50dcd.b2fe1a41c3.a7c67ebfe5.d19ba76520.d14b211b4f > div.b1e6dd8416.aacd9d0b0a > div > div:nth-child(1) > div.dd023375f5 > h3 > a\n",
    "    #search_results_table > div:nth-child(2) > div > div > div > div.d4924c9e74 > div:nth-child(6) > div.d20f4628d0 > div.b978843432 > div > div.a1b3f50dcd.b2fe1a41c3.a7c67ebfe5.d19ba76520.d14b211b4f > div.b1e6dd8416.aacd9d0b0a > div > div:nth-child(1) > div > h3 > a\n",
    "#search_results_table > div:nth-chil\n",
    "# Aur\n",
    "# d(2) > div > div > div > div.d4924c9e74 > div:nth-child(4) > div.d20f4628d0 > div.b978843432 > div > div.a1b3f50dcd.b2fe1a41c3.a7c67ebfe5.d19ba76520.d14b211b4f > div.b1e6dd8416.aacd9d0b0a > div > div:nth-child(1) > div > h3 > a > div.fcab3ed991.a23c043802\n",
    "##search_results_table > div:nth-child(2) > div > div > div > div.d4924c9e74 > div:nth-child(6) > div.d20f4628d0 > div.b978843432 > div > div.a1b3f50dcd.b2fe1a41c3.a7c67ebfe5.d19ba76520.d14b211b4f > div.b1e6dd8416.aacd9d0b0a > div > div:nth-child(1) > div > h3 > a > div.fcab3ed991.a23c043802\n",
    "##search_results_table > div:nth-child(2) > div > div > div > div.d4924c9e74 > div:nth-child(8) > div.d20f4628d0 > div.b978843432 > div > div.a1b3f50dcd.b2fe1a41c3.a7c67ebfe5.d19ba76520.d14b211b4f > div.b1e6dd8416.aacd9d0b0a > div > div:nth-child(1) > div > h3 > a > div.fcab3ed991.a23c043802\n",
    "#except:\n",
    "#    driver.find_element('xpath', '//*[@id=\"__bui-c2718823-1\"]').send_keys(city, Keys.TAB)\n",
    "    "
   ]
  },
  {
   "cell_type": "code",
   "execution_count": null,
   "metadata": {},
   "outputs": [],
   "source": [
    "len(almacen['url'])"
   ]
  },
  {
   "cell_type": "code",
   "execution_count": null,
   "metadata": {},
   "outputs": [],
   "source": [
    "almacen['url']"
   ]
  },
  {
   "attachments": {},
   "cell_type": "markdown",
   "metadata": {},
   "source": []
  },
  {
   "cell_type": "code",
   "execution_count": null,
   "metadata": {},
   "outputs": [],
   "source": [
    "driver = webdriver.Chrome(ChromeDriverManager().install())\n",
    "driver.get(url_original)\n",
    "driver.maximize_window()\n",
    "driver.set_window_size(1920, 1080)\n",
    "driver.implicitly_wait(30)\n",
    "driver.find_element('css selector', '#onetrust-accept-btn-handler').click()\n",
    "try:\n",
    "    #driver.find_elements_by_xpath('')\n",
    "    driver.find_element('xpath', '//*[@id=\"search_results_table\"]/div[2]/div/div/div/div[3]/div[3]/div[1]/div[2]/div/div[1]/div[1]/div/div[1]/div[1]/h3/a').click().click()\n",
    "    driver.implicitly_wait(15)\n",
    "    #almacen['url'].append(driver.getCurrentUrl())\n",
    "    time.sleep(5)\n",
    "    for handle in driver.window_handles:\n",
    "        print('handle')\n",
    "        driver.switch_to.window(handle)\n",
    "    #p = driver.window_handles[0]\n",
    "    #obtain browser tab window\n",
    "    #c = driver.window_handles[1]\n",
    "    #switch to tab browser\n",
    "    #driver.switch_to.window(c)\n",
    "    try:\n",
    "        chwd = driver.window_handles\n",
    "        print(chwd[0])\n",
    "        for w in chwd:\n",
    "        #switch focus to child window\n",
    "            if(w!=p):\n",
    "                driver.switch_to.window(w)\n",
    "                page_source = driver.page_source\n",
    "                time.sleep(1)\n",
    "            url = driver.current_url\n",
    "            almacen['url'].append(url)\n",
    "            res = requests.get(url)\n",
    "            soup = BeautifulSoup(res.content, 'html.parser')\n",
    "            pagina = soup.text\n",
    "            almacen['pagina'].append(pagina)\n",
    "            #driver.current_url\n",
    "            #print(\"The current url is:\"+str(driver.current_url))\n",
    "    except:\n",
    "        pass\n",
    "except:\n",
    "    print('aloha')\n",
    "    #//*[@id=\"search_results_table\"]/div[2]/div/div/div/div[3]/div[5]/div[1]/div[2]/div/div[1]/div[1]/div/div[1]/div/h3/a\n",
    "    #//*[@id=\"search_results_table\"]/div[2]/div/div/div/div[3]/div[3]/div[1]/div[2]/div/div[1]/div[1]/div/div[1]/div[1]/h3/a\n",
    "    #search_results_table > div:nth-child(2) > div > div > div > div.d4924c9e74 > div:nth-child(4) > div.d20f4628d0 > div.b978843432 > div > div.a1b3f50dcd.b2fe1a41c3.a7c67ebfe5.d19ba76520.d14b211b4f > div.b1e6dd8416.aacd9d0b0a > div > div:nth-child(1) > div.dd023375f5 > h3 > a\n",
    "    #search_results_table > div:nth-child(2) > div > div > div > div.d4924c9e74 > div:nth-child(6) > div.d20f4628d0 > div.b978843432 > div > div.a1b3f50dcd.b2fe1a41c3.a7c67ebfe5.d19ba76520.d14b211b4f > div.b1e6dd8416.aacd9d0b0a > div > div:nth-child(1) > div > h3 > a\n",
    "#search_results_table > div:nth-chil\n",
    "# Aur\n",
    "# d(2) > div > div > div > div.d4924c9e74 > div:nth-child(4) > div.d20f4628d0 > div.b978843432 > div > div.a1b3f50dcd.b2fe1a41c3.a7c67ebfe5.d19ba76520.d14b211b4f > div.b1e6dd8416.aacd9d0b0a > div > div:nth-child(1) > div > h3 > a > div.fcab3ed991.a23c043802\n",
    "##search_results_table > div:nth-child(2) > div > div > div > div.d4924c9e74 > div:nth-child(6) > div.d20f4628d0 > div.b978843432 > div > div.a1b3f50dcd.b2fe1a41c3.a7c67ebfe5.d19ba76520.d14b211b4f > div.b1e6dd8416.aacd9d0b0a > div > div:nth-child(1) > div > h3 > a > div.fcab3ed991.a23c043802\n",
    "##search_results_table > div:nth-child(2) > div > div > div > div.d4924c9e74 > div:nth-child(8) > div.d20f4628d0 > div.b978843432 > div > div.a1b3f50dcd.b2fe1a41c3.a7c67ebfe5.d19ba76520.d14b211b4f > div.b1e6dd8416.aacd9d0b0a > div > div:nth-child(1) > div > h3 > a > div.fcab3ed991.a23c043802\n",
    "#except:\n",
    "#    driver.find_element('xpath', '//*[@id=\"__bui-c2718823-1\"]').send_keys(city, Keys.TAB)\n",
    "    "
   ]
  },
  {
   "cell_type": "code",
   "execution_count": null,
   "metadata": {},
   "outputs": [],
   "source": [
    "driver.window_handles[0]"
   ]
  },
  {
   "cell_type": "code",
   "execution_count": null,
   "metadata": {},
   "outputs": [],
   "source": [
    "almacen['url']"
   ]
  },
  {
   "cell_type": "code",
   "execution_count": null,
   "metadata": {},
   "outputs": [],
   "source": [
    "driver = webdriver.Chrome(ChromeDriverManager().install())\n",
    "driver.get('https://www.booking.com/')\n",
    "driver.maximize_window()\n",
    "driver.set_window_size(1920, 1080)\n",
    "driver.implicitly_wait(30)\n",
    "driver.find_element('css selector', '#onetrust-accept-btn-handler').click()\n",
    "try:\n",
    "    driver.find_element('xpath', '//*[@id=\"ss\"]').send_keys(city, Keys.TAB)\n",
    "except:\n",
    "    driver.find_element('xpath', '//*[@id=\"__bui-c2718823-1\"]').send_keys(city, Keys.TAB)\n",
    "    "
   ]
  },
  {
   "cell_type": "code",
   "execution_count": null,
   "metadata": {},
   "outputs": [],
   "source": [
    "link = str('https://www.booking.com/searchresults.es.html?'\n",
    "    'label'\n",
    "    '=gen173nr-1FCAEoggI46AdIM1gEaEaIAQGYAQq4ARfIAQzYAQHoAQH4AQuIAgGoAgO4AszOv54GwAIB0gIkZjVlYTNmNmQtZGVhOS00MzY5LWFjZDAtZGY4NGVmYmRhNzFm2AIG4AIB&'\n",
    "    'sid=a4916b536ec3ecd3b62ccc75112c9105&sb=1&sb_lp=1&src=index&src_elem=sb&error_url=https%3A%2F%2Fwww.booking.com%2Findex.es.html%3Flabel%3Dgen173nr-1FCAEoggI46AdIM1gEaEaIAQGYAQq4ARfIAQzYAQHoAQH4AQuIAgGoAgO4AszOv54GwAIB0gIkZjVlYTNmNmQtZGVhOS00MzY5LWFjZDAtZGY4NGVmYmRhNzFm2AIG4AIB%26'\n",
    "    'sid%3Da4916b536ec3ecd3b62ccc75112c9105%26sb_price'\n",
    "    '_type%3Dtotal%26%26&ss={country}&is_ski_area=0&checkin_year=&checkin_month=&checkout_year=&checkout_month=&group_adults=2&group_children=0&no_rooms=1&b_h4u_keep_filters=&from_sf=1')"
   ]
  },
  {
   "attachments": {},
   "cell_type": "markdown",
   "metadata": {},
   "source": [
    "old"
   ]
  },
  {
   "cell_type": "code",
   "execution_count": null,
   "metadata": {},
   "outputs": [],
   "source": [
    "import requests\n",
    "from scrapy.selector import Selector\n",
    "\n",
    "# Prepare url\n",
    "city     = 'Sicily'\n",
    "main_url = 'https://www.airbnb.com'\n",
    "city_url = f'{main_url}/s/{city}/homes/'\n",
    "\n",
    "# Create selector\n",
    "html = requests.get(city_url).content\n",
    "sel  = Selector(text=html)\n",
    "\n",
    "# Get hotels\n",
    "hotels = sel.css('div._8ssblpx')\n",
    "print('Number of hotels:', len(hotels))\n",
    "\n",
    "# Find the next page url\n",
    "next_page = sel.css('a._za9j7e ::attr(href)').extract_first()\n",
    "print('Next page:', '\\n', next_page)"
   ]
  },
  {
   "cell_type": "code",
   "execution_count": null,
   "metadata": {},
   "outputs": [],
   "source": []
  },
  {
   "cell_type": "code",
   "execution_count": null,
   "metadata": {},
   "outputs": [],
   "source": []
  },
  {
   "cell_type": "code",
   "execution_count": null,
   "metadata": {},
   "outputs": [],
   "source": []
  },
  {
   "cell_type": "code",
   "execution_count": null,
   "metadata": {},
   "outputs": [],
   "source": [
    "def get_booking_page(offset, rooms, country, startdate, enddate):\n",
    "    \"\"\"\n",
    "    Make request to booking page and parse html\n",
    "    :param offset:\n",
    "    :return: html page\n",
    "    \"\"\"\n",
    "    checkin: list = str(startdate).split(\"-\")\n",
    "    checkout: list = str(enddate).split(\"-\")\n",
    "    url: str = (\n",
    "        \"https://www.booking.com/searchresults.en-gb.html?\"\n",
    "        \"aid=304142&label\"\n",
    "        \"=gen173nr-1DCAEoggJCAlhYSDNYBGiTAYgBAZgBLsIBCnd\"\n",
    "        \"pbmRvd3MgMTDIAQzYAQPoAQGSAgF5qAID&\"\n",
    "        \"sid=716ea5d78c4043fd78b7a1410d639e3d&checkin_month=\"\n",
    "        \"{checkin_m}&checkin_monthday={checkin_d}&checkin_year={checkin_y}&checkout_month={checkout_m}&\"\n",
    "        \"checkout_monthday={checkout_d}&checkout_year={checkout_y}\"\n",
    "        \"&class_interval=1&dest_id=125&dest_type=country&dtdisc=0&from_sf\"\n",
    "        \"=1&genius_rate=1&no_rooms={rooms}&group_adults=2&group_children=0&inac=0&\"\n",
    "        \"index_postcard=0&label_click=undef\"\n",
    "        \"&no_rooms=1&postcard=0&raw_dest_type=country&room1=\"\n",
    "        \"A%2CA&sb_price\"\n",
    "        \"_type=total&src=searchresults&src_elem=sb&ss={country}&ss_all=\"\n",
    "        \"0&ssb=empty&sshis=0&ssne={country}\"\n",
    "        \"&ssne_untouched={country}&rows=15&offset=\".format(\n",
    "            rooms=rooms,\n",
    "            country=country.replace(\" \", \"+\"),\n",
    "            checkin_m=checkin[1],\n",
    "            checkin_d=checkin[2],\n",
    "            checkin_y=checkin[0],\n",
    "            checkout_m=checkout[1],\n",
    "            checkout_d=checkout[2],\n",
    "            checkout_y=checkout[0],\n",
    "        )\n",
    "        + str(offset)\n",
    "    )\n",
    "    r = requests.get(\n",
    "        url,\n",
    "        headers={\n",
    "            \"User-Agent\": \"Mozilla/5.0 (Windows NT 6.1; Win64; x64; rv:47.0)\"\n",
    "            \" Gecko/20100101 Firefox/48.0\"\n",
    "        },\n",
    "    )\n",
    "    html = r.content\n",
    "    parsed_html = BeautifulSoup(html, \"lxml\")\n",
    "    return parsed_html"
   ]
  },
  {
   "cell_type": "code",
   "execution_count": null,
   "metadata": {},
   "outputs": [],
   "source": []
  }
 ],
 "metadata": {
  "kernelspec": {
   "display_name": "iron",
   "language": "python",
   "name": "python3"
  },
  "language_info": {
   "codemirror_mode": {
    "name": "ipython",
    "version": 3
   },
   "file_extension": ".py",
   "mimetype": "text/x-python",
   "name": "python",
   "nbconvert_exporter": "python",
   "pygments_lexer": "ipython3",
   "version": "3.9.13"
  },
  "orig_nbformat": 4,
  "vscode": {
   "interpreter": {
    "hash": "e59d0b279e6461be5b4ea7b62838527cd8f41f3cbc9a1147b1a83b32d75ab689"
   }
  }
 },
 "nbformat": 4,
 "nbformat_minor": 2
}
